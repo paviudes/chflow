{
 "cells": [
  {
   "cell_type": "code",
   "execution_count": 25,
   "metadata": {},
   "outputs": [
    {
     "name": "stdout",
     "output_type": "stream",
     "text": [
      "The line_profiler extension is already loaded. To reload it, use:\n",
      "  %reload_ext line_profiler\n"
     ]
    }
   ],
   "source": [
    "from define import qcode as qc\n",
    "import numpy as np\n",
    "from define.QECCLfid import uncorrectable as uc\n",
    "from define.QECCLfid import minwt as mw\n",
    "from define import globalvars as gv\n",
    "from define import chanreps as chrep\n",
    "%load_ext line_profiler"
   ]
  },
  {
   "cell_type": "code",
   "execution_count": 31,
   "metadata": {},
   "outputs": [],
   "source": [
    "def ChangeOrdering(probs, old_order, new_order):\n",
    "    \"\"\"\n",
    "    Change from an ordering in [L,S,T] to another.\n",
    "    This uses numpy reshape and transpose.\n",
    "    old = L S T\n",
    "    new = T L S\n",
    "    perm = 2 0 1\n",
    "    \"\"\"\n",
    "    t_size = np.power(2, qcode.N - qcode.K, dtype=np.int)\n",
    "    s_size = t_size\n",
    "    l_size = np.power(4, qcode.K, dtype=np.int)\n",
    "    sizes = {\"T\": t_size, \"S\": s_size, \"L\": l_size}\n",
    "    probs_reshaped = np.reshape(\n",
    "        probs, [sizes[old_order[0]], sizes[old_order[1]], sizes[old_order[2]]]\n",
    "    )\n",
    "    perm = [old_order.index(ax) for ax in new_order]\n",
    "    probs_reordered = np.reshape(np.transpose(probs_reshaped, perm), -1)\n",
    "    return probs_reordered"
   ]
  },
  {
   "cell_type": "code",
   "execution_count": 28,
   "metadata": {},
   "outputs": [
    {
     "name": "stdout",
     "output_type": "stream",
     "text": [
      "0.9843166311908921\n"
     ]
    }
   ],
   "source": [
    "qcode = qc.QuantumErrorCorrectingCode(\"Steane\")\n",
    "qc.Load(qcode)\n",
    "qc.populate_symplectic(qcode)\n",
    "mw.ComputeCorrectableIndices(qcode)\n",
    "#correctable_set = np.array(qcode.Paulis_correctable, dtype=np.int)\n",
    "sqprobs = np.random.rand(4)\n",
    "sqprobs[0] = 1-0.66**10\n",
    "sqprobs[1:] = (1-sqprobs[0]) * sqprobs[1:]/np.sum(sqprobs[1:])\n",
    "print(sqprobs[0])\n",
    "probs = np.tile(sqprobs, [qcode.N, 1])"
   ]
  },
  {
   "cell_type": "code",
   "execution_count": 29,
   "metadata": {},
   "outputs": [
    {
     "name": "stdout",
     "output_type": "stream",
     "text": [
      "[8.95248829e-01 1.86844514e-06 1.86844514e-06 ... 3.49685857e-11\n",
      " 3.49685857e-11 2.65798751e-09]\n"
     ]
    }
   ],
   "source": [
    "pauli_probs = np.ones(qcode.PauliOperatorsLST.shape[0], dtype=np.double)\n",
    "for i in range(qcode.PauliOperatorsLST.shape[0]):\n",
    "    for q in range(qcode.N):\n",
    "        pauli_probs[i] *= probs[q, qcode.PauliOperatorsLST[i, q]]\n",
    "print(pauli_probs)"
   ]
  },
  {
   "cell_type": "code",
   "execution_count": null,
   "metadata": {},
   "outputs": [],
   "source": [
    "mw.ComputeUncorrProbs(np.tile(probs, [qcode.N, 1]), qcode, 3)"
   ]
  },
  {
   "cell_type": "code",
   "execution_count": null,
   "metadata": {},
   "outputs": [],
   "source": [
    "%lprun -f mw.ComputeUncorrProbs mw.ComputeUncorrProbs(np.tile(probs, [qcode.N, 1]), qcode, 3)"
   ]
  },
  {
   "cell_type": "code",
   "execution_count": 66,
   "metadata": {},
   "outputs": [],
   "source": [
    "uncorrs = np.load(\"/Users/pavi/Documents/chbank/29_05_2020_13_05_35/results/phy_uncorr.npy\")\n",
    "infids = np.load(\"/Users/pavi/Documents/chbank/29_05_2020_13_05_35/results/log_infid.npy\")"
   ]
  },
  {
   "cell_type": "code",
   "execution_count": 67,
   "metadata": {},
   "outputs": [
    {
     "data": {
      "text/plain": [
       "array([2.06481638e-05], dtype=float128)"
      ]
     },
     "execution_count": 67,
     "metadata": {},
     "output_type": "execute_result"
    }
   ],
   "source": [
    "infids[:, 1]"
   ]
  },
  {
   "cell_type": "code",
   "execution_count": 68,
   "metadata": {},
   "outputs": [
    {
     "data": {
      "text/plain": [
       "array([2.06481638e-05])"
      ]
     },
     "execution_count": 68,
     "metadata": {},
     "output_type": "execute_result"
    }
   ],
   "source": [
    "uncorrs[:,1]"
   ]
  },
  {
   "cell_type": "code",
   "execution_count": 17,
   "metadata": {},
   "outputs": [
    {
     "data": {
      "text/plain": [
       "0.026931575886987316193"
      ]
     },
     "execution_count": 17,
     "metadata": {},
     "output_type": "execute_result"
    }
   ],
   "source": [
    "np.max(np.abs(uncorrs[:, 1] - infids[:, 1]))"
   ]
  },
  {
   "cell_type": "code",
   "execution_count": 32,
   "metadata": {},
   "outputs": [],
   "source": [
    "pvec = ChangeOrdering(pauli_probs, \"LST\", \"TLS\")"
   ]
  },
  {
   "cell_type": "code",
   "execution_count": 33,
   "metadata": {},
   "outputs": [
    {
     "data": {
      "text/plain": [
       "array([8.95248829e-01, 3.78116405e-12, 3.78116405e-12, ...,\n",
       "       3.44335943e-11, 3.44335943e-11, 2.65798751e-09])"
      ]
     },
     "execution_count": 33,
     "metadata": {},
     "output_type": "execute_result"
    }
   ],
   "source": [
    "pvec"
   ]
  },
  {
   "cell_type": "code",
   "execution_count": 37,
   "metadata": {},
   "outputs": [
    {
     "data": {
      "text/plain": [
       "(16384,)"
      ]
     },
     "execution_count": 37,
     "metadata": {},
     "output_type": "execute_result"
    }
   ],
   "source": [
    "pauli_probs.shape"
   ]
  },
  {
   "cell_type": "code",
   "execution_count": 38,
   "metadata": {},
   "outputs": [
    {
     "data": {
      "text/plain": [
       "(16384,)"
      ]
     },
     "execution_count": 38,
     "metadata": {},
     "output_type": "execute_result"
    }
   ],
   "source": [
    "pvec.shape"
   ]
  },
  {
   "cell_type": "code",
   "execution_count": 55,
   "metadata": {},
   "outputs": [
    {
     "name": "stdout",
     "output_type": "stream",
     "text": [
      "l = [2], s = [24], t = [48]\n",
      "tls_order = [12440]\n",
      "lst_order = [9776]\n",
      "pauli_probs[lst_order] = [4.53009689e-13]\n",
      "pvec[tls_order] = [4.53009689e-13].\n"
     ]
    }
   ],
   "source": [
    "nstabs = 2**6\n",
    "nlogs = 4\n",
    "l, s, t = np.random.randint(0,4,size=(1,)), np.random.randint(0,64,size=(1,)), np.random.randint(0,64,size=(1,))\n",
    "tls_order = t * nstabs * nlogs + l * nstabs + s\n",
    "lst_order = l * nstabs * nstabs + s * nstabs + t\n",
    "print(\"l = {}, s = {}, t = {}\\ntls_order = {}\\nlst_order = {}\".format(l, s, t, tls_order, lst_order))\n",
    "print(\"pauli_probs[lst_order] = {}\\npvec[tls_order] = {}.\".format(pauli_probs[lst_order], pvec[tls_order]))"
   ]
  },
  {
   "cell_type": "code",
   "execution_count": 72,
   "metadata": {},
   "outputs": [
    {
     "data": {
      "text/plain": [
       "720"
      ]
     },
     "execution_count": 72,
     "metadata": {},
     "output_type": "execute_result"
    }
   ],
   "source": [
    "(48 * 15)"
   ]
  },
  {
   "cell_type": "code",
   "execution_count": null,
   "metadata": {},
   "outputs": [],
   "source": []
  }
 ],
 "metadata": {
  "kernelspec": {
   "display_name": "Python 3",
   "language": "python",
   "name": "python3"
  },
  "language_info": {
   "codemirror_mode": {
    "name": "ipython",
    "version": 3
   },
   "file_extension": ".py",
   "mimetype": "text/x-python",
   "name": "python",
   "nbconvert_exporter": "python",
   "pygments_lexer": "ipython3",
   "version": "3.7.1"
  }
 },
 "nbformat": 4,
 "nbformat_minor": 2
}
