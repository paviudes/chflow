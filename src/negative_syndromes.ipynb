{
 "cells": [
  {
   "cell_type": "code",
   "execution_count": 1,
   "metadata": {},
   "outputs": [],
   "source": [
    "import numpy as np\n",
    "from define import qcode as qc\n",
    "from define import globalvars as gv\n",
    "from define.randchans import RandomUnitary\n",
    "from define.QECCLfid.utils import Dot, Dagger, Kron\n",
    "from define.QECCLfid.multi_qubit_kraus import get_process_correlated"
   ]
  },
  {
   "cell_type": "code",
   "execution_count": 2,
   "metadata": {},
   "outputs": [],
   "source": [
    "qcode = qc.QuantumErrorCorrectingCode(\"Steane\")\n",
    "qc.Load(qcode)"
   ]
  },
  {
   "cell_type": "code",
   "execution_count": 3,
   "metadata": {},
   "outputs": [],
   "source": [
    "# Pr(synd) = sum_s,s' GS_ss' P(synd)_s'"
   ]
  },
  {
   "cell_type": "code",
   "execution_count": 4,
   "metadata": {},
   "outputs": [],
   "source": [
    "def LoadChannel():\n",
    "    return np.loadtxt(\"./../input/debug_testing/physical.txt\").reshape(256, 256)\n",
    "def LoadProjector():\n",
    "    return np.loadtxt(\"./../input/debug_testing/SS.txt\").reshape(64, 64)"
   ]
  },
  {
   "cell_type": "code",
   "execution_count": 5,
   "metadata": {},
   "outputs": [],
   "source": [
    "def SyndromeTest(GS, P):\n",
    "    # Test if any syndrome probabilities are negative.\n",
    "    norm = 0\n",
    "    stop = 0\n",
    "    for synd in range(64):\n",
    "        Pr_s = 0\n",
    "        if stop == 0:\n",
    "            print(\"P[{}, :] has {} 1s and {} -1s.\".format(synd, np.count_nonzero(P[synd, :] == 1), np.count_nonzero(P[synd, :] == -1)))\n",
    "        Pr_s = np.sum(np.dot(GS, P[synd, :]))/64\n",
    "        norm = norm + Pr_s\n",
    "        if stop == 0:\n",
    "            print(\"Pr({}) = {}\".format(synd, Pr_s))\n",
    "        if Pr_s < 0:\n",
    "            stop = 1\n",
    "            print(\"Negative Pr(s) encountered.\")\n",
    "    print(\"Sum of all syndrome probabilities: {}.\".format(norm))\n",
    "    return None"
   ]
  },
  {
   "cell_type": "code",
   "execution_count": 6,
   "metadata": {},
   "outputs": [],
   "source": [
    "# We want to construct the S x S part of the process matrix for a random independent unitary channel.\n",
    "# G_ij = prod_q Tr[ U_q  (P_i)_q U^dag_q  (P_j)_q ]"
   ]
  },
  {
   "cell_type": "code",
   "execution_count": 7,
   "metadata": {},
   "outputs": [],
   "source": [
    "def GetRandFullUnitaryProcess(nq):\n",
    "    U = RandomUnitary(prox=0.5,dim=2**nq,method=\"exp\")\n",
    "    S = qc.GenerateGroup(qcode.S)\n",
    "    GS = np.zeros((S.shape[0], S.shape[0]), dtype = np.double)\n",
    "    for i in range(S.shape[0]):\n",
    "        for j in range(S.shape[0]):\n",
    "            Pi = Kron(*[gv.Pauli[p] for p in S[i]])\n",
    "            Pj = Kron(*[gv.Pauli[p] for p in S[j]])\n",
    "            contrib = np.trace(Dot(Pj,U,Pi,Dagger(U)))\n",
    "            GS[i,j] = np.real(contrib)/np.power(2, nq)\n",
    "    return (U,GS)"
   ]
  },
  {
   "cell_type": "code",
   "execution_count": 8,
   "metadata": {},
   "outputs": [],
   "source": [
    "def GetRandUnitaryProcess(nq):\n",
    "    U = np.zeros((nq, 2, 2), dtype=np.complex128)\n",
    "    for q in range(nq):\n",
    "        U[q, :, :] = RandomUnitary(prox=0.1, dim=2)\n",
    "    S = qc.GenerateGroup(qcode.S)\n",
    "    GS = np.zeros((S.shape[0], S.shape[0]), dtype = np.double)\n",
    "    for i in range(S.shape[0]):\n",
    "        for j in range(S.shape[0]):\n",
    "            contrib = 1 + 0 * 1j\n",
    "            for q in range(nq):\n",
    "                contrib = contrib * np.trace(Dot(U[q, :, :], gv.Pauli[S[i, q], :, :], Dagger(U[q, :, :]), gv.Pauli[S[j, q], :, :]))\n",
    "            GS[i, j] = np.real(contrib)/np.power(2, nq)\n",
    "    return (U, GS)"
   ]
  },
  {
   "cell_type": "code",
   "execution_count": 9,
   "metadata": {},
   "outputs": [],
   "source": [
    "# GS = LoadChannel()[:64, :64]\n",
    "# P = LoadProjector()\n",
    "# SyndromeTest(GS, P)"
   ]
  },
  {
   "cell_type": "code",
   "execution_count": 10,
   "metadata": {},
   "outputs": [
    {
     "name": "stdout",
     "output_type": "stream",
     "text": [
      "P[0, :] has 64 1s and 0 -1s.\n",
      "Pr(0) = 0.009714614881868238\n",
      "P[1, :] has 32 1s and 32 -1s.\n",
      "Pr(1) = 0.027758331971845355\n",
      "P[2, :] has 32 1s and 32 -1s.\n",
      "Pr(2) = 0.018953759368182714\n",
      "P[3, :] has 32 1s and 32 -1s.\n",
      "Pr(3) = 0.01585117731738018\n",
      "P[4, :] has 32 1s and 32 -1s.\n",
      "Pr(4) = 0.010322821907212164\n",
      "P[5, :] has 32 1s and 32 -1s.\n",
      "Pr(5) = 0.020139545397396725\n",
      "P[6, :] has 32 1s and 32 -1s.\n",
      "Pr(6) = 0.02281528030071301\n",
      "P[7, :] has 32 1s and 32 -1s.\n",
      "Pr(7) = 0.015317153430063811\n",
      "P[8, :] has 32 1s and 32 -1s.\n",
      "Pr(8) = 0.02098246869828929\n",
      "P[9, :] has 32 1s and 32 -1s.\n",
      "Pr(9) = -0.0037819091528555338\n",
      "Negative Pr(s) encountered.\n",
      "Negative Pr(s) encountered.\n",
      "Sum of all syndrome probabilities: 0.9999999999999997.\n"
     ]
    }
   ],
   "source": [
    "(U, GS) = GetRandFullUnitaryProcess(7)\n",
    "P = LoadProjector()\n",
    "SyndromeTest(GS, P)"
   ]
  },
  {
   "cell_type": "code",
   "execution_count": 13,
   "metadata": {},
   "outputs": [],
   "source": [
    "kraus_dict = {0:(tuple(range(qcode.N)),[U])}"
   ]
  },
  {
   "cell_type": "code",
   "execution_count": 14,
   "metadata": {},
   "outputs": [],
   "source": [
    "G_frontend = get_process_correlated(qcode, kraus_dict)"
   ]
  },
  {
   "cell_type": "code",
   "execution_count": 15,
   "metadata": {},
   "outputs": [],
   "source": [
    "GS_frontend = G_frontend.reshape(256, 256)[:64, :64]"
   ]
  },
  {
   "cell_type": "code",
   "execution_count": 16,
   "metadata": {},
   "outputs": [
    {
     "data": {
      "text/plain": [
       "True"
      ]
     },
     "execution_count": 16,
     "metadata": {},
     "output_type": "execute_result"
    }
   ],
   "source": [
    "np.allclose(GS_frontend, GS)"
   ]
  },
  {
   "cell_type": "code",
   "execution_count": null,
   "metadata": {},
   "outputs": [],
   "source": []
  }
 ],
 "metadata": {
  "kernelspec": {
   "display_name": "Python 3",
   "language": "python",
   "name": "python3"
  },
  "language_info": {
   "codemirror_mode": {
    "name": "ipython",
    "version": 3
   },
   "file_extension": ".py",
   "mimetype": "text/x-python",
   "name": "python",
   "nbconvert_exporter": "python",
   "pygments_lexer": "ipython3",
   "version": "3.8.3"
  }
 },
 "nbformat": 4,
 "nbformat_minor": 2
}
