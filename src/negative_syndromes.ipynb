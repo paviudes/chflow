{
 "cells": [
  {
   "cell_type": "code",
   "execution_count": 1,
   "metadata": {},
   "outputs": [],
   "source": [
    "import numpy as np\n",
    "from define import qcode as qc\n",
    "from define import globalvars as gv\n",
    "from define.randchans import RandomUnitary\n",
    "from define.QECCLfid.utils import Dot, Dagger, Kron\n",
    "from define.QECCLfid.multi_qubit_kraus import get_process_correlated"
   ]
  },
  {
   "cell_type": "code",
   "execution_count": 2,
   "metadata": {},
   "outputs": [],
   "source": [
    "qcode = qc.QuantumErrorCorrectingCode(\"Steane\")\n",
    "qc.Load(qcode)"
   ]
  },
  {
   "cell_type": "code",
   "execution_count": 3,
   "metadata": {},
   "outputs": [],
   "source": [
    "# Pr(synd) = sum_s,s' GS_ss' P(synd)_s'"
   ]
  },
  {
   "cell_type": "code",
   "execution_count": 4,
   "metadata": {},
   "outputs": [],
   "source": [
    "def LoadChannel():\n",
    "    return np.loadtxt(\"./../input/debug_testing/physical.txt\").reshape(256, 256)\n",
    "def LoadProjector():\n",
    "    return np.loadtxt(\"./../input/debug_testing/SS.txt\").reshape(64, 64)"
   ]
  },
  {
   "cell_type": "code",
   "execution_count": 5,
   "metadata": {},
   "outputs": [],
   "source": [
    "def SyndromeTest(GS, P):\n",
    "    # Test if any syndrome probabilities are negative.\n",
    "    norm = 0\n",
    "    stop = 0\n",
    "    for synd in range(64):\n",
    "        Pr_s = 0\n",
    "        if stop == 0:\n",
    "            print(\"P[{}, :] has {} 1s and {} -1s.\".format(synd, np.count_nonzero(P[synd, :] == 1), np.count_nonzero(P[synd, :] == -1)))\n",
    "        Pr_s = np.sum(np.dot(GS, P[synd, :]))/64\n",
    "        norm = norm + Pr_s\n",
    "        if stop == 0:\n",
    "            print(\"Pr({}) = {}\".format(synd, Pr_s))\n",
    "        if Pr_s < 0:\n",
    "            stop = 1\n",
    "            print(\"Negative Pr(s) encountered.\")\n",
    "    print(\"Sum of all syndrome probabilities: {}.\".format(norm))\n",
    "    return None"
   ]
  },
  {
   "cell_type": "code",
   "execution_count": 6,
   "metadata": {},
   "outputs": [],
   "source": [
    "# We want to construct the S x S part of the process matrix for a random independent unitary channel.\n",
    "# G_ij = prod_q Tr[ U_q  (P_i)_q U^dag_q  (P_j)_q ]"
   ]
  },
  {
   "cell_type": "code",
   "execution_count": 7,
   "metadata": {},
   "outputs": [],
   "source": [
    "def GetRandFullUnitaryProcess(nq):\n",
    "    U = RandomUnitary(prox=0.5,dim=2**nq,method=\"exp\")\n",
    "    (S, S_phase) = qc.GenerateGroup(qcode.S)\n",
    "    GS = np.zeros((S.shape[0], S.shape[0]), dtype = np.double)\n",
    "    for i in range(S.shape[0]):\n",
    "        for j in range(S.shape[0]):\n",
    "            Pi = Kron(*[gv.Pauli[p] for p in S[i]])\n",
    "            Pj = Kron(*[gv.Pauli[p] for p in S[j]])\n",
    "            contrib = S_phase[i] * S_phase[j] * np.trace(Dot(Pj,U,Pi,Dagger(U)))\n",
    "            GS[i,j] = np.real(contrib)/np.power(2, nq)\n",
    "    return (U,GS)"
   ]
  },
  {
   "cell_type": "code",
   "execution_count": 8,
   "metadata": {},
   "outputs": [],
   "source": [
    "def GetRandUnitaryProcess(nq):\n",
    "    U = np.zeros((nq, 2, 2), dtype=np.complex128)\n",
    "    for q in range(nq):\n",
    "        U[q, :, :] = RandomUnitary(prox=0.1, dim=2)\n",
    "    S = qc.GenerateGroup(qcode.S)\n",
    "    GS = np.zeros((S.shape[0], S.shape[0]), dtype = np.double)\n",
    "    for i in range(S.shape[0]):\n",
    "        for j in range(S.shape[0]):\n",
    "            contrib = 1 + 0 * 1j\n",
    "            for q in range(nq):\n",
    "                contrib = contrib * np.trace(Dot(U[q, :, :], gv.Pauli[S[i, q], :, :], Dagger(U[q, :, :]), gv.Pauli[S[j, q], :, :]))\n",
    "            GS[i, j] = np.real(contrib)/np.power(2, nq)\n",
    "    return (U, GS)"
   ]
  },
  {
   "cell_type": "code",
   "execution_count": 9,
   "metadata": {},
   "outputs": [],
   "source": [
    "# GS = LoadChannel()[:64, :64]\n",
    "# P = LoadProjector()\n",
    "# SyndromeTest(GS, P)"
   ]
  },
  {
   "cell_type": "code",
   "execution_count": 10,
   "metadata": {},
   "outputs": [
    {
     "name": "stdout",
     "output_type": "stream",
     "text": [
      "P[0, :] has 64 1s and 0 -1s.\n",
      "Pr(0) = 0.024961224356526302\n",
      "P[1, :] has 32 1s and 32 -1s.\n",
      "Pr(1) = 0.019006501691952088\n",
      "P[2, :] has 32 1s and 32 -1s.\n",
      "Pr(2) = 0.01427335398479932\n",
      "P[3, :] has 32 1s and 32 -1s.\n",
      "Pr(3) = 0.015734317760401625\n",
      "P[4, :] has 32 1s and 32 -1s.\n",
      "Pr(4) = 0.016754828652858253\n",
      "P[5, :] has 32 1s and 32 -1s.\n",
      "Pr(5) = 0.02662699731089102\n",
      "P[6, :] has 32 1s and 32 -1s.\n",
      "Pr(6) = 0.02745952325825734\n",
      "P[7, :] has 32 1s and 32 -1s.\n",
      "Pr(7) = 0.010330986345520071\n",
      "P[8, :] has 32 1s and 32 -1s.\n",
      "Pr(8) = 0.014510116380882749\n",
      "P[9, :] has 32 1s and 32 -1s.\n",
      "Pr(9) = 0.026063176356005913\n",
      "P[10, :] has 32 1s and 32 -1s.\n",
      "Pr(10) = 0.0009014735033966194\n",
      "P[11, :] has 32 1s and 32 -1s.\n",
      "Pr(11) = 0.010406893087893922\n",
      "P[12, :] has 32 1s and 32 -1s.\n",
      "Pr(12) = 0.007452396252562861\n",
      "P[13, :] has 32 1s and 32 -1s.\n",
      "Pr(13) = 0.01893565831389369\n",
      "P[14, :] has 32 1s and 32 -1s.\n",
      "Pr(14) = 0.02171499703824057\n",
      "P[15, :] has 32 1s and 32 -1s.\n",
      "Pr(15) = 0.007841752802183148\n",
      "P[16, :] has 32 1s and 32 -1s.\n",
      "Pr(16) = 0.023586793877392022\n",
      "P[17, :] has 32 1s and 32 -1s.\n",
      "Pr(17) = 0.016517585294683057\n",
      "P[18, :] has 32 1s and 32 -1s.\n",
      "Pr(18) = 0.015966159566624786\n",
      "P[19, :] has 32 1s and 32 -1s.\n",
      "Pr(19) = 0.015004651750823508\n",
      "P[20, :] has 32 1s and 32 -1s.\n",
      "Pr(20) = 0.023582504591851263\n",
      "P[21, :] has 32 1s and 32 -1s.\n",
      "Pr(21) = 0.0195928454809053\n",
      "P[22, :] has 32 1s and 32 -1s.\n",
      "Pr(22) = 0.028601367001823984\n",
      "P[23, :] has 32 1s and 32 -1s.\n",
      "Pr(23) = 0.012996240048722244\n",
      "P[24, :] has 32 1s and 32 -1s.\n",
      "Pr(24) = 0.02435792766424893\n",
      "P[25, :] has 32 1s and 32 -1s.\n",
      "Pr(25) = 0.020596209236347644\n",
      "P[26, :] has 32 1s and 32 -1s.\n",
      "Pr(26) = 0.008104857189431882\n",
      "P[27, :] has 32 1s and 32 -1s.\n",
      "Pr(27) = 0.015221494320465719\n",
      "P[28, :] has 32 1s and 32 -1s.\n",
      "Pr(28) = 0.01790636761039369\n",
      "P[29, :] has 32 1s and 32 -1s.\n",
      "Pr(29) = 0.005977309946012626\n",
      "P[30, :] has 32 1s and 32 -1s.\n",
      "Pr(30) = 0.009960335468762616\n",
      "P[31, :] has 32 1s and 32 -1s.\n",
      "Pr(31) = 0.008929147983020238\n",
      "P[32, :] has 32 1s and 32 -1s.\n",
      "Pr(32) = 0.023164267117132348\n",
      "P[33, :] has 32 1s and 32 -1s.\n",
      "Pr(33) = 0.021283997599715415\n",
      "P[34, :] has 32 1s and 32 -1s.\n",
      "Pr(34) = 0.012993739099555762\n",
      "P[35, :] has 32 1s and 32 -1s.\n",
      "Pr(35) = 0.02169405065566821\n",
      "P[36, :] has 32 1s and 32 -1s.\n",
      "Pr(36) = 0.003017251324628656\n",
      "P[37, :] has 32 1s and 32 -1s.\n",
      "Pr(37) = 0.007403866949805261\n",
      "P[38, :] has 32 1s and 32 -1s.\n",
      "Pr(38) = 0.014407371997091903\n",
      "P[39, :] has 32 1s and 32 -1s.\n",
      "Pr(39) = 0.022260938761287118\n",
      "P[40, :] has 32 1s and 32 -1s.\n",
      "Pr(40) = 0.02160423410286304\n",
      "P[41, :] has 32 1s and 32 -1s.\n",
      "Pr(41) = 0.010458558544012096\n",
      "P[42, :] has 32 1s and 32 -1s.\n",
      "Pr(42) = 0.013892510639832413\n",
      "P[43, :] has 32 1s and 32 -1s.\n",
      "Pr(43) = 0.016983063497343673\n",
      "P[44, :] has 32 1s and 32 -1s.\n",
      "Pr(44) = 0.010789898432626708\n",
      "P[45, :] has 32 1s and 32 -1s.\n",
      "Pr(45) = 0.011482206379205554\n",
      "P[46, :] has 32 1s and 32 -1s.\n",
      "Pr(46) = 0.017841822908008703\n",
      "P[47, :] has 32 1s and 32 -1s.\n",
      "Pr(47) = 0.012942513324001214\n",
      "P[48, :] has 32 1s and 32 -1s.\n",
      "Pr(48) = 0.009354004515150116\n",
      "P[49, :] has 32 1s and 32 -1s.\n",
      "Pr(49) = 0.013457478210564842\n",
      "P[50, :] has 32 1s and 32 -1s.\n",
      "Pr(50) = 0.022398458113947937\n",
      "P[51, :] has 32 1s and 32 -1s.\n",
      "Pr(51) = 0.00766363609479091\n",
      "P[52, :] has 32 1s and 32 -1s.\n",
      "Pr(52) = 0.01481043120119797\n",
      "P[53, :] has 32 1s and 32 -1s.\n",
      "Pr(53) = 0.015038539009196028\n",
      "P[54, :] has 32 1s and 32 -1s.\n",
      "Pr(54) = 0.01934028621890209\n",
      "P[55, :] has 32 1s and 32 -1s.\n",
      "Pr(55) = 0.006703492473037531\n",
      "P[56, :] has 32 1s and 32 -1s.\n",
      "Pr(56) = 0.021158128583764896\n",
      "P[57, :] has 32 1s and 32 -1s.\n",
      "Pr(57) = 0.02677464808930498\n",
      "P[58, :] has 32 1s and 32 -1s.\n",
      "Pr(58) = 0.01335313969223667\n",
      "P[59, :] has 32 1s and 32 -1s.\n",
      "Pr(59) = 0.007982417815945806\n",
      "P[60, :] has 32 1s and 32 -1s.\n",
      "Pr(60) = 0.018261377139002596\n",
      "P[61, :] has 32 1s and 32 -1s.\n",
      "Pr(61) = 0.008573607607472573\n",
      "P[62, :] has 32 1s and 32 -1s.\n",
      "Pr(62) = 0.009183601995758621\n",
      "P[63, :] has 32 1s and 32 -1s.\n",
      "Pr(63) = 0.013850467779173389\n",
      "Sum of all syndrome probabilities: 1.0.\n"
     ]
    }
   ],
   "source": [
    "(U, GS) = GetRandFullUnitaryProcess(7)\n",
    "P = LoadProjector()\n",
    "SyndromeTest(GS, P)"
   ]
  },
  {
   "cell_type": "code",
   "execution_count": 11,
   "metadata": {},
   "outputs": [],
   "source": [
    "kraus_dict = {0:(tuple(range(qcode.N)),[U])}"
   ]
  },
  {
   "cell_type": "code",
   "execution_count": 12,
   "metadata": {},
   "outputs": [],
   "source": [
    "G_frontend = get_process_correlated(qcode, kraus_dict)"
   ]
  },
  {
   "cell_type": "code",
   "execution_count": 13,
   "metadata": {},
   "outputs": [],
   "source": [
    "GS_frontend = G_frontend.reshape(256, 256)[:64, :64]"
   ]
  },
  {
   "cell_type": "code",
   "execution_count": 14,
   "metadata": {},
   "outputs": [
    {
     "data": {
      "text/plain": [
       "True"
      ]
     },
     "execution_count": 14,
     "metadata": {},
     "output_type": "execute_result"
    }
   ],
   "source": [
    "np.allclose(GS_frontend, GS)"
   ]
  },
  {
   "cell_type": "code",
   "execution_count": 2,
   "metadata": {},
   "outputs": [],
   "source": [
    "import numpy as np\n",
    "from scipy import linalg as la"
   ]
  },
  {
   "cell_type": "code",
   "execution_count": 5,
   "metadata": {},
   "outputs": [],
   "source": [
    "chan = [[0.000005789499925 + 1j * 0.000000000000000, -0.000008632012618 + 1j * -0.000008751963287, -0.000008892418531 + 1j * 0.000000775064478, 0.000005135941211 + 1j * -0.000002245943388], [-0.000008632012618 + 1j * 0.000008751963287, -0.000000710127169 + 1j * 0.000000000000000, 0.000014406155192 + 1j * 0.000014606690918, 0.000007987788575 + 1j * -0.000000508053766], [-0.000008892418531 + 1j * -0.000000775064478, 0.000014406155192 + 1j * -0.000014606690918, 0.000012800339066 + 1j * 0.000000000000000, -0.000005499526182 + 1j * 0.000008601507780], [0.000005135941211 + 1j * 0.000002245943388, 0.000007987788575 + 1j * 0.000000508053766, -0.000005499526182 + 1j * -0.000008601507780, 0.000001340813637 + 1j * 0.000000000000000]]\n",
    "channel = np.array(chan, dtype=np.complex128)"
   ]
  },
  {
   "cell_type": "code",
   "execution_count": 6,
   "metadata": {},
   "outputs": [
    {
     "name": "stdout",
     "output_type": "stream",
     "text": [
      "Eigvals\n",
      "[-2.61574530e-05-3.29334008e-22j  3.28689897e-05+5.68580334e-22j\n",
      "  7.93978444e-07-1.09879131e-21j  1.17150103e-05-2.52858681e-21j]\n",
      "Eigenvectors\n",
      "[[ 0.18293386+0.29394217j  0.68506096+0.j         -0.29374065+0.40115298j\n",
      "  -0.39338614-0.09415276j]\n",
      " [-0.32864743-0.23342282j  0.44386742+0.24892114j  0.73394766+0.j\n",
      "  -0.0564882 -0.19145376j]\n",
      " [-0.00327912+0.66456007j  0.09184237-0.05868143j  0.22642903+0.1883929j\n",
      "   0.67801817+0.j        ]\n",
      " [ 0.06652322-0.52111581j  0.48237022-0.16477834j -0.32711492-0.14264424j\n",
      "   0.58036928+0.j        ]]\n"
     ]
    }
   ],
   "source": [
    "(eigvals, eigvecs) = np.linalg.eig(channel)\n",
    "print(\"Eigvals\\n{}\\nEigenvectors\\n{}\".format(eigvals, eigvecs.T))"
   ]
  },
  {
   "cell_type": "code",
   "execution_count": 7,
   "metadata": {},
   "outputs": [
    {
     "name": "stdout",
     "output_type": "stream",
     "text": [
      "M - M_pos\n",
      "5.2314906022715905e-05\n"
     ]
    }
   ],
   "source": [
    "mat = np.zeros((4, 4), dtype = np.complex128)\n",
    "for i in range(4):\n",
    "    mat += np.abs(eigvals[i]) * np.outer(eigvecs[:, i], eigvecs[:, i].conj())\n",
    "print(\"M - M_pos\\n{}\".format(np.linalg.norm(mat - channel)))"
   ]
  },
  {
   "cell_type": "code",
   "execution_count": 3,
   "metadata": {},
   "outputs": [],
   "source": [
    "import numpy as np\n",
    "import define.globalvars as gv"
   ]
  },
  {
   "cell_type": "code",
   "execution_count": 4,
   "metadata": {},
   "outputs": [],
   "source": [
    "def PTM_CHI(ptm):\n",
    "    return np.reshape(np.dot(gv.process_to_chi, np.reshape(ptm, [16, 1])), [4, 4])"
   ]
  },
  {
   "cell_type": "code",
   "execution_count": 10,
   "metadata": {},
   "outputs": [],
   "source": [
    "ptm = np.array([[1.0000000000000000,0.0000000000000000,0.0000000000000000,0.0000000000000000],[0.0000000000000000,0.9999996243454557,0.0000000000000000,0.0000000000000000],[0.0000000000000000,0.0000000000000000,-0.9999996238936916,0.0000000000000000],[0.0000000000000000,0.0000000000000000,0.0000000000000000,-0.9999999994564686]], dtype=np.double)"
   ]
  },
  {
   "cell_type": "code",
   "execution_count": 11,
   "metadata": {},
   "outputs": [
    {
     "data": {
      "text/plain": [
       "array([[ 1.        ,  0.        ,  0.        ,  0.        ],\n",
       "       [ 0.        ,  0.99999962,  0.        ,  0.        ],\n",
       "       [ 0.        ,  0.        , -0.99999962,  0.        ],\n",
       "       [ 0.        ,  0.        ,  0.        , -1.        ]])"
      ]
     },
     "execution_count": 11,
     "metadata": {},
     "output_type": "execute_result"
    }
   ],
   "source": [
    "ptm"
   ]
  },
  {
   "cell_type": "code",
   "execution_count": 15,
   "metadata": {},
   "outputs": [
    {
     "data": {
      "text/plain": [
       "array([[2.48823900e-10, 0.00000000e+00, 0.00000000e+00, 0.00000000e+00],\n",
       "       [0.00000000e+00, 9.99999812e-01, 0.00000000e+00, 0.00000000e+00],\n",
       "       [0.00000000e+00, 0.00000000e+00, 1.87804330e-07, 0.00000000e+00],\n",
       "       [0.00000000e+00, 0.00000000e+00, 0.00000000e+00, 2.29419000e-11]])"
      ]
     },
     "execution_count": 15,
     "metadata": {},
     "output_type": "execute_result"
    }
   ],
   "source": [
    "np.round(np.real(PTM_CHI(ptm)),16)"
   ]
  },
  {
   "cell_type": "code",
   "execution_count": null,
   "metadata": {},
   "outputs": [],
   "source": []
  }
 ],
 "metadata": {
  "kernelspec": {
   "display_name": "Python 3",
   "language": "python",
   "name": "python3"
  },
  "language_info": {
   "codemirror_mode": {
    "name": "ipython",
    "version": 3
   },
   "file_extension": ".py",
   "mimetype": "text/x-python",
   "name": "python",
   "nbconvert_exporter": "python",
   "pygments_lexer": "ipython3",
   "version": "3.7.1"
  }
 },
 "nbformat": 4,
 "nbformat_minor": 2
}
