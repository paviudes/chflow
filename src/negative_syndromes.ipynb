{
 "cells": [
  {
   "cell_type": "code",
   "execution_count": 1,
   "metadata": {},
   "outputs": [],
   "source": [
    "import numpy as np\n",
    "from define import qcode as qc\n",
    "from define import globalvars as gv\n",
    "from define.randchans import RandomUnitary\n",
    "from define.QECCLfid.utils import Dot, Dagger, Kron\n",
    "from define.QECCLfid.multi_qubit_kraus import get_process_correlated"
   ]
  },
  {
   "cell_type": "code",
   "execution_count": 2,
   "metadata": {},
   "outputs": [],
   "source": [
    "qcode = qc.QuantumErrorCorrectingCode(\"Steane\")\n",
    "qc.Load(qcode)"
   ]
  },
  {
   "cell_type": "code",
   "execution_count": 3,
   "metadata": {},
   "outputs": [],
   "source": [
    "# Pr(synd) = sum_s,s' GS_ss' P(synd)_s'"
   ]
  },
  {
   "cell_type": "code",
   "execution_count": 4,
   "metadata": {},
   "outputs": [],
   "source": [
    "def LoadChannel():\n",
    "    return np.loadtxt(\"./../input/debug_testing/physical.txt\").reshape(256, 256)\n",
    "def LoadProjector():\n",
    "    return np.loadtxt(\"./../input/debug_testing/SS.txt\").reshape(64, 64)"
   ]
  },
  {
   "cell_type": "code",
   "execution_count": 5,
   "metadata": {},
   "outputs": [],
   "source": [
    "def SyndromeTest(GS, P):\n",
    "    # Test if any syndrome probabilities are negative.\n",
    "    norm = 0\n",
    "    stop = 0\n",
    "    for synd in range(64):\n",
    "        Pr_s = 0\n",
    "        if stop == 0:\n",
    "            print(\"P[{}, :] has {} 1s and {} -1s.\".format(synd, np.count_nonzero(P[synd, :] == 1), np.count_nonzero(P[synd, :] == -1)))\n",
    "        Pr_s = np.sum(np.dot(GS, P[synd, :]))/64\n",
    "        norm = norm + Pr_s\n",
    "        if stop == 0:\n",
    "            print(\"Pr({}) = {}\".format(synd, Pr_s))\n",
    "        if Pr_s < 0:\n",
    "            stop = 1\n",
    "            print(\"Negative Pr(s) encountered.\")\n",
    "    print(\"Sum of all syndrome probabilities: {}.\".format(norm))\n",
    "    return None"
   ]
  },
  {
   "cell_type": "code",
   "execution_count": 6,
   "metadata": {},
   "outputs": [],
   "source": [
    "# We want to construct the S x S part of the process matrix for a random independent unitary channel.\n",
    "# G_ij = prod_q Tr[ U_q  (P_i)_q U^dag_q  (P_j)_q ]"
   ]
  },
  {
   "cell_type": "code",
   "execution_count": 7,
   "metadata": {},
   "outputs": [],
   "source": [
    "def GetRandUnitaryProcess(nq):\n",
    "    U = np.zeros((nq, 2, 2), dtype=np.complex128)\n",
    "    for q in range(nq):\n",
    "        U[q, :, :] = RandomUnitary(prox=0.1, dim=2)\n",
    "    S = qc.GenerateGroup(qcode.S)\n",
    "    GS = np.zeros((S.shape[0], S.shape[0]), dtype = np.double)\n",
    "    for i in range(S.shape[0]):\n",
    "        for j in range(S.shape[0]):\n",
    "            contrib = 1 + 0 * 1j\n",
    "            for q in range(nq):\n",
    "                contrib = contrib * np.trace(Dot(U[q, :, :], gv.Pauli[S[i, q], :, :], Dagger(U[q, :, :]), gv.Pauli[S[j, q], :, :]))\n",
    "            GS[i, j] = np.real(contrib)/np.power(2, nq)\n",
    "    return (U, GS)"
   ]
  },
  {
   "cell_type": "code",
   "execution_count": 8,
   "metadata": {},
   "outputs": [
    {
     "name": "stdout",
     "output_type": "stream",
     "text": [
      "P[0, :] has 64 1s and 0 -1s.\n",
      "Pr(0) = 0.01776166873934213\n",
      "P[1, :] has 32 1s and 32 -1s.\n",
      "Pr(1) = 0.029819225617637606\n",
      "P[2, :] has 32 1s and 32 -1s.\n",
      "Pr(2) = 0.019050070006065685\n",
      "P[3, :] has 32 1s and 32 -1s.\n",
      "Pr(3) = 0.01428886061133896\n",
      "P[4, :] has 32 1s and 32 -1s.\n",
      "Pr(4) = -0.00011155629058838545\n",
      "Negative Pr(s) encountered.\n",
      "Sum of all syndrome probabilities: 0.9999999999999994.\n"
     ]
    }
   ],
   "source": [
    "GS = LoadChannel()[:64, :64]\n",
    "P = LoadProjector()\n",
    "SyndromeTest(GS, P)"
   ]
  },
  {
   "cell_type": "code",
   "execution_count": 9,
   "metadata": {},
   "outputs": [
    {
     "name": "stdout",
     "output_type": "stream",
     "text": [
      "P[0, :] has 64 1s and 0 -1s.\n",
      "Pr(0) = 3.338919252020289e-08\n",
      "P[1, :] has 32 1s and 32 -1s.\n",
      "Pr(1) = 4.3587117259415165e-07\n",
      "P[2, :] has 32 1s and 32 -1s.\n",
      "Pr(2) = 7.213913753509327e-06\n",
      "P[3, :] has 32 1s and 32 -1s.\n",
      "Pr(3) = 1.2181404236352722e-07\n",
      "P[4, :] has 32 1s and 32 -1s.\n",
      "Pr(4) = 3.6198340234768617e-06\n",
      "P[5, :] has 32 1s and 32 -1s.\n",
      "Pr(5) = 6.13625626500261e-07\n",
      "P[6, :] has 32 1s and 32 -1s.\n",
      "Pr(6) = 0.00046997860806691216\n",
      "P[7, :] has 32 1s and 32 -1s.\n",
      "Pr(7) = 1.8943119025650879e-06\n",
      "P[8, :] has 32 1s and 32 -1s.\n",
      "Pr(8) = 7.747475300190487e-10\n",
      "P[9, :] has 32 1s and 32 -1s.\n",
      "Pr(9) = 5.313791413483204e-08\n",
      "P[10, :] has 32 1s and 32 -1s.\n",
      "Pr(10) = 5.792251055528053e-09\n",
      "P[11, :] has 32 1s and 32 -1s.\n",
      "Pr(11) = 2.6154552155467636e-07\n",
      "P[12, :] has 32 1s and 32 -1s.\n",
      "Pr(12) = 2.215284689889574e-08\n",
      "P[13, :] has 32 1s and 32 -1s.\n",
      "Pr(13) = 1.3237191710639695e-07\n",
      "P[14, :] has 32 1s and 32 -1s.\n",
      "Pr(14) = 6.786137339565013e-08\n",
      "P[15, :] has 32 1s and 32 -1s.\n",
      "Pr(15) = 1.7060210468815284e-05\n",
      "P[16, :] has 32 1s and 32 -1s.\n",
      "Pr(16) = 2.3733055312669116e-09\n",
      "P[17, :] has 32 1s and 32 -1s.\n",
      "Pr(17) = 6.615799210546447e-08\n",
      "P[18, :] has 32 1s and 32 -1s.\n",
      "Pr(18) = 8.808652713111764e-07\n",
      "P[19, :] has 32 1s and 32 -1s.\n",
      "Pr(19) = 2.5675567464841786e-07\n",
      "P[20, :] has 32 1s and 32 -1s.\n",
      "Pr(20) = 0.00028792180296218807\n",
      "P[21, :] has 32 1s and 32 -1s.\n",
      "Pr(21) = 1.1517645536526094e-06\n",
      "P[22, :] has 32 1s and 32 -1s.\n",
      "Pr(22) = 2.2088140882291912e-06\n",
      "P[23, :] has 32 1s and 32 -1s.\n",
      "Pr(23) = 3.8092731282669823e-07\n",
      "P[24, :] has 32 1s and 32 -1s.\n",
      "Pr(24) = 1.9327868975432816e-09\n",
      "P[25, :] has 32 1s and 32 -1s.\n",
      "Pr(25) = 5.680917058072804e-07\n",
      "P[26, :] has 32 1s and 32 -1s.\n",
      "Pr(26) = 3.6828238533445634e-08\n",
      "P[27, :] has 32 1s and 32 -1s.\n",
      "Pr(27) = 1.1479502883167403e-07\n",
      "P[28, :] has 32 1s and 32 -1s.\n",
      "Pr(28) = 1.4834664692660315e-07\n",
      "P[29, :] has 32 1s and 32 -1s.\n",
      "Pr(29) = 3.709615564100911e-05\n",
      "P[30, :] has 32 1s and 32 -1s.\n",
      "Pr(30) = 4.7418280623226505e-08\n",
      "P[31, :] has 32 1s and 32 -1s.\n",
      "Pr(31) = 2.88283397738634e-07\n",
      "P[32, :] has 32 1s and 32 -1s.\n",
      "Pr(32) = 7.625055069987452e-09\n",
      "P[33, :] has 32 1s and 32 -1s.\n",
      "Pr(33) = 1.0040322327015128e-07\n",
      "P[34, :] has 32 1s and 32 -1s.\n",
      "Pr(34) = 7.837249593684037e-05\n",
      "P[35, :] has 32 1s and 32 -1s.\n",
      "Pr(35) = 3.113208503734144e-07\n",
      "P[36, :] has 32 1s and 32 -1s.\n",
      "Pr(36) = 2.35118031219686e-07\n",
      "P[37, :] has 32 1s and 32 -1s.\n",
      "Pr(37) = 7.317250193435154e-08\n",
      "P[38, :] has 32 1s and 32 -1s.\n",
      "Pr(38) = 1.1958885817262704e-06\n",
      "P[39, :] has 32 1s and 32 -1s.\n",
      "Pr(39) = 2.4301098177151315e-08\n",
      "P[40, :] has 32 1s and 32 -1s.\n",
      "Pr(40) = 5.0213121854936205e-11\n",
      "P[41, :] has 32 1s and 32 -1s.\n",
      "Pr(41) = 3.1388788756386843e-07\n",
      "P[42, :] has 32 1s and 32 -1s.\n",
      "Pr(42) = 1.6398741860962351e-07\n",
      "P[43, :] has 32 1s and 32 -1s.\n",
      "Pr(43) = 4.051824612493968e-05\n",
      "P[44, :] has 32 1s and 32 -1s.\n",
      "Pr(44) = 3.719944628895189e-08\n",
      "P[45, :] has 32 1s and 32 -1s.\n",
      "Pr(45) = 1.2619985718075044e-07\n",
      "P[46, :] has 32 1s and 32 -1s.\n",
      "Pr(46) = 1.0248801163639798e-08\n",
      "P[47, :] has 32 1s and 32 -1s.\n",
      "Pr(47) = 6.209135595940801e-07\n",
      "P[48, :] has 32 1s and 32 -1s.\n",
      "Pr(48) = 0.9671580258892118\n",
      "P[49, :] has 32 1s and 32 -1s.\n",
      "Pr(49) = 0.0038764820097376973\n",
      "P[50, :] has 32 1s and 32 -1s.\n",
      "Pr(50) = 0.007550821112875139\n",
      "P[51, :] has 32 1s and 32 -1s.\n",
      "Pr(51) = 0.0012406601164087205\n",
      "P[52, :] has 32 1s and 32 -1s.\n",
      "Pr(52) = 0.01481697589015224\n",
      "P[53, :] has 32 1s and 32 -1s.\n",
      "Pr(53) = 0.0002776613069887385\n",
      "P[54, :] has 32 1s and 32 -1s.\n",
      "Pr(54) = 0.0029865114220433697\n",
      "P[55, :] has 32 1s and 32 -1s.\n",
      "Pr(55) = 0.000934400171465205\n",
      "P[56, :] has 32 1s and 32 -1s.\n",
      "Pr(56) = 4.508309524309251e-11\n",
      "P[57, :] has 32 1s and 32 -1s.\n",
      "Pr(57) = 0.00019799584527030283\n",
      "P[58, :] has 32 1s and 32 -1s.\n",
      "Pr(58) = 2.6426780462378285e-07\n",
      "P[59, :] has 32 1s and 32 -1s.\n",
      "Pr(59) = 1.5280776462980178e-06\n",
      "P[60, :] has 32 1s and 32 -1s.\n",
      "Pr(60) = 4.5183046767580115e-08\n",
      "P[61, :] has 32 1s and 32 -1s.\n",
      "Pr(61) = 3.031807334063011e-06\n",
      "P[62, :] has 32 1s and 32 -1s.\n",
      "Pr(62) = 1.768381979513206e-07\n",
      "P[63, :] has 32 1s and 32 -1s.\n",
      "Pr(63) = 6.224304394970154e-07\n",
      "Sum of all syndrome probabilities: 1.0000000000000004.\n"
     ]
    }
   ],
   "source": [
    "(U, GS) = GetRandUnitaryProcess(7)\n",
    "P = LoadProjector()\n",
    "SyndromeTest(GS, P)"
   ]
  },
  {
   "cell_type": "code",
   "execution_count": 10,
   "metadata": {},
   "outputs": [],
   "source": [
    "kraus_dict = {0:(tuple(range(qcode.N)), [Kron(*U)])}"
   ]
  },
  {
   "cell_type": "code",
   "execution_count": 11,
   "metadata": {},
   "outputs": [],
   "source": [
    "G_frontend = get_process_correlated(qcode, kraus_dict)"
   ]
  },
  {
   "cell_type": "code",
   "execution_count": 12,
   "metadata": {},
   "outputs": [],
   "source": [
    "GS_frontend = G_frontend.reshape(256, 256)[:64, :64]"
   ]
  },
  {
   "cell_type": "code",
   "execution_count": 13,
   "metadata": {},
   "outputs": [
    {
     "data": {
      "text/plain": [
       "True"
      ]
     },
     "execution_count": 13,
     "metadata": {},
     "output_type": "execute_result"
    }
   ],
   "source": [
    "np.allclose(GS_frontend, GS)"
   ]
  },
  {
   "cell_type": "code",
   "execution_count": null,
   "metadata": {},
   "outputs": [],
   "source": []
  }
 ],
 "metadata": {
  "kernelspec": {
   "display_name": "Python 3",
   "language": "python",
   "name": "python3"
  },
  "language_info": {
   "codemirror_mode": {
    "name": "ipython",
    "version": 3
   },
   "file_extension": ".py",
   "mimetype": "text/x-python",
   "name": "python",
   "nbconvert_exporter": "python",
   "pygments_lexer": "ipython3",
   "version": "3.7.1"
  }
 },
 "nbformat": 4,
 "nbformat_minor": 2
}
