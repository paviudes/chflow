{
 "cells": [
  {
   "cell_type": "code",
   "execution_count": 1,
   "metadata": {},
   "outputs": [],
   "source": [
    "import numpy as np\n",
    "from scipy import linalg as linalg\n",
    "import random\n",
    "# from define.randchans import RandomUnitary\n",
    "from define.QECCLfid.multi_qubit_kraus import get_Chielem_ii, get_Chielem_kraus_list, get_process_correlated, get_process_correlated_list\n",
    "from define.QECCLfid.ptm import get_PTMelem_ij, get_PTMelem_list, get_Pauli_tensor\n",
    "from define.QECCLfid.sum_cptps import SumCptps\n",
    "from define import qcode as qc\n",
    "qcode = qc.QuantumErrorCorrectingCode(\"Steane\")\n",
    "qc.Load(qcode)\n",
    "qc.PrepareSyndromeLookUp(qcode)\n",
    "nstabs = 2 ** (qcode.N - qcode.K)\n",
    "nlogs = 4 ** qcode.K\n",
    "(ops, __) = qc.GetOperatorsForLSTIndex(qcode, range(nstabs * nstabs * nlogs))"
   ]
  },
  {
   "cell_type": "code",
   "execution_count": 2,
   "metadata": {},
   "outputs": [
    {
     "name": "stdout",
     "output_type": "stream",
     "text": [
      "Kraus test passed.\n",
      "Random channel generated with the following interactions\n",
      "[(1, 2, 3, 5)].\n"
     ]
    }
   ],
   "source": [
    "kraus = SumCptps(0.1, qcode, cutoff = 3, n_maps = 1)"
   ]
  },
  {
   "cell_type": "code",
   "execution_count": 3,
   "metadata": {},
   "outputs": [],
   "source": [
    "%load_ext line_profiler"
   ]
  },
  {
   "cell_type": "code",
   "execution_count": null,
   "metadata": {},
   "outputs": [],
   "source": [
    "%lprun -f get_Chielem_kraus_list get_Chielem_kraus_list(kraus, ops, qcode.N)"
   ]
  },
  {
   "cell_type": "code",
   "execution_count": null,
   "metadata": {},
   "outputs": [],
   "source": [
    "chi_opt = get_Chielem_kraus_list(kraus, ops, qcode.N)"
   ]
  },
  {
   "cell_type": "code",
   "execution_count": null,
   "metadata": {},
   "outputs": [],
   "source": [
    "chi = get_Chielem_ii(kraus, ops, qcode.N)"
   ]
  },
  {
   "cell_type": "code",
   "execution_count": null,
   "metadata": {},
   "outputs": [],
   "source": [
    "np.allclose(chi_opt, chi)"
   ]
  },
  {
   "cell_type": "code",
   "execution_count": null,
   "metadata": {},
   "outputs": [],
   "source": [
    "np.count_nonzero(chi)"
   ]
  },
  {
   "cell_type": "code",
   "execution_count": null,
   "metadata": {},
   "outputs": [],
   "source": [
    "np.sort(chi)[::-1]"
   ]
  },
  {
   "cell_type": "code",
   "execution_count": null,
   "metadata": {},
   "outputs": [],
   "source": [
    "(ops, phases) = qc.GetOperatorsForTLSIndex(qcode, range(nstabs * nlogs))\n",
    "ops_tensor = list(map(get_Pauli_tensor, ops))\n",
    "Pi = ops_tensor[1]\n",
    "Pjlist = ops_tensor\n",
    "phasei = phases[1]\n",
    "phasej = phases\n",
    "n_qubits = qcode.N"
   ]
  },
  {
   "cell_type": "code",
   "execution_count": null,
   "metadata": {},
   "outputs": [],
   "source": [
    "%lprun -f get_PTMelem_ij get_PTMelem_ij(kraus, Pi, Pjlist, n_qubits, phasei, phasej)"
   ]
  },
  {
   "cell_type": "code",
   "execution_count": 4,
   "metadata": {},
   "outputs": [],
   "source": [
    "%lprun -f get_process_correlated get_process_correlated(qcode, kraus)"
   ]
  },
  {
   "cell_type": "code",
   "execution_count": null,
   "metadata": {},
   "outputs": [],
   "source": [
    "%lprun -f get_PTMelem_list get_PTMelem_list(kraus, Pi, Pjlist, n_qubits, phasei, phasej)"
   ]
  },
  {
   "cell_type": "code",
   "execution_count": 5,
   "metadata": {},
   "outputs": [],
   "source": [
    "%lprun -f get_process_correlated_list get_process_correlated_list(qcode, kraus)"
   ]
  },
  {
   "cell_type": "code",
   "execution_count": null,
   "metadata": {},
   "outputs": [],
   "source": []
  }
 ],
 "metadata": {
  "kernelspec": {
   "display_name": "Python 3",
   "language": "python",
   "name": "python3"
  },
  "language_info": {
   "codemirror_mode": {
    "name": "ipython",
    "version": 3
   },
   "file_extension": ".py",
   "mimetype": "text/x-python",
   "name": "python",
   "nbconvert_exporter": "python",
   "pygments_lexer": "ipython3",
   "version": "3.7.1"
  }
 },
 "nbformat": 4,
 "nbformat_minor": 2
}
