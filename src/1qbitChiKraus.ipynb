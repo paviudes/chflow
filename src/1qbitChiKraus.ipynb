{
 "cells": [
  {
   "cell_type": "code",
   "execution_count": 6,
   "metadata": {},
   "outputs": [],
   "source": [
    "import numpy as np\n",
    "from define import globalvars as gv\n",
    "\n",
    "beta = 0.5\n",
    "gamma = 0.25\n",
    "z = 0.01 - 0.02j\n",
    "chi = np.array([[beta,0,0,0],[0,gamma,0,z],[0,0,0,0],[0,np.conj(z),0,gamma]])\n",
    "# Eigendecomposition\n",
    "v,w = np.linalg.eigh(chi)\n",
    "w_inv = np.linalg.inv(w)\n",
    "\n",
    "# Getting the Kraus\n",
    "kraus = np.zeros((4,2,2),dtype=np.complex128)\n",
    "for alpha in range(4):\n",
    "    if(v[alpha]>1e-10):\n",
    "        for beta in range(4):\n",
    "            kraus[alpha] += w[alpha][beta]*gv.Pauli[beta]\n",
    "        kraus[alpha] *= np.sqrt(v[alpha])"
   ]
  },
  {
   "cell_type": "code",
   "execution_count": 9,
   "metadata": {},
   "outputs": [
    {
     "name": "stdout",
     "output_type": "stream",
     "text": [
      "True\n"
     ]
    }
   ],
   "source": [
    "#Normalization check for Kraus\n",
    "S = np.zeros((2,2), dtype=np.complex128)\n",
    "for k in range(4):\n",
    "    S += np.dot(np.conj(kraus[k].T) ,kraus[k])\n",
    "print(np.allclose(S,np.eye(2)))"
   ]
  },
  {
   "cell_type": "code",
   "execution_count": 12,
   "metadata": {},
   "outputs": [
    {
     "name": "stdout",
     "output_type": "stream",
     "text": [
      "[[ 1.09+0.j  0.  +0.j -0.  -0.j  0.  +0.j]\n",
      " [ 0.  -0.j  1.46+0.j -0.54-0.j  0.  +0.j]\n",
      " [-0.  +0.j -0.54+0.j  1.46+0.j  0.  +0.j]\n",
      " [ 0.  +0.j  0.  +0.j  0.  +0.j  0.  +0.j]]\n",
      "[[0.5 +0.j   0.  +0.j   0.  +0.j   0.  +0.j  ]\n",
      " [0.  +0.j   0.25+0.j   0.  +0.j   0.01-0.02j]\n",
      " [0.  +0.j   0.  +0.j   0.  +0.j   0.  +0.j  ]\n",
      " [0.  +0.j   0.01+0.02j 0.  +0.j   0.25+0.j  ]]\n"
     ]
    }
   ],
   "source": [
    "# Reconstruct chi from Kraus\n",
    "# chi reconstructed from kraus\n",
    "chi_reconstructed = np.zeros((4,4), dtype = np.complex128)\n",
    "for alpha in range(4):\n",
    "    for beta in range(4):\n",
    "        for gamma in range(4):\n",
    "                chi_reconstructed[alpha][beta] += np.trace(np.dot(kraus[gamma],gv.Pauli[alpha]))*np.trace(np.dot(np.conj(kraus[gamma].T),gv.Pauli[beta]))\n",
    "print(np.round(chi_reconstructed,2))\n",
    "print(chi)"
   ]
  }
 ],
 "metadata": {
  "kernelspec": {
   "display_name": "Python 3",
   "language": "python",
   "name": "python3"
  },
  "language_info": {
   "codemirror_mode": {
    "name": "ipython",
    "version": 3
   },
   "file_extension": ".py",
   "mimetype": "text/x-python",
   "name": "python",
   "nbconvert_exporter": "python",
   "pygments_lexer": "ipython3",
   "version": "3.8.3"
  }
 },
 "nbformat": 4,
 "nbformat_minor": 4
}
