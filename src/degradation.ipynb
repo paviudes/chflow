{
 "cells": [
  {
   "cell_type": "code",
   "execution_count": 1,
   "metadata": {},
   "outputs": [],
   "source": [
    "%matplotlib inline\n",
    "import numpy as np\n",
    "from matplotlib import pyplot as plt\n",
    "from matplotlib.colors import LogNorm\n",
    "from define import qcode as qc\n",
    "from define.submission import Submission\n",
    "from define.load import LoadSub\n",
    "from define.fnames import PhysicalChannel\n",
    "from define.chanreps import ConvertRepresentations"
   ]
  },
  {
   "cell_type": "code",
   "execution_count": 2,
   "metadata": {},
   "outputs": [],
   "source": [
    "def ProcessToChi(process):\n",
    "    chi = np.zeros_like(process, dtype = np.complex128)\n",
    "    q = 0\n",
    "    for p in process:\n",
    "        chi[q] = ConvertRepresentations(p, \"process\", \"chi\")\n",
    "        q+=1\n",
    "    return chi\n",
    "# def ProcessToChi(process):\n",
    "#     return np.array(list(map(lambda P: ConvertRepresentations(P, \"process\", \"chi\"), process)), dtype=np.complex128)"
   ]
  },
  {
   "cell_type": "code",
   "execution_count": 3,
   "metadata": {},
   "outputs": [],
   "source": [
    "def Kron(*mats):\n",
    "    \"\"\"\n",
    "    Kronecker product of a list of matrices.\n",
    "    \"\"\"\n",
    "    if len(mats) <= 1:\n",
    "        return mats[0]\n",
    "    return np.kron(mats[0], Kron(*mats[1:]))"
   ]
  },
  {
   "cell_type": "code",
   "execution_count": 4,
   "metadata": {},
   "outputs": [],
   "source": [
    "def GetPauliPhase(qcode):\n",
    "    nstabs = 2**(qcode.N - qcode.K)\n",
    "    ops_LST = qcode.PauliOperatorsLST\n",
    "    lookup = qcode.lookup.astype(int)\n",
    "    phases = np.ones(len(ops_LST), dtype = np.complex128)\n",
    "    prods = np.zeros(((len(ops_LST),qcode.N)),dtype=np.int)\n",
    "    for op_index in range(len(ops_LST)):\n",
    "        t_op = np.mod(op_index, nstabs)\n",
    "        # print(\"t_op : {} m1 : {} m2: {}\".format(t_op, lookup[:,2:][t_op], ops_LST[op_index]))\n",
    "        (prods[op_index], phases[op_index]) = qc.PauliProduct(lookup[:,2:][t_op], ops_LST[op_index])\n",
    "    return prods, phases"
   ]
  },
  {
   "cell_type": "code",
   "execution_count": 5,
   "metadata": {},
   "outputs": [],
   "source": [
    "def LogicalInfidelity(chi, qcode, phases):\n",
    "    nstabs = 2**(qcode.N - qcode.K)\n",
    "    log_fid = 0\n",
    "    lexicographic = np.sum(np.power(4, np.arange(qcode.N))[::-1] * qcode.PauliOperatorsLST, axis=1)\n",
    "    for t in range(nstabs):\n",
    "        for j in range(t*nstabs,(t+1)*nstabs):\n",
    "            indj = qcode.PauliCorrectableIndices[j]\n",
    "            lindj = lexicographic[j]\n",
    "            for k in range(t*nstabs,(t+1)*nstabs):\n",
    "                indk = qcode.PauliCorrectableIndices[k]\n",
    "                lindk = lexicographic[k]\n",
    "                term = chi[lindj,lindk] * phases[indj] * np.conj(phases[indk])\n",
    "                log_fid += term\n",
    "    return (1 - np.real(log_fid))"
   ]
  },
  {
   "cell_type": "code",
   "execution_count": 6,
   "metadata": {},
   "outputs": [],
   "source": [
    "def ImpactOfRC(nqchi, nqchi_RC, qcode, phases):\n",
    "    # Logical infidelity for the non RC channel.\n",
    "    loginfid_noRC = LogicalInfidelity(nqchi, qcode, phases)\n",
    "    # Logical infidelity with RC.\n",
    "    loginfid_RC = LogicalInfidelity(nqchi_RC, qcode, phases)\n",
    "    impact = loginfid_noRC/loginfid_RC\n",
    "    return (loginfid_noRC, loginfid_RC, impact)"
   ]
  },
  {
   "cell_type": "code",
   "execution_count": 9,
   "metadata": {},
   "outputs": [],
   "source": [
    "# Load the elements of the code.\n",
    "qcode = qc.QuantumErrorCorrectingCode(\"Steane\")\n",
    "qc.Load(qcode)\n",
    "nstabs = 2**(qcode.N - qcode.K)\n",
    "(prods, phases) = GetPauliPhase(qcode)"
   ]
  },
  {
   "cell_type": "code",
   "execution_count": 10,
   "metadata": {},
   "outputs": [],
   "source": [
    "# Load the elements of the (non RC and RC) channels.\n",
    "submit = Submission()\n",
    "exists = LoadSub(submit, \"degradation\", 1, 0)\n",
    "process = np.reshape(np.load(PhysicalChannel(submit, submit.noiserates[0, :])), [7, 4, 4])\n",
    "chi = ProcessToChi(process)\n",
    "nqchi = Kron(*chi)\n",
    "nqchi_RC = np.diag(np.diag(nqchi))"
   ]
  },
  {
   "cell_type": "code",
   "execution_count": 11,
   "metadata": {},
   "outputs": [
    {
     "data": {
      "text/plain": [
       "0.00025853811738152377"
      ]
     },
     "execution_count": 11,
     "metadata": {},
     "output_type": "execute_result"
    }
   ],
   "source": [
    "LogicalInfidelity(nqchi, qcode, phases)"
   ]
  },
  {
   "cell_type": "code",
   "execution_count": 12,
   "metadata": {},
   "outputs": [
    {
     "data": {
      "text/plain": [
       "-6.661338147750939e-16"
      ]
     },
     "execution_count": 12,
     "metadata": {},
     "output_type": "execute_result"
    }
   ],
   "source": [
    "LogicalInfidelity(nqchi_RC, qcode, phases)"
   ]
  },
  {
   "cell_type": "code",
   "execution_count": null,
   "metadata": {},
   "outputs": [],
   "source": [
    "(perf_RC, perf_nonRC, impact) = ImpactOfRC(nqchi, nqchi_RC, qcode, phases)\n",
    "print(\"non RC performance: {}\\nRC performance: {}\\nImpact: nonRC/RC = {}.\".format(perf_nonRC, perf_RC, impact))"
   ]
  },
  {
   "cell_type": "code",
   "execution_count": null,
   "metadata": {},
   "outputs": [],
   "source": [
    "def PLog(mat):\n",
    "    \"\"\"\n",
    "    Take a log where non-posvitive entries are set to 1 before applying the log function, so that they can be set to zero in the result.\n",
    "    \"\"\"\n",
    "    cutoff = 1E-3\n",
    "    mat = np.abs(mat)\n",
    "    mat[mat <= cutoff] = cutoff\n",
    "    return np.log10(mat)"
   ]
  },
  {
   "cell_type": "code",
   "execution_count": null,
   "metadata": {},
   "outputs": [],
   "source": [
    "plt.matshow(PLog(chi_tensored), cmap=\"gray\")\n",
    "plt.colorbar()\n",
    "plt.savefig(\"matrix_plot.png\", format=\"png\", dpi=300)"
   ]
  },
  {
   "cell_type": "code",
   "execution_count": null,
   "metadata": {},
   "outputs": [],
   "source": [
    "gain = 0\n",
    "degradation = 0\n",
    "Repeat several times:\n",
    "    1. Take a random correctable error E\n",
    "    2. E' = E.S\n",
    "    3. Look at the chi-matrix element x = chi_{E,E'}\n",
    "    4. If x is positive, then it adds to degradation; else it adds to a gain.\n",
    "                                               \n",
    "effect = gain - degradation"
   ]
  }
 ],
 "metadata": {
  "kernelspec": {
   "display_name": "Python 3",
   "language": "python",
   "name": "python3"
  },
  "language_info": {
   "codemirror_mode": {
    "name": "ipython",
    "version": 3
   },
   "file_extension": ".py",
   "mimetype": "text/x-python",
   "name": "python",
   "nbconvert_exporter": "python",
   "pygments_lexer": "ipython3",
   "version": "3.7.1"
  }
 },
 "nbformat": 4,
 "nbformat_minor": 2
}
