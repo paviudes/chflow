{
 "cells": [
  {
   "cell_type": "code",
   "execution_count": 188,
   "metadata": {},
   "outputs": [],
   "source": [
    "%matplotlib inline\n",
    "import numpy as np\n",
    "from matplotlib import pyplot as plt\n",
    "from matplotlib.colors import LogNorm\n",
    "import matplotlib\n",
    "matplotlib.use('TkAgg')\n",
    "from define import qcode as qc\n",
    "from define.submission import Submission\n",
    "from define.load import LoadSub\n",
    "from define.fnames import PhysicalChannel\n",
    "from define.chanreps import ConvertRepresentations\n",
    "from define.chandefs import FixedRotation\n",
    "from define import globalvars as gv\n",
    "from scipy.sparse.linalg import eigs"
   ]
  },
  {
   "cell_type": "code",
   "execution_count": 2,
   "metadata": {},
   "outputs": [],
   "source": [
    "def ProcessToChi(process):\n",
    "    chi = np.zeros_like(process, dtype = np.complex128)\n",
    "    q = 0\n",
    "    for p in process:\n",
    "        chi[q] = ConvertRepresentations(p, \"process\", \"chi\")\n",
    "        q+=1\n",
    "    return chi\n",
    "# def ProcessToChi(process):\n",
    "#     return np.array(list(map(lambda P: ConvertRepresentations(P, \"process\", \"chi\"), process)), dtype=np.complex128)"
   ]
  },
  {
   "cell_type": "code",
   "execution_count": 211,
   "metadata": {},
   "outputs": [],
   "source": [
    "def Kron(*mats):\n",
    "    \"\"\"\n",
    "    Kronecker product of a list of matrices from end to start.\n",
    "    \"\"\"\n",
    "    if(len(mats) == 0):\n",
    "        return 0\n",
    "    res = 1\n",
    "    for i in range(len(mats)):\n",
    "        res = np.kron(res, mats[i])\n",
    "    return res"
   ]
  },
  {
   "cell_type": "code",
   "execution_count": 4,
   "metadata": {},
   "outputs": [],
   "source": [
    "def GetPauliPhase(qcode):\n",
    "    nstabs = 2**(qcode.N - qcode.K)\n",
    "    ops_LST = qcode.PauliOperatorsLST\n",
    "    lookup = qcode.lookup.astype(int)\n",
    "    phases = np.ones(len(ops_LST), dtype = np.complex128)\n",
    "    prods = np.zeros(((len(ops_LST),qcode.N)),dtype=np.int64)\n",
    "    for op_index in range(len(ops_LST)):\n",
    "        t_op = np.mod(op_index, nstabs)\n",
    "        # print(\"t_op : {} m1 : {} m2: {}\".format(t_op, lookup[:,2:][t_op], ops_LST[op_index]))\n",
    "        (prods[op_index], phases[op_index]) = qc.PauliProduct(lookup[:,2:][t_op], ops_LST[op_index])\n",
    "    return prods, phases"
   ]
  },
  {
   "cell_type": "code",
   "execution_count": 5,
   "metadata": {},
   "outputs": [],
   "source": [
    "def LogicalInfidelity(chi, qcode, phases):\n",
    "    nstabs = 2**(qcode.N - qcode.K)\n",
    "    log_fid = 0\n",
    "    lexicographic = np.sum(np.power(4, np.arange(qcode.N))[::-1] * qcode.Paulis_correctable, axis=1)\n",
    "    for t in range(nstabs):\n",
    "        for j in range(t*nstabs,(t+1)*nstabs):\n",
    "            indj = qcode.PauliCorrectableIndices[j]\n",
    "            lindj = lexicographic[j]\n",
    "            for k in range(t*nstabs,(t+1)*nstabs):\n",
    "                indk = qcode.PauliCorrectableIndices[k]\n",
    "                lindk = lexicographic[k]\n",
    "                term = chi[lindj,lindk] * phases[indj] * np.conj(phases[indk])\n",
    "                log_fid += term\n",
    "    return (1 - np.real(log_fid))"
   ]
  },
  {
   "cell_type": "code",
   "execution_count": 6,
   "metadata": {},
   "outputs": [],
   "source": [
    "def ImpactOfRC(nqchi, nqchi_RC, qcode, phases):\n",
    "    # Logical infidelity for the non RC channel.\n",
    "    loginfid_noRC = LogicalInfidelity(nqchi, qcode, phases)\n",
    "    # Logical infidelity with RC.\n",
    "    loginfid_RC = LogicalInfidelity(nqchi_RC, qcode, phases)\n",
    "    impact = loginfid_noRC/loginfid_RC\n",
    "    return (loginfid_noRC, loginfid_RC, impact)"
   ]
  },
  {
   "cell_type": "code",
   "execution_count": 205,
   "metadata": {},
   "outputs": [],
   "source": [
    "# Load the elements of the code.\n",
    "qcode = qc.QuantumErrorCorrectingCode(\"7qc_cyclic\")\n",
    "qc.Load(qcode)\n",
    "nstabs = 2**(qcode.N - qcode.K)\n",
    "(prods, phases) = GetPauliPhase(qcode)"
   ]
  },
  {
   "cell_type": "code",
   "execution_count": 212,
   "metadata": {},
   "outputs": [
    {
     "name": "stdout",
     "output_type": "stream",
     "text": [
      "Process for one qubit : [[ 1.00000000e+00 -3.46944695e-18  0.00000000e+00  0.00000000e+00]\n",
      " [-3.46944695e-18  9.95240704e-01 -7.72640347e-02  5.93819074e-02]\n",
      " [ 0.00000000e+00  7.64505136e-02  9.96947307e-01  1.58551404e-02]\n",
      " [ 0.00000000e+00 -6.04256648e-02 -1.12399038e-02  9.98109415e-01]]\n",
      "1 qubit infidelity : 0.0024256436297019073 \n"
     ]
    }
   ],
   "source": [
    "# Load the elements of the (non RC and RC) channels.\n",
    "# submit = Submission()\n",
    "# exists = LoadSub(submit, \"degradation\", 1, 0)\n",
    "# process = np.reshape(np.load(PhysicalChannel(submit, submit.noiserates[0, :])), [7, 4, 4])\n",
    "params = [0.78539816339745, 1.5707963267949, 0.66**10]\n",
    "# params = [np.pi/4, 0, 0.66**10] # Hadamard axis\n",
    "kraussq = FixedRotation(params)\n",
    "processq = ConvertRepresentations(kraussq, \"krauss\", \"process\")\n",
    "print(\"Process for one qubit : {}\".format(processq))\n",
    "print(\"1 qubit infidelity : {} \".format(1 - np.trace(processq)/4))\n",
    "for j in range(0,7):\n",
    "    process[j,:,:] = processq\n",
    "chi = ProcessToChi(process)\n",
    "nqchi = Kron(*chi)\n",
    "nqchi_RC = np.diag(np.diag(nqchi))"
   ]
  },
  {
   "cell_type": "code",
   "execution_count": 213,
   "metadata": {},
   "outputs": [
    {
     "name": "stdout",
     "output_type": "stream",
     "text": [
      "non RC performance: 8.079262200644255e-05\n",
      "RC performance: 0.00010172947515230124\n",
      "Impact: nonRC/RC = 1.2591431324532227.\n"
     ]
    }
   ],
   "source": [
    "(perf_RC, perf_nonRC, impact) = ImpactOfRC(nqchi, nqchi_RC, qcode, phases)\n",
    "print(\"non RC performance: {}\\nRC performance: {}\\nImpact: nonRC/RC = {}.\".format(perf_nonRC, perf_RC, impact))"
   ]
  },
  {
   "cell_type": "code",
   "execution_count": 122,
   "metadata": {},
   "outputs": [],
   "source": [
    "def PLog(mat):\n",
    "    \"\"\"\n",
    "    Take a log where n0.00017330230190712453\n",
    "Minimum delta for level 1: 1.0000017494466467, is achion-posvitive entries are set to 1 before applying the log function, so that they can be set to zero in the result.\n",
    "    \"\"\"\n",
    "    cutoff = 1E-5\n",
    "    mat = np.abs(mat)\n",
    "    mat[mat <= cutoff] = cutoff\n",
    "    return np.log10(mat)"
   ]
  },
  {
   "cell_type": "code",
   "execution_count": 118,
   "metadata": {},
   "outputs": [],
   "source": [
    "def ChopSmallOffDiag(mat, thresh = 1e-3):\n",
    "    mat_chopped = np.zeros_like(mat)\n",
    "    for i in range(mat.shape[0]):\n",
    "        for j in range(i+1, mat.shape[1]):\n",
    "            if(np.abs(mat[i,j]) > thresh):\n",
    "                mat_chopped[i,j] = mat[i,j]\n",
    "            if(np.abs(mat[j,i]) > thresh):\n",
    "                mat_chopped[j,i] = mat[j,i]\n",
    "    for i in range(mat.shape[0]):\n",
    "        mat_chopped[i,i] = mat[i,i]\n",
    "    for i in range(mat.shape[0]):\n",
    "        for j in range(i+1, mat.shape[1]):\n",
    "            if(np.abs(mat_chopped[i,j])**2 > mat_chopped[i,i]*mat_chopped[j,j]):\n",
    "                if(mat_chopped[i,i] <=0 and mat_chopped[j,j] <=0):\n",
    "                    mat_chopped[i,j] = 0\n",
    "                    mat_chopped[j,i] = 0\n",
    "                elif(mat_chopped[j,j] > 0):\n",
    "                    mat_chopped[i,i] = (np.abs(mat_chopped[i,j])**2)/mat_chopped[j,j]\n",
    "                else:\n",
    "                    mat_chopped[j,j] = (np.abs(mat_chopped[i,j])**2)/mat_chopped[i,i]\n",
    "    mat_chopped /= np.trace(mat_chopped)\n",
    "    for i in range(mat.shape[0]):\n",
    "        for j in range(i+1, mat.shape[1]):\n",
    "            if(np.abs(mat_chopped[i,j])**2 > mat_chopped[i,i]*mat_chopped[j,j]):\n",
    "                print(\"Violation at i: {} j: {} off-diag : {} diagi : {} diagj : {}\".format(i,j,np.abs(mat_chopped[i,j])**2 , mat_chopped[i,i], mat_chopped[j,j]))\n",
    "    return mat_chopped"
   ]
  },
  {
   "cell_type": "code",
   "execution_count": 12,
   "metadata": {},
   "outputs": [],
   "source": [
    "def ConstructLeadingChi(chi, k = 1):\n",
    "    eigs,eigvecs = np.linalg.eig(chi)\n",
    "    order_of_eigs = np.argsort(np.abs(eigs))[::-1]\n",
    "#     print(\"Eigs : {} , order of eigs : {}\".format(eigs, order_of_eigs))\n",
    "    eigs = eigs[order_of_eigs]\n",
    "    eigvecs = eigvecs[:,order_of_eigs]\n",
    "    eigs[k+1:] = 0\n",
    "    chi_reconstructed = np.dot(np.dot(eigvecs,np.diag(eigs)), np.linalg.inv(eigvecs))\n",
    "    return chi_reconstructed"
   ]
  },
  {
   "cell_type": "code",
   "execution_count": 175,
   "metadata": {},
   "outputs": [
    {
     "name": "stdout",
     "output_type": "stream",
     "text": [
      "non RC performance: 0.00013103084872967408\n",
      "RC performance: 5.064408079680227e-05\n",
      "Impact: nonRC/RC = 0.38650501990782793.\n"
     ]
    }
   ],
   "source": [
    "(perf_RC, perf_nonRC, impact) = ImpactOfRC(nqchi_chopped, nqchi_RC_chopped, qcode, phases)\n",
    "print(\"non RC performance: {}\\nRC performance: {}\\nImpact: nonRC/RC = {}.\".format(perf_nonRC, perf_RC, impact))"
   ]
  },
  {
   "cell_type": "code",
   "execution_count": 186,
   "metadata": {},
   "outputs": [
    {
     "data": {
      "image/png": "[encoded data removed]",
      "text/plain": [
       "<Figure size 1440x1440 with 4 Axes>"
      ]
     },
     "metadata": {
      "needs_background": "light"
     },
     "output_type": "display_data"
    }
   ],
   "source": [
    "figs, axs = plt.subplots(1, 4, figsize=(20,20))\n",
    "plt.subplots_adjust(wspace=0.5, hspace=0.5)\n",
    "for q in range(4):\n",
    "    axs[q].set_title(\"Qubit: %d\" % (q), pad=20)\n",
    "#     axs[q].matshow(PLog(ProcessToChi(process[q, np.newaxis, :, :])[0]), cmap=\"gray\")\n",
    "    axs[q].matshow(PLog(chi[q]), cmap=\"gray\")\n",
    "    \n",
    "    # plt.savefig(\"matrix_plot.png\", format=\"png\", dpi=300)\n"
   ]
  },
  {
   "cell_type": "code",
   "execution_count": 187,
   "metadata": {
    "scrolled": true
   },
   "outputs": [
    {
     "data": {
      "image/png": "[encoded data removed]",
      "text/plain": [
       "<Figure size 432x288 with 2 Axes>"
      ]
     },
     "metadata": {
      "needs_background": "light"
     },
     "output_type": "display_data"
    }
   ],
   "source": [
    "# plt.matshow(, cmap=\"gray\")\n",
    "\n",
    "figure = plt.figure()\n",
    "axes = figure.add_subplot(111)\n",
    "  \n",
    "# using the matshow() function \n",
    "caxes = axes.matshow(PLog(np.abs(nqchi)))\n",
    "figure.colorbar(caxes)\n",
    "plt.savefig(\"matrix_plot.png\", format=\"png\", dpi=300)\n",
    "# plt.show()\n",
    "\n"
   ]
  },
  {
   "cell_type": "code",
   "execution_count": 101,
   "metadata": {},
   "outputs": [],
   "source": [
    "def checkChiValidity(chi,n=None):\n",
    "    if n is None:\n",
    "        e,_ = eigs(chi)\n",
    "    else:\n",
    "        e,_ = eigs(chi, k=n)\n",
    "    atol = 1e-10\n",
    "    e[np.abs(e) < atol] = 0\n",
    "    print(\"trace of chi = {}\".format(np.sum(e)))\n",
    "    print(\"eigenvalues : {}\".format(e))\n",
    "    print(\"Positivity of chi = {}\".format(np.all(np.real(e)>=0)))\n",
    "    return e"
   ]
  },
  {
   "cell_type": "code",
   "execution_count": 119,
   "metadata": {},
   "outputs": [
    {
     "name": "stdout",
     "output_type": "stream",
     "text": [
      "trace of chi = (1.0003278538245297-1.5190442618584635e-17j)\n",
      "eigenvalues : [ 9.99975074e-01-1.50132483e-17j -3.05665104e-03+1.69420913e-18j\n",
      "  2.46501246e-03-9.43590246e-19j -9.16953110e-04-4.36322783e-19j\n",
      "  9.79950824e-04-2.31619488e-19j  8.81420469e-04-2.59870938e-19j]\n",
      "Positivity of chi = False\n"
     ]
    }
   ],
   "source": [
    "nqchi_chopped = ChopSmallOffDiag(nqchi[:256,:256])\n",
    "e = checkChiValidity(nqchi_chopped)"
   ]
  },
  {
   "cell_type": "code",
   "execution_count": 108,
   "metadata": {},
   "outputs": [
    {
     "name": "stdout",
     "output_type": "stream",
     "text": [
      "trace of chi = (0.9977739205941021-5.1398161041745287e-17j)\n",
      "eigenvalues : [ 0.99949546-5.16428299e-17j -0.01470203+1.32753562e-19j\n",
      "  0.0053084 +4.99245456e-19j  0.00302576-2.14287341e-19j\n",
      "  0.00291552-7.52455889e-20j  0.00173081-9.77972651e-20j]\n",
      "Positivity of chi = False\n"
     ]
    }
   ],
   "source": []
  },
  {
   "cell_type": "code",
   "execution_count": 87,
   "metadata": {},
   "outputs": [
    {
     "name": "stdout",
     "output_type": "stream",
     "text": [
      "[0.98115423+0.j 0.        +0.j 0.        +0.j ... 0.        +0.j\n",
      " 0.        +0.j 0.        +0.j]\n"
     ]
    }
   ],
   "source": [
    "print(np.diag(nqchi))"
   ]
  },
  {
   "cell_type": "code",
   "execution_count": 94,
   "metadata": {},
   "outputs": [
    {
     "data": {
      "text/plain": [
       "array([[ 9.96493248e-01+0.j        ,  0.00000000e+00+0.00169108j,\n",
       "         1.08420217e-19-0.01929766j,  0.00000000e+00+0.05584976j],\n",
       "       [ 0.00000000e+00-0.00169108j,  2.86979940e-06+0.j        ,\n",
       "        -3.27486441e-05+0.j        ,  9.47785076e-05+0.j        ],\n",
       "       [ 1.08420217e-19+0.01929766j, -3.27486441e-05+0.j        ,\n",
       "         3.73710335e-04+0.j        , -1.08156257e-03+0.j        ],\n",
       "       [ 0.00000000e+00-0.05584976j,  9.47785076e-05+0.j        ,\n",
       "        -1.08156257e-03+0.j        ,  3.13017193e-03+0.j        ]])"
      ]
     },
     "execution_count": 94,
     "metadata": {},
     "output_type": "execute_result"
    }
   ],
   "source": [
    "chi[3]"
   ]
  },
  {
   "cell_type": "code",
   "execution_count": 110,
   "metadata": {},
   "outputs": [],
   "source": [
    "# Status : chopoffdiagsmall does not return pos matrix still. look into restroing positivity after truncation"
   ]
  },
  {
   "cell_type": "code",
   "execution_count": 125,
   "metadata": {},
   "outputs": [
    {
     "data": {
      "text/plain": [
       "array([[0.5+0.j, 0. +0.j, 0. +0.j, 0.5+0.j],\n",
       "       [0. +0.j, 0. +0.j, 0. +0.j, 0. +0.j],\n",
       "       [0. +0.j, 0. +0.j, 0. +0.j, 0. +0.j],\n",
       "       [0.5+0.j, 0. +0.j, 0. +0.j, 0.5+0.j]])"
      ]
     },
     "execution_count": 125,
     "metadata": {},
     "output_type": "execute_result"
    }
   ],
   "source": [
    "ConvertRepresentations(chi[0],\"chi\",\"choi\")"
   ]
  },
  {
   "cell_type": "code",
   "execution_count": 126,
   "metadata": {},
   "outputs": [
    {
     "data": {
      "text/plain": [
       "array([[1.+0.j, 0.+0.j, 0.+0.j, 0.+0.j],\n",
       "       [0.+0.j, 0.+0.j, 0.+0.j, 0.+0.j],\n",
       "       [0.+0.j, 0.+0.j, 0.+0.j, 0.+0.j],\n",
       "       [0.+0.j, 0.+0.j, 0.+0.j, 0.+0.j]])"
      ]
     },
     "execution_count": 126,
     "metadata": {},
     "output_type": "execute_result"
    }
   ],
   "source": [
    "chi[0]"
   ]
  },
  {
   "cell_type": "code",
   "execution_count": null,
   "metadata": {},
   "outputs": [],
   "source": []
  }
 ],
 "metadata": {
  "kernelspec": {
   "display_name": "Python 3",
   "language": "python",
   "name": "python3"
  },
  "language_info": {
   "codemirror_mode": {
    "name": "ipython",
    "version": 3
   },
   "file_extension": ".py",
   "mimetype": "text/x-python",
   "name": "python",
   "nbconvert_exporter": "python",
   "pygments_lexer": "ipython3",
   "version": "3.8.3"
  }
 },
 "nbformat": 4,
 "nbformat_minor": 2
}
