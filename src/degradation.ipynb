{
 "cells": [
  {
   "cell_type": "code",
   "execution_count": 1,
   "metadata": {},
   "outputs": [],
   "source": [
    "%matplotlib inline\n",
    "import numpy as np\n",
    "from matplotlib import pyplot as plt\n",
    "from matplotlib.colors import LogNorm\n",
    "from define import qcode as qc\n",
    "from define.submission import Submission\n",
    "from define.load import LoadSub\n",
    "from define.fnames import PhysicalChannel\n",
    "from define.chanreps import ConvertRepresentations"
   ]
  },
  {
   "cell_type": "code",
   "execution_count": 2,
   "metadata": {},
   "outputs": [],
   "source": [
    "def ProcessToChi(process):\n",
    "    chi = np.zeros_like(process, dtype = np.complex128)\n",
    "    q = 0\n",
    "    for p in process:\n",
    "        chi[q] = ConvertRepresentations(p, \"process\", \"chi\")\n",
    "        q+=1\n",
    "    return chi\n",
    "# def ProcessToChi(process):\n",
    "#     return np.array(list(map(lambda P: ConvertRepresentations(P, \"process\", \"chi\"), process)), dtype=np.complex128)"
   ]
  },
  {
   "cell_type": "code",
   "execution_count": 3,
   "metadata": {},
   "outputs": [],
   "source": [
    "def Kron(*mats):\n",
    "    \"\"\"\n",
    "    Kronecker product of a list of matrices.\n",
    "    \"\"\"\n",
    "    if len(mats) <= 1:\n",
    "        return mats[0]\n",
    "    return np.kron(mats[0], Kron(*mats[1:]))"
   ]
  },
  {
   "cell_type": "code",
   "execution_count": 4,
   "metadata": {},
   "outputs": [],
   "source": [
    "def GetPauliPhase(qcode):\n",
    "    nstabs = 2**(qcode.N - qcode.K)\n",
    "    ops_LST = qcode.PauliOperatorsLST\n",
    "    lookup = qcode.lookup.astype(int)\n",
    "    phases = np.ones(len(ops_LST), dtype = np.complex128)\n",
    "    prods = np.zeros(((len(ops_LST),qcode.N)),dtype=np.int)\n",
    "    for op_index in range(len(ops_LST)):\n",
    "        t_op = np.mod(op_index, nstabs)\n",
    "        # print(\"t_op : {} m1 : {} m2: {}\".format(t_op, lookup[:,2:][t_op], ops_LST[op_index]))\n",
    "        (prods[op_index], phases[op_index]) = qc.PauliProduct(lookup[:,2:][t_op], ops_LST[op_index])\n",
    "    return prods, phases"
   ]
  },
  {
   "cell_type": "code",
   "execution_count": 13,
   "metadata": {},
   "outputs": [],
   "source": [
    "def LogicalInfidelity(chi, qcode, phases):\n",
    "    nstabs = 2**(qcode.N - qcode.K)\n",
    "    log_fid = 0\n",
    "    lexicographic = np.sum(np.power(4, np.arange(qcode.N))[::-1] * qcode.Paulis_correctable, axis=1)\n",
    "    for t in range(nstabs):\n",
    "        for j in range(t*nstabs,(t+1)*nstabs):\n",
    "            indj = qcode.PauliCorrectableIndices[j]\n",
    "            lindj = lexicographic[j]\n",
    "            for k in range(t*nstabs,(t+1)*nstabs):\n",
    "                indk = qcode.PauliCorrectableIndices[k]\n",
    "                lindk = lexicographic[k]\n",
    "                term = chi[lindj,lindk] * phases[indj] * np.conj(phases[indk])\n",
    "                log_fid += term\n",
    "    return (1 - np.real(log_fid))"
   ]
  },
  {
   "cell_type": "code",
   "execution_count": 14,
   "metadata": {},
   "outputs": [],
   "source": [
    "def ImpactOfRC(nqchi, nqchi_RC, qcode, phases):\n",
    "    # Logical infidelity for the non RC channel.\n",
    "    loginfid_noRC = LogicalInfidelity(nqchi, qcode, phases)\n",
    "    # Logical infidelity with RC.\n",
    "    loginfid_RC = LogicalInfidelity(nqchi_RC, qcode, phases)\n",
    "    impact = loginfid_noRC/loginfid_RC\n",
    "    return (loginfid_noRC, loginfid_RC, impact)"
   ]
  },
  {
   "cell_type": "code",
   "execution_count": 15,
   "metadata": {},
   "outputs": [],
   "source": [
    "# Load the elements of the code.\n",
    "qcode = qc.QuantumErrorCorrectingCode(\"Steane\")\n",
    "qc.Load(qcode)\n",
    "nstabs = 2**(qcode.N - qcode.K)\n",
    "(prods, phases) = GetPauliPhase(qcode)"
   ]
  },
  {
   "cell_type": "code",
   "execution_count": 16,
   "metadata": {},
   "outputs": [],
   "source": [
    "# Load the elements of the (non RC and RC) channels.\n",
    "submit = Submission()\n",
    "exists = LoadSub(submit, \"degradation\", 1, 0)\n",
    "process = np.reshape(np.load(PhysicalChannel(submit, submit.noiserates[0, :])), [7, 4, 4])\n",
    "chi = ProcessToChi(process)\n",
    "nqchi = Kron(*chi)\n",
    "nqchi_RC = np.diag(np.diag(nqchi))"
   ]
  },
  {
   "cell_type": "code",
   "execution_count": 19,
   "metadata": {},
   "outputs": [
    {
     "name": "stdout",
     "output_type": "stream",
     "text": [
      "non RC performance: 0.00013103084872967408\n",
      "RC performance: 5.064408079680227e-05\n",
      "Impact: nonRC/RC = 0.38650501990782793.\n"
     ]
    }
   ],
   "source": [
    "(perf_RC, perf_nonRC, impact) = ImpactOfRC(nqchi, nqchi_RC, qcode, phases)\n",
    "print(\"non RC performance: {}\\nRC performance: {}\\nImpact: nonRC/RC = {}.\".format(perf_nonRC, perf_RC, impact))"
   ]
  },
  {
   "cell_type": "code",
   "execution_count": 20,
   "metadata": {},
   "outputs": [],
   "source": [
    "def PLog(mat):\n",
    "    \"\"\"\n",
    "    Take a log where non-posvitive entries are set to 1 before applying the log function, so that they can be set to zero in the result.\n",
    "    \"\"\"\n",
    "    cutoff = 1E-3\n",
    "    mat = np.abs(mat)\n",
    "    mat[mat <= cutoff] = cutoff\n",
    "    return np.log10(mat)"
   ]
  },
  {
   "cell_type": "code",
   "execution_count": 27,
   "metadata": {},
   "outputs": [
    {
     "data": {
      "text/plain": [
       "array([[9.95501339e-01, 6.17687681e-03, 3.84934217e-02, 5.43923295e-02],\n",
       "       [6.17687681e-03, 3.83262238e-05, 2.38843600e-04, 3.37492985e-04],\n",
       "       [3.84934217e-02, 2.38843600e-04, 1.48843950e-03, 2.10320850e-03],\n",
       "       [5.43923295e-02, 3.37492985e-04, 2.10320850e-03, 2.97189506e-03]])"
      ]
     },
     "execution_count": 27,
     "metadata": {},
     "output_type": "execute_result"
    }
   ],
   "source": [
    "np.abs(ProcessToChi(process[1, np.newaxis, :, :])[0])"
   ]
  },
  {
   "cell_type": "code",
   "execution_count": 60,
   "metadata": {},
   "outputs": [
    {
     "data": {
      "image/png": "[encoded data removed]",
      "text/plain": [
       "<Figure size 1440x1440 with 4 Axes>"
      ]
     },
     "metadata": {
      "needs_background": "light"
     },
     "output_type": "display_data"
    }
   ],
   "source": [
    "figs, axs = plt.subplots(1, 4, figsize=(20,20))\n",
    "plt.subplots_adjust(wspace=0.5, hspace=0.5)\n",
    "for q in range(4):\n",
    "    axs[q].set_title(\"Qubit: %d\" % (q), pad=20)\n",
    "    axs[q].matshow(PLog(ProcessToChi(process[q, np.newaxis, :, :])[0]), cmap=\"gray\")\n",
    "    #axs[q//3, q % 3].colorbar()\n",
    "    # plt.savefig(\"matrix_plot.png\", format=\"png\", dpi=300)\n"
   ]
  },
  {
   "cell_type": "code",
   "execution_count": null,
   "metadata": {},
   "outputs": [],
   "source": [
    "gain = 0\n",
    "degradation = 0\n",
    "Repeat several times:\n",
    "    1. Take a random correctable error E\n",
    "    2. E' = E.S\n",
    "    3. Look at the chi-matrix element x = chi_{E,E'}\n",
    "    4. If x is positive, then it adds to degradation; else it adds to a gain.\n",
    "                                               \n",
    "effect = gain - degradation"
   ]
  }
 ],
 "metadata": {
  "kernelspec": {
   "display_name": "Python 3",
   "language": "python",
   "name": "python3"
  },
  "language_info": {
   "codemirror_mode": {
    "name": "ipython",
    "version": 3
   },
   "file_extension": ".py",
   "mimetype": "text/x-python",
   "name": "python",
   "nbconvert_exporter": "python",
   "pygments_lexer": "ipython3",
   "version": "3.7.1"
  }
 },
 "nbformat": 4,
 "nbformat_minor": 2
}
