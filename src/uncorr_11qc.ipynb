{
 "cells": [
  {
   "cell_type": "code",
   "execution_count": null,
   "metadata": {},
   "outputs": [],
   "source": [
    "from define import qcode as qc\n",
    "import numpy as np\n",
    "from define.QECCLfid import uncorrectable as uc\n",
    "from define.QECCLfid import minwt as mw\n",
    "from define import globalvars as gv\n",
    "from define import chanreps as chrep\n",
    "import networkx as nx"
   ]
  },
  {
   "cell_type": "code",
   "execution_count": null,
   "metadata": {},
   "outputs": [],
   "source": [
    "def ChangeOrdering(probs, old_order, new_order):\n",
    "    \"\"\"\n",
    "    Change from an ordering in [L,S,T] to another.\n",
    "    This uses numpy reshape and transpose.\n",
    "    old = L S T\n",
    "    new = T L S\n",
    "    perm = 2 0 1\n",
    "    \"\"\"\n",
    "    t_size = np.power(2, qcode.N - qcode.K, dtype=np.int)\n",
    "    s_size = t_size\n",
    "    l_size = np.power(4, qcode.K, dtype=np.int)\n",
    "    sizes = {\"T\": t_size, \"S\": s_size, \"L\": l_size}\n",
    "    probs_reshaped = np.reshape(\n",
    "        probs, [sizes[old_order[0]], sizes[old_order[1]], sizes[old_order[2]]]\n",
    "    )\n",
    "    perm = [old_order.index(ax) for ax in new_order]\n",
    "    probs_reordered = np.reshape(np.transpose(probs_reshaped, perm), -1)\n",
    "    return probs_reordered"
   ]
  },
  {
   "cell_type": "code",
   "execution_count": null,
   "metadata": {},
   "outputs": [],
   "source": [
    "qcode = qc.QuantumErrorCorrectingCode(\"11qc\")\n",
    "qc.Load(qcode)\n",
    "# qc.populate_symplectic(qcode)\n",
    "#correctable_set = np.array(qcode.Paulis_correctable, dtype=np.int)\n",
    "# sqprobs = np.random.rand(4)\n",
    "# sqprobs[0] = 1-0.66**10\n",
    "# sqprobs[1:] = (1-sqprobs[0]) * sqprobs[1:]/np.sum(sqprobs[1:])\n",
    "# print(sqprobs[0])\n",
    "# probs = np.tile(sqprobs, [qcode.N, 1])"
   ]
  },
  {
   "cell_type": "code",
   "execution_count": null,
   "metadata": {},
   "outputs": [],
   "source": [
    "# pauli_probs = np.ones(qcode.PauliOperatorsLST.shape[0], dtype=np.double)\n",
    "# for i in range(qcode.PauliOperatorsLST.shape[0]):\n",
    "#     for q in range(qcode.N):\n",
    "#         pauli_probs[i] *= probs[q, qcode.PauliOperatorsLST[i, q]]\n",
    "# print(pauli_probs)"
   ]
  },
  {
   "cell_type": "code",
   "execution_count": null,
   "metadata": {},
   "outputs": [],
   "source": [
    "#mw.ComputeUncorrProbs(np.tile(probs, [qcode.N, 1]), qcode, 3)"
   ]
  },
  {
   "cell_type": "code",
   "execution_count": null,
   "metadata": {},
   "outputs": [],
   "source": [
    "#%lprun -f mw.ComputeUncorrProbs mw.ComputeUncorrProbs(np.tile(probs, [qcode.N, 1]), qcode, 3)"
   ]
  },
  {
   "cell_type": "code",
   "execution_count": null,
   "metadata": {},
   "outputs": [],
   "source": [
    "#uncorrs = np.load(\"/Users/pavi/Documents/chbank/29_05_2020_13_05_35/results/phy_uncorr.npy\")\n",
    "#infids = np.load(\"/Users/pavi/Documents/chbank/29_05_2020_13_05_35/results/log_infid.npy\")"
   ]
  },
  {
   "cell_type": "code",
   "execution_count": null,
   "metadata": {},
   "outputs": [],
   "source": [
    "nstabs = 2**(qcode.N-qcode.K)\n",
    "nlogs = 4**(qcode.K)\n",
    "# l, s, t = np.random.randint(0,4,size=(1,)), np.random.randint(0,64,size=(1,)), np.random.randint(0,64,size=(1,))\n",
    "# tls_order = t * nstabs * nlogs + l * nstabs + s\n",
    "# lst_order = l * nstabs * nstabs + s * nstabs + t\n",
    "# print(\"l = {}, s = {}, t = {}\\ntls_order = {}\\nlst_order = {}\".format(l, s, t, tls_order, lst_order))\n",
    "# print(\"pauli_probs[lst_order] = {}\\npvec[tls_order] = {}.\".format(pauli_probs[lst_order], pvec[tls_order]))"
   ]
  },
  {
   "cell_type": "code",
   "execution_count": null,
   "metadata": {},
   "outputs": [],
   "source": [
    "# freq = np.array(list(map(np.count_nonzero,qcode.Paulis_correctable)),dtype=np.int8)"
   ]
  },
  {
   "cell_type": "code",
   "execution_count": null,
   "metadata": {},
   "outputs": [],
   "source": [
    "# from collections import Counter\n",
    "# Counter(freq)"
   ]
  },
  {
   "cell_type": "code",
   "execution_count": null,
   "metadata": {},
   "outputs": [],
   "source": [
    "# import matplotlib.pyplot as plt\n",
    "# plt.hist(freq, bins=np.arange(freq.min(), freq.max()+1))"
   ]
  },
  {
   "cell_type": "code",
   "execution_count": null,
   "metadata": {},
   "outputs": [],
   "source": [
    "def GetPolyCoeffs(listOfPaulis,exclude_First_Pauli = 0):\n",
    "    coeffs = {}\n",
    "    if exclude_First_Pauli:\n",
    "        listOfPaulis = listOfPaulis[1:]\n",
    "    for P in listOfPaulis:\n",
    "        idcount = np.count_nonzero(P==0)\n",
    "        non_idcount = len(P) - idcount\n",
    "        if (idcount,non_idcount) not in coeffs:\n",
    "            coeffs[(idcount,non_idcount)] = 1\n",
    "        else:\n",
    "            coeffs[(idcount,non_idcount)] += 1\n",
    "    return coeffs    "
   ]
  },
  {
   "cell_type": "code",
   "execution_count": null,
   "metadata": {},
   "outputs": [],
   "source": [
    "def multiplyPols(pol1,pol2):\n",
    "    res = {}\n",
    "    for (a,b) in pol1:\n",
    "        for (c,d) in pol2:\n",
    "            if (a+c,b+d) not in res:\n",
    "                res[(a+c,b+d)] = pol1[(a,b)]*pol2[(c,d)]\n",
    "            else:\n",
    "                res[(a+c,b+d)] += pol1[(a,b)]*pol2[(c,d)]\n",
    "    return res    \n",
    "def multiplyListPols(listOfPols):\n",
    "    res = {}\n",
    "    if len(listOfPols)>0:\n",
    "        res = listOfPols[0]\n",
    "        for pol in listOfPols[1:]:\n",
    "            res = multiplyPols(res,pol)\n",
    "    return res\n",
    "def addPols(pol1,pol2):\n",
    "    res = {}\n",
    "    for (a,b) in pol1:\n",
    "        if (a,b) in pol2:\n",
    "            res[(a,b)] = pol1[(a,b)] + pol2[(a,b)]\n",
    "        else:\n",
    "            res[(a,b)] = pol1[(a,b)]\n",
    "    for (a,b) in pol2:\n",
    "        if (a,b) not in pol1:\n",
    "            res[(a,b)] = pol2[(a,b)]\n",
    "    return res\n",
    "\n",
    "def addListPols(listOfPols):\n",
    "    res = {}\n",
    "    if len(listOfPols)>0:\n",
    "        res = listOfPols[0]\n",
    "        for pol in listOfPols[1:]:\n",
    "            res = addPols(res,pol)\n",
    "    return res\n",
    "\n",
    "def subPol(pol1,pol2):\n",
    "    pol2.update((x, y*-1) for x, y in pol2.items())\n",
    "    res = addPols(pol1,pol2)\n",
    "    return res"
   ]
  },
  {
   "cell_type": "code",
   "execution_count": null,
   "metadata": {},
   "outputs": [],
   "source": [
    "def GetPolyInd(t,indices):\n",
    "    nlogs = 4**(qcode.K)\n",
    "    for L_s in range(4):\n",
    "            L_t = int(qcode.lookup[t, 0])\n",
    "            pos_L = qc.PauliProduct(\n",
    "                np.array([L_t], dtype=np.int), np.array([L_s], dtype=np.int)\n",
    "            )[0]\n",
    "            indices[L_s,t*nstabs:(t+1)*nstabs] = pos_L * nstabs * nstabs + np.arange(nstabs) * nstabs + t\n",
    "            \n",
    "def GetPolySyndInd(t,indices):\n",
    "    nlogs = 4**(qcode.K)\n",
    "    for L_s in range(4):\n",
    "            indices[L_s,t*nstabs:(t+1)*nstabs] = L_s * nstabs * nstabs + np.arange(nstabs) * nstabs + t\n",
    "\n",
    "\n",
    "def GetAvgPolyInd(indices):\n",
    "    for t in range(nstabs):\n",
    "        GetPolyInd(t,indices)\n",
    "\n",
    "def GetAvgPoly():\n",
    "    indices = np.zeros((nlogs,nstabs*nstabs),dtype=np.int)\n",
    "    GetAvgPolyInd(indices)\n",
    "    poly_logs = [GetPolyCoeffs(qc.GetOperatorsForLSTIndex(qcode,indices[l])) for l in range(4)]\n",
    "    return poly_logs\n",
    "\n",
    "def GetSyndPoly(syndlist):\n",
    "    poly_logs_synds = [__ for t in range(len(syndlist))]\n",
    "    for i in range(len(syndlist)):\n",
    "        t = syndlist[i]\n",
    "        #print(\"Syndrome = {}\".format(t))\n",
    "        indices = np.zeros((nlogs,nstabs*nstabs),dtype=np.int)\n",
    "        GetPolyInd(t,indices)\n",
    "        # Exclude identity error for t=0\n",
    "        exclude_First_Pauli = 0\n",
    "        if(t==0):\n",
    "            exclude_First_Pauli = 1\n",
    "        poly_logs_synds[i] = [GetPolyCoeffs(qc.GetOperatorsForLSTIndex(qcode,indices[l,t*nstabs:(t+1)*nstabs]),exclude_First_Pauli) for l in range(4)]\n",
    "        #     print(\"Ilog = {}\".format(poly_logs_synds[i][0]))\n",
    "        #     print(\"Xlog = {}\".format(poly_logs_synds[i][1]))\n",
    "        #     print(\"Ylog = {}\".format(poly_logs_synds[i][2]))\n",
    "        #     print(\"Zlog = {}\".format(poly_logs_synds[i][3]))\n",
    "    return poly_logs_synds\n",
    "\n",
    "def GetSyndProb(syndlist):\n",
    "    poly_logs_synds = [__ for t in range(len(syndlist))]\n",
    "    for i in range(len(syndlist)):\n",
    "        t = syndlist[i]\n",
    "        #print(\"Syndrome = {}\".format(t))\n",
    "        indices = np.zeros((nlogs,nstabs*nstabs),dtype=np.int)\n",
    "        GetPolySyndInd(t,indices)\n",
    "        # Exclude identity error for t=0\n",
    "        exclude_First_Pauli = 0\n",
    "        if(t==0):\n",
    "            exclude_First_Pauli = 1\n",
    "        poly_logs_synds[i] = [GetPolyCoeffs(qc.GetOperatorsForLSTIndex(qcode,indices[l,t*nstabs:(t+1)*nstabs]),exclude_First_Pauli) for l in range(4)]\n",
    "        #     print(\"Ilog = {}\".format(poly_logs_synds[i][0]))\n",
    "        #     print(\"Xlog = {}\".format(poly_logs_synds[i][1]))\n",
    "        #     print(\"Ylog = {}\".format(poly_logs_synds[i][2]))\n",
    "        #     print(\"Zlog = {}\".format(poly_logs_synds[i][3]))\n",
    "    return poly_logs_synds\n",
    "    \n",
    "    \n"
   ]
  },
  {
   "cell_type": "code",
   "execution_count": null,
   "metadata": {},
   "outputs": [],
   "source": [
    "def Get_unique_elems(lis):\n",
    "    unique_dict = {}\n",
    "    for ind,l in enumerate(lis):\n",
    "        if l not in unique_dict:\n",
    "            unique_dict[l] = [ind]\n",
    "        else:\n",
    "            unique_dict[l].append(ind)\n",
    "    return sorted(unique_dict.values())\n",
    "\n",
    "def same_class(i,j,listoflists):\n",
    "    nlists = len(listoflists)\n",
    "    for l in listoflists:\n",
    "        for sublis in l:\n",
    "            if (i in sublis) and not (j in sublis):\n",
    "                return 0\n",
    "    return 1 \n",
    "\n",
    "def getClasses(listoflists):\n",
    "    classes = []\n",
    "    edges = np.zeros((2**(qcode.N-qcode.K),2**(qcode.N-qcode.K)),dtype=np.int)\n",
    "    visited = np.zeros(2**(qcode.N-qcode.K),dtype=np.int)\n",
    "    for i in range(2**(qcode.N-qcode.K)):\n",
    "        for j in range(i+1,2**(qcode.N-qcode.K)):\n",
    "            if same_class(i,j,listoflists):\n",
    "                edges[i,j] = 1\n",
    "                edges[j,i] = 1\n",
    "    G = nx.from_numpy_matrix(edges)\n",
    "    comps = nx.connected_components(G)\n",
    "    for c in sorted(nx.connected_components(G), key=len, reverse=True):\n",
    "        classes.append(sorted(c))\n",
    "    return classes\n",
    "                \n",
    "                "
   ]
  },
  {
   "cell_type": "code",
   "execution_count": null,
   "metadata": {
    "scrolled": true
   },
   "outputs": [],
   "source": [
    "poly_logs = GetAvgPoly()\n",
    "#syndlist = [0,7, 6, 5, 4, 3, 2, 1, 56, 48, 40, 32, 24, 16, 8, 63, 54, 45, 36, 27, 18, 9]"
   ]
  },
  {
   "cell_type": "code",
   "execution_count": null,
   "metadata": {},
   "outputs": [],
   "source": [
    "syndlist = [i for i in range(2**(qcode.N-qcode.K))]\n",
    "poly_logs_synds = GetSyndPoly(syndlist)"
   ]
  },
  {
   "cell_type": "code",
   "execution_count": null,
   "metadata": {},
   "outputs": [],
   "source": [
    "collect_unique_elems = [__ for __ in range(4**qcode.K)]\n",
    "for l in range(4**qcode.K):\n",
    "    #print(\"l = {}\".format(l))\n",
    "    polynomials = np.zeros((len(syndlist),qcode.N + 1),dtype=np.int)\n",
    "    for t in range(len(syndlist)):\n",
    "        for (a,b) in sorted(poly_logs_synds[t][l]):\n",
    "            polynomials[t,b] = poly_logs_synds[t][l][(a,b)]\n",
    "        #print(syndlist[t],polynomials[t])\n",
    "    collect_unique_elems[l] = Get_unique_elems([np.array_str(p) for p in polynomials])\n",
    "# for l in collect_unique_elems:\n",
    "#     print(\"--\")\n",
    "#     print(l)\n",
    "# print(\"======\")"
   ]
  },
  {
   "cell_type": "code",
   "execution_count": null,
   "metadata": {},
   "outputs": [],
   "source": [
    "classes = getClasses(collect_unique_elems)"
   ]
  },
  {
   "cell_type": "code",
   "execution_count": 59,
   "metadata": {},
   "outputs": [],
   "source": [
    "# Populate polynomial for average channel\n",
    "poly_avg = np.zeros((4**qcode.K,qcode.N+1),dtype=np.int)\n",
    "for l in range(4**qcode.K):\n",
    "        for (a,b) in poly_logs[l]:\n",
    "            poly_avg[l,b] =  poly_logs[l][(a,b)]\n",
    "\n",
    "# Populate polynomial for unnormalised conditional channels\n",
    "# Populate syndrome probabilities    \n",
    "# Populate avg * syndrome probs\n",
    "poly_cls = [np.zeros((4**qcode.K,qcode.N + 1),dtype=np.int) for i in range(len(classes))]\n",
    "poly_cls_synd = [np.zeros(qcode.N + 1,dtype=np.int) for i in range(len(classes))]\n",
    "prod_synd_avg = [np.zeros((4**qcode.K,2*(qcode.N) + 1),dtype=np.int) for i in range(len(classes))]\n",
    "error_synd = [np.zeros((4**qcode.K,2*(qcode.N) + 1),dtype=np.int) for i in range(len(classes))]\n",
    "for i in range(len(classes)):\n",
    "    cls = classes[i]\n",
    "    t = cls[0]\n",
    "    poly_dict = GetSyndPoly([t])[0]\n",
    "    for l in range(4):\n",
    "        for (a,b) in poly_dict[l]:\n",
    "            poly_cls[i][l,b] =  poly_dict[l][(a,b)]\n",
    "    synd_prob_dict = addListPols(GetSyndProb([t])[0])\n",
    "    for (a,b) in synd_prob_dict:\n",
    "            poly_cls_synd[i][b] +=  synd_prob_dict[(a,b)]\n",
    "    \n",
    "    prod_dict = [multiplyPols(synd_prob_dict,poly_logs[l]) for l in range(4)]\n",
    "    for l in range(4):\n",
    "        for (a,b) in prod_dict[l]:\n",
    "            prod_synd_avg[i][l,b] =  prod_dict[l][(a,b)]\n",
    "    \n",
    "    sub_avg_prod = [subPol(prod_dict[l],poly_dict[l]) for l in range(4)]\n",
    "    for l in range(4):\n",
    "        for (a,b) in sub_avg_prod[l]:\n",
    "            error_synd[i][l,b] =  sub_avg_prod[l][(a,b)]\n"
   ]
  },
  {
   "cell_type": "code",
   "execution_count": 67,
   "metadata": {},
   "outputs": [
    {
     "name": "stdout",
     "output_type": "stream",
     "text": [
      "Total number of classes :  42\n",
      "Order of difference for different syndrome classes : [3 3 3 3 3 3 3 3 2 3 3 3 3 3 3 3 3 3 3 3 3 3 3 3 3 3 3 3 3 3 3 3 3 3 3 3 3\n",
      " 3 3 3 3 5]\n"
     ]
    }
   ],
   "source": [
    "print(\"Total number of classes : \", len(classes))\n",
    "dominating_order = np.zeros(len(classes),dtype=np.int)\n",
    "for cl_number in range(len(classes)):\n",
    "#     print(\"Class number : \", cl_number)\n",
    "#     print(\"Number of errors :\", len(classes[cl_number]))\n",
    "#     print(\"Syndromes :\" , classes[cl_number])\n",
    "    order_log = np.zeros(4**qcode.K,dtype=np.int)\n",
    "    for log in range(4**qcode.K):\n",
    "#         print(\"Log number: \",log)\n",
    "#         print(\"Conditional :\")\n",
    "#         print(poly_cls[cl_number][log])\n",
    "#         print(\"--\")\n",
    "#         print(\"P(s) :\")\n",
    "#         print(poly_cls_synd[cl_number])\n",
    "#         print(\"--\")\n",
    "#         print(\"Average * P(s)\")\n",
    "#         print(prod_synd_avg[cl_number][log])\n",
    "        diff_arr = np.array(prod_synd_avg[cl_number][log][:len(poly_cls[cl_number][log])])-np.array(poly_cls[cl_number][log])\n",
    "        order_log[log] = np.nonzero(diff_arr)[0][0]\n",
    "    dominating_order[cl_number] = np.min(order_log)\n",
    "#     print(\"Class number : {} Order : {}\".format(cl_number,dominating_order[cl_number]))\n",
    "print(\"Order of difference for different syndrome classes :\",dominating_order)"
   ]
  },
  {
   "cell_type": "code",
   "execution_count": 68,
   "metadata": {},
   "outputs": [],
   "source": [
    "import dill\n",
    "dill.dump_session('notebook_env.db')"
   ]
  },
  {
   "cell_type": "code",
   "execution_count": 2,
   "metadata": {},
   "outputs": [],
   "source": [
    "import dill\n",
    "dill.load_session('notebook_env.db')"
   ]
  },
  {
   "cell_type": "code",
   "execution_count": 3,
   "metadata": {},
   "outputs": [
    {
     "name": "stdout",
     "output_type": "stream",
     "text": [
      "Class number :  0\n",
      "[0 0 0 0 0 0 0 0 0 0 0 0]\n",
      "Class number :  1\n",
      "[0 0 0 0 0 0 0 0 0 0 0 0]\n",
      "Class number :  2\n",
      "[0 0 0 0 0 0 0 0 0 0 0 0]\n",
      "Class number :  3\n",
      "[0 0 0 0 0 0 0 0 0 0 0 0]\n",
      "Class number :  4\n",
      "[0 0 0 0 0 0 0 0 0 0 0 0]\n",
      "Class number :  5\n",
      "[0 0 0 0 0 0 0 0 0 0 0 0]\n",
      "Class number :  6\n",
      "[0 0 0 0 0 0 0 0 0 0 0 0]\n",
      "Class number :  7\n",
      "[0 0 0 0 0 0 0 0 0 0 0 0]\n",
      "Class number :  8\n",
      "[0 0 0 0 0 0 0 0 0 0 0 0]\n",
      "Class number :  9\n",
      "[0 0 0 0 0 0 0 0 0 0 0 0]\n",
      "Class number :  10\n",
      "[0 0 0 0 0 0 0 0 0 0 0 0]\n",
      "Class number :  11\n",
      "[0 0 0 0 0 0 0 0 0 0 0 0]\n",
      "Class number :  12\n",
      "[0 0 0 0 0 0 0 0 0 0 0 0]\n",
      "Class number :  13\n",
      "[0 0 0 0 0 0 0 0 0 0 0 0]\n",
      "Class number :  14\n",
      "[0 0 0 0 0 0 0 0 0 0 0 0]\n",
      "Class number :  15\n",
      "[0 0 0 0 0 0 0 0 0 0 0 0]\n",
      "Class number :  16\n",
      "[0 0 0 0 0 0 0 0 0 0 0 0]\n",
      "Class number :  17\n",
      "[0 0 0 0 0 0 0 0 0 0 0 0]\n",
      "Class number :  18\n",
      "[0 0 0 0 0 0 0 0 0 0 0 0]\n",
      "Class number :  19\n",
      "[0 0 0 0 0 0 0 0 0 0 0 0]\n",
      "Class number :  20\n",
      "[0 0 0 0 0 0 0 0 0 0 0 0]\n",
      "Class number :  21\n",
      "[0 0 0 0 0 0 0 0 0 0 0 0]\n",
      "Class number :  22\n",
      "[0 0 0 0 0 0 0 0 0 0 0 0]\n",
      "Class number :  23\n",
      "[0 0 0 0 0 0 0 0 0 0 0 0]\n",
      "Class number :  24\n",
      "[0 0 0 0 0 0 0 0 0 0 0 0]\n",
      "Class number :  25\n",
      "[0 0 0 0 0 0 0 0 0 0 0 0]\n",
      "Class number :  26\n",
      "[0 0 0 0 0 0 0 0 0 0 0 0]\n",
      "Class number :  27\n",
      "[0 0 0 0 0 0 0 0 0 0 0 0]\n",
      "Class number :  28\n",
      "[0 0 0 0 0 0 0 0 0 0 0 0]\n",
      "Class number :  29\n",
      "[0 0 0 0 0 0 0 0 0 0 0 0]\n",
      "Class number :  30\n",
      "[0 0 0 0 0 0 0 0 0 0 0 0]\n",
      "Class number :  31\n",
      "[0 0 0 0 0 0 0 0 0 0 0 0]\n",
      "Class number :  32\n",
      "[0 0 0 0 0 0 0 0 0 0 0 0]\n",
      "Class number :  33\n",
      "[0 0 0 0 0 0 0 0 0 0 0 0]\n",
      "Class number :  34\n",
      "[0 0 0 0 0 0 0 0 0 0 0 0]\n",
      "Class number :  35\n",
      "[0 0 0 0 0 0 0 0 0 0 0 0]\n",
      "Class number :  36\n",
      "[0 0 0 0 0 0 0 0 0 0 0 0]\n",
      "Class number :  37\n",
      "[0 0 0 0 0 0 0 0 0 0 0 0]\n",
      "Class number :  38\n",
      "[0 0 0 0 0 0 0 0 0 0 0 0]\n",
      "Class number :  39\n",
      "[0 0 0 0 0 0 0 0 0 0 0 0]\n",
      "Class number :  40\n",
      "[0 0 0 0 0 0 0 0 0 0 0 0]\n",
      "Class number :  41\n",
      "[0 0 0 0 0 0 0 0 0 0 0 0]\n"
     ]
    }
   ],
   "source": [
    "for cl_number in range(len(classes)):\n",
    "    print(\"Class number : \", cl_number)\n",
    "    print(np.sum(poly_cls[cl_number],axis=0) - poly_cls_synd[cl_number])"
   ]
  },
  {
   "cell_type": "code",
   "execution_count": null,
   "metadata": {
    "scrolled": true
   },
   "outputs": [],
   "source": [
    "cls_num = 0\n",
    "print(sorted(classes[cls_num]))\n",
    "print(\"Conditional channel :\")\n",
    "print(poly_cls[cls_num])\n",
    "print(\"Syndrome probability :\")\n",
    "print(poly_cls_synd[cls_num])\n",
    "print(\"Average channel :\")\n",
    "print(poly_avg)"
   ]
  },
  {
   "cell_type": "code",
   "execution_count": null,
   "metadata": {},
   "outputs": [],
   "source": []
  },
  {
   "cell_type": "code",
   "execution_count": null,
   "metadata": {},
   "outputs": [],
   "source": [
    "suum_cls = poly_cls[0]*len(classes[0])\n",
    "for cls_num in range(1,7):\n",
    "    suum_cls += poly_cls[cls_num]*len(classes[cls_num])\n",
    "print(suum_cls)"
   ]
  },
  {
   "cell_type": "code",
   "execution_count": null,
   "metadata": {},
   "outputs": [],
   "source": [
    "poly_avg"
   ]
  },
  {
   "cell_type": "markdown",
   "metadata": {},
   "source": [
    "Tracking order of diff / order of channel conditioned on the syndrome\n",
    "\n",
    "s=0 -- p/1 = p\n",
    "rest of the classes -- 1/p"
   ]
  },
  {
   "cell_type": "code",
   "execution_count": null,
   "metadata": {},
   "outputs": [],
   "source": [
    "a = (5,2)\n",
    "print(Ilog[a],Xlog[a],Ylog[a],Zlog[a])"
   ]
  },
  {
   "cell_type": "code",
   "execution_count": null,
   "metadata": {},
   "outputs": [],
   "source": [
    "print(\"Sgens = {}\".format(qcode.S))\n",
    "print(\"Tgens = {}\".format(qcode.T))"
   ]
  },
  {
   "cell_type": "code",
   "execution_count": null,
   "metadata": {},
   "outputs": [],
   "source": [
    "Ec_trivialdec = qc.GetOperatorsForLSTIndex(qcode,range(nstabs*nstabs))\n",
    "Ec_minwt = qc.GetOperatorsForLSTIndex(qcode,indices[0])"
   ]
  },
  {
   "cell_type": "code",
   "execution_count": null,
   "metadata": {},
   "outputs": [],
   "source": [
    "poly_l2 = {}\n",
    "for P in Ec_minwt:\n",
    "    polyP = multiplyListPols(list(map(lambda i : poly_logs[i],P)))\n",
    "    poly_l2 = addPols(poly_l2,polyP)"
   ]
  },
  {
   "cell_type": "code",
   "execution_count": null,
   "metadata": {},
   "outputs": [],
   "source": [
    "def calculate_uncorr_l2(p,nqubits,poly_l2,threshold = None):\n",
    "    l2_contr = 0\n",
    "    if threshold is not None:\n",
    "        poly_l2 = dict(((a,b),value) for (a,b), value in poly_l2.items() if b <= threshold)\n",
    "    for (a,b) in poly_l2:\n",
    "        l2_contr += np.power(1-p,a)*np.power(p/3,b)*poly_l2[(a,b)]\n",
    "    return 1-l2_contr"
   ]
  },
  {
   "cell_type": "code",
   "execution_count": null,
   "metadata": {},
   "outputs": [],
   "source": [
    "p = 0.001\n",
    "uncorr = calculate_uncorr_l2(p,qcode.N,poly_l2)\n",
    "print(uncorr)"
   ]
  },
  {
   "cell_type": "code",
   "execution_count": null,
   "metadata": {},
   "outputs": [],
   "source": [
    "import matplotlib.pyplot as plt\n",
    "xaxis = np.linspace(1e-3,5e-2,100)\n",
    "yaxis = [calculate_uncorr_l2(p,qcode.N,poly_l2) for p in xaxis]\n",
    "yaxis_trunc = [calculate_uncorr_l2(p,qcode.N,poly_l2,4) for p in xaxis]\n",
    "plt.plot(xaxis,yaxis,label=\"exact\")\n",
    "#plt.plot(xaxis,yaxis_trunc,label=\"truncated\")\n",
    "plt.legend()"
   ]
  },
  {
   "cell_type": "code",
   "execution_count": null,
   "metadata": {},
   "outputs": [],
   "source": [
    "poly_logs[0]"
   ]
  },
  {
   "cell_type": "code",
   "execution_count": null,
   "metadata": {},
   "outputs": [],
   "source": [
    "poly_logs[1][(4,3)]"
   ]
  },
  {
   "cell_type": "code",
   "execution_count": null,
   "metadata": {},
   "outputs": [],
   "source": [
    "poly_logs[1][(4,3)] + poly_logs[2][(4,3)] + poly_logs[3][(4,3)] "
   ]
  },
  {
   "cell_type": "code",
   "execution_count": null,
   "metadata": {},
   "outputs": [],
   "source": [
    "poly_logs[1][(5,2)] + poly_logs[2][(5,2)] + poly_logs[3][(5,2)] "
   ]
  },
  {
   "cell_type": "code",
   "execution_count": null,
   "metadata": {},
   "outputs": [],
   "source": [
    "poly_logs[1][(6,1)] + poly_logs[2][(6,1)] + poly_logs[3][(6,1)] "
   ]
  },
  {
   "cell_type": "code",
   "execution_count": null,
   "metadata": {},
   "outputs": [],
   "source": [
    "classes = [[7, 6, 5, 4, 3, 2, 1],[56, 48, 40, 32, 24, 16, 8],[63, 54, 45, 36, 27, 18, 9],[0]]"
   ]
  },
  {
   "cell_type": "code",
   "execution_count": null,
   "metadata": {},
   "outputs": [],
   "source": [
    "for a in classes:\n",
    "    print(sorted(a))"
   ]
  },
  {
   "cell_type": "code",
   "execution_count": null,
   "metadata": {},
   "outputs": [],
   "source": [
    "classes[8]"
   ]
  },
  {
   "cell_type": "code",
   "execution_count": null,
   "metadata": {},
   "outputs": [],
   "source": []
  }
 ],
 "metadata": {
  "kernelspec": {
   "display_name": "Python 3",
   "language": "python",
   "name": "python3"
  },
  "language_info": {
   "codemirror_mode": {
    "name": "ipython",
    "version": 3
   },
   "file_extension": ".py",
   "mimetype": "text/x-python",
   "name": "python",
   "nbconvert_exporter": "python",
   "pygments_lexer": "ipython3",
   "version": "3.8.3"
  }
 },
 "nbformat": 4,
 "nbformat_minor": 2
}
