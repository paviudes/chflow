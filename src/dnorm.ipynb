{
 "cells": [
  {
   "cell_type": "code",
   "execution_count": 1,
   "metadata": {},
   "outputs": [],
   "source": [
    "import math\n",
    "import numpy as np\n",
    "import cvxpy as cvx"
   ]
  },
  {
   "cell_type": "code",
   "execution_count": 2,
   "metadata": {},
   "outputs": [],
   "source": [
    "def DiamondNorm(choi, refchan=None):\n",
    "\t\"\"\"\n",
    "\tCompute the Diamond distance using SDP solver from the CVXPY package.\n",
    "\t\n",
    "\tThe inputs are:\n",
    "\t\t1. choi -- the Choi-Jamilowski matrix of the input channel, J. \n",
    "\t\t2. refchan -- the Choi-Jamilowski matrix of a reference channel from which the Diamond distance needs to be computed.\n",
    "\n",
    "\tThe program follows the precription in https://arxiv.org/abs/1207.5726.\n",
    "\n",
    "\tThe Diamond distance is defined as follows.\n",
    "\tMaximize:\n",
    "\t\t1/2 * (J | X) + 1/2 * (J' | X'),\n",
    "\twhere M' is the Hermitian conjugate of M.\n",
    "\tSubject to the constraints: M =\n",
    "\t\t[I o R1      X       ]\n",
    "\t\t[X'         I o R2   ]\n",
    "\t\t>>\n",
    "\t\t0\n",
    "\twhere\n",
    "\t\tR1 and R2 are density matrices, i.e., R1 >> 0, R2 >> 0 and trace(R1) == 1, trace(R2) == 1.\n",
    "\t\tX is a linear operator whose dimension is that of J.\n",
    "\tWe will also use the property that for a complex matrix X = Xr + i Xi:\n",
    "\tX >> 0 if and only if\n",
    "\t[Xr    Xi]\n",
    "\t[-Xi   Xr]\n",
    "\t>>\n",
    "\t0\n",
    "\t\"\"\"\n",
    "\n",
    "\tif refchan is None:\n",
    "\t\trefchan = np.zeros_like(choi)\n",
    "\n",
    "\tnqubits = int(math.log(choi.shape[0], 4))\n",
    "\t#### Constants and Variables\n",
    "\tI = cvx.Constant(np.eye(2 ** nqubits))\n",
    "\tZ = cvx.Constant(np.zeros((2 ** nqubits, 2 ** nqubits)))\n",
    "\n",
    "\tJr = cvx.Constant(value=np.real(choi - refchan))\n",
    "\tJi = cvx.Constant(value=np.imag(choi - refchan))\n",
    "\n",
    "\tXr = cvx.Variable(name=\"Xr\", shape=(4 ** nqubits, 4 ** nqubits))\n",
    "\tXi = cvx.Variable(name=\"Xi\", shape=(4 ** nqubits, 4 ** nqubits))\n",
    "\n",
    "\tR1r = cvx.Variable(name=\"R1r\", shape=(2 ** nqubits, 2 ** nqubits), symmetric=True)\n",
    "\tR1i = cvx.Variable(name=\"R1i\", shape=(2 ** nqubits, 2 ** nqubits))\n",
    "\n",
    "\tR2r = cvx.Variable(name=\"R2r\", shape=(2 ** nqubits, 2 ** nqubits), symmetric=True)\n",
    "\tR2i = cvx.Variable(name=\"R2i\", shape=(2 ** nqubits, 2 ** nqubits))\n",
    "\n",
    "\t#### Constraints\n",
    "\tconstraints = []\n",
    "\n",
    "\t# R1 is a density matrix\n",
    "\tconstraints.append(cvx.bmat([[R1r, -1 * R1i], [R1i, R1r]]) >> 0)\n",
    "\tconstraints.append(cvx.trace(R1r) == 1)\n",
    "\tconstraints.append(R1i == -1 * R1i.T)\n",
    "\tconstraints.append(cvx.trace(R1i) == 0)\n",
    "\n",
    "\t# R1 is a density matrix\n",
    "\tconstraints.append(cvx.bmat([[R2r, -1 * R2i], [R2i, R2r]]) >> 0)\n",
    "\tconstraints.append(cvx.trace(R2r) == 1)\n",
    "\tconstraints.append(R2i == -1 * R2i.T)\n",
    "\tconstraints.append(cvx.trace(R2i) == 0)\n",
    "\n",
    "\tconstraints.append(\n",
    "\t\tcvx.bmat(\n",
    "\t\t\t[\n",
    "\t\t\t\t[cvx.kron(I, R1r), Xr, -1 * cvx.kron(I, R1i), -1 * Xi],\n",
    "\t\t\t\t[Xr.T, cvx.kron(I, R2r), Xi.T, -1 * cvx.kron(I, R2i)],\n",
    "\t\t\t\t[cvx.kron(I, R1i), Xi, cvx.kron(I, R1r), Xr],\n",
    "\t\t\t\t[-1 * Xi.T, cvx.kron(I, R2i), Xr.T, cvx.kron(I, R1r)],\n",
    "\t\t\t]\n",
    "\t\t)\n",
    "\t\t>> 0\n",
    "\t)\n",
    "\n",
    "\t#### Objective\n",
    "\tobj = cvx.Maximize(cvx.trace(Jr.T @ Xr) + cvx.trace(Ji.T @ Xi))\n",
    "\n",
    "\t#### Setting up the problem\n",
    "\tprob = cvx.Problem(obj, constraints=constraints)\n",
    "\t# print(\"Problem\\n{}\".format(prob))\n",
    "\t#### Solve and print the solution\n",
    "\tprob.solve(solver=\"SCS\", verbose=False)\n",
    "\tdnorm = obj.value\n",
    "\t# print(\"Diamond norm from CVXPY = {}.\".format(dnorm))\n",
    "\treturn dnorm"
   ]
  },
  {
   "cell_type": "code",
   "execution_count": 30,
   "metadata": {},
   "outputs": [
    {
     "name": "stdout",
     "output_type": "stream",
     "text": [
      "The Diamond distance between \n",
      "[[ 0.9638+0.j     -0.0597+0.1771j  0.1259+0.1382j  0.8824-0.3875j]\n",
      " [-0.0597-0.1771j  0.0362+0.j      0.0176-0.0317j -0.1259-0.1382j]\n",
      " [ 0.1259-0.1382j  0.0176+0.0317j  0.0362+0.j      0.0597-0.1771j]\n",
      " [ 0.8824+0.3875j -0.1259+0.1382j  0.0597+0.1771j  0.9638+0.j    ]]\n",
      " and  \n",
      "[[1.+0.j 0.+0.j 0.+0.j 1.+0.j]\n",
      " [0.+0.j 0.+0.j 0.+0.j 0.+0.j]\n",
      " [0.+0.j 0.+0.j 0.+0.j 0.+0.j]\n",
      " [1.+0.j 0.+0.j 0.+0.j 1.+0.j]] \n",
      "is \n",
      " 0.5547370711389357.\n"
     ]
    }
   ],
   "source": [
    "# Example 2 - diamond distance between A and B\n",
    "choiA = np.array([[ 0.9638+0.j , -0.0597+0.1771j , 0.1259+0.1382j , 0.8824-0.3875j],\n",
    " [-0.0597-0.1771j ,  0.0362+0.j ,  0.0176-0.0317j ,-0.1259-0.1382j],\n",
    " [ 0.1259-0.1382j , 0.0176+0.0317j , 0.0362+0.j    ,  0.0597-0.1771j],\n",
    " [ 0.8824+0.3875j ,-0.1259+0.1382j , 0.0597+0.1771j , 0.9638+0.j    ]],dtype=np.complex128)\n",
    "choiB = np.array([[1.+0.j, 0.+0.j, 0.+0.j ,1.+0.j],\n",
    " [0.+0.j, 0.+0.j, 0.+0.j, 0.+0.j],\n",
    " [0.+0.j, 0.+0.j, 0.+0.j, 0.+0.j],\n",
    " [1.+0.j, 0.+0.j, 0.+0.j, 1.+0.j]])\n",
    "\n",
    "dnorm = DiamondNorm(choiA,choiB)\n",
    "print(\"The Diamond distance between \\n{}\\n and  \\n{} \\nis \\n {}.\".format(choiA,choiB, dnorm))"
   ]
  },
  {
   "cell_type": "code",
   "execution_count": 29,
   "metadata": {},
   "outputs": [
    {
     "name": "stdout",
     "output_type": "stream",
     "text": [
      "The Diamond norm of \n",
      "[[ 0.9638+0.j     -0.0597+0.1771j  0.1259+0.1382j  0.8824-0.3875j]\n",
      " [-0.0597-0.1771j  0.0362+0.j      0.0176-0.0317j -0.1259-0.1382j]\n",
      " [ 0.1259-0.1382j  0.0176+0.0317j  0.0362+0.j      0.0597-0.1771j]\n",
      " [ 0.8824+0.3875j -0.1259+0.1382j  0.0597+0.1771j  0.9638+0.j    ]]\n",
      " is \n",
      " 1.000011136079337.\n"
     ]
    }
   ],
   "source": [
    "# Example 2 - diamond norm of A\n",
    "choiA = np.array([[ 0.9638+0.j , -0.0597+0.1771j , 0.1259+0.1382j , 0.8824-0.3875j],\n",
    " [-0.0597-0.1771j ,  0.0362+0.j ,  0.0176-0.0317j ,-0.1259-0.1382j],\n",
    " [ 0.1259-0.1382j , 0.0176+0.0317j , 0.0362+0.j    ,  0.0597-0.1771j],\n",
    " [ 0.8824+0.3875j ,-0.1259+0.1382j , 0.0597+0.1771j , 0.9638+0.j    ]],dtype=np.complex128)\n",
    "\n",
    "dnorm = DiamondNorm(choiA)\n",
    "print(\"The Diamond norm of \\n{}\\n is \\n {}.\".format(choiA, dnorm))"
   ]
  }
 ],
 "metadata": {
  "kernelspec": {
   "display_name": "Python 3",
   "language": "python",
   "name": "python3"
  },
  "language_info": {
   "codemirror_mode": {
    "name": "ipython",
    "version": 3
   },
   "file_extension": ".py",
   "mimetype": "text/x-python",
   "name": "python",
   "nbconvert_exporter": "python",
   "pygments_lexer": "ipython3",
   "version": "3.8.3"
  }
 },
 "nbformat": 4,
 "nbformat_minor": 2
}
