{
 "cells": [
  {
   "cell_type": "code",
   "execution_count": 1,
   "metadata": {
    "scrolled": true
   },
   "outputs": [],
   "source": [
    "import datetime as dt\n",
    "import numpy as np\n",
    "from scipy.stats import poisson\n",
    "import matplotlib.pyplot as plt\n",
    "from define.randchans import RandomPauliChannel\n",
    "from define.QECCLfid import uncorrectable as uc\n",
    "from define import qcode as qc\n",
    "from define import fnames as fn\n",
    "from define import globalvars as gv\n",
    "import matplotlib\n",
    "matplotlib.use(\"Agg\")\n",
    "from matplotlib.backends.backend_pdf import PdfPages"
   ]
  },
  {
   "cell_type": "code",
   "execution_count": 2,
   "metadata": {},
   "outputs": [],
   "source": [
    "qcode = qc.QuantumErrorCorrectingCode(\"Steane\")\n",
    "qc.Load(qcode)"
   ]
  },
  {
   "cell_type": "code",
   "execution_count": 12,
   "metadata": {},
   "outputs": [
    {
     "data": {
      "text/plain": [
       "2.4070318512702387"
      ]
     },
     "execution_count": 12,
     "metadata": {},
     "output_type": "execute_result"
    }
   ],
   "source": [
    "mu = np.mean(qcode.weightdist[qcode.PauliCorrectableIndices])/2\n",
    "np.random.normal(mu,0.5)"
   ]
  },
  {
   "cell_type": "code",
   "execution_count": 13,
   "metadata": {},
   "outputs": [],
   "source": [
    "# plt.plot(np.arange(8),poisson.pmf(np.arange(8), 0),0.1**np.arange(10),marker=\"o\",linestyle=\"None\")"
   ]
  },
  {
   "cell_type": "code",
   "execution_count": 14,
   "metadata": {},
   "outputs": [],
   "source": [
    "# probs = poisson.pmf(qcode.weightdist, np.abs(np.random.normal(mu,mu/3)))\n",
    "# plt.plot(np.sort(qcode.weightdist), probs[np.argsort(qcode.weightdist)],marker=\"o\",linestyle=\"None\")\n",
    "# plt.plot(np.sort(qcode.weightdist), (1/7)**np.sort(qcode.weightdist),marker=\"x\",linestyle=\"None\")\n",
    "# plt.yscale('log')"
   ]
  },
  {
   "cell_type": "code",
   "execution_count": 15,
   "metadata": {},
   "outputs": [],
   "source": [
    "errdist = RandomPauliChannel({\"method\":1, \"mu\":mu, \"weightdist\":qcode.weightdist})"
   ]
  },
  {
   "cell_type": "code",
   "execution_count": 16,
   "metadata": {},
   "outputs": [],
   "source": [
    "infid = 0.2\n",
    "errdist[0] = 1 - infid\n",
    "errdist[1:] = infid * errdist[1:]/np.sum(errdist[1:])"
   ]
  },
  {
   "cell_type": "code",
   "execution_count": 17,
   "metadata": {},
   "outputs": [
    {
     "data": {
      "text/plain": [
       "array([8.00000000e-01, 9.43092782e-05, 3.15521095e-05, ...,\n",
       "       4.85745570e-06, 4.17286601e-06, 1.47666598e-06])"
      ]
     },
     "execution_count": 17,
     "metadata": {},
     "output_type": "execute_result"
    }
   ],
   "source": [
    "errdist"
   ]
  },
  {
   "cell_type": "code",
   "execution_count": 18,
   "metadata": {},
   "outputs": [],
   "source": [
    "PauliDistributionPlot(errdist, qcode, nreps=5, max_weight=3)"
   ]
  },
  {
   "cell_type": "code",
   "execution_count": null,
   "metadata": {},
   "outputs": [],
   "source": []
  },
  {
   "cell_type": "code",
   "execution_count": null,
   "metadata": {},
   "outputs": [],
   "source": [
    "for w in range(np.max(qcode.weightdist)+1):\n",
    "    print(\"Total probability of weight {} errors = {}:\\n{}\".format(w, np.sum(errdist[qcode.weightdist==w]), errdist[qcode.weightdist==w]))"
   ]
  },
  {
   "cell_type": "code",
   "execution_count": 10,
   "metadata": {},
   "outputs": [],
   "source": [
    "def PauliDistributionPlot(pauliprobs, qcode, nreps=5, max_weight=None):\n",
    "    r\"\"\"\n",
    "    Plot the probability distribution of Pauli errors.\n",
    "    \"\"\"\n",
    "    if max_weight is None:\n",
    "        max_weight = int(np.max(qcode.weightdist))\n",
    "    max_weight += 1\n",
    "    group_by_weight = {w: None for w in range(max_weight)}\n",
    "    for w in range(max_weight):\n",
    "        (group_by_weight[w],) = np.nonzero(qcode.weightdist == w)\n",
    "    leading_by_weight = {w: None for w in range(max_weight)}\n",
    "    for w in range(max_weight):\n",
    "        ninclude = min(nreps, group_by_weight[w].size)\n",
    "        result_args = np.argpartition(-pauliprobs[group_by_weight[w]], ninclude - 1)[\n",
    "            :ninclude\n",
    "        ]\n",
    "        leading_by_weight[w] = group_by_weight[w][result_args]\n",
    "    operator_labels = {\n",
    "        w: qc.PauliOperatorToSymbol(\n",
    "            qc.GetOperatorsForLSTIndex(qcode, leading_by_weight[w])\n",
    "        )\n",
    "        for w in range(max_weight)\n",
    "    }\n",
    "    plotfname = (\"test.pdf\")\n",
    "    with PdfPages(plotfname) as pdf:\n",
    "        fig = plt.figure(figsize=gv.canvas_size)\n",
    "        current = 0\n",
    "        for w in range(1, max_weight):\n",
    "            if leading_by_weight[w].size > 0:\n",
    "                plt.bar(\n",
    "                    np.arange(current, current + leading_by_weight[w].size),\n",
    "                    pauliprobs[leading_by_weight[w]],\n",
    "                    color=gv.Colors[w % gv.n_Colors],\n",
    "                    width=0.5,\n",
    "                    label=\"w = %d\" % (w),\n",
    "                    alpha=0.6,\n",
    "                )\n",
    "                current = current + leading_by_weight[w].size\n",
    "        # Principal axes labels\n",
    "        ax = plt.gca()\n",
    "        # ax.set_xlabel(\"Errors\", fontsize=gv.axes_labels_fontsize)\n",
    "        # locs, labels = xticks()\n",
    "        # xticks(np.arange(0, 1, step=0.2))\n",
    "        plt.xticks(\n",
    "            np.arange(sum([len(operator_labels[w]) for w in range(1, max_weight)])),\n",
    "            [label for label in operator_labels[w] for w in range(max_weight)],\n",
    "            rotation=45,\n",
    "        )\n",
    "        ax.set_ylabel(\"Probabilities\", fontsize=gv.axes_labels_fontsize)\n",
    "        ax.set_yscale(\"log\")\n",
    "        ax.tick_params(\n",
    "            axis=\"both\",\n",
    "            which=\"both\",\n",
    "            pad=gv.ticks_pad,\n",
    "            direction=\"inout\",\n",
    "            length=gv.ticks_length,\n",
    "            width=gv.ticks_width,\n",
    "            labelsize=gv.ticks_fontsize,\n",
    "        )\n",
    "        # Legend\n",
    "        ax.legend(\n",
    "            numpoints=1,\n",
    "            loc=1,\n",
    "            shadow=True,\n",
    "            fontsize=gv.legend_fontsize,\n",
    "            markerscale=gv.legend_marker_scale,\n",
    "        )\n",
    "        # Save the plot\n",
    "        pdf.savefig(fig)\n",
    "        plt.close()\n",
    "        # Set PDF attributes\n",
    "        pdfInfo = pdf.infodict()\n",
    "        pdfInfo[\"Title\"] = \"Pauli distribution of errors.\"\n",
    "        pdfInfo[\"Author\"] = \"Pavithran Iyer\"\n",
    "        pdfInfo[\"ModDate\"] = dt.datetime.today()\n",
    "    return None"
   ]
  },
  {
   "cell_type": "code",
   "execution_count": 19,
   "metadata": {},
   "outputs": [
    {
     "data": {
      "image/png": "[encoded data removed]",
      "text/plain": [
       "<Figure size 432x288 with 2 Axes>"
      ]
     },
     "metadata": {
      "needs_background": "light"
     },
     "output_type": "display_data"
    }
   ],
   "source": [
    "import matplotlib.pyplot as plt\n",
    "\n",
    "fig, ax1 = plt.subplots()\n",
    "\n",
    "# These are in unitless percentages of the figure size. (0,0 is bottom left)\n",
    "left, bottom, width, height = [0.25, 0.6, 0.2, 0.2]\n",
    "ax2 = fig.add_axes([left, bottom, width, height])\n",
    "\n",
    "ax1.plot(range(10), color='red')\n",
    "ax2.plot(range(6)[::-1], color='green')\n",
    "\n",
    "plt.show()"
   ]
  },
  {
   "cell_type": "code",
   "execution_count": 74,
   "metadata": {},
   "outputs": [],
   "source": [
    "from mpl_toolkits.axes_grid.inset_locator import (\n",
    "        inset_axes,\n",
    "        InsetPosition,\n",
    "        mark_inset,\n",
    "    )"
   ]
  },
  {
   "cell_type": "code",
   "execution_count": 125,
   "metadata": {},
   "outputs": [],
   "source": [
    "def Inset(ax1, ax2):\n",
    "    # Inset one into another.\n",
    "    fig = plt.figure()\n",
    "    ax3 = fig.add_axes(ax1)\n",
    "    ax4 = fig.add_axes(ax2)\n",
    "    #ip = InsetPosition(ax1, [0.1, 0.67, 0.33, 0.3])\n",
    "    #ax2.set_axes_locator(ip)\n",
    "    #mark_inset(ax1, ax2, loc1=2, loc2=4, fc=\"none\")\n",
    "    return ax4.figure"
   ]
  },
  {
   "cell_type": "code",
   "execution_count": 133,
   "metadata": {},
   "outputs": [],
   "source": [
    "def Lplot(xdata, ydata):\n",
    "    fig = plt.figure()\n",
    "    ax = plt.gca()\n",
    "    ax.plot(xdata,ydata,color=\"red\",marker=\"o\")\n",
    "    ax.set_xlabel(\"This is physical metric\")\n",
    "    ax.set_ylabel(\"This is logical metric\")\n",
    "    plt.close()\n",
    "    return ax,fig\n",
    "def ImprovePlot(xdata, ydata):\n",
    "    fig = plt.figure()\n",
    "    ax = plt.gca()\n",
    "    ax.plot(xdata,ydata,color=\"green\",marker=\"*\")\n",
    "    ax.set_xlabel(\"This is physical metric\")\n",
    "    ax.set_ylabel(\"This is improvement\")\n",
    "    ax = plt.gca()\n",
    "    plt.close()\n",
    "    return ax,fig"
   ]
  },
  {
   "cell_type": "code",
   "execution_count": 134,
   "metadata": {},
   "outputs": [],
   "source": [
    "lplot_X = np.random.randint(0,10,size=(10,))\n",
    "lplot_Y = np.random.randint(0,10,size=(10,))\n",
    "imp_X = np.random.randint(0,10,size=(10,))\n",
    "imp_Y = np.random.randint(0,10,size=(10,))"
   ]
  },
  {
   "cell_type": "code",
   "execution_count": 135,
   "metadata": {},
   "outputs": [],
   "source": [
    "ax1,fig1 = Lplot(lplot_X, lplot_Y)\n",
    "ax2,fig2 = ImprovePlot(imp_X, imp_Y)"
   ]
  },
  {
   "cell_type": "code",
   "execution_count": 137,
   "metadata": {},
   "outputs": [
    {
     "data": {
      "image/png": "[encoded data removed]",
      "text/plain": [
       "<Figure size 432x288 with 1 Axes>"
      ]
     },
     "execution_count": 137,
     "metadata": {},
     "output_type": "execute_result"
    }
   ],
   "source": [
    "fig1"
   ]
  },
  {
   "cell_type": "code",
   "execution_count": 148,
   "metadata": {},
   "outputs": [],
   "source": [
    "fig3=fig2.add_gridspec(ax1,3)"
   ]
  },
  {
   "cell_type": "code",
   "execution_count": 149,
   "metadata": {},
   "outputs": [
    {
     "data": {
      "image/png": "[encoded data removed]",
      "text/plain": [
       "<Figure size 432x288 with 1 Axes>"
      ]
     },
     "execution_count": 149,
     "metadata": {},
     "output_type": "execute_result"
    }
   ],
   "source": [
    "fig3.figure"
   ]
  },
  {
   "cell_type": "code",
   "execution_count": 131,
   "metadata": {},
   "outputs": [
    {
     "ename": "ValueError",
     "evalue": "The Axes must have been created in the present figure",
     "output_type": "error",
     "traceback": [
      "\u001b[0;31m---------------------------------------------------------------------------\u001b[0m",
      "\u001b[0;31mValueError\u001b[0m                                Traceback (most recent call last)",
      "\u001b[0;32m<ipython-input-131-f42c52542696>\u001b[0m in \u001b[0;36m<module>\u001b[0;34m\u001b[0m\n\u001b[0;32m----> 1\u001b[0;31m \u001b[0mInset\u001b[0m\u001b[0;34m(\u001b[0m\u001b[0max1\u001b[0m\u001b[0;34m,\u001b[0m\u001b[0max2\u001b[0m\u001b[0;34m)\u001b[0m\u001b[0;34m\u001b[0m\u001b[0;34m\u001b[0m\u001b[0m\n\u001b[0m",
      "\u001b[0;32m<ipython-input-125-cf01e9ad2058>\u001b[0m in \u001b[0;36mInset\u001b[0;34m(ax1, ax2)\u001b[0m\n\u001b[1;32m      2\u001b[0m     \u001b[0;31m# Inset one into another.\u001b[0m\u001b[0;34m\u001b[0m\u001b[0;34m\u001b[0m\u001b[0;34m\u001b[0m\u001b[0m\n\u001b[1;32m      3\u001b[0m     \u001b[0mfig\u001b[0m \u001b[0;34m=\u001b[0m \u001b[0mplt\u001b[0m\u001b[0;34m.\u001b[0m\u001b[0mfigure\u001b[0m\u001b[0;34m(\u001b[0m\u001b[0;34m)\u001b[0m\u001b[0;34m\u001b[0m\u001b[0;34m\u001b[0m\u001b[0m\n\u001b[0;32m----> 4\u001b[0;31m     \u001b[0max3\u001b[0m \u001b[0;34m=\u001b[0m \u001b[0mfig\u001b[0m\u001b[0;34m.\u001b[0m\u001b[0madd_axes\u001b[0m\u001b[0;34m(\u001b[0m\u001b[0max1\u001b[0m\u001b[0;34m)\u001b[0m\u001b[0;34m\u001b[0m\u001b[0;34m\u001b[0m\u001b[0m\n\u001b[0m\u001b[1;32m      5\u001b[0m     \u001b[0max4\u001b[0m \u001b[0;34m=\u001b[0m \u001b[0mfig\u001b[0m\u001b[0;34m.\u001b[0m\u001b[0madd_axes\u001b[0m\u001b[0;34m(\u001b[0m\u001b[0max2\u001b[0m\u001b[0;34m)\u001b[0m\u001b[0;34m\u001b[0m\u001b[0;34m\u001b[0m\u001b[0m\n\u001b[1;32m      6\u001b[0m     \u001b[0;31m#ip = InsetPosition(ax1, [0.1, 0.67, 0.33, 0.3])\u001b[0m\u001b[0;34m\u001b[0m\u001b[0;34m\u001b[0m\u001b[0;34m\u001b[0m\u001b[0m\n",
      "\u001b[0;32m/Library/Frameworks/Python.framework/Versions/3.7/lib/python3.7/site-packages/matplotlib-3.0.2-py3.7-macosx-10.9-x86_64.egg/matplotlib/figure.py\u001b[0m in \u001b[0;36madd_axes\u001b[0;34m(self, *args, **kwargs)\u001b[0m\n\u001b[1;32m   1188\u001b[0m             \u001b[0;32mif\u001b[0m \u001b[0ma\u001b[0m\u001b[0;34m.\u001b[0m\u001b[0mget_figure\u001b[0m\u001b[0;34m(\u001b[0m\u001b[0;34m)\u001b[0m \u001b[0;32mis\u001b[0m \u001b[0;32mnot\u001b[0m \u001b[0mself\u001b[0m\u001b[0;34m:\u001b[0m\u001b[0;34m\u001b[0m\u001b[0;34m\u001b[0m\u001b[0m\n\u001b[1;32m   1189\u001b[0m                 raise ValueError(\n\u001b[0;32m-> 1190\u001b[0;31m                     \"The Axes must have been created in the present figure\")\n\u001b[0m\u001b[1;32m   1191\u001b[0m         \u001b[0;32melse\u001b[0m\u001b[0;34m:\u001b[0m\u001b[0;34m\u001b[0m\u001b[0;34m\u001b[0m\u001b[0m\n\u001b[1;32m   1192\u001b[0m             \u001b[0mrect\u001b[0m \u001b[0;34m=\u001b[0m \u001b[0margs\u001b[0m\u001b[0;34m[\u001b[0m\u001b[0;36m0\u001b[0m\u001b[0;34m]\u001b[0m\u001b[0;34m\u001b[0m\u001b[0;34m\u001b[0m\u001b[0m\n",
      "\u001b[0;31mValueError\u001b[0m: The Axes must have been created in the present figure"
     ]
    },
    {
     "data": {
      "text/plain": [
       "<Figure size 432x288 with 0 Axes>"
      ]
     },
     "metadata": {},
     "output_type": "display_data"
    }
   ],
   "source": [
    "Inset(ax1,ax2)"
   ]
  },
  {
   "cell_type": "code",
   "execution_count": 94,
   "metadata": {},
   "outputs": [
    {
     "data": {
      "image/png": "[encoded data removed]",
      "text/plain": [
       "<Figure size 432x288 with 1 Axes>"
      ]
     },
     "execution_count": 94,
     "metadata": {},
     "output_type": "execute_result"
    }
   ],
   "source": [
    "ax4.figure"
   ]
  },
  {
   "cell_type": "code",
   "execution_count": 86,
   "metadata": {},
   "outputs": [
    {
     "ename": "ValueError",
     "evalue": "The Axes must have been created in the present figure",
     "output_type": "error",
     "traceback": [
      "\u001b[0;31m---------------------------------------------------------------------------\u001b[0m",
      "\u001b[0;31mValueError\u001b[0m                                Traceback (most recent call last)",
      "\u001b[0;32m<ipython-input-86-9547282c8416>\u001b[0m in \u001b[0;36m<module>\u001b[0;34m\u001b[0m\n\u001b[1;32m      1\u001b[0m \u001b[0mfig\u001b[0m \u001b[0;34m=\u001b[0m \u001b[0mplt\u001b[0m\u001b[0;34m.\u001b[0m\u001b[0mfigure\u001b[0m\u001b[0;34m(\u001b[0m\u001b[0;34m)\u001b[0m\u001b[0;34m\u001b[0m\u001b[0;34m\u001b[0m\u001b[0m\n\u001b[0;32m----> 2\u001b[0;31m \u001b[0max5\u001b[0m \u001b[0;34m=\u001b[0m \u001b[0mfig\u001b[0m\u001b[0;34m.\u001b[0m\u001b[0madd_axes\u001b[0m\u001b[0;34m(\u001b[0m\u001b[0max3\u001b[0m\u001b[0;34m)\u001b[0m\u001b[0;34m\u001b[0m\u001b[0;34m\u001b[0m\u001b[0m\n\u001b[0m\u001b[1;32m      3\u001b[0m \u001b[0max6\u001b[0m \u001b[0;34m=\u001b[0m \u001b[0mfig\u001b[0m\u001b[0;34m.\u001b[0m\u001b[0madd_axes\u001b[0m\u001b[0;34m(\u001b[0m\u001b[0max4\u001b[0m\u001b[0;34m)\u001b[0m \u001b[0;31m# inset axes\u001b[0m\u001b[0;34m\u001b[0m\u001b[0;34m\u001b[0m\u001b[0m\n",
      "\u001b[0;32m/Library/Frameworks/Python.framework/Versions/3.7/lib/python3.7/site-packages/matplotlib-3.0.2-py3.7-macosx-10.9-x86_64.egg/matplotlib/figure.py\u001b[0m in \u001b[0;36madd_axes\u001b[0;34m(self, *args, **kwargs)\u001b[0m\n\u001b[1;32m   1188\u001b[0m             \u001b[0;32mif\u001b[0m \u001b[0ma\u001b[0m\u001b[0;34m.\u001b[0m\u001b[0mget_figure\u001b[0m\u001b[0;34m(\u001b[0m\u001b[0;34m)\u001b[0m \u001b[0;32mis\u001b[0m \u001b[0;32mnot\u001b[0m \u001b[0mself\u001b[0m\u001b[0;34m:\u001b[0m\u001b[0;34m\u001b[0m\u001b[0;34m\u001b[0m\u001b[0m\n\u001b[1;32m   1189\u001b[0m                 raise ValueError(\n\u001b[0;32m-> 1190\u001b[0;31m                     \"The Axes must have been created in the present figure\")\n\u001b[0m\u001b[1;32m   1191\u001b[0m         \u001b[0;32melse\u001b[0m\u001b[0;34m:\u001b[0m\u001b[0;34m\u001b[0m\u001b[0;34m\u001b[0m\u001b[0m\n\u001b[1;32m   1192\u001b[0m             \u001b[0mrect\u001b[0m \u001b[0;34m=\u001b[0m \u001b[0margs\u001b[0m\u001b[0;34m[\u001b[0m\u001b[0;36m0\u001b[0m\u001b[0;34m]\u001b[0m\u001b[0;34m\u001b[0m\u001b[0;34m\u001b[0m\u001b[0m\n",
      "\u001b[0;31mValueError\u001b[0m: The Axes must have been created in the present figure"
     ]
    },
    {
     "data": {
      "text/plain": [
       "<Figure size 432x288 with 0 Axes>"
      ]
     },
     "metadata": {},
     "output_type": "display_data"
    }
   ],
   "source": [
    "fig = plt.figure()\n",
    "ax5 = fig.add_axes(ax3)\n",
    "ax6 = fig.add_axes(ax4) # inset axes"
   ]
  },
  {
   "cell_type": "code",
   "execution_count": null,
   "metadata": {},
   "outputs": [],
   "source": []
  }
 ],
 "metadata": {
  "kernelspec": {
   "display_name": "Python 3",
   "language": "python",
   "name": "python3"
  },
  "language_info": {
   "codemirror_mode": {
    "name": "ipython",
    "version": 3
   },
   "file_extension": ".py",
   "mimetype": "text/x-python",
   "name": "python",
   "nbconvert_exporter": "python",
   "pygments_lexer": "ipython3",
   "version": "3.7.1"
  }
 },
 "nbformat": 4,
 "nbformat_minor": 2
}
