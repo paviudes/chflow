{
 "cells": [
  {
   "cell_type": "code",
   "execution_count": 18,
   "metadata": {
    "scrolled": true
   },
   "outputs": [],
   "source": [
    "import datetime as dt\n",
    "import numpy as np\n",
    "from scipy.stats import poisson\n",
    "import matplotlib.pyplot as plt\n",
    "from define.randchans import RandomUnitary\n",
    "from define.QECCLfid import minwt as mw\n",
    "from define import qcode as qc\n",
    "from define import fnames as fn\n",
    "from define import globalvars as gv\n",
    "import matplotlib\n",
    "matplotlib.use(\"Agg\")\n",
    "from matplotlib.backends.backend_pdf import PdfPages"
   ]
  },
  {
   "cell_type": "code",
   "execution_count": null,
   "metadata": {},
   "outputs": [],
   "source": [
    "qcode = qc.QuantumErrorCorrectingCode(\"Steane\")\n",
    "qc.Load(qcode)"
   ]
  },
  {
   "cell_type": "code",
   "execution_count": null,
   "metadata": {},
   "outputs": [],
   "source": [
    "mu = np.mean(qcode.weightdist[qcode.PauliCorrectableIndices])/2\n",
    "np.random.normal(mu,0.5)"
   ]
  },
  {
   "cell_type": "code",
   "execution_count": null,
   "metadata": {},
   "outputs": [],
   "source": [
    "# plt.plot(np.arange(8),poisson.pmf(np.arange(8), 0),0.1**np.arange(10),marker=\"o\",linestyle=\"None\")"
   ]
  },
  {
   "cell_type": "code",
   "execution_count": null,
   "metadata": {},
   "outputs": [],
   "source": [
    "# probs = poisson.pmf(qcode.weightdist, np.abs(np.random.normal(mu,mu/3)))\n",
    "# plt.plot(np.sort(qcode.weightdist), probs[np.argsort(qcode.weightdist)],marker=\"o\",linestyle=\"None\")\n",
    "# plt.plot(np.sort(qcode.weightdist), (1/7)**np.sort(qcode.weightdist),marker=\"x\",linestyle=\"None\")\n",
    "# plt.yscale('log')"
   ]
  },
  {
   "cell_type": "code",
   "execution_count": null,
   "metadata": {},
   "outputs": [],
   "source": [
    "errdist = RandomPauliChannel({\"method\":1, \"mu\":mu, \"weightdist\":qcode.weightdist})"
   ]
  },
  {
   "cell_type": "code",
   "execution_count": null,
   "metadata": {},
   "outputs": [],
   "source": [
    "infid = 0.2\n",
    "errdist[0] = 1 - infid\n",
    "errdist[1:] = infid * errdist[1:]/np.sum(errdist[1:])"
   ]
  },
  {
   "cell_type": "code",
   "execution_count": null,
   "metadata": {},
   "outputs": [],
   "source": [
    "errdist"
   ]
  },
  {
   "cell_type": "code",
   "execution_count": null,
   "metadata": {},
   "outputs": [],
   "source": [
    "PauliDistributionPlot(errdist, qcode, nreps=5, max_weight=3)"
   ]
  },
  {
   "cell_type": "code",
   "execution_count": null,
   "metadata": {},
   "outputs": [],
   "source": [
    "for w in range(np.max(qcode.weightdist)+1):\n",
    "    print(\"Total probability of weight {} errors = {}:\\n{}\".format(w, np.sum(errdist[qcode.weightdist==w]), errdist[qcode.weightdist==w]))"
   ]
  },
  {
   "cell_type": "code",
   "execution_count": null,
   "metadata": {},
   "outputs": [],
   "source": [
    "import numpy as np\n",
    "from define import qcode as qc\n",
    "from define.QECCLfid import uncorrectable as uc\n",
    "from analyze.plots import PauliDistributionPlot"
   ]
  },
  {
   "cell_type": "code",
   "execution_count": null,
   "metadata": {},
   "outputs": [],
   "source": [
    "qcode = qc.QuantumErrorCorrectingCode(\"Steane\")\n",
    "qc.Load(qcode)\n",
    "qc.PrepareSyndromeLookUp(qcode)"
   ]
  },
  {
   "cell_type": "code",
   "execution_count": null,
   "metadata": {},
   "outputs": [],
   "source": [
    "q1 = 0.8; q2 = 0.2; infid = 0.1; n = qcode.N\n",
    "single_qubit_errors = np.array([1 - infid, infid/3, infid/3, infid/3], dtype=np.double)"
   ]
  },
  {
   "cell_type": "code",
   "execution_count": null,
   "metadata": {},
   "outputs": [],
   "source": [
    "iid_error_dist = uc.GetErrorProbabilities(qcode.PauliOperatorsLST, single_qubit_errors, 0)\n",
    "full_process_infid = 1 - iid_error_dist[0]\n",
    "print(\"Sum of IID error probabilities = {}, Infidelity = {}.\".format(np.sum(iid_error_dist), full_process_infid))"
   ]
  },
  {
   "cell_type": "code",
   "execution_count": null,
   "metadata": {},
   "outputs": [],
   "source": [
    "n_two_qubit_errors = np.int(0.1 * qcode.group_by_weight[2].size)\n",
    "two_qubit_errors = np.random.choice(qcode.group_by_weight[2], size=n_two_qubit_errors)"
   ]
  },
  {
   "cell_type": "code",
   "execution_count": null,
   "metadata": {},
   "outputs": [],
   "source": [
    "corr_error_dist = np.zeros(iid_error_dist.size, dtype=np.double)\n",
    "corr_error_dist[two_qubit_errors] = np.abs(np.random.normal(0.1 * 4**n * full_process_infid, 0.1 * 4**n * full_process_infid, size=(n_two_qubit_errors,)))\n",
    "corr_error_dist[0] = 1 - full_process_infid\n",
    "corr_error_dist[two_qubit_errors] = full_process_infid * corr_error_dist[two_qubit_errors]/np.sum(corr_error_dist[two_qubit_errors])\n",
    "corr_error_dist = corr_error_dist/np.sum(corr_error_dist)"
   ]
  },
  {
   "cell_type": "code",
   "execution_count": null,
   "metadata": {},
   "outputs": [],
   "source": [
    "print(\"Sum of CORR error probabilities = {}, Infidelity = {}\".format(np.sum(corr_error_dist), 1-corr_error_dist[0]))"
   ]
  },
  {
   "cell_type": "code",
   "execution_count": null,
   "metadata": {},
   "outputs": [],
   "source": [
    "pauli_error_dist = q1 * iid_error_dist + q2 * corr_error_dist"
   ]
  },
  {
   "cell_type": "code",
   "execution_count": null,
   "metadata": {},
   "outputs": [],
   "source": [
    "PauliDistributionPlot(qcode, pauli_error_dist, nreps=5, max_weight=3,outdir=\"./../../temp/\", channel=\"linear_sum\")"
   ]
  },
  {
   "cell_type": "code",
   "execution_count": null,
   "metadata": {},
   "outputs": [],
   "source": [
    "chi_from_file = np.load(\"/Users/pavi/Documents/chbank/20_05_2020_11_07_46/physical/raw_up_6.5.npy\")[1,:].reshape([4,4])"
   ]
  },
  {
   "cell_type": "code",
   "execution_count": null,
   "metadata": {},
   "outputs": [],
   "source": [
    "chi_from_file"
   ]
  },
  {
   "cell_type": "code",
   "execution_count": null,
   "metadata": {},
   "outputs": [],
   "source": [
    "ptm_from_file = np.load(\"/Users/pavi/Documents/chbank/20_05_2020_11_07_46/physical/up_6.5.npy\")[1,:].reshape([4,4])"
   ]
  },
  {
   "cell_type": "code",
   "execution_count": 1,
   "metadata": {},
   "outputs": [],
   "source": [
    "import numpy as np\n",
    "import matplotlib.pyplot as plt"
   ]
  },
  {
   "cell_type": "code",
   "execution_count": 7,
   "metadata": {},
   "outputs": [],
   "source": [
    "def normalization(p, n, g):\n",
    "    return (1 + g*p + np.power(p,3)/(1-p)*(1-np.power(p,n-2)))"
   ]
  },
  {
   "cell_type": "code",
   "execution_count": 38,
   "metadata": {},
   "outputs": [],
   "source": [
    "nq = 7\n",
    "g = 0.1\n",
    "p = 0.1\n",
    "corr_probs = [(1-p)/normalization(1-p, nq, g)] + [p/normalization(p, nq, g), g*p/normalization(p, nq, g)] + [np.power(p,k)/normalization(p, nq, g) for k in range(3,nq+1)]"
   ]
  },
  {
   "cell_type": "code",
   "execution_count": 39,
   "metadata": {},
   "outputs": [],
   "source": [
    "iid_probs = [np.power(1-p,nq)] + [np.power(p,k)*np.power(1-p, nq-k) for k in range(1, nq+1)]"
   ]
  },
  {
   "cell_type": "code",
   "execution_count": 40,
   "metadata": {},
   "outputs": [
    {
     "data": {
      "image/png": "[encoded data removed]",
      "text/plain": [
       "<Figure size 432x288 with 1 Axes>"
      ]
     },
     "metadata": {
      "needs_background": "light"
     },
     "output_type": "display_data"
    }
   ],
   "source": [
    "#fig = plt.figure()\n",
    "X = np.arange(nq+1)\n",
    "plt.bar(X[1:]-0.1, corr_probs[1:], color=\"g\", width=0.2, align=\"center\", label=\"corr\")\n",
    "plt.bar(X[1:]+0.1, iid_probs[1:], color=\"r\", width=0.2, align=\"center\", label= \"iid\")\n",
    "plt.yscale(\"log\")\n",
    "plt.legend(loc=0)\n",
    "plt.show()"
   ]
  },
  {
   "cell_type": "code",
   "execution_count": null,
   "metadata": {},
   "outputs": [],
   "source": [
    "def normalization_agm(p, n):\n",
    "    return 1 - p - (np.power(p, n+1)*(n+1) - p - n * np.power(p, n+2))/np.power(1-p, 2)"
   ]
  },
  {
   "cell_type": "code",
   "execution_count": null,
   "metadata": {},
   "outputs": [],
   "source": [
    "corr_probs_agm = [(1-p)/normalization_agm(1-p, nq)] + [np.power(p,k)/normalization_agm(p, nq) for k in range(1,nq+1)]"
   ]
  },
  {
   "cell_type": "code",
   "execution_count": null,
   "metadata": {},
   "outputs": [],
   "source": [
    "#fig = plt.figure()\n",
    "X = np.arange(nq+1)\n",
    "plt.bar(X-0.1, corr_probs_agm, color=\"g\", width=0.2, align=\"center\", label=\"corr\")\n",
    "plt.bar(X+0.1, iid_probs, color=\"r\", width=0.2, align=\"center\", label= \"iid\")\n",
    "plt.yscale(\"log\")\n",
    "plt.legend(loc=0)\n",
    "plt.show()"
   ]
  },
  {
   "cell_type": "code",
   "execution_count": null,
   "metadata": {},
   "outputs": [],
   "source": [
    "def normalization_gm(p, n):\n",
    "    return (1+p/(1-p)*(1-np.power(p,n)))"
   ]
  },
  {
   "cell_type": "code",
   "execution_count": 4,
   "metadata": {},
   "outputs": [],
   "source": [
    "import numpy as np\n",
    "from define.QECCLfid.ptm import get_Pauli_tensor\n",
    "from define.QECCLfid.utils import Kron\n",
    "from define import globalvars as gv\n",
    "from define import qcode as qc"
   ]
  },
  {
   "cell_type": "code",
   "execution_count": 5,
   "metadata": {},
   "outputs": [],
   "source": [
    "qcode = qc.QuantumErrorCorrectingCode(\"Steane\")\n",
    "qc.Load(qcode)"
   ]
  },
  {
   "cell_type": "code",
   "execution_count": 17,
   "metadata": {},
   "outputs": [
    {
     "data": {
      "text/plain": [
       "True"
      ]
     },
     "execution_count": 17,
     "metadata": {},
     "output_type": "execute_result"
    }
   ],
   "source": [
    "L = [1,1,3,2,1]\n",
    "np.allclose(get_Pauli_tensor(L).reshape(2**len(L),2**len(L)), Kron(*gv.Pauli[L]))"
   ]
  },
  {
   "cell_type": "code",
   "execution_count": 27,
   "metadata": {},
   "outputs": [
    {
     "data": {
      "text/plain": [
       "array([[0, 0, 0, 0, 1, 1, 1],\n",
       "       [3, 0, 3, 0, 2, 1, 2]])"
      ]
     },
     "execution_count": 27,
     "metadata": {},
     "output_type": "execute_result"
    }
   ],
   "source": [
    "nstabs = 64\n",
    "nlogs = 4\n",
    "# nstabs * nlogs\n",
    "qc.GetOperatorsForTLSIndex(qcode, range(64, 66))"
   ]
  },
  {
   "cell_type": "code",
   "execution_count": 28,
   "metadata": {},
   "outputs": [
    {
     "data": {
      "text/plain": [
       "array([[0, 0, 0, 0, 0, 0, 0],\n",
       "       [0, 0, 0, 0, 3, 3, 3],\n",
       "       [0, 0, 0, 0, 1, 1, 1],\n",
       "       [0, 0, 0, 0, 2, 2, 2]], dtype=int8)"
      ]
     },
     "execution_count": 28,
     "metadata": {},
     "output_type": "execute_result"
    }
   ],
   "source": [
    "qc.GenerateGroup(qcode.L)"
   ]
  },
  {
   "cell_type": "code",
   "execution_count": 29,
   "metadata": {},
   "outputs": [
    {
     "data": {
      "text/plain": [
       "array([[0, 0, 0, 0, 1, 1, 1],\n",
       "       [0, 0, 0, 0, 3, 3, 3]], dtype=int8)"
      ]
     },
     "execution_count": 29,
     "metadata": {},
     "output_type": "execute_result"
    }
   ],
   "source": [
    "qcode.L"
   ]
  },
  {
   "cell_type": "code",
   "execution_count": 30,
   "metadata": {},
   "outputs": [
    {
     "data": {
      "text/plain": [
       "array([[1, 1, 1, 1, 0, 0, 0],\n",
       "       [1, 1, 0, 0, 1, 1, 0],\n",
       "       [1, 0, 1, 0, 1, 0, 1],\n",
       "       [3, 3, 3, 3, 0, 0, 0],\n",
       "       [3, 3, 0, 0, 3, 3, 0],\n",
       "       [3, 0, 3, 0, 3, 0, 3]], dtype=int8)"
      ]
     },
     "execution_count": 30,
     "metadata": {},
     "output_type": "execute_result"
    }
   ],
   "source": [
    "qcode.S"
   ]
  },
  {
   "cell_type": "code",
   "execution_count": 23,
   "metadata": {},
   "outputs": [],
   "source": [
    "import numpy as np\n",
    "from scipy import linalg as linalg\n",
    "def HermitianConjugate(A):\n",
    "    return A.conj().T"
   ]
  },
  {
   "cell_type": "code",
   "execution_count": 26,
   "metadata": {},
   "outputs": [],
   "source": [
    "nq = 4\n",
    "dim = 8**nq\n",
    "prox = 0.1\n",
    "M = np.random.standard_normal(size=(dim, dim)) + 1j * np.random.standard_normal(size=(dim, dim))\n",
    "H = (M + M.conj().T) / np.longdouble(2)\n",
    "U = linalg.expm(1j * prox * H)"
   ]
  },
  {
   "cell_type": "code",
   "execution_count": 24,
   "metadata": {},
   "outputs": [],
   "source": [
    "def StineToKraus(U):\n",
    "    # Compute the Krauss operators for the input quantum channel, which is represented in the Stinespring dialation\n",
    "    # The Krauss operator T_k is given by: <a|T_k|b> = <a e_k|U|b e_0> , where {|e_i>} is a basis for the environment and |a>, |b> are basis vectors of the system\n",
    "    # Note that a k-qubit channel needs to be generated from a unitary matrix on 3*k qubits where 2*k qubits represent the environment.\n",
    "    nq = int(np.log2(U.shape[0]))//3\n",
    "    environment = np.eye(4**nq)[:,:,np.newaxis]\n",
    "    system = np.eye(2**nq)[:,:,np.newaxis]\n",
    "    krauss = np.zeros((4**nq, 2**nq, 2**nq), dtype=np.complex128)\n",
    "    for ki in range(4**nq):\n",
    "        ## The Krauss operator T_k is given by: <a|T_k|b> = <a e_k|U|b e_0>.\n",
    "        for ri in range(2**nq):\n",
    "            for ci in range(2**nq):\n",
    "                leftProduct = HermitianConjugate(\n",
    "                    np.dot(\n",
    "                        U, np.kron(system[ri, :, :], environment[ki, :, :])\n",
    "                    )\n",
    "                )\n",
    "                krauss[ki, ri, ci] = np.dot(\n",
    "                    leftProduct, np.kron(system[ci, :, :], environment[0, :, :])\n",
    "                )[0, 0]\n",
    "    return krauss"
   ]
  },
  {
   "cell_type": "code",
   "execution_count": null,
   "metadata": {},
   "outputs": [],
   "source": [
    "# # Constants:\n",
    "# #     K -- cutoff length = 3\n",
    "# \"\"\"\n",
    "# 1. Sample k from the Poisson distribution with mean = 1. If k is larger than K, sample again.\n",
    "# 2. Given a k, choose a random subset of {1, 2, ..., qcode.N} of size k.\n",
    "# 3. Generate Kraus operators for a k-qubit quantum channel and assign the supports from the random subset chosen above.\n",
    "# 4. We form a dictionary with supports and the respective Kraus operators, and give it to multi_qubit_kraus.\n",
    "# \"\"\"\n",
    "# def get_kraus_poisson():\n",
    "    \n",
    "    \n"
   ]
  },
  {
   "cell_type": "code",
   "execution_count": 61,
   "metadata": {},
   "outputs": [],
   "source": [
    "def get_kraus_poisson(rotation_angle, qcode, n_maps = 3):\n",
    "    r\"\"\"\n",
    "    Sub-routine to prepare the dictionary for error eps = sum of cptp maps\n",
    "    Generates kraus by using stine to kraus\n",
    "    of random multi-qubit unitary operators rotated by rotation_angle/2**|support|\n",
    "    Probability associated with each weight-k error scales exponentially p_error^k (except weights <= w_thresh)\n",
    "    Input :\n",
    "    rotation_angle = the angle to rotate the Stinespring unitary by\n",
    "    qcode = QEC\n",
    "    n_maps = number of maps to be considered for the sum\n",
    "    Returns :\n",
    "    dict[key] = (support,krauslist)\n",
    "    where key = number associated to the operation applied (not significant)\n",
    "    support = tuple describing which qubits the kraus ops act on\n",
    "    krauslist = krauss ops acting on support\n",
    "    \"\"\"\n",
    "    kraus_dict = {}\n",
    "    prob_maps = np.array([1/n_maps]*n_maps) # Probabilites associated to the above CPTP maps\n",
    "    cutoff_q = 3 # Cutoff number of qubits for poissson distribution\n",
    "\n",
    "    cptp_map_count = 0\n",
    "    for __ in range(n_maps):\n",
    "        #  while(n_q > cutoff_q):\n",
    "        #         n_q = SampleFromPoisson()\n",
    "        n_q = 1    # to be commented later\n",
    "        support = tuple(sorted((random.sample(range(qcode.N), n_q))))\n",
    "        if n_q == 0:\n",
    "            rand_unitary = 1.0\n",
    "            kraus_dict[cptp_map_count] = (support,[rand_unitary])\n",
    "        else:\n",
    "            rand_unitary = RandomUnitary(\n",
    "                rotation_angle/(2**(3*n_q)), 2**(3*n_q), method=\"exp\"\n",
    "            )\n",
    "            kraus_dict[cptp_map_count] = (support, StineToKraus(rand_unitary))\n",
    "        cptp_map_count += 1\n",
    "    \n",
    "    # Multiplying kraus by their respective probabilities\n",
    "    for key, (support, krauslist) in kraus_dict.items():\n",
    "        for k in range(len(krauslist)):\n",
    "            # print(\"k = {}\".format(k))\n",
    "            kraus_dict[key][1][k] *= np.sqrt(prob_maps[key])\n",
    "    return kraus_dict\n"
   ]
  },
  {
   "cell_type": "code",
   "execution_count": 62,
   "metadata": {},
   "outputs": [],
   "source": [
    "dict_k = get_kraus_poisson(0.1, qcode)"
   ]
  },
  {
   "cell_type": "code",
   "execution_count": 63,
   "metadata": {},
   "outputs": [
    {
     "data": {
      "text/plain": [
       "(4, 2, 2)"
      ]
     },
     "execution_count": 63,
     "metadata": {},
     "output_type": "execute_result"
    }
   ],
   "source": [
    "dict_k[0][1].shape"
   ]
  },
  {
   "cell_type": "code",
   "execution_count": 64,
   "metadata": {},
   "outputs": [
    {
     "data": {
      "text/plain": [
       "{0: ((4,),\n",
       "  array([[[ 9.98983372e-01-0.0328988j ,  2.20766071e-02+0.00413275j],\n",
       "          [-2.18311160e-02+0.00526454j,  9.99400532e-01-0.00798583j]],\n",
       "  \n",
       "         [[-1.02591328e-02-0.00710005j,  4.93201904e-03-0.01705683j],\n",
       "          [ 8.73226516e-03-0.00271041j, -1.11625083e-02-0.00256835j]],\n",
       "  \n",
       "         [[ 1.26280428e-03+0.00671055j, -1.14683060e-02-0.00126667j],\n",
       "          [-1.93040356e-04+0.00234006j,  4.55240072e-03+0.00387257j]],\n",
       "  \n",
       "         [[ 9.89629885e-04-0.00031732j, -5.74167953e-06+0.00338131j],\n",
       "          [ 4.75283391e-03-0.01142412j, -1.25318066e-04+0.00189513j]]]))}"
      ]
     },
     "execution_count": 64,
     "metadata": {},
     "output_type": "execute_result"
    }
   ],
   "source": [
    "dict_k"
   ]
  },
  {
   "cell_type": "code",
   "execution_count": null,
   "metadata": {},
   "outputs": [],
   "source": []
  }
 ],
 "metadata": {
  "kernelspec": {
   "display_name": "Python 3",
   "language": "python",
   "name": "python3"
  },
  "language_info": {
   "codemirror_mode": {
    "name": "ipython",
    "version": 3
   },
   "file_extension": ".py",
   "mimetype": "text/x-python",
   "name": "python",
   "nbconvert_exporter": "python",
   "pygments_lexer": "ipython3",
   "version": "3.8.3"
  }
 },
 "nbformat": 4,
 "nbformat_minor": 2
}
