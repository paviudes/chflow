{
 "cells": [
  {
   "cell_type": "code",
   "execution_count": null,
   "metadata": {
    "scrolled": true
   },
   "outputs": [],
   "source": [
    "import datetime as dt\n",
    "import numpy as np\n",
    "from scipy.stats import poisson\n",
    "import matplotlib.pyplot as plt\n",
    "from define.randchans import RandomUnitary\n",
    "from define.QECCLfid import minwt as mw\n",
    "from define import qcode as qc\n",
    "from define import fnames as fn\n",
    "from define import globalvars as gv\n",
    "import matplotlib\n",
    "matplotlib.use(\"Agg\")\n",
    "from matplotlib.backends.backend_pdf import PdfPages"
   ]
  },
  {
   "cell_type": "code",
   "execution_count": null,
   "metadata": {},
   "outputs": [],
   "source": [
    "qcode = qc.QuantumErrorCorrectingCode(\"Steane\")\n",
    "qc.Load(qcode)"
   ]
  },
  {
   "cell_type": "code",
   "execution_count": null,
   "metadata": {},
   "outputs": [],
   "source": [
    "mu = np.mean(qcode.weightdist[qcode.PauliCorrectableIndices])/2\n",
    "np.random.normal(mu,0.5)"
   ]
  },
  {
   "cell_type": "code",
   "execution_count": null,
   "metadata": {},
   "outputs": [],
   "source": [
    "# plt.plot(np.arange(8),poisson.pmf(np.arange(8), 0),0.1**np.arange(10),marker=\"o\",linestyle=\"None\")"
   ]
  },
  {
   "cell_type": "code",
   "execution_count": null,
   "metadata": {},
   "outputs": [],
   "source": [
    "# probs = poisson.pmf(qcode.weightdist, np.abs(np.random.normal(mu,mu/3)))\n",
    "# plt.plot(np.sort(qcode.weightdist), probs[np.argsort(qcode.weightdist)],marker=\"o\",linestyle=\"None\")\n",
    "# plt.plot(np.sort(qcode.weightdist), (1/7)**np.sort(qcode.weightdist),marker=\"x\",linestyle=\"None\")\n",
    "# plt.yscale('log')"
   ]
  },
  {
   "cell_type": "code",
   "execution_count": null,
   "metadata": {},
   "outputs": [],
   "source": [
    "errdist = RandomPauliChannel({\"method\":1, \"mu\":mu, \"weightdist\":qcode.weightdist})"
   ]
  },
  {
   "cell_type": "code",
   "execution_count": null,
   "metadata": {},
   "outputs": [],
   "source": [
    "infid = 0.2\n",
    "errdist[0] = 1 - infid\n",
    "errdist[1:] = infid * errdist[1:]/np.sum(errdist[1:])"
   ]
  },
  {
   "cell_type": "code",
   "execution_count": null,
   "metadata": {},
   "outputs": [],
   "source": [
    "errdist"
   ]
  },
  {
   "cell_type": "code",
   "execution_count": null,
   "metadata": {},
   "outputs": [],
   "source": [
    "PauliDistributionPlot(errdist, qcode, nreps=5, max_weight=3)"
   ]
  },
  {
   "cell_type": "code",
   "execution_count": null,
   "metadata": {},
   "outputs": [],
   "source": [
    "for w in range(np.max(qcode.weightdist)+1):\n",
    "    print(\"Total probability of weight {} errors = {}:\\n{}\".format(w, np.sum(errdist[qcode.weightdist==w]), errdist[qcode.weightdist==w]))"
   ]
  },
  {
   "cell_type": "code",
   "execution_count": null,
   "metadata": {},
   "outputs": [],
   "source": [
    "import numpy as np\n",
    "from define import qcode as qc\n",
    "from define.QECCLfid import uncorrectable as uc\n",
    "from analyze.plots import PauliDistributionPlot"
   ]
  },
  {
   "cell_type": "code",
   "execution_count": null,
   "metadata": {},
   "outputs": [],
   "source": [
    "qcode = qc.QuantumErrorCorrectingCode(\"Steane\")\n",
    "qc.Load(qcode)\n",
    "qc.PrepareSyndromeLookUp(qcode)"
   ]
  },
  {
   "cell_type": "code",
   "execution_count": null,
   "metadata": {},
   "outputs": [],
   "source": [
    "q1 = 0.8; q2 = 0.2; infid = 0.1; n = qcode.N\n",
    "single_qubit_errors = np.array([1 - infid, infid/3, infid/3, infid/3], dtype=np.double)"
   ]
  },
  {
   "cell_type": "code",
   "execution_count": null,
   "metadata": {},
   "outputs": [],
   "source": [
    "iid_error_dist = uc.GetErrorProbabilities(qcode.PauliOperatorsLST, single_qubit_errors, 0)\n",
    "full_process_infid = 1 - iid_error_dist[0]\n",
    "print(\"Sum of IID error probabilities = {}, Infidelity = {}.\".format(np.sum(iid_error_dist), full_process_infid))"
   ]
  },
  {
   "cell_type": "code",
   "execution_count": null,
   "metadata": {},
   "outputs": [],
   "source": [
    "n_two_qubit_errors = np.int(0.1 * qcode.group_by_weight[2].size)\n",
    "two_qubit_errors = np.random.choice(qcode.group_by_weight[2], size=n_two_qubit_errors)"
   ]
  },
  {
   "cell_type": "code",
   "execution_count": null,
   "metadata": {},
   "outputs": [],
   "source": [
    "corr_error_dist = np.zeros(iid_error_dist.size, dtype=np.double)\n",
    "corr_error_dist[two_qubit_errors] = np.abs(np.random.normal(0.1 * 4**n * full_process_infid, 0.1 * 4**n * full_process_infid, size=(n_two_qubit_errors,)))\n",
    "corr_error_dist[0] = 1 - full_process_infid\n",
    "corr_error_dist[two_qubit_errors] = full_process_infid * corr_error_dist[two_qubit_errors]/np.sum(corr_error_dist[two_qubit_errors])\n",
    "corr_error_dist = corr_error_dist/np.sum(corr_error_dist)"
   ]
  },
  {
   "cell_type": "code",
   "execution_count": null,
   "metadata": {},
   "outputs": [],
   "source": [
    "print(\"Sum of CORR error probabilities = {}, Infidelity = {}\".format(np.sum(corr_error_dist), 1-corr_error_dist[0]))"
   ]
  },
  {
   "cell_type": "code",
   "execution_count": null,
   "metadata": {},
   "outputs": [],
   "source": [
    "pauli_error_dist = q1 * iid_error_dist + q2 * corr_error_dist"
   ]
  },
  {
   "cell_type": "code",
   "execution_count": null,
   "metadata": {},
   "outputs": [],
   "source": [
    "PauliDistributionPlot(qcode, pauli_error_dist, nreps=5, max_weight=3,outdir=\"./../../temp/\", channel=\"linear_sum\")"
   ]
  },
  {
   "cell_type": "code",
   "execution_count": null,
   "metadata": {},
   "outputs": [],
   "source": [
    "chi_from_file = np.load(\"/Users/pavi/Documents/chbank/20_05_2020_11_07_46/physical/raw_up_6.5.npy\")[1,:].reshape([4,4])"
   ]
  },
  {
   "cell_type": "code",
   "execution_count": null,
   "metadata": {},
   "outputs": [],
   "source": [
    "chi_from_file"
   ]
  },
  {
   "cell_type": "code",
   "execution_count": null,
   "metadata": {},
   "outputs": [],
   "source": [
    "ptm_from_file = np.load(\"/Users/pavi/Documents/chbank/20_05_2020_11_07_46/physical/up_6.5.npy\")[1,:].reshape([4,4])"
   ]
  },
  {
   "cell_type": "code",
   "execution_count": null,
   "metadata": {},
   "outputs": [],
   "source": [
    "import numpy as np\n",
    "import matplotlib.pyplot as plt"
   ]
  },
  {
   "cell_type": "code",
   "execution_count": null,
   "metadata": {},
   "outputs": [],
   "source": [
    "def normalization(p, n, g):\n",
    "    return (1 + g*p + np.power(p,3)/(1-p)*(1-np.power(p,n-2)))"
   ]
  },
  {
   "cell_type": "code",
   "execution_count": null,
   "metadata": {},
   "outputs": [],
   "source": [
    "nq = 7\n",
    "g = 0.1\n",
    "p = 0.1\n",
    "corr_probs = [(1-p)/normalization(1-p, nq, g)] + [p/normalization(p, nq, g), g*p/normalization(p, nq, g)] + [np.power(p,k)/normalization(p, nq, g) for k in range(3,nq+1)]"
   ]
  },
  {
   "cell_type": "code",
   "execution_count": null,
   "metadata": {},
   "outputs": [],
   "source": [
    "iid_probs = [np.power(1-p,nq)] + [np.power(p,k)*np.power(1-p, nq-k) for k in range(1, nq+1)]"
   ]
  },
  {
   "cell_type": "code",
   "execution_count": null,
   "metadata": {},
   "outputs": [],
   "source": [
    "#fig = plt.figure()\n",
    "X = np.arange(nq+1)\n",
    "plt.bar(X[1:]-0.1, corr_probs[1:], color=\"g\", width=0.2, align=\"center\", label=\"corr\")\n",
    "plt.bar(X[1:]+0.1, iid_probs[1:], color=\"r\", width=0.2, align=\"center\", label= \"iid\")\n",
    "plt.yscale(\"log\")\n",
    "plt.legend(loc=0)\n",
    "plt.show()"
   ]
  },
  {
   "cell_type": "code",
   "execution_count": null,
   "metadata": {},
   "outputs": [],
   "source": [
    "def normalization_agm(p, n):\n",
    "    return 1 - p - (np.power(p, n+1)*(n+1) - p - n * np.power(p, n+2))/np.power(1-p, 2)"
   ]
  },
  {
   "cell_type": "code",
   "execution_count": null,
   "metadata": {},
   "outputs": [],
   "source": [
    "corr_probs_agm = [(1-p)/normalization_agm(1-p, nq)] + [np.power(p,k)/normalization_agm(p, nq) for k in range(1,nq+1)]"
   ]
  },
  {
   "cell_type": "code",
   "execution_count": null,
   "metadata": {},
   "outputs": [],
   "source": [
    "#fig = plt.figure()\n",
    "X = np.arange(nq+1)\n",
    "plt.bar(X-0.1, corr_probs_agm, color=\"g\", width=0.2, align=\"center\", label=\"corr\")\n",
    "plt.bar(X+0.1, iid_probs, color=\"r\", width=0.2, align=\"center\", label= \"iid\")\n",
    "plt.yscale(\"log\")\n",
    "plt.legend(loc=0)\n",
    "plt.show()"
   ]
  },
  {
   "cell_type": "code",
   "execution_count": null,
   "metadata": {},
   "outputs": [],
   "source": [
    "def normalization_gm(p, n):\n",
    "    return (1+p/(1-p)*(1-np.power(p,n)))"
   ]
  },
  {
   "cell_type": "code",
   "execution_count": null,
   "metadata": {},
   "outputs": [],
   "source": [
    "import numpy as np\n",
    "from define.QECCLfid.ptm import get_Pauli_tensor\n",
    "from define.QECCLfid.utils import Kron\n",
    "from define import globalvars as gv\n",
    "from define import qcode as qc"
   ]
  },
  {
   "cell_type": "code",
   "execution_count": null,
   "metadata": {},
   "outputs": [],
   "source": [
    "qcode = qc.QuantumErrorCorrectingCode(\"Steane\")\n",
    "qc.Load(qcode)"
   ]
  },
  {
   "cell_type": "code",
   "execution_count": null,
   "metadata": {},
   "outputs": [],
   "source": [
    "L = [1,1,3,2,1]\n",
    "np.allclose(get_Pauli_tensor(L).reshape(2**len(L),2**len(L)), Kron(*gv.Pauli[L]))"
   ]
  },
  {
   "cell_type": "code",
   "execution_count": null,
   "metadata": {},
   "outputs": [],
   "source": [
    "nstabs = 64\n",
    "nlogs = 4\n",
    "# nstabs * nlogs\n",
    "qc.GetOperatorsForTLSIndex(qcode, range(64, 66))"
   ]
  },
  {
   "cell_type": "code",
   "execution_count": null,
   "metadata": {},
   "outputs": [],
   "source": [
    "qc.GenerateGroup(qcode.L)"
   ]
  },
  {
   "cell_type": "code",
   "execution_count": null,
   "metadata": {},
   "outputs": [],
   "source": [
    "qcode.L"
   ]
  },
  {
   "cell_type": "code",
   "execution_count": null,
   "metadata": {},
   "outputs": [],
   "source": [
    "qcode.S"
   ]
  },
  {
   "cell_type": "code",
   "execution_count": 1,
   "metadata": {},
   "outputs": [],
   "source": [
    "import numpy as np\n",
    "from scipy import linalg as linalg\n",
    "import random\n",
    "# from define.randchans import RandomUnitary\n",
    "from define import qcode as qc\n",
    "qcode = qc.QuantumErrorCorrectingCode(\"Steane\")\n",
    "qc.Load(qcode)\n",
    "qc.PrepareSyndromeLookUp(qcode)"
   ]
  },
  {
   "cell_type": "code",
   "execution_count": 2,
   "metadata": {},
   "outputs": [],
   "source": [
    "from scipy.linalg.lapack import zgeev"
   ]
  },
  {
   "cell_type": "code",
   "execution_count": 3,
   "metadata": {},
   "outputs": [],
   "source": [
    "def HermitianConjugate(M):\n",
    "    return M.conj().T"
   ]
  },
  {
   "cell_type": "code",
   "execution_count": 12,
   "metadata": {},
   "outputs": [],
   "source": [
    "def StineToKraus(U):\n",
    "    # Compute the Krauss operators for the input quantum channel, which is represented in the Stinespring dialation\n",
    "    # The Krauss operator T_k is given by: <a|T_k|b> = <a e_k|U|b e_0> , where {|e_i>} is a basis for the environment and |a>, |b> are basis vectors of the system\n",
    "    # Note that a k-qubit channel needs to be generated from a unitary matrix on 3*k qubits where 2*k qubits represent the environment.\n",
    "    nq = int(np.log2(U.shape[0]))//3\n",
    "    environment = np.eye(4**nq)[:,:,np.newaxis]\n",
    "    system = np.eye(2**nq)[:,:,np.newaxis]\n",
    "    krauss = np.zeros((4**nq, 2**nq, 2**nq), dtype=np.complex128)\n",
    "    krauss_fast = np.zeros((4**nq, 2**nq, 2**nq), dtype=np.complex128)\n",
    "    for ki in range(4**nq):\n",
    "        ## The Krauss operator T_k is given by: <a|T_k|b> = <a e_k|U|b e_0>.\n",
    "        for ri in range(2**nq):\n",
    "            for ci in range(2**nq):\n",
    "                leftProduct = np.dot(HermitianConjugate(np.kron(system[ri, :, :], environment[ki, :, :])), U)\n",
    "                lv = HermitianConjugate(np.kron(system[ri, :, :], environment[ki, :, :]))\n",
    "                fast_lv = np.where(np.arange(8**nq) == ri * 4**nq + ki, 1, 0)[np.newaxis, :]\n",
    "                print(\"|lv - fast_lv| = {}\".format(np.sum(lv - fast_lv)))\n",
    "                fast_row = U[np.newaxis, ri * 4**nq + ki, :]\n",
    "                print(\"|leftProduct - fast_row| = {}\".format(np.linalg.norm(leftProduct - fast_row)))\n",
    "                krauss[ki, ri, ci] = np.dot(\n",
    "                    leftProduct, np.kron(system[ci, :, :], environment[0, :, :])\n",
    "                )[0, 0]\n",
    "                krauss_fast[ki, ri, ci] = U[ri * 4**nq + ki, ci * 4**nq]\n",
    "                print(\"krauss - fast_krauss = {}\".format(abs(krauss[ki, ri, ci] - krauss_fast[ki, ri, ci])))\n",
    "    return (krauss, krauss_fast)"
   ]
  },
  {
   "cell_type": "code",
   "execution_count": 5,
   "metadata": {},
   "outputs": [],
   "source": [
    "def FastStineToKraus(U):\n",
    "    # Compute the Krauss operators for the input quantum channel, which is represented in the Stinespring dialation\n",
    "    # The Krauss operator T_k is given by: <a|T_k|b> = <a e_k|U|b e_0> , where {|e_i>} is a basis for the environment and |a>, |b> are basis vectors of the system\n",
    "    # Note that a k-qubit channel needs to be generated from a unitary matrix on 3*k qubits where 2*k qubits represent the environment.\n",
    "    nq = int(np.log2(U.shape[0]))//3\n",
    "    # environment = np.eye(4**nq)[:,:,np.newaxis]\n",
    "    # system = np.eye(2**nq)[:,:,np.newaxis]\n",
    "    krauss = np.zeros((4**nq, 2**nq, 2**nq), dtype=np.complex128)\n",
    "    for ki in range(4**nq):\n",
    "        ## The Krauss operator T_k is given by: <a|T_k|b> = <a e_k|U|b e_0>.\n",
    "        for ri in range(2**nq):\n",
    "            for ci in range(2**nq):\n",
    "                #leftProduct = np.dot(HermitianConjugate(np.kron(system[ri, :, :], environment[ki, :, :])), U)\n",
    "                #lv = HermitianConjugate(np.kron(system[ri, :, :], environment[ki, :, :]))\n",
    "                #fast_lv = np.where(np.arange(8**nq) == ri * 4**nq + ki, 1, 0)[np.newaxis, :]\n",
    "                #print(\"|lv - fast_lv| = {}\".format(np.sum(lv - fast_lv)))\n",
    "                #fast_row = U[np.newaxis, ri * 4**nq + ki, :]\n",
    "                #print(\"|leftProduct - fast_row| = {}\".format(np.linalg.norm(leftProduct - fast_row)))\n",
    "                #krauss[ki, ri, ci] = np.dot(leftProduct, np.kron(system[ci, :, :], environment[0, :, :]))[0, 0]\n",
    "                krauss[ki, ri, ci] = U[ri * 4**nq + ki, ci * 4**nq]\n",
    "                #print(\"krauss - fast_krauss = {}\".format(abs(krauss[ki, ri, ci] - U[ri * 4**nq + ki, ci * 4**nq])))\n",
    "    return krauss"
   ]
  },
  {
   "cell_type": "code",
   "execution_count": 6,
   "metadata": {},
   "outputs": [],
   "source": [
    "def RandomUnitary(prox, dim):\n",
    "    # Generate a random unitary matrix which is close to Identity.\n",
    "    M = np.random.standard_normal(size=(dim, dim)) + 1j * np.random.standard_normal(size=(dim, dim))\n",
    "    H = (M + M.conj().T) / np.longdouble(2)\n",
    "    U = linalg.expm(1j * prox * H)\n",
    "    return U"
   ]
  },
  {
   "cell_type": "code",
   "execution_count": 7,
   "metadata": {},
   "outputs": [],
   "source": [
    "nq = 1\n",
    "prox = 0.1\n",
    "U = RandomUnitary(prox, 8**nq)"
   ]
  },
  {
   "cell_type": "code",
   "execution_count": 13,
   "metadata": {},
   "outputs": [
    {
     "name": "stdout",
     "output_type": "stream",
     "text": [
      "|lv - fast_lv| = 0.0\n",
      "|leftProduct - fast_row| = 0.0\n",
      "krauss - fast_krauss = 0.0\n",
      "|lv - fast_lv| = 0.0\n",
      "|leftProduct - fast_row| = 0.0\n",
      "krauss - fast_krauss = 0.0\n",
      "|lv - fast_lv| = 0.0\n",
      "|leftProduct - fast_row| = 0.0\n",
      "krauss - fast_krauss = 0.0\n",
      "|lv - fast_lv| = 0.0\n",
      "|leftProduct - fast_row| = 0.0\n",
      "krauss - fast_krauss = 0.0\n",
      "|lv - fast_lv| = 0.0\n",
      "|leftProduct - fast_row| = 0.0\n",
      "krauss - fast_krauss = 0.0\n",
      "|lv - fast_lv| = 0.0\n",
      "|leftProduct - fast_row| = 0.0\n",
      "krauss - fast_krauss = 0.0\n",
      "|lv - fast_lv| = 0.0\n",
      "|leftProduct - fast_row| = 0.0\n",
      "krauss - fast_krauss = 0.0\n",
      "|lv - fast_lv| = 0.0\n",
      "|leftProduct - fast_row| = 0.0\n",
      "krauss - fast_krauss = 0.0\n",
      "|lv - fast_lv| = 0.0\n",
      "|leftProduct - fast_row| = 0.0\n",
      "krauss - fast_krauss = 0.0\n",
      "|lv - fast_lv| = 0.0\n",
      "|leftProduct - fast_row| = 0.0\n",
      "krauss - fast_krauss = 0.0\n",
      "|lv - fast_lv| = 0.0\n",
      "|leftProduct - fast_row| = 0.0\n",
      "krauss - fast_krauss = 0.0\n",
      "|lv - fast_lv| = 0.0\n",
      "|leftProduct - fast_row| = 0.0\n",
      "krauss - fast_krauss = 0.0\n",
      "|lv - fast_lv| = 0.0\n",
      "|leftProduct - fast_row| = 0.0\n",
      "krauss - fast_krauss = 0.0\n",
      "|lv - fast_lv| = 0.0\n",
      "|leftProduct - fast_row| = 0.0\n",
      "krauss - fast_krauss = 0.0\n",
      "|lv - fast_lv| = 0.0\n",
      "|leftProduct - fast_row| = 0.0\n",
      "krauss - fast_krauss = 0.0\n",
      "|lv - fast_lv| = 0.0\n",
      "|leftProduct - fast_row| = 0.0\n",
      "krauss - fast_krauss = 0.0\n"
     ]
    }
   ],
   "source": [
    "(K, FK) = StineToKraus(HermitianConjugate(U))"
   ]
  },
  {
   "cell_type": "code",
   "execution_count": 14,
   "metadata": {},
   "outputs": [
    {
     "data": {
      "text/plain": [
       "array([[[ 9.69096865e-01-0.05181549j, -2.69876663e-02-0.05593586j],\n",
       "        [ 1.01984210e-02-0.05411548j,  9.78267175e-01+0.03240107j]],\n",
       "\n",
       "       [[-6.06278516e-04+0.05601989j, -2.37393313e-03-0.06314838j],\n",
       "        [ 4.77317838e-02-0.05999135j,  4.78043361e-02-0.02793563j]],\n",
       "\n",
       "       [[-1.21895084e-01+0.09342002j, -9.21801965e-02+0.05746575j],\n",
       "        [-4.89984269e-02-0.03968673j,  4.15260476e-02-0.07659863j]],\n",
       "\n",
       "       [[-9.95374111e-02+0.09127437j,  4.85498025e-02+0.00711862j],\n",
       "        [-6.70815428e-03-0.01651505j, -8.93192980e-02-0.0353608j ]]])"
      ]
     },
     "execution_count": 14,
     "metadata": {},
     "output_type": "execute_result"
    }
   ],
   "source": [
    "K"
   ]
  },
  {
   "cell_type": "code",
   "execution_count": 16,
   "metadata": {},
   "outputs": [
    {
     "data": {
      "text/plain": [
       "array([[[0.+0.j, 0.+0.j],\n",
       "        [0.+0.j, 0.+0.j]],\n",
       "\n",
       "       [[0.+0.j, 0.+0.j],\n",
       "        [0.+0.j, 0.+0.j]],\n",
       "\n",
       "       [[0.+0.j, 0.+0.j],\n",
       "        [0.+0.j, 0.+0.j]],\n",
       "\n",
       "       [[0.+0.j, 0.+0.j],\n",
       "        [0.+0.j, 0.+0.j]]])"
      ]
     },
     "execution_count": 16,
     "metadata": {},
     "output_type": "execute_result"
    }
   ],
   "source": [
    "FK-K"
   ]
  },
  {
   "cell_type": "code",
   "execution_count": null,
   "metadata": {},
   "outputs": [],
   "source": [
    "# # Constants:\n",
    "# #     K -- cutoff length = 3\n",
    "# \"\"\"\n",
    "# 1. Sample k from the Poisson distribution with mean = 1. If k is larger than K, sample again.\n",
    "# 2. Given a k, choose a random subset of {1, 2, ..., qcode.N} of size k.\n",
    "# 3. Generate Kraus operators for a k-qubit quantum channel and assign the supports from the random subset chosen above.\n",
    "# 4. We form a dictionary with supports and the respective Kraus operators, and give it to multi_qubit_kraus.\n",
    "# \"\"\""
   ]
  },
  {
   "cell_type": "code",
   "execution_count": null,
   "metadata": {},
   "outputs": [],
   "source": [
    "def SamplePoisson(mean, cutoff=None):\n",
    "    # Sample a number from a Poisson distribution.\n",
    "    # If the random variable takes a value above a cutoff, sample again until it returns a value below the cutoff.\n",
    "    if (cutoff == None):\n",
    "        rv_val = np.random.poisson(lam = mean)\n",
    "    else:\n",
    "        rv_val = cutoff + 1\n",
    "        while (rv_val > cutoff):\n",
    "            rv_val = np.random.poisson(lam = mean)\n",
    "    return rv_val"
   ]
  },
  {
   "cell_type": "code",
   "execution_count": null,
   "metadata": {},
   "outputs": [],
   "source": [
    "[SamplePoisson(1, 3) for __ in range(10)]"
   ]
  },
  {
   "cell_type": "code",
   "execution_count": null,
   "metadata": {},
   "outputs": [],
   "source": [
    "def get_kraus_poisson(rotation_angle, qcode, cutoff = 3, n_maps = 3):\n",
    "    r\"\"\"\n",
    "    Sub-routine to prepare the dictionary for error eps = sum of cptp maps\n",
    "    Generates kraus by using stine to kraus\n",
    "    of random multi-qubit unitary operators rotated by rotation_angle/2**|support|\n",
    "    Probability associated with each weight-k error scales exponentially p_error^k (except weights <= w_thresh)\n",
    "    Input :\n",
    "    rotation_angle = the angle to rotate the Stinespring unitary by\n",
    "    qcode = QEC\n",
    "    n_maps = number of maps to be considered for the sum\n",
    "    Returns :\n",
    "    dict[key] = (support,krauslist)\n",
    "    where key = number associated to the operation applied (not significant)\n",
    "    support = tuple describing which qubits the kraus ops act on\n",
    "    krauslist = krauss ops acting on support\n",
    "    \"\"\"\n",
    "    kraus_dict = {}\n",
    "    prob_maps = np.array([1/n_maps]*n_maps) # Probabilites associated to the above CPTP maps\n",
    "    cutoff = 3 # Cutoff number of qubits for poissson distribution\n",
    "    cptp_map_count = 0\n",
    "    for __ in range(n_maps):\n",
    "        n_q = SamplePoisson(mean = 1, cutoff=cutoff)\n",
    "        support = tuple(sorted((random.sample(range(qcode.N), n_q))))\n",
    "        if n_q == 0:\n",
    "            rand_unitary = 1.0\n",
    "            kraus_dict[cptp_map_count] = (support,[rand_unitary])\n",
    "        else:\n",
    "            rand_unitary = RandomUnitary(\n",
    "                rotation_angle/(2**(3*n_q)), 2**(3*n_q)\n",
    "            )\n",
    "            kraus_dict[cptp_map_count] = (support, StineToKraus(rand_unitary))\n",
    "        cptp_map_count += 1\n",
    "    \n",
    "    # Multiplying kraus by their respective probabilities\n",
    "    for key, (support, krauslist) in kraus_dict.items():\n",
    "        for k in range(len(krauslist)):\n",
    "            # print(\"k = {}\".format(k))\n",
    "            kraus_dict[key][1][k] *= np.sqrt(prob_maps[key])\n",
    "    return kraus_dict\n"
   ]
  },
  {
   "cell_type": "code",
   "execution_count": null,
   "metadata": {},
   "outputs": [],
   "source": [
    "dict_k = get_kraus_poisson(0.1, qcode, cutoff = 4, n_maps = 3)"
   ]
  },
  {
   "cell_type": "code",
   "execution_count": null,
   "metadata": {},
   "outputs": [],
   "source": [
    "dict_k"
   ]
  },
  {
   "cell_type": "code",
   "execution_count": null,
   "metadata": {},
   "outputs": [],
   "source": [
    "mat = [[-3.84 + 1j *  2.25, -8.94 + 1j * -4.75,  8.95 + 1j * -6.53,  -9.87 + 1j * 4.82],[-0.66 + 1j *  0.83, -4.40 + 1j * -3.82, -3.50 + 1j * -4.26,  -3.15 + 1j * 7.36],[-3.99 + 1j * -4.73, -5.88 + 1j * -6.60, -3.36 + 1j * -0.40,  -0.75 + 1j * 5.23],[7.74 + 1j *  4.18,  3.66 + 1j * -7.53,  2.58 + 1j *  3.60,   4.59 + 1j * 5.41]]\n",
    "M = np.array(mat, dtype=np.complex128)"
   ]
  },
  {
   "cell_type": "code",
   "execution_count": null,
   "metadata": {},
   "outputs": [],
   "source": [
    "np.round(M, 5)"
   ]
  },
  {
   "cell_type": "code",
   "execution_count": null,
   "metadata": {},
   "outputs": [],
   "source": [
    "# (np_eval, np_evecs) = np.linalg.eig(M)\n",
    "(np_eval, __, np_evecs, info) = zgeev(M)"
   ]
  },
  {
   "cell_type": "code",
   "execution_count": null,
   "metadata": {},
   "outputs": [],
   "source": [
    "for i in range(4):\n",
    "    print(\"e_%d\\n%g + i %g\" % (i + 1, np.real(np_eval[i]), np.imag((np_eval[i]))))\n",
    "    row = [\"(%g + i %g)\" % (np.real(np_evecs[j,i]), np.imag(np_evecs[j,i])) for j in range(4)]\n",
    "    print(\"v_%d\\n%s\" % (i + 1, \", \".join(row)))\n",
    "    print(\"---\")"
   ]
  },
  {
   "cell_type": "code",
   "execution_count": null,
   "metadata": {},
   "outputs": [],
   "source": [
    "#eigvecs = np.array([[0.707106781186548 + 1j * 0.000000000000000, 0.000000000000000 + 1j * 0.000000000000000, 0.000000000000000 + 1j * 0.000000000000000, 0.707106781186547 + 1j * -0.000000000000000], [0.707106781186547 + 1j * 0.000000000000000, 0.000000000000000 + 1j * 0.000000000000000, 0.000000000000000 + 1j * 0.000000000000000, -0.707106781186547 + 1j * 0.000000000000000], [-0.001644226287961 + 1j * 0.000000000000000, -0.707104869534862 + 1j * 0.000000000000000, 0.707104869534862 + 1j * 0.000000000000000, 0.001644226287961 + 1j * 0.000000000000000], [0.000000000000000 + 1j * 0.000000000000000, 0.707106781186547 + 1j * 0.000000000000000, 0.707106781186548 + 1j * 0.000000000000000, -0.000000000000000 + 1j * 0.000000000000000]], dtype = np.complex128)\n",
    "np_reconM = np.array(sum([eigvals[d] * np.dot(HermitianConjugate(eigvecs[d, np.newaxis, :]), eigvecs[d, np.newaxis, :]) for d in range(4)]), dtype=np.complex128)"
   ]
  },
  {
   "cell_type": "code",
   "execution_count": null,
   "metadata": {},
   "outputs": [],
   "source": [
    "M - np_reconM"
   ]
  },
  {
   "cell_type": "code",
   "execution_count": null,
   "metadata": {},
   "outputs": [],
   "source": [
    "reconstructed = [[0.494261994364053 + 1j * 0.000000000000000, 0.000000000000000 + 1j * 0.000000000000000, 0.000000000000000 + 1j * 0.000000000000000, 0.494217022439872 + 1j * 0.000000000000000], [0.000000000000000 + 1j * 0.000000000000000, 0.005738005635947 + 1j * 0.000000000000000, 0.005693033711766 + 1j * 0.000000000000000, 0.000000000000000 + 1j * 0.000000000000000], [0.000000000000000 + 1j * 0.000000000000000, 0.005693033711766 + 1j * 0.000000000000000, 0.005738005635947 + 1j * 0.000000000000000, 0.000000000000000 + 1j * 0.000000000000000], [0.494217022439872 + 1j * 0.000000000000000, 0.000000000000000 + 1j * 0.000000000000000, 0.000000000000000 + 1j * 0.000000000000000, 0.494261994364053 + 1j * 0.000000000000000]]\n",
    "c_reconM = np.array(reconstructed, dtype = np.complex128)"
   ]
  },
  {
   "cell_type": "code",
   "execution_count": null,
   "metadata": {},
   "outputs": [],
   "source": [
    "np_reconM - c_reconM"
   ]
  },
  {
   "cell_type": "code",
   "execution_count": null,
   "metadata": {},
   "outputs": [],
   "source": [
    "M - np_reconM"
   ]
  },
  {
   "cell_type": "code",
   "execution_count": null,
   "metadata": {},
   "outputs": [],
   "source": [
    "matA = np.array([[0.494261994364053 + 1j * 0.000000000000000, 0.000000000000000 + 1j * 0.000000000000000, 0.000000000000000 + 1j * 0.000000000000000, 0.494217022439872 + 1j * 0.000000000000000], [0.000000000000000 + 1j * 0.000000000000000, 0.005738005635947 + 1j * 0.000000000000000, 0.005693033711766 + 1j * 0.000000000000000, 0.000000000000000 + 1j * 0.000000000000000], [0.000000000000000 + 1j * 0.000000000000000, 0.005693033711766 + 1j * 0.000000000000000, 0.005738005635947 + 1j * 0.000000000000000, 0.000000000000000 + 1j * 0.000000000000000], [0.494217022439872 + 1j * 0.000000000000000, 0.000000000000000 + 1j * 0.000000000000000, 0.000000000000000 + 1j * 0.000000000000000, 0.494261994364053 + 1j * 0.000000000000000]] ,dtype=np.complex128)\n",
    "matB = np.array([[0.494261994485634 + 1j * 0.000000000000000, 0.000000052286177 + 1j * 0.000000000000000, -0.000000052286177 + 1j * 0.000000000000000, 0.494217022318291 + 1j * 0.000000000000000], [0.000000052286177 + 1j * 0.000000000000000, 0.005738005514367 + 1j * 0.000000000000000, 0.005693033833347 + 1j * 0.000000000000000, -0.000000052286177 + 1j * 0.000000000000000], [-0.000000052286177 + 1j * 0.000000000000000, 0.005693033833347 + 1j * 0.000000000000000, 0.005738005514367 + 1j * 0.000000000000000, 0.000000052286177 + 1j * 0.000000000000000], [0.494217022318291 + 1j * 0.000000000000000, -0.000000052286177 + 1j * 0.000000000000000, 0.000000052286177 + 1j * 0.000000000000000, 0.494261994485633 + 1j * 0.000000000000000]], dtype = np.complex128)"
   ]
  },
  {
   "cell_type": "code",
   "execution_count": null,
   "metadata": {},
   "outputs": [],
   "source": [
    "matA - matB"
   ]
  },
  {
   "cell_type": "code",
   "execution_count": null,
   "metadata": {},
   "outputs": [],
   "source": []
  }
 ],
 "metadata": {
  "kernelspec": {
   "display_name": "Python 3",
   "language": "python",
   "name": "python3"
  },
  "language_info": {
   "codemirror_mode": {
    "name": "ipython",
    "version": 3
   },
   "file_extension": ".py",
   "mimetype": "text/x-python",
   "name": "python",
   "nbconvert_exporter": "python",
   "pygments_lexer": "ipython3",
   "version": "3.7.1"
  }
 },
 "nbformat": 4,
 "nbformat_minor": 2
}
