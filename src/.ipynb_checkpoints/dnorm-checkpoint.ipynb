{
 "cells": [
  {
   "cell_type": "code",
   "execution_count": 4,
   "metadata": {},
   "outputs": [],
   "source": [
    "import math\n",
    "import numpy as np\n",
    "import cvxpy as cvx"
   ]
  },
  {
   "cell_type": "code",
   "execution_count": 5,
   "metadata": {},
   "outputs": [],
   "source": [
    "def DiamondNorm(choi, idnchan=None):\n",
    "\t\"\"\"\n",
    "\tCompute the Diamond distance using SDP solver from the CVXPY package.\n",
    "\t\n",
    "\tThe inputs are:\n",
    "\t\t1. choi -- the Choi-Jamilowski matrix of the input channel, J. Note, Tr(J) should be 1.\n",
    "\t\t2. idnchan -- the Choi-Jamilowski matrix of a reference channel from which the Diamond distance needs to be computed.\n",
    "\n",
    "\tThe program follows the precription in https://arxiv.org/abs/1207.5726.\n",
    "\n",
    "\tThe Diamond distance is defined as follows.\n",
    "\tMaximize:\n",
    "\t\t1/2 * (J | X) + 1/2 * (J' | X'),\n",
    "\twhere M' is the Hermitian conjugate of M.\n",
    "\tSubject to the constraints: M =\n",
    "\t\t[I o R1      X       ]\n",
    "\t\t[X'         I o R2   ]\n",
    "\t\t>>\n",
    "\t\t0\n",
    "\twhere\n",
    "\t\tR1 and R2 are density matrices, i.e., R1 >> 0, R2 >> 0 and trace(R1) == 1, trace(R2) == 1.\n",
    "\t\tX is a linear operator whose dimension is that of J.\n",
    "\tWe will also use the property that for a complex matrix X = Xr + i Xi:\n",
    "\tX >> 0 if and only if\n",
    "\t[Xr    Xi]\n",
    "\t[-Xi   Xr]\n",
    "\t>>\n",
    "\t0\n",
    "\t\"\"\"\n",
    "\t\n",
    "\t# single_qubit_identity = np.zeros((4, 4), dtype=np.double)\n",
    "\t# single_qubit_identity[0, 0] = 0.5\n",
    "\t# single_qubit_identity[0, 3] = 0.5\n",
    "\t# single_qubit_identity[3, 0] = 0.5\n",
    "\t# single_qubit_identity[3, 3] = 0.5\n",
    "\t# idnchan = Kron(*[single_qubit_identity for __ in range(nqubits)])\n",
    "\n",
    "\tif idnchan == None:\n",
    "\t\tidnchan = np.zeros_like(choi)\n",
    "\n",
    "\tnqubits = int(math.log(choi.shape[0], 4))\n",
    "\t#### Constants and Variables\n",
    "\tI = cvx.Constant(np.eye(2 ** nqubits))\n",
    "\tZ = cvx.Constant(np.zeros((2 ** nqubits, 2 ** nqubits)))\n",
    "\n",
    "\tJr = cvx.Constant(value=np.real(choi - idnchan))\n",
    "\tJi = cvx.Constant(value=np.imag(choi - idnchan))\n",
    "\n",
    "\tXr = cvx.Variable(name=\"Xr\", shape=(4 ** nqubits, 4 ** nqubits))\n",
    "\tXi = cvx.Variable(name=\"Xi\", shape=(4 ** nqubits, 4 ** nqubits))\n",
    "\n",
    "\tR1r = cvx.Variable(name=\"R1r\", shape=(2 ** nqubits, 2 ** nqubits), symmetric=True)\n",
    "\tR1i = cvx.Variable(name=\"R1i\", shape=(2 ** nqubits, 2 ** nqubits))\n",
    "\n",
    "\tR2r = cvx.Variable(name=\"R2r\", shape=(2 ** nqubits, 2 ** nqubits), symmetric=True)\n",
    "\tR2i = cvx.Variable(name=\"R2i\", shape=(2 ** nqubits, 2 ** nqubits))\n",
    "\n",
    "\t#### Constraints\n",
    "\tconstraints = []\n",
    "\n",
    "\t# R1 is a density matrix\n",
    "\tconstraints.append(cvx.bmat([[R1r, -1 * R1i], [R1i, R1r]]) >> 0)\n",
    "\tconstraints.append(cvx.trace(R1r) == 1)\n",
    "\tconstraints.append(R1i == -1 * R1i.T)\n",
    "\tconstraints.append(cvx.trace(R1i) == 0)\n",
    "\n",
    "\t# R1 is a density matrix\n",
    "\tconstraints.append(cvx.bmat([[R2r, -1 * R2i], [R2i, R2r]]) >> 0)\n",
    "\tconstraints.append(cvx.trace(R2r) == 1)\n",
    "\tconstraints.append(R2i == -1 * R2i.T)\n",
    "\tconstraints.append(cvx.trace(R2i) == 0)\n",
    "\n",
    "\tconstraints.append(\n",
    "\t\tcvx.bmat(\n",
    "\t\t\t[\n",
    "\t\t\t\t[cvx.kron(I, R1r), Xr, -1 * cvx.kron(I, R1i), -1 * Xi],\n",
    "\t\t\t\t[Xr.T, cvx.kron(I, R2r), Xi.T, -1 * cvx.kron(I, R2i)],\n",
    "\t\t\t\t[cvx.kron(I, R1i), Xi, cvx.kron(I, R1r), Xr],\n",
    "\t\t\t\t[-1 * Xi.T, cvx.kron(I, R2i), Xr.T, cvx.kron(I, R1r)],\n",
    "\t\t\t]\n",
    "\t\t)\n",
    "\t\t>> 0\n",
    "\t)\n",
    "\n",
    "\t#### Objective\n",
    "\tobj = cvx.Maximize(cvx.trace(Jr.T @ Xr) + cvx.trace(Ji.T @ Xi))\n",
    "\n",
    "\t#### Setting up the problem\n",
    "\tprob = cvx.Problem(obj, constraints=constraints)\n",
    "\t# print(\"Problem\\n{}\".format(prob))\n",
    "\t#### Solve and print the solution\n",
    "\tprob.solve(solver=\"SCS\", parallel=True, verbose=False)\n",
    "\tdnorm = obj.value\n",
    "\t# print(\"Diamond norm from CVXPY = {}.\".format(dnorm))\n",
    "\treturn dnorm"
   ]
  },
  {
   "cell_type": "code",
   "execution_count": 6,
   "metadata": {},
   "outputs": [
    {
     "name": "stdout",
     "output_type": "stream",
     "text": [
      "FATAL: Cannot solve SDPs with > 2x2 matrices without linked blas+lapack libraries\n",
      "Install blas+lapack and re-compile SCS with blas+lapack library locations\n",
      "ERROR: init_cone failure\n",
      "Failure:could not initialize work\n"
     ]
    },
    {
     "ename": "SolverError",
     "evalue": "Solver 'SCS' failed. Try another solver, or solve with verbose=True for more information.",
     "output_type": "error",
     "traceback": [
      "\u001b[1;31m---------------------------------------------------------------------------\u001b[0m",
      "\u001b[1;31mSolverError\u001b[0m                               Traceback (most recent call last)",
      "\u001b[1;32m<ipython-input-6-31cb0afe2ecc>\u001b[0m in \u001b[0;36m<module>\u001b[1;34m\u001b[0m\n\u001b[0;32m      1\u001b[0m \u001b[1;31m# Testing the Diamond norm function.\u001b[0m\u001b[1;33m\u001b[0m\u001b[1;33m\u001b[0m\u001b[1;33m\u001b[0m\u001b[0m\n\u001b[0;32m      2\u001b[0m \u001b[0mchoi\u001b[0m \u001b[1;33m=\u001b[0m \u001b[0mnp\u001b[0m\u001b[1;33m.\u001b[0m\u001b[0marray\u001b[0m\u001b[1;33m(\u001b[0m\u001b[1;33m[\u001b[0m\u001b[1;33m[\u001b[0m\u001b[1;36m1\u001b[0m\u001b[1;33m/\u001b[0m\u001b[1;36m2\u001b[0m\u001b[1;33m,\u001b[0m\u001b[1;36m0\u001b[0m\u001b[1;33m,\u001b[0m\u001b[1;36m0\u001b[0m\u001b[1;33m,\u001b[0m\u001b[1;36m1\u001b[0m\u001b[1;33m/\u001b[0m\u001b[1;36m2\u001b[0m\u001b[1;33m]\u001b[0m\u001b[1;33m,\u001b[0m\u001b[1;33m[\u001b[0m\u001b[1;36m0\u001b[0m\u001b[1;33m,\u001b[0m\u001b[1;36m0\u001b[0m\u001b[1;33m,\u001b[0m\u001b[1;36m0\u001b[0m\u001b[1;33m,\u001b[0m\u001b[1;36m0\u001b[0m\u001b[1;33m]\u001b[0m\u001b[1;33m,\u001b[0m\u001b[1;33m[\u001b[0m\u001b[1;36m0\u001b[0m\u001b[1;33m,\u001b[0m\u001b[1;36m0\u001b[0m\u001b[1;33m,\u001b[0m\u001b[1;36m0\u001b[0m\u001b[1;33m,\u001b[0m\u001b[1;36m0\u001b[0m\u001b[1;33m]\u001b[0m\u001b[1;33m,\u001b[0m\u001b[1;33m[\u001b[0m\u001b[1;36m1\u001b[0m\u001b[1;33m/\u001b[0m\u001b[1;36m2\u001b[0m\u001b[1;33m,\u001b[0m\u001b[1;36m0\u001b[0m\u001b[1;33m,\u001b[0m\u001b[1;36m0\u001b[0m\u001b[1;33m,\u001b[0m\u001b[1;36m1\u001b[0m\u001b[1;33m/\u001b[0m\u001b[1;36m2\u001b[0m\u001b[1;33m]\u001b[0m\u001b[1;33m]\u001b[0m\u001b[1;33m,\u001b[0m \u001b[0mdtype\u001b[0m\u001b[1;33m=\u001b[0m\u001b[0mnp\u001b[0m\u001b[1;33m.\u001b[0m\u001b[0mcomplex128\u001b[0m\u001b[1;33m)\u001b[0m\u001b[1;33m\u001b[0m\u001b[1;33m\u001b[0m\u001b[0m\n\u001b[1;32m----> 3\u001b[1;33m \u001b[0mdnorm\u001b[0m \u001b[1;33m=\u001b[0m \u001b[0mDiamondNorm\u001b[0m\u001b[1;33m(\u001b[0m\u001b[0mchoi\u001b[0m\u001b[1;33m)\u001b[0m\u001b[1;33m\u001b[0m\u001b[1;33m\u001b[0m\u001b[0m\n\u001b[0m\u001b[0;32m      4\u001b[0m \u001b[0mprint\u001b[0m\u001b[1;33m(\u001b[0m\u001b[1;34m\"The Diamond norm of\\n{}\\nis {}.\"\u001b[0m\u001b[1;33m.\u001b[0m\u001b[0mformat\u001b[0m\u001b[1;33m(\u001b[0m\u001b[0mchoi\u001b[0m\u001b[1;33m,\u001b[0m \u001b[0mdnorm\u001b[0m\u001b[1;33m)\u001b[0m\u001b[1;33m)\u001b[0m\u001b[1;33m\u001b[0m\u001b[1;33m\u001b[0m\u001b[0m\n",
      "\u001b[1;32m<ipython-input-5-486d6945708d>\u001b[0m in \u001b[0;36mDiamondNorm\u001b[1;34m(choi, idnchan)\u001b[0m\n\u001b[0;32m     90\u001b[0m         \u001b[1;31m# print(\"Problem\\n{}\".format(prob))\u001b[0m\u001b[1;33m\u001b[0m\u001b[1;33m\u001b[0m\u001b[1;33m\u001b[0m\u001b[0m\n\u001b[0;32m     91\u001b[0m         \u001b[1;31m#### Solve and print the solution\u001b[0m\u001b[1;33m\u001b[0m\u001b[1;33m\u001b[0m\u001b[1;33m\u001b[0m\u001b[0m\n\u001b[1;32m---> 92\u001b[1;33m         \u001b[0mprob\u001b[0m\u001b[1;33m.\u001b[0m\u001b[0msolve\u001b[0m\u001b[1;33m(\u001b[0m\u001b[0msolver\u001b[0m\u001b[1;33m=\u001b[0m\u001b[1;34m\"SCS\"\u001b[0m\u001b[1;33m,\u001b[0m \u001b[0mparallel\u001b[0m\u001b[1;33m=\u001b[0m\u001b[1;32mTrue\u001b[0m\u001b[1;33m,\u001b[0m \u001b[0mverbose\u001b[0m\u001b[1;33m=\u001b[0m\u001b[1;32mFalse\u001b[0m\u001b[1;33m)\u001b[0m\u001b[1;33m\u001b[0m\u001b[1;33m\u001b[0m\u001b[0m\n\u001b[0m\u001b[0;32m     93\u001b[0m         \u001b[0mdnorm\u001b[0m \u001b[1;33m=\u001b[0m \u001b[0mobj\u001b[0m\u001b[1;33m.\u001b[0m\u001b[0mvalue\u001b[0m\u001b[1;33m\u001b[0m\u001b[1;33m\u001b[0m\u001b[0m\n\u001b[0;32m     94\u001b[0m         \u001b[1;31m# print(\"Diamond norm from CVXPY = {}.\".format(dnorm))\u001b[0m\u001b[1;33m\u001b[0m\u001b[1;33m\u001b[0m\u001b[1;33m\u001b[0m\u001b[0m\n",
      "\u001b[1;32mC:\\ProgramData\\Anaconda3\\lib\\site-packages\\cvxpy\\problems\\problem.py\u001b[0m in \u001b[0;36msolve\u001b[1;34m(self, *args, **kwargs)\u001b[0m\n\u001b[0;32m    288\u001b[0m         \u001b[1;32melse\u001b[0m\u001b[1;33m:\u001b[0m\u001b[1;33m\u001b[0m\u001b[1;33m\u001b[0m\u001b[0m\n\u001b[0;32m    289\u001b[0m             \u001b[0msolve_func\u001b[0m \u001b[1;33m=\u001b[0m \u001b[0mProblem\u001b[0m\u001b[1;33m.\u001b[0m\u001b[0m_solve\u001b[0m\u001b[1;33m\u001b[0m\u001b[1;33m\u001b[0m\u001b[0m\n\u001b[1;32m--> 290\u001b[1;33m         \u001b[1;32mreturn\u001b[0m \u001b[0msolve_func\u001b[0m\u001b[1;33m(\u001b[0m\u001b[0mself\u001b[0m\u001b[1;33m,\u001b[0m \u001b[1;33m*\u001b[0m\u001b[0margs\u001b[0m\u001b[1;33m,\u001b[0m \u001b[1;33m**\u001b[0m\u001b[0mkwargs\u001b[0m\u001b[1;33m)\u001b[0m\u001b[1;33m\u001b[0m\u001b[1;33m\u001b[0m\u001b[0m\n\u001b[0m\u001b[0;32m    291\u001b[0m \u001b[1;33m\u001b[0m\u001b[0m\n\u001b[0;32m    292\u001b[0m     \u001b[1;33m@\u001b[0m\u001b[0mclassmethod\u001b[0m\u001b[1;33m\u001b[0m\u001b[1;33m\u001b[0m\u001b[0m\n",
      "\u001b[1;32mC:\\ProgramData\\Anaconda3\\lib\\site-packages\\cvxpy\\problems\\problem.py\u001b[0m in \u001b[0;36m_solve\u001b[1;34m(self, solver, warm_start, verbose, parallel, gp, qcp, **kwargs)\u001b[0m\n\u001b[0;32m    573\u001b[0m         \u001b[0mfull_chain\u001b[0m \u001b[1;33m=\u001b[0m \u001b[0mself\u001b[0m\u001b[1;33m.\u001b[0m\u001b[0m_solving_chain\u001b[0m\u001b[1;33m.\u001b[0m\u001b[0mprepend\u001b[0m\u001b[1;33m(\u001b[0m\u001b[0mself\u001b[0m\u001b[1;33m.\u001b[0m\u001b[0m_intermediate_chain\u001b[0m\u001b[1;33m)\u001b[0m\u001b[1;33m\u001b[0m\u001b[1;33m\u001b[0m\u001b[0m\n\u001b[0;32m    574\u001b[0m         \u001b[0minverse_data\u001b[0m \u001b[1;33m=\u001b[0m \u001b[0mself\u001b[0m\u001b[1;33m.\u001b[0m\u001b[0m_intermediate_inverse_data\u001b[0m \u001b[1;33m+\u001b[0m \u001b[0msolving_inverse_data\u001b[0m\u001b[1;33m\u001b[0m\u001b[1;33m\u001b[0m\u001b[0m\n\u001b[1;32m--> 575\u001b[1;33m         \u001b[0mself\u001b[0m\u001b[1;33m.\u001b[0m\u001b[0munpack_results\u001b[0m\u001b[1;33m(\u001b[0m\u001b[0msolution\u001b[0m\u001b[1;33m,\u001b[0m \u001b[0mfull_chain\u001b[0m\u001b[1;33m,\u001b[0m \u001b[0minverse_data\u001b[0m\u001b[1;33m)\u001b[0m\u001b[1;33m\u001b[0m\u001b[1;33m\u001b[0m\u001b[0m\n\u001b[0m\u001b[0;32m    576\u001b[0m         \u001b[1;32mreturn\u001b[0m \u001b[0mself\u001b[0m\u001b[1;33m.\u001b[0m\u001b[0mvalue\u001b[0m\u001b[1;33m\u001b[0m\u001b[1;33m\u001b[0m\u001b[0m\n\u001b[0;32m    577\u001b[0m \u001b[1;33m\u001b[0m\u001b[0m\n",
      "\u001b[1;32mC:\\ProgramData\\Anaconda3\\lib\\site-packages\\cvxpy\\problems\\problem.py\u001b[0m in \u001b[0;36munpack_results\u001b[1;34m(self, solution, chain, inverse_data)\u001b[0m\n\u001b[0;32m    716\u001b[0m             raise error.SolverError(\n\u001b[0;32m    717\u001b[0m                     \u001b[1;34m\"Solver '%s' failed. \"\u001b[0m \u001b[1;33m%\u001b[0m \u001b[0mchain\u001b[0m\u001b[1;33m.\u001b[0m\u001b[0msolver\u001b[0m\u001b[1;33m.\u001b[0m\u001b[0mname\u001b[0m\u001b[1;33m(\u001b[0m\u001b[1;33m)\u001b[0m \u001b[1;33m+\u001b[0m\u001b[1;33m\u001b[0m\u001b[1;33m\u001b[0m\u001b[0m\n\u001b[1;32m--> 718\u001b[1;33m                     \u001b[1;34m\"Try another solver, or solve with verbose=True for more \"\u001b[0m\u001b[1;33m\u001b[0m\u001b[1;33m\u001b[0m\u001b[0m\n\u001b[0m\u001b[0;32m    719\u001b[0m                     \"information.\")\n\u001b[0;32m    720\u001b[0m         \u001b[0mself\u001b[0m\u001b[1;33m.\u001b[0m\u001b[0munpack\u001b[0m\u001b[1;33m(\u001b[0m\u001b[0msolution\u001b[0m\u001b[1;33m)\u001b[0m\u001b[1;33m\u001b[0m\u001b[1;33m\u001b[0m\u001b[0m\n",
      "\u001b[1;31mSolverError\u001b[0m: Solver 'SCS' failed. Try another solver, or solve with verbose=True for more information."
     ]
    }
   ],
   "source": [
    "# Testing the Diamond norm function.\n",
    "choi = np.array([[1/2,0,0,1/2],[0,0,0,0],[0,0,0,0],[1/2,0,0,1/2]], dtype=np.complex128)\n",
    "dnorm = DiamondNorm(choi)\n",
    "print(\"The Diamond norm of\\n{}\\nis {}.\".format(choi, dnorm))"
   ]
  },
  {
   "cell_type": "code",
   "execution_count": null,
   "metadata": {},
   "outputs": [],
   "source": []
  }
 ],
 "metadata": {
  "kernelspec": {
   "display_name": "Python 3",
   "language": "python",
   "name": "python3"
  },
  "language_info": {
   "codemirror_mode": {
    "name": "ipython",
    "version": 3
   },
   "file_extension": ".py",
   "mimetype": "text/x-python",
   "name": "python",
   "nbconvert_exporter": "python",
   "pygments_lexer": "ipython3",
   "version": "3.7.5"
  }
 },
 "nbformat": 4,
 "nbformat_minor": 2
}
