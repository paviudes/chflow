{
 "cells": [
  {
   "cell_type": "code",
   "execution_count": 1,
   "metadata": {},
   "outputs": [],
   "source": [
    "import math\n",
    "import numpy as np\n",
    "import cvxpy as cvx\n",
    "import cvxopt as cvxo"
   ]
  },
  {
   "cell_type": "code",
   "execution_count": 10,
   "metadata": {},
   "outputs": [],
   "source": [
    "def DiamondNorm(choi, refchan=None):\n",
    "\t\"\"\"\n",
    "\tCompute the Diamond distance using SDP solver from the CVXPY package.\n",
    "\t\n",
    "\tThe inputs are:\n",
    "\t\t1. choi -- the Choi-Jamilowski matrix of the input channel, J. \n",
    "\t\t2. refchan -- the Choi-Jamilowski matrix of a reference channel from which the Diamond distance needs to be computed.\n",
    "\n",
    "\tThe program follows the precription in https://arxiv.org/abs/1207.5726.\n",
    "\n",
    "\tThe Diamond distance is defined as follows.\n",
    "\tMaximize:\n",
    "\t\t1/2 * (J | X) + 1/2 * (J' | X'),\n",
    "\twhere M' is the Hermitian conjugate of M.\n",
    "\tSubject to the constraints: M =\n",
    "\t\t[I o R1      X       ]\n",
    "\t\t[X'         I o R2   ]\n",
    "\t\t>>\n",
    "\t\t0\n",
    "\twhere\n",
    "\t\tR1 and R2 are density matrices, i.e., R1 >> 0, R2 >> 0 and trace(R1) == 1, trace(R2) == 1.\n",
    "\t\tX is a linear operator whose dimension is that of J.\n",
    "\tWe will also use the property that for a complex matrix X = Xr + i Xi:\n",
    "\tX >> 0 if and only if\n",
    "\t[Xr    Xi]\n",
    "\t[-Xi   Xr]\n",
    "\t>>\n",
    "\t0\n",
    "\t\"\"\"\n",
    "\n",
    "\tif refchan is None:\n",
    "\t\trefchan = np.zeros_like(choi)\n",
    "\n",
    "\tnqubits = int(math.log(choi.shape[0], 4))\n",
    "\t#### Constants and Variables\n",
    "\tI = cvx.Constant(np.eye(2 ** nqubits))\n",
    "\tZ = cvx.Constant(np.zeros((2 ** nqubits, 2 ** nqubits)))\n",
    "\n",
    "\tJr = cvx.Constant(value=np.real(choi - refchan))\n",
    "\tJi = cvx.Constant(value=np.imag(choi - refchan))\n",
    "\n",
    "\tXr = cvx.Variable(name=\"Xr\", shape=(4 ** nqubits, 4 ** nqubits))\n",
    "\tXi = cvx.Variable(name=\"Xi\", shape=(4 ** nqubits, 4 ** nqubits))\n",
    "\n",
    "\tR1r = cvx.Variable(name=\"R1r\", shape=(2 ** nqubits, 2 ** nqubits), symmetric=True)\n",
    "\tR1i = cvx.Variable(name=\"R1i\", shape=(2 ** nqubits, 2 ** nqubits))\n",
    "\n",
    "\tR2r = cvx.Variable(name=\"R2r\", shape=(2 ** nqubits, 2 ** nqubits), symmetric=True)\n",
    "\tR2i = cvx.Variable(name=\"R2i\", shape=(2 ** nqubits, 2 ** nqubits))\n",
    "\n",
    "\t#### Constraints\n",
    "\tconstraints = []\n",
    "\n",
    "\t# R1 is a density matrix\n",
    "\tconstraints.append(cvx.bmat([[R1r, -1 * R1i], [R1i, R1r]]) >> 0)\n",
    "\tconstraints.append(cvx.trace(R1r) == 1)\n",
    "\tconstraints.append(R1i == -1 * R1i.T)\n",
    "\tconstraints.append(cvx.trace(R1i) == 0)\n",
    "\n",
    "\t# R1 is a density matrix\n",
    "\tconstraints.append(cvx.bmat([[R2r, -1 * R2i], [R2i, R2r]]) >> 0)\n",
    "\tconstraints.append(cvx.trace(R2r) == 1)\n",
    "\tconstraints.append(R2i == -1 * R2i.T)\n",
    "\tconstraints.append(cvx.trace(R2i) == 0)\n",
    "\n",
    "\tconstraints.append(\n",
    "\t\tcvx.bmat(\n",
    "\t\t\t[\n",
    "\t\t\t\t[cvx.kron(I, R1r), Xr, -1 * cvx.kron(I, R1i), -1 * Xi],\n",
    "\t\t\t\t[Xr.T, cvx.kron(I, R2r), Xi.T, -1 * cvx.kron(I, R2i)],\n",
    "\t\t\t\t[cvx.kron(I, R1i), Xi, cvx.kron(I, R1r), Xr],\n",
    "\t\t\t\t[-1 * Xi.T, cvx.kron(I, R2i), Xr.T, cvx.kron(I, R2r)],\n",
    "\t\t\t]\n",
    "\t\t)\n",
    "\t\t>> 0\n",
    "\t)\n",
    "\n",
    "\t#### Objective\n",
    "\tobj = cvx.Maximize(cvx.trace(Jr.T @ Xr) + cvx.trace(Ji.T @ Xi))\n",
    "\n",
    "\t#### Setting up the problem\n",
    "\tprob = cvx.Problem(obj, constraints=constraints)\n",
    "\t# print(\"Problem\\n{}\".format(prob))\n",
    "\t#### Solve and print the solution\n",
    "\tprob.solve(solver=\"CVXOPT\", verbose=False, max_iters=5000)\n",
    "\tdnorm = obj.value\n",
    "\t# print(\"Diamond norm from CVXPY = {}.\".format(dnorm))\n",
    "\treturn dnorm"
   ]
  },
  {
   "cell_type": "code",
   "execution_count": 11,
   "metadata": {},
   "outputs": [
    {
     "name": "stdout",
     "output_type": "stream",
     "text": [
      "The Diamond distance between \n",
      "[[ 0.9638+0.j     -0.0597+0.1771j  0.1259+0.1382j  0.8824-0.3875j]\n",
      " [-0.0597-0.1771j  0.0362+0.j      0.0176-0.0317j -0.1259-0.1382j]\n",
      " [ 0.1259-0.1382j  0.0176+0.0317j  0.0362+0.j      0.0597-0.1771j]\n",
      " [ 0.8824+0.3875j -0.1259+0.1382j  0.0597+0.1771j  0.9638+0.j    ]]\n",
      " and  \n",
      "[[1.+0.j 0.+0.j 0.+0.j 1.+0.j]\n",
      " [0.+0.j 0.+0.j 0.+0.j 0.+0.j]\n",
      " [0.+0.j 0.+0.j 0.+0.j 0.+0.j]\n",
      " [1.+0.j 0.+0.j 0.+0.j 1.+0.j]] \n",
      "is \n",
      " 0.554740915220512.\n"
     ]
    }
   ],
   "source": [
    "# Example 2 - diamond distance between A and B\n",
    "choiA = np.array([[ 0.9638+0.j , -0.0597+0.1771j , 0.1259+0.1382j , 0.8824-0.3875j],\n",
    " [-0.0597-0.1771j ,  0.0362+0.j ,  0.0176-0.0317j ,-0.1259-0.1382j],\n",
    " [ 0.1259-0.1382j , 0.0176+0.0317j , 0.0362+0.j    ,  0.0597-0.1771j],\n",
    " [ 0.8824+0.3875j ,-0.1259+0.1382j , 0.0597+0.1771j , 0.9638+0.j    ]],dtype=np.complex128)\n",
    "choiB = np.array([[1.+0.j, 0.+0.j, 0.+0.j ,1.+0.j],\n",
    " [0.+0.j, 0.+0.j, 0.+0.j, 0.+0.j],\n",
    " [0.+0.j, 0.+0.j, 0.+0.j, 0.+0.j],\n",
    " [1.+0.j, 0.+0.j, 0.+0.j, 1.+0.j]])\n",
    "\n",
    "dnorm = DiamondNorm(choiA,choiB)\n",
    "print(\"The Diamond distance between \\n{}\\n and  \\n{} \\nis \\n {}.\".format(choiA,choiB, dnorm))"
   ]
  },
  {
   "cell_type": "code",
   "execution_count": 4,
   "metadata": {},
   "outputs": [
    {
     "name": "stdout",
     "output_type": "stream",
     "text": [
      "The Diamond norm of \n",
      "[[ 0.9638+0.j     -0.0597+0.1771j  0.1259+0.1382j  0.8824-0.3875j]\n",
      " [-0.0597-0.1771j  0.0362+0.j      0.0176-0.0317j -0.1259-0.1382j]\n",
      " [ 0.1259-0.1382j  0.0176+0.0317j  0.0362+0.j      0.0597-0.1771j]\n",
      " [ 0.8824+0.3875j -0.1259+0.1382j  0.0597+0.1771j  0.9638+0.j    ]]\n",
      " is \n",
      " 1.000117734290764.\n"
     ]
    }
   ],
   "source": [
    "# Example 2 - diamond norm of A\n",
    "choiA = np.array([[ 0.9638+0.j , -0.0597+0.1771j , 0.1259+0.1382j , 0.8824-0.3875j],\n",
    " [-0.0597-0.1771j ,  0.0362+0.j ,  0.0176-0.0317j ,-0.1259-0.1382j],\n",
    " [ 0.1259-0.1382j , 0.0176+0.0317j , 0.0362+0.j    ,  0.0597-0.1771j],\n",
    " [ 0.8824+0.3875j ,-0.1259+0.1382j , 0.0597+0.1771j , 0.9638+0.j    ]],dtype=np.complex128)\n",
    "\n",
    "dnorm = DiamondNorm(choiA)\n",
    "print(\"The Diamond norm of \\n{}\\n is \\n {}.\".format(choiA, dnorm))"
   ]
  },
  {
   "cell_type": "code",
   "execution_count": 5,
   "metadata": {},
   "outputs": [],
   "source": [
    "import picos as pic\n",
    "def DiamondNormDraft(choi):\n",
    "    # computes the diamond norm of the difference between an input Channel and another reference channel, which is by default, the identity channel\n",
    "    # The semidefinite program outlined in Sec. 4 of DOI: 10.4086/toc.2009.v005a011 is used here.\n",
    "    # See also: https://github.com/BBN-Q/matlab-diamond-norm/blob/master/src/dnorm.m\n",
    "    # For some known types of channels, the Diamond norm can be computed efficiently\n",
    "    # print(\"Function: dnorm\")\n",
    "    bell = np.array([[1.+0.j, 0.+0.j, 0.+0.j ,1.+0.j],[0.+0.j, 0.+0.j, 0.+0.j, 0.+0.j],[0.+0.j, 0.+0.j, 0.+0.j, 0.+0.j],[1.+0.j, 0.+0.j, 0.+0.j, 1.+0.j]])\n",
    "    # dnorm = DiamondNormSimpler(choi, gv.bell[0, :, :])\n",
    "    diff = (choi - bell).astype(complex)\n",
    "    #### picos optimization problem\n",
    "    prob = pic.Problem()\n",
    "    # variables and parameters in the problem\n",
    "    J = pic.new_param(\"J\", cvxo.matrix(diff))\n",
    "    Z = pic.Constant(\"Z\", cvxo.matrix(np.zeros((2, 2), dtype=np.double)))\n",
    "    rho = prob.add_variable(\"rho\", (2, 2), \"hermitian\")\n",
    "    W = prob.add_variable(\"W\", (4, 4), \"hermitian\")\n",
    "    # objective function (maximize the hilbert schmidt inner product -- denoted by '|'. Here A|B means trace(A^\\dagger * B))\n",
    "    prob.set_objective(\"max\", J | W)\n",
    "    # adding the constraints\n",
    "    prob.add_constraint(W >> 0)\n",
    "    prob.add_constraint(rho >> 0)\n",
    "    prob.add_constraint((\"I\" | rho) == 1)\n",
    "    prob.add_constraint((W - ((rho & Z) // (Z & rho))) << 0)\n",
    "    # solving the problem\n",
    "    prob.solve(solver=\"cvxopt\", verbosity=0, max_iterations=5000)\n",
    "    dnorm = np.double(prob) * 2\n",
    "    # print(\"SDP dnorm = %.4e\" % (dnorm))\n",
    "    return dnorm"
   ]
  },
  {
   "cell_type": "code",
   "execution_count": 6,
   "metadata": {},
   "outputs": [
    {
     "name": "stderr",
     "output_type": "stream",
     "text": [
      "/Library/Frameworks/Python.framework/Versions/3.7/lib/python3.7/site-packages/ipykernel_launcher.py:14: DeprecationWarning: new_param is deprecated: Use Constant instead.\n",
      "  \n",
      "/Library/Frameworks/Python.framework/Versions/3.7/lib/python3.7/site-packages/ipykernel_launcher.py:16: DeprecationWarning: Problem.add_variable is deprecated: Variables can now be created independent of problems, and do not need to be added to any problem explicitly.\n",
      "  app.launch_new_instance()\n",
      "/Library/Frameworks/Python.framework/Versions/3.7/lib/python3.7/site-packages/ipykernel_launcher.py:17: DeprecationWarning: Problem.add_variable is deprecated: Variables can now be created independent of problems, and do not need to be added to any problem explicitly.\n"
     ]
    },
    {
     "data": {
      "text/plain": [
       "0.5547409151575111"
      ]
     },
     "execution_count": 6,
     "metadata": {},
     "output_type": "execute_result"
    }
   ],
   "source": [
    "DiamondNormDraft(choiA)"
   ]
  },
  {
   "cell_type": "code",
   "execution_count": 7,
   "metadata": {},
   "outputs": [
    {
     "data": {
      "text/plain": [
       "['cvxopt', 'ecos']"
      ]
     },
     "execution_count": 7,
     "metadata": {},
     "output_type": "execute_result"
    }
   ],
   "source": [
    "pic.available_solvers()"
   ]
  },
  {
   "cell_type": "code",
   "execution_count": null,
   "metadata": {},
   "outputs": [],
   "source": [
    "0.5547409151575111, 0.554740915220512"
   ]
  }
 ],
 "metadata": {
  "kernelspec": {
   "display_name": "Python 3",
   "language": "python",
   "name": "python3"
  },
  "language_info": {
   "codemirror_mode": {
    "name": "ipython",
    "version": 3
   },
   "file_extension": ".py",
   "mimetype": "text/x-python",
   "name": "python",
   "nbconvert_exporter": "python",
   "pygments_lexer": "ipython3",
   "version": "3.7.1"
  }
 },
 "nbformat": 4,
 "nbformat_minor": 2
}
