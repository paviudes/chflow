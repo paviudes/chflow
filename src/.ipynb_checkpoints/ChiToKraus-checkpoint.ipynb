{
 "cells": [
  {
   "cell_type": "code",
   "execution_count": 2,
   "metadata": {},
   "outputs": [
    {
     "name": "stdout",
     "output_type": "stream",
     "text": [
      "chi\n",
      "[[0.5 +0.j   0.  +0.j   0.  +0.j   0.  +0.j  ]\n",
      " [0.  +0.j   0.25+0.j   0.  +0.j   0.01-0.02j]\n",
      " [0.  +0.j   0.  +0.j   0.  +0.j   0.  +0.j  ]\n",
      " [0.  +0.j   0.01+0.02j 0.  +0.j   0.25+0.j  ]]\n",
      "All eigenvalues >=0  : [ True  True  True  True]\n",
      "Sum of all eigenvalues : 1.0\n",
      "False\n",
      "[[1.+0.j   0.-0.04j]\n",
      " [0.+0.04j 1.+0.j  ]]\n"
     ]
    }
   ],
   "source": [
    "import numpy as np\n",
    "from define import globalvars as gv\n",
    "beta = 0.5\n",
    "gamma = 0.25\n",
    "z = 0.01 - 0.02j\n",
    "chi = np.array([[beta,0,0,0],[0,gamma,0,z],[0,0,0,0],[0,np.conj(z),0,gamma]])\n",
    "print(\"chi\\n{}\".format(chi))\n",
    "# Eigendecomposition\n",
    "v,w = np.linalg.eigh(chi)\n",
    "w_inv = np.linalg.inv(w)\n",
    "\n",
    "# Getting the Kraus\n",
    "kraus = np.zeros((4,2,2),dtype=np.complex128)\n",
    "for alpha in range(4):\n",
    "        for beta in range(4):\n",
    "            kraus[alpha] += w[beta][alpha]*gv.Pauli[beta]\n",
    "        kraus[alpha] *= np.sqrt(v[alpha])\n",
    "\n",
    "#Check chi validity\n",
    "print(\"All eigenvalues >=0  : {}\".format(v >=0))\n",
    "print(\"Sum of all eigenvalues : {}\".format(np.sum(v)))\n",
    "\n",
    "# #Normalization check for Kraus\n",
    "# S = np.zeros((2,2), dtype=np.complex128)\n",
    "# for k in range(4):\n",
    "#     S += np.dot(np.conj(kraus[k].T) ,kraus[k])\n",
    "# print(np.allclose(S,np.eye(2)))\n",
    "# print(np.round(S,2))\n",
    "\n",
    "# # Reconstruct chi from Kraus\n",
    "# # chi reconstructed from kraus\n",
    "# chi_reconstructed = np.zeros((4,4), dtype = np.complex128)\n",
    "# for alpha in range(4):\n",
    "#     for beta in range(4):\n",
    "#         for gamma in range(4):\n",
    "#                 chi_reconstructed[alpha][beta] += np.trace(np.dot(kraus[gamma],gv.Pauli[alpha]))*np.trace(np.dot(np.conj(kraus[gamma].T),gv.Pauli[beta]))\n",
    "# chi_reconstructed /= np.trace(chi_reconstructed)\n",
    "# print(np.round(chi_reconstructed,2))\n",
    "\n",
    "from define.chanreps import ConvertRepresentations\n",
    "kraus_pavi = ConvertRepresentations(chi,\"chi\",\"krauss\")\n",
    "#Normalization check for Kraus\n",
    "S_pavi = np.zeros((2,2), dtype=np.complex128)\n",
    "for k in range(4):\n",
    "    S_pavi += np.dot(np.conj(kraus_pavi[k].T) ,kraus_pavi[k])\n",
    "print(np.allclose(S_pavi,np.eye(2)))\n",
    "print(np.round(S_pavi,2))\n",
    "\n"
   ]
  },
  {
   "cell_type": "code",
   "execution_count": null,
   "metadata": {},
   "outputs": [],
   "source": []
  }
 ],
 "metadata": {
  "kernelspec": {
   "display_name": "Python 3",
   "language": "python",
   "name": "python3"
  },
  "language_info": {
   "codemirror_mode": {
    "name": "ipython",
    "version": 3
   },
   "file_extension": ".py",
   "mimetype": "text/x-python",
   "name": "python",
   "nbconvert_exporter": "python",
   "pygments_lexer": "ipython3",
   "version": "3.7.1"
  }
 },
 "nbformat": 4,
 "nbformat_minor": 4
}
