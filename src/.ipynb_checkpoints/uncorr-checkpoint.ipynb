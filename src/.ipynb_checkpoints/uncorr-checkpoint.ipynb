{
 "cells": [
  {
   "cell_type": "code",
   "execution_count": 1,
   "metadata": {},
   "outputs": [],
   "source": [
    "from define import qcode as qc\n",
    "import numpy as np\n",
    "from define.QECCLfid import uncorrectable as uc\n",
    "from define.QECCLfid import minwt as mw\n",
    "from define import globalvars as gv\n",
    "from define import chanreps as chrep\n",
    "%load_ext line_profiler"
   ]
  },
  {
   "cell_type": "code",
   "execution_count": 2,
   "metadata": {},
   "outputs": [],
   "source": [
    "def Probability(P, pauli_probs, qcode):\n",
    "    # Probability in the LST ordering.\n",
    "    return pauli_probs[qcode.GetPositionInLST(P)]"
   ]
  },
  {
   "cell_type": "code",
   "execution_count": 3,
   "metadata": {},
   "outputs": [
    {
     "name": "stdout",
     "output_type": "stream",
     "text": [
      "0.9843166311908921\n"
     ]
    }
   ],
   "source": [
    "qcode = qc.QuantumErrorCorrectingCode(\"Steane\")\n",
    "qc.Load(qcode)\n",
    "qc.populate_symplectic(qcode)\n",
    "mw.ComputeCorrectableIndices(qcode)\n",
    "#correctable_set = np.array(qcode.Paulis_correctable, dtype=np.int)\n",
    "sqprobs = np.random.rand(4)\n",
    "sqprobs[0] = 1-0.66**10\n",
    "sqprobs[1:] = (1-sqprobs[0]) * sqprobs[1:]/np.sum(sqprobs[1:])\n",
    "print(sqprobs[0])\n",
    "probs = np.tile(sqprobs, [qcode.N, 1])"
   ]
  },
  {
   "cell_type": "code",
   "execution_count": 4,
   "metadata": {},
   "outputs": [
    {
     "name": "stdout",
     "output_type": "stream",
     "text": [
      "[8.95248829e-01 1.79782831e-05 1.79782831e-05 ... 5.31172658e-10\n",
      " 5.31172658e-10 6.18215401e-08]\n"
     ]
    }
   ],
   "source": [
    "pauli_probs = np.ones(qcode.PauliOperatorsLST.shape[0], dtype=np.double)\n",
    "for i in range(qcode.PauliOperatorsLST.shape[0]):\n",
    "    for q in range(qcode.N):\n",
    "        pauli_probs[i] *= probs[q, qcode.PauliOperatorsLST[i, q]]\n",
    "print(pauli_probs)"
   ]
  },
  {
   "cell_type": "code",
   "execution_count": null,
   "metadata": {},
   "outputs": [],
   "source": [
    "mw.ComputeUncorrProbs(np.tile(probs, [qcode.N, 1]), qcode, 3)"
   ]
  },
  {
   "cell_type": "code",
   "execution_count": null,
   "metadata": {},
   "outputs": [],
   "source": [
    "%lprun -f mw.ComputeUncorrProbs mw.ComputeUncorrProbs(np.tile(probs, [qcode.N, 1]), qcode, 3)"
   ]
  },
  {
   "cell_type": "code",
   "execution_count": 24,
   "metadata": {},
   "outputs": [],
   "source": [
    "uncorrs = np.load(\"/Users/pavi/Documents/chbank/27_05_2020_09_39_46/results/phy_uncorr.npy\")\n",
    "infids = np.load(\"/Users/pavi/Documents/chbank/27_05_2020_09_39_46/results/log_infid.npy\")"
   ]
  },
  {
   "cell_type": "code",
   "execution_count": 25,
   "metadata": {},
   "outputs": [
    {
     "data": {
      "text/plain": [
       "array([ 1.40670857e-04,  3.21880510e-05, -3.25388541e-06,  1.38404763e-04,\n",
       "       -9.20130136e-06, -6.91891355e-06,  1.13925886e-05,  1.27039905e-04,\n",
       "       -1.31529085e-05, -7.36305749e-06,  1.09163467e-04, -6.15133305e-06,\n",
       "       -1.64238384e-05,  1.05615161e-05,  8.29101467e-07, -8.79240342e-06,\n",
       "        3.42348681e-06,  1.64900243e-05,  3.36946727e-05, -7.40385064e-06,\n",
       "        6.05438616e-06,  4.19977032e-06,  1.01377711e-05, -1.17584305e-05,\n",
       "        5.10785222e-06,  5.88096717e-06,  2.02684063e-06,  1.98157235e-06,\n",
       "        4.75330653e-06, -4.12056785e-06, -4.88745965e-06, -2.09711380e-06,\n",
       "        1.17075591e-05,  9.44098417e-08, -1.47142354e-05,  3.64611097e-06,\n",
       "       -4.92173866e-07, -1.79629122e-06, -9.53318393e-07,  2.49600948e-06,\n",
       "       -1.84540350e-06,  2.63963886e-06,  1.14884326e-06, -5.53603476e-07,\n",
       "       -1.19302098e-06,  9.01627724e-07, -3.64827593e-07, -4.66490893e-09],\n",
       "      dtype=float128)"
      ]
     },
     "execution_count": 25,
     "metadata": {},
     "output_type": "execute_result"
    }
   ],
   "source": [
    "(uncorrs - infids)[:100, 2]"
   ]
  },
  {
   "cell_type": "code",
   "execution_count": 26,
   "metadata": {},
   "outputs": [
    {
     "data": {
      "text/plain": [
       "array([0.06737828, 0.06118433, 0.04008681, 0.05093823, 0.04258375,\n",
       "       0.02755029, 0.04678716, 0.04471405, 0.02710178, 0.03599801,\n",
       "       0.03657728, 0.03310408, 0.013443  , 0.02174353, 0.01686321,\n",
       "       0.01571178, 0.01427647, 0.0161075 , 0.01875279, 0.01295241,\n",
       "       0.0097932 , 0.00942358, 0.00689282, 0.0073227 , 0.0063467 ,\n",
       "       0.00540666, 0.005282  , 0.00565181, 0.00424256, 0.00314175,\n",
       "       0.00496157, 0.00373678, 0.00403013, 0.00249572, 0.00353926,\n",
       "       0.00342047, 0.00172602, 0.00212245, 0.00163   , 0.00141622,\n",
       "       0.00112864, 0.00138403, 0.00103552, 0.00100751, 0.00081836,\n",
       "       0.00066577, 0.000558  , 0.0006888 ], dtype=float128)"
      ]
     },
     "execution_count": 26,
     "metadata": {},
     "output_type": "execute_result"
    }
   ],
   "source": [
    "infids[:, 1]"
   ]
  },
  {
   "cell_type": "code",
   "execution_count": 27,
   "metadata": {},
   "outputs": [
    {
     "data": {
      "text/plain": [
       "array([[3.96971357e-01, 6.73782766e-02, 6.23741941e-02],\n",
       "       [3.85120997e-01, 6.11843323e-02, 5.37637014e-02],\n",
       "       [3.26732418e-01, 4.00868133e-02, 2.30210472e-02],\n",
       "       [3.56287245e-01, 5.09382295e-02, 3.64515178e-02],\n",
       "       [3.25032780e-01, 4.25837488e-02, 2.64822237e-02],\n",
       "       [2.67955037e-01, 2.75502928e-02, 1.15409710e-02],\n",
       "       [3.35641096e-01, 4.67871583e-02, 3.24003361e-02],\n",
       "       [3.43389548e-01, 4.47140495e-02, 2.79144519e-02],\n",
       "       [2.68409814e-01, 2.71017788e-02, 1.08377530e-02],\n",
       "       [3.09056536e-01, 3.59980128e-02, 1.82936141e-02],\n",
       "       [2.99041968e-01, 3.65772758e-02, 2.07897473e-02],\n",
       "       [2.91893614e-01, 3.31040793e-02, 1.62231749e-02],\n",
       "       [1.79766472e-01, 1.34430035e-02, 3.26529285e-03],\n",
       "       [2.41136531e-01, 2.17435317e-02, 7.14544293e-03],\n",
       "       [2.12332217e-01, 1.68632068e-02, 4.42784171e-03],\n",
       "       [2.05974455e-01, 1.57117765e-02, 3.85582322e-03],\n",
       "       [1.92492330e-01, 1.42764740e-02, 3.67344725e-03],\n",
       "       [2.10366413e-01, 1.61074971e-02, 3.94682988e-03],\n",
       "       [2.18803315e-01, 1.87527863e-02, 5.97708583e-03],\n",
       "       [1.92053731e-01, 1.29524142e-02, 2.51997996e-03],\n",
       "       [1.66132419e-01, 9.79320058e-03, 1.52469390e-03],\n",
       "       [1.64795560e-01, 9.42357595e-03, 1.36085363e-03],\n",
       "       [1.38912215e-01, 6.89281758e-03, 7.57639730e-04],\n",
       "       [1.45196994e-01, 7.32269679e-03, 8.30871773e-04],\n",
       "       [1.31815653e-01, 6.34669953e-03, 6.65544887e-04],\n",
       "       [1.21546676e-01, 5.40666443e-03, 4.80379600e-04],\n",
       "       [1.24030029e-01, 5.28199829e-03, 4.31734875e-04],\n",
       "       [1.24278701e-01, 5.65181399e-03, 5.69627697e-04],\n",
       "       [1.10725894e-01, 4.24255999e-03, 2.87231579e-04],\n",
       "       [9.74329463e-02, 3.14174673e-03, 1.55715470e-04],\n",
       "       [1.14352931e-01, 4.96157362e-03, 4.42951948e-04],\n",
       "       [1.06604652e-01, 3.73677749e-03, 2.14566320e-04],\n",
       "       [1.03288690e-01, 4.03013373e-03, 2.83501714e-04],\n",
       "       [8.50158517e-02, 2.49571567e-03, 1.07705801e-04],\n",
       "       [9.30785485e-02, 3.53925697e-03, 2.39935721e-04],\n",
       "       [9.81675860e-02, 3.42047309e-03, 1.89418904e-04],\n",
       "       [6.93009874e-02, 1.72601936e-03, 5.37046173e-05],\n",
       "       [7.50533594e-02, 2.12244876e-03, 8.02748741e-05],\n",
       "       [6.70664706e-02, 1.62999827e-03, 4.52171066e-05],\n",
       "       [6.17340997e-02, 1.41621943e-03, 3.47905877e-05],\n",
       "       [5.73704126e-02, 1.12864342e-03, 2.05400252e-05],\n",
       "       [6.05280547e-02, 1.38403284e-03, 3.40580518e-05],\n",
       "       [5.58452746e-02, 1.03552234e-03, 1.67421536e-05],\n",
       "       [5.25700262e-02, 1.00751302e-03, 1.79008307e-05],\n",
       "       [4.87699983e-02, 8.18356660e-04, 1.08417159e-05],\n",
       "       [4.22125686e-02, 6.65768309e-04, 8.04605262e-06],\n",
       "       [4.10665257e-02, 5.57998126e-04, 5.16206069e-06],\n",
       "       [4.60635911e-02, 6.88801688e-04, 7.43069327e-06]])"
      ]
     },
     "execution_count": 27,
     "metadata": {},
     "output_type": "execute_result"
    }
   ],
   "source": [
    "uncorrs[:,:]"
   ]
  },
  {
   "cell_type": "code",
   "execution_count": 36,
   "metadata": {},
   "outputs": [],
   "source": [
    "def ComputeResiduals(L_s, pauli_probs, qcode, stabilizers, pure_errors, logicals):\n",
    "    \"\"\"\n",
    "    Compute decoder degeneracies\n",
    "    \"\"\"\n",
    "    ordering = np.array(([0, 3], [1, 2]), dtype=np.int)\n",
    "    nstabs = 2**(qcode.N - qcode.K)\n",
    "    probls = 0\n",
    "    for t in range(nstabs):\n",
    "        L_t = qcode.lookup[t, 0]\n",
    "        T_t = pure_errors[t, :]\n",
    "        pos_L = qc.PauliProduct(\n",
    "            np.array([L_t], dtype=np.int), np.array([L_s], dtype=np.int)\n",
    "        )[0]\n",
    "        # print(\"posL = {}\".format(pos_L))\n",
    "        \n",
    "#         prod_L = qc.PauliProduct(logicals[L_t], logicals[L_s])[0]\n",
    "        \n",
    "#         log_indices = qc.GetCommutingInSet(qcode.L, prod_L, parity=1, props=\"set\")\n",
    "#         gen_support = np.zeros(2, dtype=np.int)\n",
    "#         for l in log_indices:\n",
    "#             if l < 1:\n",
    "#                 gen_support[l + 1] = 1\n",
    "#             else:\n",
    "#                 gen_support[l - 1] = 1\n",
    "#         # print(\"Support on L: {}\".format(gen_support[\"L\"]))\n",
    "#         pos_L = ordering[gen_support[0], gen_support[1]]\n",
    "        \n",
    "        indices = pos_L * nstabs * nstabs + np.arange(nstabs) * nstabs + t\n",
    "        probls += np.sum(pauli_probs[indices])\n",
    "    return probls"
   ]
  },
  {
   "cell_type": "code",
   "execution_count": 37,
   "metadata": {},
   "outputs": [
    {
     "name": "stdout",
     "output_type": "stream",
     "text": [
      "posL = 0\n",
      "posL = 1\n",
      "posL = 1\n",
      "posL = 1\n",
      "posL = 0\n",
      "posL = 0\n",
      "posL = 0\n",
      "posL = 0\n",
      "posL = 3\n",
      "posL = 2\n",
      "posL = 2\n",
      "posL = 2\n",
      "posL = 2\n",
      "posL = 2\n",
      "posL = 2\n",
      "posL = 2\n",
      "posL = 3\n",
      "posL = 2\n",
      "posL = 2\n",
      "posL = 2\n",
      "posL = 2\n",
      "posL = 2\n",
      "posL = 2\n",
      "posL = 2\n",
      "posL = 3\n",
      "posL = 2\n",
      "posL = 2\n",
      "posL = 2\n",
      "posL = 2\n",
      "posL = 2\n",
      "posL = 2\n",
      "posL = 2\n",
      "posL = 0\n",
      "posL = 2\n",
      "posL = 2\n",
      "posL = 2\n",
      "posL = 0\n",
      "posL = 1\n",
      "posL = 1\n",
      "posL = 1\n",
      "posL = 0\n",
      "posL = 2\n",
      "posL = 2\n",
      "posL = 2\n",
      "posL = 1\n",
      "posL = 0\n",
      "posL = 1\n",
      "posL = 1\n",
      "posL = 0\n",
      "posL = 2\n",
      "posL = 2\n",
      "posL = 2\n",
      "posL = 1\n",
      "posL = 1\n",
      "posL = 0\n",
      "posL = 1\n",
      "posL = 0\n",
      "posL = 2\n",
      "posL = 2\n",
      "posL = 2\n",
      "posL = 1\n",
      "posL = 1\n",
      "posL = 1\n",
      "posL = 0\n",
      "posL = 1\n",
      "posL = 0\n",
      "posL = 0\n",
      "posL = 0\n",
      "posL = 1\n",
      "posL = 1\n",
      "posL = 1\n",
      "posL = 1\n",
      "posL = 2\n",
      "posL = 3\n",
      "posL = 3\n",
      "posL = 3\n",
      "posL = 3\n",
      "posL = 3\n",
      "posL = 3\n",
      "posL = 3\n",
      "posL = 2\n",
      "posL = 3\n",
      "posL = 3\n",
      "posL = 3\n",
      "posL = 3\n",
      "posL = 3\n",
      "posL = 3\n",
      "posL = 3\n",
      "posL = 2\n",
      "posL = 3\n",
      "posL = 3\n",
      "posL = 3\n",
      "posL = 3\n",
      "posL = 3\n",
      "posL = 3\n",
      "posL = 3\n",
      "posL = 1\n",
      "posL = 3\n",
      "posL = 3\n",
      "posL = 3\n",
      "posL = 1\n",
      "posL = 0\n",
      "posL = 0\n",
      "posL = 0\n",
      "posL = 1\n",
      "posL = 3\n",
      "posL = 3\n",
      "posL = 3\n",
      "posL = 0\n",
      "posL = 1\n",
      "posL = 0\n",
      "posL = 0\n",
      "posL = 1\n",
      "posL = 3\n",
      "posL = 3\n",
      "posL = 3\n",
      "posL = 0\n",
      "posL = 0\n",
      "posL = 1\n",
      "posL = 0\n",
      "posL = 1\n",
      "posL = 3\n",
      "posL = 3\n",
      "posL = 3\n",
      "posL = 0\n",
      "posL = 0\n",
      "posL = 0\n",
      "posL = 1\n",
      "posL = 2\n",
      "posL = 3\n",
      "posL = 3\n",
      "posL = 3\n",
      "posL = 2\n",
      "posL = 2\n",
      "posL = 2\n",
      "posL = 2\n",
      "posL = 1\n",
      "posL = 0\n",
      "posL = 0\n",
      "posL = 0\n",
      "posL = 0\n",
      "posL = 0\n",
      "posL = 0\n",
      "posL = 0\n",
      "posL = 1\n",
      "posL = 0\n",
      "posL = 0\n",
      "posL = 0\n",
      "posL = 0\n",
      "posL = 0\n",
      "posL = 0\n",
      "posL = 0\n",
      "posL = 1\n",
      "posL = 0\n",
      "posL = 0\n",
      "posL = 0\n",
      "posL = 0\n",
      "posL = 0\n",
      "posL = 0\n",
      "posL = 0\n",
      "posL = 2\n",
      "posL = 0\n",
      "posL = 0\n",
      "posL = 0\n",
      "posL = 2\n",
      "posL = 3\n",
      "posL = 3\n",
      "posL = 3\n",
      "posL = 2\n",
      "posL = 0\n",
      "posL = 0\n",
      "posL = 0\n",
      "posL = 3\n",
      "posL = 2\n",
      "posL = 3\n",
      "posL = 3\n",
      "posL = 2\n",
      "posL = 0\n",
      "posL = 0\n",
      "posL = 0\n",
      "posL = 3\n",
      "posL = 3\n",
      "posL = 2\n",
      "posL = 3\n",
      "posL = 2\n",
      "posL = 0\n",
      "posL = 0\n",
      "posL = 0\n",
      "posL = 3\n",
      "posL = 3\n",
      "posL = 3\n",
      "posL = 2\n",
      "posL = 3\n",
      "posL = 2\n",
      "posL = 2\n",
      "posL = 2\n",
      "posL = 3\n",
      "posL = 3\n",
      "posL = 3\n",
      "posL = 3\n",
      "posL = 0\n",
      "posL = 1\n",
      "posL = 1\n",
      "posL = 1\n",
      "posL = 1\n",
      "posL = 1\n",
      "posL = 1\n",
      "posL = 1\n",
      "posL = 0\n",
      "posL = 1\n",
      "posL = 1\n",
      "posL = 1\n",
      "posL = 1\n",
      "posL = 1\n",
      "posL = 1\n",
      "posL = 1\n",
      "posL = 0\n",
      "posL = 1\n",
      "posL = 1\n",
      "posL = 1\n",
      "posL = 1\n",
      "posL = 1\n",
      "posL = 1\n",
      "posL = 1\n",
      "posL = 3\n",
      "posL = 1\n",
      "posL = 1\n",
      "posL = 1\n",
      "posL = 3\n",
      "posL = 2\n",
      "posL = 2\n",
      "posL = 2\n",
      "posL = 3\n",
      "posL = 1\n",
      "posL = 1\n",
      "posL = 1\n",
      "posL = 2\n",
      "posL = 3\n",
      "posL = 2\n",
      "posL = 2\n",
      "posL = 3\n",
      "posL = 1\n",
      "posL = 1\n",
      "posL = 1\n",
      "posL = 2\n",
      "posL = 2\n",
      "posL = 3\n",
      "posL = 2\n",
      "posL = 3\n",
      "posL = 1\n",
      "posL = 1\n",
      "posL = 1\n",
      "posL = 2\n",
      "posL = 2\n",
      "posL = 2\n",
      "posL = 3\n"
     ]
    }
   ],
   "source": [
    "stabilizers = qc.GenerateGroup(qcode.S)\n",
    "pure_errrors = qc.GenerateGroup(qcode.T)\n",
    "logicals_unordered = qc.GenerateGroup(qcode.L) # I Z X Y\n",
    "logicals = logicals_unordered[[0, 2, 3, 1]]\n",
    "res = [ComputeResiduals(l, pauli_probs, qcode, stabilizers, pure_errrors, logicals) for l in range(4)]"
   ]
  },
  {
   "cell_type": "code",
   "execution_count": 23,
   "metadata": {},
   "outputs": [],
   "source": [
    "%lprun -f ComputeResiduals ComputeResiduals(0, pauli_probs, qcode, stabilizers, pure_errrors, logicals)"
   ]
  },
  {
   "cell_type": "code",
   "execution_count": 8,
   "metadata": {},
   "outputs": [
    {
     "data": {
      "text/plain": [
       "0.9999999999999187"
      ]
     },
     "execution_count": 8,
     "metadata": {},
     "output_type": "execute_result"
    }
   ],
   "source": [
    "sum(pauli_probs)"
   ]
  },
  {
   "cell_type": "code",
   "execution_count": 16,
   "metadata": {},
   "outputs": [
    {
     "data": {
      "text/plain": [
       "[0.9962726832754681,\n",
       " 0.000963883258418916,\n",
       " 0.002098241731895917,\n",
       " 0.0006651917342161854]"
      ]
     },
     "execution_count": 16,
     "metadata": {},
     "output_type": "execute_result"
    }
   ],
   "source": [
    "res"
   ]
  },
  {
   "cell_type": "code",
   "execution_count": 20,
   "metadata": {},
   "outputs": [
    {
     "data": {
      "text/plain": [
       "[0.9962726832754735,\n",
       " 0.0009638832584189019,\n",
       " 0.0020982417318959144,\n",
       " 0.0006651917342161742]"
      ]
     },
     "execution_count": 20,
     "metadata": {},
     "output_type": "execute_result"
    }
   ],
   "source": [
    "res"
   ]
  },
  {
   "cell_type": "code",
   "execution_count": null,
   "metadata": {},
   "outputs": [],
   "source": []
  }
 ],
 "metadata": {
  "kernelspec": {
   "display_name": "Python 3",
   "language": "python",
   "name": "python3"
  },
  "language_info": {
   "codemirror_mode": {
    "name": "ipython",
    "version": 3
   },
   "file_extension": ".py",
   "mimetype": "text/x-python",
   "name": "python",
   "nbconvert_exporter": "python",
   "pygments_lexer": "ipython3",
   "version": "3.7.1"
  }
 },
 "nbformat": 4,
 "nbformat_minor": 2
}
