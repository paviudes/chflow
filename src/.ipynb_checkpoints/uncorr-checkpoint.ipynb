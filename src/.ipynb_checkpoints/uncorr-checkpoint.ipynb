{
 "cells": [
  {
   "cell_type": "code",
   "execution_count": 1,
   "metadata": {},
   "outputs": [],
   "source": [
    "from define import qcode as qc\n",
    "import numpy as np\n",
    "from define.QECCLfid import uncorrectable as uc\n",
    "from define.QECCLfid import minwt as mw\n",
    "from define import globalvars as gv\n",
    "from define import chanreps as chrep\n",
    "import networkx as nx"
   ]
  },
  {
   "cell_type": "code",
   "execution_count": 2,
   "metadata": {},
   "outputs": [],
   "source": [
    "def ChangeOrdering(probs, old_order, new_order):\n",
    "    \"\"\"\n",
    "    Change from an ordering in [L,S,T] to another.\n",
    "    This uses numpy reshape and transpose.\n",
    "    old = L S T\n",
    "    new = T L S\n",
    "    perm = 2 0 1\n",
    "    \"\"\"\n",
    "    t_size = np.power(2, qcode.N - qcode.K, dtype=np.int)\n",
    "    s_size = t_size\n",
    "    l_size = np.power(4, qcode.K, dtype=np.int)\n",
    "    sizes = {\"T\": t_size, \"S\": s_size, \"L\": l_size}\n",
    "    probs_reshaped = np.reshape(\n",
    "        probs, [sizes[old_order[0]], sizes[old_order[1]], sizes[old_order[2]]]\n",
    "    )\n",
    "    perm = [old_order.index(ax) for ax in new_order]\n",
    "    probs_reordered = np.reshape(np.transpose(probs_reshaped, perm), -1)\n",
    "    return probs_reordered"
   ]
  },
  {
   "cell_type": "code",
   "execution_count": 3,
   "metadata": {},
   "outputs": [
    {
     "name": "stdout",
     "output_type": "stream",
     "text": [
      "0.9843166311908921\n"
     ]
    }
   ],
   "source": [
    "qcode = qc.QuantumErrorCorrectingCode(\"Steane\")\n",
    "qc.Load(qcode)\n",
    "qc.populate_symplectic(qcode)\n",
    "mw.ComputeCorrectableIndices(qcode)\n",
    "#correctable_set = np.array(qcode.Paulis_correctable, dtype=np.int)\n",
    "sqprobs = np.random.rand(4)\n",
    "sqprobs[0] = 1-0.66**10\n",
    "sqprobs[1:] = (1-sqprobs[0]) * sqprobs[1:]/np.sum(sqprobs[1:])\n",
    "print(sqprobs[0])\n",
    "probs = np.tile(sqprobs, [qcode.N, 1])"
   ]
  },
  {
   "cell_type": "code",
   "execution_count": 4,
   "metadata": {},
   "outputs": [
    {
     "name": "stdout",
     "output_type": "stream",
     "text": [
      "[8.95248829e-01 2.90096150e-05 2.90096150e-05 ... 6.86596441e-11\n",
      " 6.86596441e-11 5.10046866e-07]\n"
     ]
    }
   ],
   "source": [
    "pauli_probs = np.ones(qcode.PauliOperatorsLST.shape[0], dtype=np.double)\n",
    "for i in range(qcode.PauliOperatorsLST.shape[0]):\n",
    "    for q in range(qcode.N):\n",
    "        pauli_probs[i] *= probs[q, qcode.PauliOperatorsLST[i, q]]\n",
    "print(pauli_probs)"
   ]
  },
  {
   "cell_type": "code",
   "execution_count": 5,
   "metadata": {},
   "outputs": [
    {
     "ename": "TypeError",
     "evalue": "ComputeUncorrProbs() missing 1 required positional argument: 'leading_fraction'",
     "output_type": "error",
     "traceback": [
      "\u001b[0;31m---------------------------------------------------------------------------\u001b[0m",
      "\u001b[0;31mTypeError\u001b[0m                                 Traceback (most recent call last)",
      "\u001b[0;32m<ipython-input-5-79db01630887>\u001b[0m in \u001b[0;36m<module>\u001b[0;34m\u001b[0m\n\u001b[0;32m----> 1\u001b[0;31m \u001b[0mmw\u001b[0m\u001b[0;34m.\u001b[0m\u001b[0mComputeUncorrProbs\u001b[0m\u001b[0;34m(\u001b[0m\u001b[0mnp\u001b[0m\u001b[0;34m.\u001b[0m\u001b[0mtile\u001b[0m\u001b[0;34m(\u001b[0m\u001b[0mprobs\u001b[0m\u001b[0;34m,\u001b[0m \u001b[0;34m[\u001b[0m\u001b[0mqcode\u001b[0m\u001b[0;34m.\u001b[0m\u001b[0mN\u001b[0m\u001b[0;34m,\u001b[0m \u001b[0;36m1\u001b[0m\u001b[0;34m]\u001b[0m\u001b[0;34m)\u001b[0m\u001b[0;34m,\u001b[0m \u001b[0mqcode\u001b[0m\u001b[0;34m,\u001b[0m \u001b[0;36m3\u001b[0m\u001b[0;34m)\u001b[0m\u001b[0;34m\u001b[0m\u001b[0;34m\u001b[0m\u001b[0m\n\u001b[0m",
      "\u001b[0;31mTypeError\u001b[0m: ComputeUncorrProbs() missing 1 required positional argument: 'leading_fraction'"
     ]
    }
   ],
   "source": [
    "mw.ComputeUncorrProbs(np.tile(probs, [qcode.N, 1]), qcode, 3)"
   ]
  },
  {
   "cell_type": "code",
   "execution_count": null,
   "metadata": {},
   "outputs": [],
   "source": [
    "%lprun -f mw.ComputeUncorrProbs mw.ComputeUncorrProbs(np.tile(probs, [qcode.N, 1]), qcode, 3)"
   ]
  },
  {
   "cell_type": "code",
   "execution_count": 66,
   "metadata": {},
   "outputs": [],
   "source": [
    "uncorrs = np.load(\"/Users/pavi/Documents/chbank/29_05_2020_13_05_35/results/phy_uncorr.npy\")\n",
    "infids = np.load(\"/Users/pavi/Documents/chbank/29_05_2020_13_05_35/results/log_infid.npy\")"
   ]
  },
  {
   "cell_type": "code",
   "execution_count": 67,
   "metadata": {},
   "outputs": [
    {
     "data": {
      "text/plain": [
       "array([2.06481638e-05], dtype=float128)"
      ]
     },
     "execution_count": 67,
     "metadata": {},
     "output_type": "execute_result"
    }
   ],
   "source": [
    "infids[:, 1]"
   ]
  },
  {
   "cell_type": "code",
   "execution_count": 68,
   "metadata": {},
   "outputs": [
    {
     "data": {
      "text/plain": [
       "array([2.06481638e-05])"
      ]
     },
     "execution_count": 68,
     "metadata": {},
     "output_type": "execute_result"
    }
   ],
   "source": [
    "uncorrs[:,1]"
   ]
  },
  {
   "cell_type": "code",
   "execution_count": 17,
   "metadata": {},
   "outputs": [
    {
     "data": {
      "text/plain": [
       "0.026931575886987316193"
      ]
     },
     "execution_count": 17,
     "metadata": {},
     "output_type": "execute_result"
    }
   ],
   "source": [
    "np.max(np.abs(uncorrs[:, 1] - infids[:, 1]))"
   ]
  },
  {
   "cell_type": "code",
   "execution_count": 32,
   "metadata": {},
   "outputs": [],
   "source": [
    "pvec = ChangeOrdering(pauli_probs, \"LST\", \"TLS\")"
   ]
  },
  {
   "cell_type": "code",
   "execution_count": 33,
   "metadata": {},
   "outputs": [
    {
     "data": {
      "text/plain": [
       "array([8.95248829e-01, 3.78116405e-12, 3.78116405e-12, ...,\n",
       "       3.44335943e-11, 3.44335943e-11, 2.65798751e-09])"
      ]
     },
     "execution_count": 33,
     "metadata": {},
     "output_type": "execute_result"
    }
   ],
   "source": [
    "pvec"
   ]
  },
  {
   "cell_type": "code",
   "execution_count": 37,
   "metadata": {},
   "outputs": [
    {
     "data": {
      "text/plain": [
       "(16384,)"
      ]
     },
     "execution_count": 37,
     "metadata": {},
     "output_type": "execute_result"
    }
   ],
   "source": [
    "pauli_probs.shape"
   ]
  },
  {
   "cell_type": "code",
   "execution_count": 38,
   "metadata": {},
   "outputs": [
    {
     "data": {
      "text/plain": [
       "(16384,)"
      ]
     },
     "execution_count": 38,
     "metadata": {},
     "output_type": "execute_result"
    }
   ],
   "source": [
    "pvec.shape"
   ]
  },
  {
   "cell_type": "code",
   "execution_count": 11,
   "metadata": {},
   "outputs": [
    {
     "name": "stdout",
     "output_type": "stream",
     "text": [
      "l = [2], s = [53], t = [16]\n",
      "tls_order = [4277]\n",
      "lst_order = [11600]\n"
     ]
    },
    {
     "ename": "NameError",
     "evalue": "name 'pauli_probs' is not defined",
     "output_type": "error",
     "traceback": [
      "\u001b[0;31m---------------------------------------------------------------------------\u001b[0m",
      "\u001b[0;31mNameError\u001b[0m                                 Traceback (most recent call last)",
      "\u001b[0;32m<ipython-input-11-094a8f4e9e15>\u001b[0m in \u001b[0;36m<module>\u001b[0;34m\u001b[0m\n\u001b[1;32m      5\u001b[0m \u001b[0mlst_order\u001b[0m \u001b[0;34m=\u001b[0m \u001b[0ml\u001b[0m \u001b[0;34m*\u001b[0m \u001b[0mnstabs\u001b[0m \u001b[0;34m*\u001b[0m \u001b[0mnstabs\u001b[0m \u001b[0;34m+\u001b[0m \u001b[0ms\u001b[0m \u001b[0;34m*\u001b[0m \u001b[0mnstabs\u001b[0m \u001b[0;34m+\u001b[0m \u001b[0mt\u001b[0m\u001b[0;34m\u001b[0m\u001b[0;34m\u001b[0m\u001b[0m\n\u001b[1;32m      6\u001b[0m \u001b[0mprint\u001b[0m\u001b[0;34m(\u001b[0m\u001b[0;34m\"l = {}, s = {}, t = {}\\ntls_order = {}\\nlst_order = {}\"\u001b[0m\u001b[0;34m.\u001b[0m\u001b[0mformat\u001b[0m\u001b[0;34m(\u001b[0m\u001b[0ml\u001b[0m\u001b[0;34m,\u001b[0m \u001b[0ms\u001b[0m\u001b[0;34m,\u001b[0m \u001b[0mt\u001b[0m\u001b[0;34m,\u001b[0m \u001b[0mtls_order\u001b[0m\u001b[0;34m,\u001b[0m \u001b[0mlst_order\u001b[0m\u001b[0;34m)\u001b[0m\u001b[0;34m)\u001b[0m\u001b[0;34m\u001b[0m\u001b[0;34m\u001b[0m\u001b[0m\n\u001b[0;32m----> 7\u001b[0;31m \u001b[0mprint\u001b[0m\u001b[0;34m(\u001b[0m\u001b[0;34m\"pauli_probs[lst_order] = {}\\npvec[tls_order] = {}.\"\u001b[0m\u001b[0;34m.\u001b[0m\u001b[0mformat\u001b[0m\u001b[0;34m(\u001b[0m\u001b[0mpauli_probs\u001b[0m\u001b[0;34m[\u001b[0m\u001b[0mlst_order\u001b[0m\u001b[0;34m]\u001b[0m\u001b[0;34m,\u001b[0m \u001b[0mpvec\u001b[0m\u001b[0;34m[\u001b[0m\u001b[0mtls_order\u001b[0m\u001b[0;34m]\u001b[0m\u001b[0;34m)\u001b[0m\u001b[0;34m)\u001b[0m\u001b[0;34m\u001b[0m\u001b[0;34m\u001b[0m\u001b[0m\n\u001b[0m",
      "\u001b[0;31mNameError\u001b[0m: name 'pauli_probs' is not defined"
     ]
    }
   ],
   "source": [
    "nstabs = 2**6\n",
    "nlogs = 4\n",
    "l, s, t = np.random.randint(0,4,size=(1,)), np.random.randint(0,64,size=(1,)), np.random.randint(0,64,size=(1,))\n",
    "tls_order = t * nstabs * nlogs + l * nstabs + s\n",
    "lst_order = l * nstabs * nstabs + s * nstabs + t\n",
    "print(\"l = {}, s = {}, t = {}\\ntls_order = {}\\nlst_order = {}\".format(l, s, t, tls_order, lst_order))\n",
    "print(\"pauli_probs[lst_order] = {}\\npvec[tls_order] = {}.\".format(pauli_probs[lst_order], pvec[tls_order]))"
   ]
  },
  {
   "cell_type": "code",
   "execution_count": 72,
   "metadata": {},
   "outputs": [
    {
     "data": {
      "text/plain": [
       "720"
      ]
     },
     "execution_count": 72,
     "metadata": {},
     "output_type": "execute_result"
    }
   ],
   "source": [
    "(48 * 15)"
   ]
  },
  {
   "cell_type": "code",
   "execution_count": 17,
   "metadata": {},
   "outputs": [
    {
     "data": {
      "text/plain": [
       "array([[0, 0, 0, ..., 0, 0, 0],\n",
       "       [3, 0, 3, ..., 3, 0, 3],\n",
       "       [3, 3, 0, ..., 3, 3, 0],\n",
       "       ...,\n",
       "       [3, 3, 0, ..., 3, 1, 2],\n",
       "       [3, 0, 3, ..., 3, 2, 1],\n",
       "       [0, 0, 0, ..., 0, 2, 2]])"
      ]
     },
     "execution_count": 17,
     "metadata": {},
     "output_type": "execute_result"
    }
   ],
   "source": [
    "qcode.Paulis_correctable"
   ]
  },
  {
   "cell_type": "code",
   "execution_count": 13,
   "metadata": {},
   "outputs": [
    {
     "data": {
      "text/plain": [
       "42"
      ]
     },
     "execution_count": 13,
     "metadata": {},
     "output_type": "execute_result"
    }
   ],
   "source": [
    "np.count_nonzero(np.array(list(map(np.count_nonzero,qcode.Paulis_correctable)),dtype=np.int8)==2)"
   ]
  },
  {
   "cell_type": "code",
   "execution_count": 14,
   "metadata": {},
   "outputs": [
    {
     "data": {
      "text/plain": [
       "147"
      ]
     },
     "execution_count": 14,
     "metadata": {},
     "output_type": "execute_result"
    }
   ],
   "source": [
    "189-42"
   ]
  },
  {
   "cell_type": "code",
   "execution_count": 46,
   "metadata": {},
   "outputs": [],
   "source": [
    "freq = np.array(list(map(np.count_nonzero,qcode.Paulis_correctable)),dtype=np.int8)"
   ]
  },
  {
   "cell_type": "code",
   "execution_count": 49,
   "metadata": {},
   "outputs": [
    {
     "data": {
      "text/plain": [
       "Counter({0: 1, 4: 609, 6: 1428, 1: 21, 5: 1281, 3: 252, 7: 462, 2: 42})"
      ]
     },
     "execution_count": 49,
     "metadata": {},
     "output_type": "execute_result"
    }
   ],
   "source": [
    "from collections import Counter\n",
    "Counter(freq)"
   ]
  },
  {
   "cell_type": "code",
   "execution_count": 47,
   "metadata": {},
   "outputs": [
    {
     "data": {
      "text/plain": [
       "(array([1.000e+00, 2.100e+01, 4.200e+01, 2.520e+02, 6.090e+02, 1.281e+03,\n",
       "        1.890e+03]),\n",
       " array([0, 1, 2, 3, 4, 5, 6, 7]),\n",
       " <a list of 7 Patch objects>)"
      ]
     },
     "execution_count": 47,
     "metadata": {},
     "output_type": "execute_result"
    },
    {
     "data": {
      "image/png": "[encoded data removed]",
      "text/plain": [
       "<Figure size 432x288 with 1 Axes>"
      ]
     },
     "metadata": {
      "needs_background": "light"
     },
     "output_type": "display_data"
    }
   ],
   "source": [
    "import matplotlib.pyplot as plt\n",
    "plt.hist(freq, bins=np.arange(freq.min(), freq.max()+1))"
   ]
  },
  {
   "cell_type": "code",
   "execution_count": 3,
   "metadata": {
    "scrolled": true
   },
   "outputs": [
    {
     "data": {
      "text/plain": [
       "array([[0, 0, 0, ..., 0, 0, 0],\n",
       "       [3, 0, 3, ..., 3, 0, 3],\n",
       "       [3, 3, 0, ..., 3, 3, 0],\n",
       "       ...,\n",
       "       [3, 3, 0, ..., 3, 1, 2],\n",
       "       [3, 0, 3, ..., 3, 2, 1],\n",
       "       [0, 0, 0, ..., 0, 2, 2]])"
      ]
     },
     "execution_count": 3,
     "metadata": {},
     "output_type": "execute_result"
    }
   ],
   "source": [
    "qcode.Paulis_correctable"
   ]
  },
  {
   "cell_type": "code",
   "execution_count": 12,
   "metadata": {},
   "outputs": [
    {
     "data": {
      "text/plain": [
       "array([[0, 0, 0, 0, 0, 0, 0],\n",
       "       [0, 0, 0, 0, 1, 1, 0]])"
      ]
     },
     "execution_count": 12,
     "metadata": {},
     "output_type": "execute_result"
    }
   ],
   "source": [
    "nstabs = 2**(qcode.N - qcode.K)\n",
    "nlogs=4\n",
    "qc.GetOperatorsForLSTIndex(qcode,[0,1])"
   ]
  },
  {
   "cell_type": "code",
   "execution_count": 7,
   "metadata": {},
   "outputs": [],
   "source": [
    "def GetPolyCoeffs(listOfPaulis):\n",
    "    coeffs = {}\n",
    "    for P in listOfPaulis:\n",
    "        idcount = np.count_nonzero(P==0)\n",
    "        non_idcount = len(P) - idcount\n",
    "        if (idcount,non_idcount) not in coeffs:\n",
    "            coeffs[(idcount,non_idcount)] = 1\n",
    "        else:\n",
    "            coeffs[(idcount,non_idcount)] += 1\n",
    "    return coeffs    "
   ]
  },
  {
   "cell_type": "code",
   "execution_count": 8,
   "metadata": {},
   "outputs": [],
   "source": [
    "def multiplyPols(pol1,pol2):\n",
    "    res = {}\n",
    "    for (a,b) in pol1:\n",
    "        for (c,d) in pol2:\n",
    "            if (a+c,b+d) not in res:\n",
    "                res[(a+c,b+d)] = pol1[(a,b)]*pol2[(c,d)]\n",
    "            else:\n",
    "                res[(a+c,b+d)] += pol1[(a,b)]*pol2[(c,d)]\n",
    "    return res    \n",
    "def multiplyListPols(listOfPols):\n",
    "    res = {}\n",
    "    if len(listOfPols)>0:\n",
    "        res = listOfPols[0]\n",
    "        for pol in listOfPols[1:]:\n",
    "            res = multiplyPols(res,pol)\n",
    "    return res\n",
    "def addPols(pol1,pol2):\n",
    "    res = {}\n",
    "    for (a,b) in pol1:\n",
    "        if (a,b) in pol2:\n",
    "            res[(a,b)] = pol1[(a,b)] + pol2[(a,b)]\n",
    "        else:\n",
    "            res[(a,b)] = pol1[(a,b)]\n",
    "    for (a,b) in pol2:\n",
    "        if (a,b) not in pol1:\n",
    "            res[(a,b)] = pol2[(a,b)]\n",
    "    return res\n",
    "\n",
    "def addListPols(listOfPols):\n",
    "    res = {}\n",
    "    if len(listOfPols)>0:\n",
    "        res = listOfPols[0]\n",
    "        for pol in listOfPols[1:]:\n",
    "            res = addPols(res,pol)\n",
    "    return res\n",
    "\n",
    "def subPol(pol1,pol2):\n",
    "    pol2.update((x, y*-1) for x, y in pol2.items())\n",
    "    res = addPols(pol1,pol2)\n",
    "    return res"
   ]
  },
  {
   "cell_type": "code",
   "execution_count": 9,
   "metadata": {},
   "outputs": [],
   "source": [
    "def GetPolyInd(t,indices):\n",
    "    nlogs = 4**(qcode.K)\n",
    "    for L_s in range(4):\n",
    "            L_t = int(qcode.lookup[t, 0])\n",
    "            pos_L = qc.PauliProduct(\n",
    "                np.array([L_t], dtype=np.int), np.array([L_s], dtype=np.int)\n",
    "            )[0]\n",
    "            indices[L_s,t*nstabs:(t+1)*nstabs] = pos_L * nstabs * nstabs + np.arange(nstabs) * nstabs + t\n",
    "            \n",
    "def GetPolySyndInd(t,indices):\n",
    "    nlogs = 4**(qcode.K)\n",
    "    for L_s in range(4):\n",
    "            indices[L_s,t*nstabs:(t+1)*nstabs] = L_s * nstabs * nstabs + np.arange(nstabs) * nstabs + t\n",
    "\n",
    "\n",
    "def GetAvgPolyInd(indices):\n",
    "    for t in range(nstabs):\n",
    "        GetPolyInd(t,indices)\n",
    "\n",
    "def GetAvgPoly():\n",
    "    indices = np.zeros((nlogs,nstabs*nstabs),dtype=np.int)\n",
    "    GetAvgPolyInd(indices)\n",
    "    poly_logs = [GetPolyCoeffs(qc.GetOperatorsForLSTIndex(qcode,indices[l])) for l in range(4)]\n",
    "    return poly_logs\n",
    "\n",
    "def GetSyndPoly(syndlist):\n",
    "    poly_logs_synds = [__ for t in range(len(syndlist))]\n",
    "    for i in range(len(syndlist)):\n",
    "        t = syndlist[i]\n",
    "        #print(\"Syndrome = {}\".format(t))\n",
    "        indices = np.zeros((nlogs,nstabs*nstabs),dtype=np.int)\n",
    "        GetPolyInd(t,indices)\n",
    "        poly_logs_synds[i] = [GetPolyCoeffs(qc.GetOperatorsForLSTIndex(qcode,indices[l,t*nstabs:(t+1)*nstabs])) for l in range(4)]\n",
    "        #     print(\"Ilog = {}\".format(poly_logs_synds[i][0]))\n",
    "        #     print(\"Xlog = {}\".format(poly_logs_synds[i][1]))\n",
    "        #     print(\"Ylog = {}\".format(poly_logs_synds[i][2]))\n",
    "        #     print(\"Zlog = {}\".format(poly_logs_synds[i][3]))\n",
    "    return poly_logs_synds\n",
    "\n",
    "def GetSyndProb(syndlist):\n",
    "    poly_logs_synds = [__ for t in range(len(syndlist))]\n",
    "    for i in range(len(syndlist)):\n",
    "        t = syndlist[i]\n",
    "        #print(\"Syndrome = {}\".format(t))\n",
    "        indices = np.zeros((nlogs,nstabs*nstabs),dtype=np.int)\n",
    "        GetPolySyndInd(t,indices)\n",
    "        poly_logs_synds[i] = [GetPolyCoeffs(qc.GetOperatorsForLSTIndex(qcode,indices[l,t*nstabs:(t+1)*nstabs])) for l in range(4)]\n",
    "        #     print(\"Ilog = {}\".format(poly_logs_synds[i][0]))\n",
    "        #     print(\"Xlog = {}\".format(poly_logs_synds[i][1]))\n",
    "        #     print(\"Ylog = {}\".format(poly_logs_synds[i][2]))\n",
    "        #     print(\"Zlog = {}\".format(poly_logs_synds[i][3]))\n",
    "    return poly_logs_synds\n",
    "    \n",
    "    \n"
   ]
  },
  {
   "cell_type": "code",
   "execution_count": 10,
   "metadata": {},
   "outputs": [],
   "source": [
    "def Get_unique_elems(lis):\n",
    "    unique_dict = {}\n",
    "    for ind,l in enumerate(lis):\n",
    "        if l not in unique_dict:\n",
    "            unique_dict[l] = [ind]\n",
    "        else:\n",
    "            unique_dict[l].append(ind)\n",
    "    return sorted(unique_dict.values())\n",
    "\n",
    "def same_class(i,j,listoflists):\n",
    "    nlists = len(listoflists)\n",
    "    for l in listoflists:\n",
    "        for sublis in l:\n",
    "            if (i in sublis) and not (j in sublis):\n",
    "                return 0\n",
    "    return 1 \n",
    "\n",
    "def getClasses(listoflists):\n",
    "    classes = []\n",
    "    edges = np.zeros((64,64),dtype=np.int)\n",
    "    visited = np.zeros(64,dtype=np.int)\n",
    "    for i in range(64):\n",
    "        for j in range(i+1,64):\n",
    "            if same_class(i,j,listoflists):\n",
    "                edges[i,j] = 1\n",
    "                edges[j,i] = 1\n",
    "    G = nx.from_numpy_matrix(edges)\n",
    "    comps = nx.connected_components(G)\n",
    "    for c in sorted(nx.connected_components(G), key=len, reverse=True):\n",
    "        print(sorted(c))\n",
    "    return None\n",
    "                \n",
    "                "
   ]
  },
  {
   "cell_type": "code",
   "execution_count": 13,
   "metadata": {
    "scrolled": true
   },
   "outputs": [],
   "source": [
    "poly_logs = GetAvgPoly()\n",
    "#syndlist = [0,7, 6, 5, 4, 3, 2, 1, 56, 48, 40, 32, 24, 16, 8, 63, 54, 45, 36, 27, 18, 9]\n",
    "syndlist = [i for i in range(64)]\n",
    "poly_logs_synds = GetSyndPoly(syndlist)"
   ]
  },
  {
   "cell_type": "code",
   "execution_count": 14,
   "metadata": {},
   "outputs": [
    {
     "name": "stdout",
     "output_type": "stream",
     "text": [
      "--\n",
      "[[0], [1, 2, 3, 4, 5, 6, 7, 8, 9, 16, 18, 24, 27, 32, 36, 40, 45, 48, 54, 56, 63], [10, 11, 12, 13, 14, 15, 17, 19, 20, 21, 22, 23, 25, 26, 28, 29, 30, 31, 33, 34, 35, 37, 38, 39, 41, 42, 43, 44, 46, 47, 49, 50, 51, 52, 53, 55, 57, 58, 59, 60, 61, 62]]\n",
      "--\n",
      "[[0], [1, 2, 3, 4, 5, 6, 7], [8, 9, 16, 18, 24, 27, 32, 36, 40, 45, 48, 54, 56, 63], [10, 11, 12, 13, 14, 15, 17, 19, 20, 21, 22, 23, 25, 26, 28, 29, 30, 31, 37, 38, 39, 44, 46, 47, 52, 53, 55, 60, 61, 62], [33, 34, 35, 41, 42, 43, 49, 50, 51, 57, 58, 59]]\n",
      "--\n",
      "[[0], [1, 2, 3, 4, 5, 6, 7, 8, 16, 24, 32, 40, 48, 56], [9, 18, 27, 36, 45, 54, 63], [10, 11, 17, 19, 25, 26], [12, 13, 14, 15, 20, 21, 22, 23, 28, 29, 30, 31, 33, 34, 35, 37, 38, 39, 41, 42, 43, 44, 46, 47, 49, 50, 51, 52, 53, 55, 57, 58, 59, 60, 61, 62]]\n",
      "--\n",
      "[[0], [1, 2, 3, 4, 5, 6, 7, 9, 18, 27, 36, 45, 54, 63], [8, 16, 24, 32, 40, 48, 56], [10, 11, 17, 19, 25, 26, 33, 34, 35, 41, 42, 43, 49, 50, 51, 57, 58, 59], [12, 13, 14, 15, 20, 21, 22, 23, 28, 29, 30, 31, 37, 38, 39, 44, 46, 47, 52, 53, 55, 60, 61, 62]]\n",
      "======\n",
      "[12, 13, 14, 15, 20, 21, 22, 23, 28, 29, 30, 31, 37, 38, 39, 44, 46, 47, 52, 53, 55, 60, 61, 62]\n",
      "[33, 34, 35, 41, 42, 43, 49, 50, 51, 57, 58, 59]\n",
      "[1, 2, 3, 4, 5, 6, 7]\n",
      "[8, 16, 24, 32, 40, 48, 56]\n",
      "[9, 18, 27, 36, 45, 54, 63]\n",
      "[10, 11, 17, 19, 25, 26]\n",
      "[0]\n"
     ]
    }
   ],
   "source": [
    "collect_unique_elems = [__ for __ in range(4)]\n",
    "for l in range(4):\n",
    "    #print(\"l = {}\".format(l))\n",
    "    polynomials = np.zeros((len(syndlist),qcode.N + 1),dtype=np.int)\n",
    "    for t in range(len(syndlist)):\n",
    "        for (a,b) in sorted(poly_logs_synds[t][l]):\n",
    "            polynomials[t,b] = poly_logs_synds[t][l][(a,b)]\n",
    "        #print(syndlist[t],polynomials[t])\n",
    "    collect_unique_elems[l] = Get_unique_elems([np.array_str(p) for p in polynomials])\n",
    "for l in collect_unique_elems:\n",
    "    print(\"--\")\n",
    "    print(l)\n",
    "print(\"======\")\n",
    "getClasses(collect_unique_elems)"
   ]
  },
  {
   "cell_type": "markdown",
   "metadata": {},
   "source": []
  },
  {
   "cell_type": "markdown",
   "metadata": {},
   "source": [
    "For I log - [7, 6, 5, 4, 3, 2, 1, 56, 48, 40, 32, 24, 16, 8, 63, 54, 45, 36, 27, 18, 9]\n",
    "For X log - Classes - [7, 6, 5, 4, 3, 2, 1] and [56, 48, 40, 32, 24, 16, 8, 63, 54, 45, 36, 27, 18, 9]\n",
    "For Y log - Classes - [7, 6, 5, 4, 3, 2, 1, 56, 48, 40, 32, 24, 16, 8] and [63, 54, 45, 36, 27, 18, 9]\n",
    "For Z log - Classes - [7, 6, 5, 4, 3, 2, 1] and [56, 48, 40, 32, 24, 16, 8] and [63, 54, 45, 36, 27, 18, 9]\n",
    "\n"
   ]
  },
  {
   "cell_type": "code",
   "execution_count": 16,
   "metadata": {
    "scrolled": true
   },
   "outputs": [
    {
     "name": "stdout",
     "output_type": "stream",
     "text": [
      "Class number :  0\n",
      "Conditional :\n",
      "[ 1  0  0  0 21  0 42  0]\n",
      "--\n",
      "Average * P(s)\n",
      "[     1     21     42    273   1071   2730  10290  24762  74151 146097\n",
      " 238014 270837 175833  83664  20790]\n",
      "=====\n",
      "Class number :  1\n",
      "Conditional :\n",
      "[ 0  1  0  4  8 21 24  6]\n",
      "--\n",
      "Average * P(s)\n",
      "[     0      1     24    115    638   2916   9504  28974  72324 149457\n",
      " 234528 256767 190638  86058  16632]\n",
      "=====\n",
      "Class number :  2\n",
      "Conditional :\n",
      "[ 0  1  0  4  8 21 24  6]\n",
      "--\n",
      "Average * P(s)\n",
      "[     0      1     24    115    638   2916   9504  28974  72324 149457\n",
      " 234528 256767 190638  86058  16632]\n",
      "=====\n",
      "Class number :  3\n",
      "Conditional :\n",
      "[ 0  1  0  4  8 21 24  6]\n",
      "--\n",
      "Average * P(s)\n",
      "[     0      1     24    115    638   2916   9504  28974  72324 149457\n",
      " 234528 256767 190638  86058  16632]\n",
      "=====\n",
      "Class number :  4\n",
      "Conditional :\n",
      "[ 0  0  1  4 10 20 21  8]\n",
      "--\n",
      "Average * P(s)\n",
      "[     0      0      3     80    525   2430   9596  29832  75474 149268\n",
      " 226611 257208 196833  85470  15246]\n",
      "=====\n",
      "Class number :  5\n",
      "Conditional :\n",
      "[ 0  0  1  4 10 20 21  8]\n",
      "--\n",
      "Average * P(s)\n",
      "[     0      0      3     80    525   2430   9596  29832  75474 149268\n",
      " 226611 257208 196833  85470  15246]\n",
      "=====\n",
      "Class number :  6\n",
      "Conditional :\n",
      "[ 0  0  1  4 10 20 21  8]\n",
      "--\n",
      "Average * P(s)\n",
      "[     0      0      3     80    525   2430   9596  29832  75474 149268\n",
      " 226611 257208 196833  85470  15246]\n",
      "=====\n"
     ]
    }
   ],
   "source": [
    "classes = [[0],[1, 2, 3, 4, 5, 6, 7],[32, 8, 40, 16, 48, 24, 56],\n",
    "[36, 9, 45, 18, 54, 27, 63],[10, 11, 17, 19, 25, 26],[12, 13, 14, 15, 20, 21, 22, 23, 28, 29, 30, 31, 37, 38, 39, 44, 46, 47, 52, 53, 55, 60, 61, 62],[33, 34, 35, 41, 42, 43, 49, 50, 51, 57, 58, 59]]\n",
    "\n",
    "# Populate polynomial for average channel\n",
    "poly_avg = np.zeros((4,qcode.N+1),dtype=np.int)\n",
    "for l in range(4):\n",
    "        for (a,b) in poly_logs[l]:\n",
    "            poly_avg[l,b] =  poly_logs[l][(a,b)]\n",
    "\n",
    "# Populate polynomial for unnormalised conditional channels\n",
    "# Populate syndrome probabilities    \n",
    "# Populate avg * syndrome probs\n",
    "poly_cls = [np.zeros((4,qcode.N + 1),dtype=np.int) for i in range(len(classes))]\n",
    "poly_cls_synd = [np.zeros(qcode.N + 1,dtype=np.int) for i in range(len(classes))]\n",
    "prod_synd_avg = [np.zeros((4,2*(qcode.N) + 1),dtype=np.int) for i in range(len(classes))]\n",
    "error_synd = [np.zeros((4,2*(qcode.N) + 1),dtype=np.int) for i in range(len(classes))]\n",
    "for i in range(len(classes)):\n",
    "    cls = classes[i]\n",
    "    t = cls[0]\n",
    "    poly_dict = GetSyndPoly([t])[0]\n",
    "    for l in range(4):\n",
    "        for (a,b) in poly_dict[l]:\n",
    "            poly_cls[i][l,b] =  poly_dict[l][(a,b)]\n",
    "    synd_prob_dict = addListPols(GetSyndProb([t])[0])\n",
    "    for (a,b) in synd_prob_dict:\n",
    "            poly_cls_synd[i][b] +=  synd_prob_dict[(a,b)]\n",
    "    \n",
    "    prod_dict = [multiplyPols(synd_prob_dict,poly_logs[l]) for l in range(4)]\n",
    "    for l in range(4):\n",
    "        for (a,b) in prod_dict[l]:\n",
    "            prod_synd_avg[i][l,b] =  prod_dict[l][(a,b)]\n",
    "    \n",
    "    sub_avg_prod = [subPol(prod_dict[l],poly_dict[l]) for l in range(4)]\n",
    "    for l in range(4):\n",
    "        for (a,b) in sub_avg_prod[l]:\n",
    "            error_synd[i][l,b] =  sub_avg_prod[l][(a,b)]\n",
    "for cl_number in range(len(classes)):\n",
    "    print(\"Class number : \", cl_number)\n",
    "    # print(error_synd[cl_number])\n",
    "    #log = 0\n",
    "    # print(\"Conditional :\")\n",
    "    print(\"P(s) :\")\n",
    "    print(poly_cls_synd[cl_number])\n",
    "    print(\"--\")\n",
    "    #print(\"Average * P(s)\")\n",
    "    #print(prod_synd_avg[cl_number][log])\n",
    "    #print(\"=====\")"
   ]
  },
  {
   "cell_type": "code",
   "execution_count": 15,
   "metadata": {},
   "outputs": [
    {
     "data": {
      "text/plain": [
       "array([[   1,   21,   42,  252,  609, 1281, 1428,  462],\n",
       "       [   0,    0,   51,  229,  738, 1278, 1227,  573],\n",
       "       [   0,    0,   57,  223,  726, 1290, 1233,  567],\n",
       "       [   0,    0,   39,  241,  762, 1254, 1215,  585]])"
      ]
     },
     "execution_count": 15,
     "metadata": {},
     "output_type": "execute_result"
    }
   ],
   "source": [
    "poly_avg"
   ]
  },
  {
   "cell_type": "code",
   "execution_count": 29,
   "metadata": {
    "scrolled": true
   },
   "outputs": [
    {
     "name": "stdout",
     "output_type": "stream",
     "text": [
      "[0]\n",
      "Conditional channel :\n",
      "[[ 1  0  0  0 21  0 42  0]\n",
      " [ 0  0  0  7  0 42  0 15]\n",
      " [ 0  0  0  7  0 42  0 15]\n",
      " [ 0  0  0  7  0 42  0 15]]\n",
      "Syndrome probability :\n",
      "[  1   0   0  21  21 126  42  45]\n",
      "Average channel :\n",
      "[[   1   21   42  252  609 1281 1428  462]\n",
      " [   0    0   51  229  738 1278 1227  573]\n",
      " [   0    0   57  223  726 1290 1233  567]\n",
      " [   0    0   39  241  762 1254 1215  585]]\n"
     ]
    }
   ],
   "source": [
    "cls_num = 0\n",
    "print(sorted(classes[cls_num]))\n",
    "print(\"Conditional channel :\")\n",
    "print(poly_cls[cls_num])\n",
    "print(\"Syndrome probability :\")\n",
    "print(poly_cls_synd[cls_num])\n",
    "print(\"Average channel :\")\n",
    "print(poly_avg)"
   ]
  },
  {
   "cell_type": "code",
   "execution_count": 37,
   "metadata": {},
   "outputs": [
    {
     "data": {
      "text/plain": [
       "array([ 0,  0,  3, 17, 42, 78, 83, 33])"
      ]
     },
     "execution_count": 37,
     "metadata": {},
     "output_type": "execute_result"
    }
   ],
   "source": []
  },
  {
   "cell_type": "code",
   "execution_count": 25,
   "metadata": {},
   "outputs": [
    {
     "name": "stdout",
     "output_type": "stream",
     "text": [
      "[[   1   21   42  252  609 1281 1428  462]\n",
      " [   0    0   51  229  738 1278 1227  573]\n",
      " [   0    0   57  223  726 1290 1233  567]\n",
      " [   0    0   39  241  762 1254 1215  585]]\n"
     ]
    }
   ],
   "source": [
    "suum_cls = poly_cls[0]*len(classes[0])\n",
    "for cls_num in range(1,7):\n",
    "    suum_cls += poly_cls[cls_num]*len(classes[cls_num])\n",
    "print(suum_cls)"
   ]
  },
  {
   "cell_type": "code",
   "execution_count": 26,
   "metadata": {},
   "outputs": [
    {
     "data": {
      "text/plain": [
       "array([[   1,   21,   42,  252,  609, 1281, 1428,  462],\n",
       "       [   0,    0,   51,  229,  738, 1278, 1227,  573],\n",
       "       [   0,    0,   57,  223,  726, 1290, 1233,  567],\n",
       "       [   0,    0,   39,  241,  762, 1254, 1215,  585]])"
      ]
     },
     "execution_count": 26,
     "metadata": {},
     "output_type": "execute_result"
    }
   ],
   "source": [
    "poly_avg"
   ]
  },
  {
   "cell_type": "markdown",
   "metadata": {},
   "source": [
    "Tracking order of diff / order of channel conditioned on the syndrome\n",
    "\n",
    "s=0 -- p/1 = p\n",
    "rest of the classes -- 1/p"
   ]
  },
  {
   "cell_type": "code",
   "execution_count": 34,
   "metadata": {},
   "outputs": [
    {
     "name": "stdout",
     "output_type": "stream",
     "text": [
      "42 51 57 39\n"
     ]
    }
   ],
   "source": [
    "a = (5,2)\n",
    "print(Ilog[a],Xlog[a],Ylog[a],Zlog[a])"
   ]
  },
  {
   "cell_type": "code",
   "execution_count": 22,
   "metadata": {},
   "outputs": [
    {
     "name": "stdout",
     "output_type": "stream",
     "text": [
      "Sgens = [[1 1 1 1 0 0 0]\n",
      " [1 1 0 0 1 1 0]\n",
      " [1 0 1 0 1 0 1]\n",
      " [3 3 3 3 0 0 0]\n",
      " [3 3 0 0 3 3 0]\n",
      " [3 0 3 0 3 0 3]]\n",
      "Tgens = [[3 3 3 0 0 0 0]\n",
      " [3 0 3 0 0 0 0]\n",
      " [3 3 0 0 0 0 0]\n",
      " [0 0 0 1 0 0 0]\n",
      " [0 0 0 0 1 0 1]\n",
      " [0 0 0 0 1 1 0]]\n"
     ]
    }
   ],
   "source": [
    "print(\"Sgens = {}\".format(qcode.S))\n",
    "print(\"Tgens = {}\".format(qcode.T))"
   ]
  },
  {
   "cell_type": "code",
   "execution_count": 35,
   "metadata": {},
   "outputs": [],
   "source": [
    "Ec_trivialdec = qc.GetOperatorsForLSTIndex(qcode,range(nstabs*nstabs))\n",
    "Ec_minwt = qc.GetOperatorsForLSTIndex(qcode,indices[0])"
   ]
  },
  {
   "cell_type": "code",
   "execution_count": 51,
   "metadata": {},
   "outputs": [],
   "source": [
    "poly_l2 = {}\n",
    "for P in Ec_minwt:\n",
    "    polyP = multiplyListPols(list(map(lambda i : poly_logs[i],P)))\n",
    "    poly_l2 = addPols(poly_l2,polyP)"
   ]
  },
  {
   "cell_type": "code",
   "execution_count": 78,
   "metadata": {},
   "outputs": [],
   "source": [
    "def calculate_uncorr_l2(p,nqubits,poly_l2,threshold = None):\n",
    "    l2_contr = 0\n",
    "    if threshold is not None:\n",
    "        poly_l2 = dict(((a,b),value) for (a,b), value in poly_l2.items() if b <= threshold)\n",
    "    for (a,b) in poly_l2:\n",
    "        l2_contr += np.power(1-p,a)*np.power(p/3,b)*poly_l2[(a,b)]\n",
    "    return 1-l2_contr"
   ]
  },
  {
   "cell_type": "code",
   "execution_count": 59,
   "metadata": {},
   "outputs": [
    {
     "name": "stdout",
     "output_type": "stream",
     "text": [
      "4.2351132600870756e-09\n"
     ]
    }
   ],
   "source": [
    "p = 0.001\n",
    "uncorr = calculate_uncorr_l2(p,qcode.N,poly_l2)\n",
    "print(uncorr)"
   ]
  },
  {
   "cell_type": "code",
   "execution_count": 91,
   "metadata": {},
   "outputs": [
    {
     "data": {
      "text/plain": [
       "<matplotlib.legend.Legend at 0x7fb8e1083220>"
      ]
     },
     "execution_count": 91,
     "metadata": {},
     "output_type": "execute_result"
    },
    {
     "data": {
      "image/png": "[encoded data removed]",
      "text/plain": [
       "<Figure size 432x288 with 1 Axes>"
      ]
     },
     "metadata": {
      "needs_background": "light"
     },
     "output_type": "display_data"
    }
   ],
   "source": [
    "import matplotlib.pyplot as plt\n",
    "xaxis = np.linspace(1e-3,5e-2,100)\n",
    "yaxis = [calculate_uncorr_l2(p,qcode.N,poly_l2) for p in xaxis]\n",
    "yaxis_trunc = [calculate_uncorr_l2(p,qcode.N,poly_l2,4) for p in xaxis]\n",
    "plt.plot(xaxis,yaxis,label=\"exact\")\n",
    "#plt.plot(xaxis,yaxis_trunc,label=\"truncated\")\n",
    "plt.legend()"
   ]
  },
  {
   "cell_type": "code",
   "execution_count": 103,
   "metadata": {},
   "outputs": [
    {
     "data": {
      "text/plain": [
       "{(7, 0): 1,\n",
       " (3, 4): 609,\n",
       " (1, 6): 1428,\n",
       " (6, 1): 21,\n",
       " (2, 5): 1281,\n",
       " (4, 3): 252,\n",
       " (0, 7): 462,\n",
       " (5, 2): 42}"
      ]
     },
     "execution_count": 103,
     "metadata": {},
     "output_type": "execute_result"
    }
   ],
   "source": [
    "poly_logs[0]"
   ]
  },
  {
   "cell_type": "code",
   "execution_count": 97,
   "metadata": {},
   "outputs": [
    {
     "data": {
      "text/plain": [
       "229"
      ]
     },
     "execution_count": 97,
     "metadata": {},
     "output_type": "execute_result"
    }
   ],
   "source": [
    "poly_logs[1][(4,3)]"
   ]
  },
  {
   "cell_type": "code",
   "execution_count": 101,
   "metadata": {},
   "outputs": [
    {
     "data": {
      "text/plain": [
       "693"
      ]
     },
     "execution_count": 101,
     "metadata": {},
     "output_type": "execute_result"
    }
   ],
   "source": [
    "poly_logs[1][(4,3)] + poly_logs[2][(4,3)] + poly_logs[3][(4,3)] "
   ]
  },
  {
   "cell_type": "code",
   "execution_count": 102,
   "metadata": {},
   "outputs": [
    {
     "data": {
      "text/plain": [
       "147"
      ]
     },
     "execution_count": 102,
     "metadata": {},
     "output_type": "execute_result"
    }
   ],
   "source": [
    "poly_logs[1][(5,2)] + poly_logs[2][(5,2)] + poly_logs[3][(5,2)] "
   ]
  },
  {
   "cell_type": "code",
   "execution_count": 100,
   "metadata": {},
   "outputs": [
    {
     "ename": "KeyError",
     "evalue": "(6, 1)",
     "output_type": "error",
     "traceback": [
      "\u001b[0;31m---------------------------------------------------------------------------\u001b[0m",
      "\u001b[0;31mKeyError\u001b[0m                                  Traceback (most recent call last)",
      "\u001b[0;32m<ipython-input-100-8d1f9a39da9c>\u001b[0m in \u001b[0;36m<module>\u001b[0;34m\u001b[0m\n\u001b[0;32m----> 1\u001b[0;31m \u001b[0mpoly_logs\u001b[0m\u001b[0;34m[\u001b[0m\u001b[0;36m1\u001b[0m\u001b[0;34m]\u001b[0m\u001b[0;34m[\u001b[0m\u001b[0;34m(\u001b[0m\u001b[0;36m6\u001b[0m\u001b[0;34m,\u001b[0m\u001b[0;36m1\u001b[0m\u001b[0;34m)\u001b[0m\u001b[0;34m]\u001b[0m \u001b[0;34m+\u001b[0m \u001b[0mpoly_logs\u001b[0m\u001b[0;34m[\u001b[0m\u001b[0;36m2\u001b[0m\u001b[0;34m]\u001b[0m\u001b[0;34m[\u001b[0m\u001b[0;34m(\u001b[0m\u001b[0;36m6\u001b[0m\u001b[0;34m,\u001b[0m\u001b[0;36m1\u001b[0m\u001b[0;34m)\u001b[0m\u001b[0;34m]\u001b[0m \u001b[0;34m+\u001b[0m \u001b[0mpoly_logs\u001b[0m\u001b[0;34m[\u001b[0m\u001b[0;36m3\u001b[0m\u001b[0;34m]\u001b[0m\u001b[0;34m[\u001b[0m\u001b[0;34m(\u001b[0m\u001b[0;36m6\u001b[0m\u001b[0;34m,\u001b[0m\u001b[0;36m1\u001b[0m\u001b[0;34m)\u001b[0m\u001b[0;34m]\u001b[0m\u001b[0;34m\u001b[0m\u001b[0;34m\u001b[0m\u001b[0m\n\u001b[0m",
      "\u001b[0;31mKeyError\u001b[0m: (6, 1)"
     ]
    }
   ],
   "source": [
    "poly_logs[1][(6,1)] + poly_logs[2][(6,1)] + poly_logs[3][(6,1)] "
   ]
  },
  {
   "cell_type": "code",
   "execution_count": 1,
   "metadata": {},
   "outputs": [],
   "source": [
    "classes = [[7, 6, 5, 4, 3, 2, 1],[56, 48, 40, 32, 24, 16, 8],[63, 54, 45, 36, 27, 18, 9],[0]]"
   ]
  },
  {
   "cell_type": "code",
   "execution_count": 3,
   "metadata": {},
   "outputs": [
    {
     "name": "stdout",
     "output_type": "stream",
     "text": [
      "[1, 2, 3, 4, 5, 6, 7]\n",
      "[8, 16, 24, 32, 40, 48, 56]\n",
      "[9, 18, 27, 36, 45, 54, 63]\n",
      "[0]\n"
     ]
    }
   ],
   "source": [
    "for a in classes:\n",
    "    print(sorted(a))"
   ]
  },
  {
   "cell_type": "code",
   "execution_count": null,
   "metadata": {},
   "outputs": [],
   "source": []
  }
 ],
 "metadata": {
  "kernelspec": {
   "display_name": "Python 3",
   "language": "python",
   "name": "python3"
  },
  "language_info": {
   "codemirror_mode": {
    "name": "ipython",
    "version": 3
   },
   "file_extension": ".py",
   "mimetype": "text/x-python",
   "name": "python",
   "nbconvert_exporter": "python",
   "pygments_lexer": "ipython3",
   "version": "3.7.1"
  }
 },
 "nbformat": 4,
 "nbformat_minor": 2
}
