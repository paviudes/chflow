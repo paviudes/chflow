{
 "cells": [
  {
   "cell_type": "code",
   "execution_count": 1,
   "metadata": {},
   "outputs": [],
   "source": [
    "from define import qcode as qc\n",
    "import numpy as np\n",
    "from define.QECCLfid import uncorrectable as uc\n",
    "from define import globalvars as gv\n",
    "from define import chanreps as chrep"
   ]
  },
  {
   "cell_type": "code",
   "execution_count": 8,
   "metadata": {},
   "outputs": [
    {
     "name": "stdout",
     "output_type": "stream",
     "text": [
      "0.9987037076183695\n"
     ]
    }
   ],
   "source": [
    "qcode = qc.QuantumErrorCorrectingCode(\"Steane\")\n",
    "qc.Load(qcode)\n",
    "qc.populate_symplectic(qcode)\n",
    "#uc.ComputeCorrectableIndices(qcode)\n",
    "#correctable_set = np.array(qcode.Paulis_correctable, dtype=np.int)\n",
    "probs = np.random.rand(4)\n",
    "probs[0] = 1-0.66**16\n",
    "probs[1:] = (1-probs[0]) * probs[1:]/np.sum(probs[1:])\n",
    "print(probs[0])"
   ]
  },
  {
   "cell_type": "code",
   "execution_count": null,
   "metadata": {},
   "outputs": [],
   "source": [
    "def uncorr_l2(probs, qcode, correctable_set,degen_lst):\n",
    "    # compute coset probabilities\n",
    "    if probs.ndim == 2:\n",
    "        pauli_probs = np.prod(probs[range(qcode.N), qcode.PauliOperatorsLST[:, range(qcode.N)]], axis=1)\n",
    "    else:\n",
    "        pauli_probs = probs\n",
    "    print(\"sum(P) = {}\\nP(I) = {}\".format(sum(pauli_probs), pauli_probs[0]))\n",
    "    nlogs = 4**qcode.K\n",
    "    nstabs = 2**(qcode.N - qcode.K)\n",
    "    coset_probs = np.zeros(nlogs,dtype=np.double)\n",
    "    for i in range(nlogs):\n",
    "#         inds = i*(nstabs**2) + range(nstabs)*nstabs\n",
    "        inds = degen_lst[i]\n",
    "        coset_probs[i] = np.sum(pauli_probs[inds])\n",
    "        # cosets[i] = all errors that are mapped to Li by the decoder.\n",
    "    # get level-2 contribution\n",
    "    # Note not including all identity correctable because it is accounted for in the l1 case\n",
    "    # correctable_prob_l2 = np.sum(list(map(lambda x: np.prod(coset_probs[x]),qcode.Paulis_correctable[1:])))\n",
    "    correctable_prob_l2 = np.sum(np.prod(coset_probs[correctable_set[1:]], axis=1))\n",
    "    # Get level-1 contribution\n",
    "    correctable_prob_l1 = np.power(np.sum(pauli_probs[qcode.PauliCorrectableIndices]), qcode.N)\n",
    "    #print(\"Level 1 correctable : {}\".format(correctable_prob_l1))\n",
    "    #print(\"Level 2 correctable : {}\".format(correctable_prob_l2))\n",
    "    print(\"pc = {}\\nP1 = {}\\nP2 = {} \\nPc2 = {}\".format(np.sum(pauli_probs[qcode.PauliCorrectableIndices]), correctable_prob_l1, correctable_prob_l2,correctable_prob_l2+correctable_prob_l1))\n",
    "    return 1 - (correctable_prob_l1 + correctable_prob_l2)"
   ]
  },
  {
   "cell_type": "code",
   "execution_count": null,
   "metadata": {},
   "outputs": [],
   "source": [
    "uncorr_l2(np.tile(probs, [qcode.N, 1]), qcode, correctable_set,degen_lst)"
   ]
  },
  {
   "cell_type": "code",
   "execution_count": null,
   "metadata": {},
   "outputs": [],
   "source": [
    "uncorr_l2(np.tile(probs, [qcode.N, 1]), qcode, correctable_set)"
   ]
  },
  {
   "cell_type": "code",
   "execution_count": null,
   "metadata": {},
   "outputs": [],
   "source": [
    "%load_ext line_profiler"
   ]
  },
  {
   "cell_type": "code",
   "execution_count": null,
   "metadata": {},
   "outputs": [],
   "source": [
    "%lprun -f uncorr_l2 uncorr_l2(probs,qcode, correctable_set)"
   ]
  },
  {
   "cell_type": "code",
   "execution_count": null,
   "metadata": {},
   "outputs": [],
   "source": [
    "probs = np.random.rand(qcode.N, 4)"
   ]
  },
  {
   "cell_type": "code",
   "execution_count": null,
   "metadata": {},
   "outputs": [],
   "source": [
    "pauli_probs = np.ones(qcode.PauliOperatorsLST.shape[0], dtype=np.double)\n",
    "for i in range(qcode.PauliOperatorsLST.shape[0]):\n",
    "    for q in range(qcode.N):\n",
    "        pauli_probs[i] *= probs[q, qcode.PauliOperatorsLST[i, q]]\n",
    "print(pauli_probs)"
   ]
  },
  {
   "cell_type": "code",
   "execution_count": null,
   "metadata": {},
   "outputs": [],
   "source": [
    "qcode.PauliCorrectableIndices"
   ]
  },
  {
   "cell_type": "code",
   "execution_count": null,
   "metadata": {},
   "outputs": [],
   "source": [
    "def pcorr_level(probs, nblocks, level, qcode):\n",
    "    if level > 0:\n",
    "        return np.power(np.sum(probs[qcode.PauliCorrectableIndices[1:]]), nblocks)\n",
    "    return np.power(np.sum(probs[qcode.PauliCorrectableIndices]), nblocks)"
   ]
  },
  {
   "cell_type": "code",
   "execution_count": null,
   "metadata": {},
   "outputs": [],
   "source": [
    "def CorrectableProbs(prob_levels, qcode):\n",
    "    pcorr = 0\n",
    "    nlevels = prob_levels.shape[0]\n",
    "    for l in range(nlevels):\n",
    "        probs = prob_levels[l, :, :]\n",
    "        if probs.ndim == 2:\n",
    "            pauli_probs = np.prod(probs[range(qcode.N), qcode.PauliOperatorsLST[:, range(qcode.N)]], axis=1)\n",
    "        else:\n",
    "            pauli_probs = probs\n",
    "        print(\"Fidelity for level {} = {}\".format(l, pauli_probs[0]))\n",
    "        pcorr += pcorr_level(pauli_probs, qcode.N**(nlevels-l-1), l, qcode)\n",
    "        print(\"pc for level {}: {}\".format(l, pcorr_level(pauli_probs, qcode.N**(nlevels-l-1), l, qcode)))\n",
    "    print(\"pc = {}\".format(pcorr))\n",
    "    return pcorr"
   ]
  },
  {
   "cell_type": "code",
   "execution_count": null,
   "metadata": {},
   "outputs": [],
   "source": [
    "fids = [0.99, 0.999]\n",
    "nlevels = 2\n",
    "probs = np.random.rand(2, 4)\n",
    "# Level 1\n",
    "probs[0, 0] = fids[0]\n",
    "probs[0, 1:] = (1 - fids[0]) * probs[0, 1:]/np.sum(probs[0, 1:])\n",
    "# Level 2\n",
    "probs[1, 0] = fids[1]\n",
    "probs[1, 1:] = (1 - fids[1]) * probs[1, 1:]/np.sum(probs[1, 1:])\n",
    "\n",
    "prob_levels = np.zeros((nlevels, qcode.N, 4))\n",
    "prob_levels[0, :, :] = np.tile(probs[0, :], [qcode.N, 1])\n",
    "prob_levels[1, :, :] = np.tile(probs[1, :], [qcode.N, 1])"
   ]
  },
  {
   "cell_type": "code",
   "execution_count": null,
   "metadata": {},
   "outputs": [],
   "source": [
    "CorrectableProbs(prob_levels, qcode)"
   ]
  },
  {
   "cell_type": "code",
   "execution_count": null,
   "metadata": {},
   "outputs": [],
   "source": [
    "logchans = np.load(\"/Users/pavi/Documents/chbank/23_05_2020_04_17_27/channels/logchan_8.5_-1_s306.npy\")"
   ]
  },
  {
   "cell_type": "code",
   "execution_count": null,
   "metadata": {},
   "outputs": [],
   "source": [
    "np.diag(chrep.ConvertRepresentations(logchans[1, :, :], \"process\", \"chi\"))"
   ]
  },
  {
   "cell_type": "code",
   "execution_count": null,
   "metadata": {},
   "outputs": [],
   "source": [
    "physchans = np.load(\"/Users/pavi/Documents/chbank/23_05_2020_04_17_27/physical/raw_rtasu_8.5_-1.npy\")[306, :].reshape([7,4,4])"
   ]
  },
  {
   "cell_type": "code",
   "execution_count": null,
   "metadata": {},
   "outputs": [],
   "source": [
    "prob_levels[0, :, :] = np.array(list(map(lambda ls: np.real(np.diag(ls)), physchans)))"
   ]
  },
  {
   "cell_type": "code",
   "execution_count": null,
   "metadata": {},
   "outputs": [],
   "source": [
    "prob_levels[1, :, :] = np.tile(np.real(np.diag(chrep.ConvertRepresentations(logchans[1, :, :], \"process\", \"chi\"))), [qcode.N, 1])"
   ]
  },
  {
   "cell_type": "code",
   "execution_count": null,
   "metadata": {},
   "outputs": [],
   "source": [
    "prob_levels"
   ]
  },
  {
   "cell_type": "code",
   "execution_count": null,
   "metadata": {},
   "outputs": [],
   "source": [
    "CorrectableProbs(prob_levels[:1, :, :], qcode)"
   ]
  },
  {
   "cell_type": "code",
   "execution_count": null,
   "metadata": {},
   "outputs": [],
   "source": [
    "nlogs = 4**qcode.K\n",
    "nstabs = 2**(qcode.N - qcode.K)\n",
    "unique_reps = {}\n",
    "for l in range(nlogs):\n",
    "    unique_reps.update({l: np.nonzero(qcode.lookup[:, 0] == l)[0]})\n",
    "decoder_degens = {}\n",
    "for l in range(nlogs):\n",
    "    decoder_degens.update({l:np.array(list(map(lambda t : l * (nstabs * nstabs) + range(nstabs) * nstabs + t, unique_reps[l])), dtype=np.int).ravel()})"
   ]
  },
  {
   "cell_type": "code",
   "execution_count": null,
   "metadata": {},
   "outputs": [],
   "source": [
    "decoder_degens"
   ]
  },
  {
   "cell_type": "code",
   "execution_count": 5,
   "metadata": {},
   "outputs": [
    {
     "name": "stdout",
     "output_type": "stream",
     "text": [
      "correctable_probabilities\n",
      "[0.99096117 0.99610947 0.99956975]\n"
     ]
    },
    {
     "data": {
      "text/plain": [
       "array([0.00903883, 0.00389053, 0.00043025])"
      ]
     },
     "execution_count": 5,
     "metadata": {},
     "output_type": "execute_result"
    }
   ],
   "source": [
    "uc.ComputeUnCorrProb(np.tile(probs, [qcode.N, 1]), qcode, 3, method=\"minwt\")"
   ]
  },
  {
   "cell_type": "code",
   "execution_count": 10,
   "metadata": {},
   "outputs": [],
   "source": [
    "probs = np.tile(probs, [7,1])\n",
    "pvec = np.prod(probs[range(qcode.N), qcode.PauliOperatorsLST[:, range(qcode.N)]], axis=1)"
   ]
  },
  {
   "cell_type": "code",
   "execution_count": 11,
   "metadata": {},
   "outputs": [
    {
     "data": {
      "text/plain": [
       "array([9.90961165e-01, 1.32009910e-09, 1.32009910e-09, ...,\n",
       "       2.28560031e-16, 2.28560031e-16, 8.88355763e-13])"
      ]
     },
     "execution_count": 11,
     "metadata": {},
     "output_type": "execute_result"
    }
   ],
   "source": [
    "pvec"
   ]
  },
  {
   "cell_type": "code",
   "execution_count": 12,
   "metadata": {},
   "outputs": [
    {
     "name": "stdout",
     "output_type": "stream",
     "text": [
      "correctable_probabilities\n",
      "[0.99096117 0.99610647 0.99949679]\n"
     ]
    },
    {
     "data": {
      "text/plain": [
       "array([0.00903883, 0.00389353, 0.00050321])"
      ]
     },
     "execution_count": 12,
     "metadata": {},
     "output_type": "execute_result"
    }
   ],
   "source": [
    "uc.ComputeUnCorrProb(pvec, qcode, 3, method=\"minwt\")"
   ]
  },
  {
   "cell_type": "code",
   "execution_count": 14,
   "metadata": {},
   "outputs": [
    {
     "name": "stdout",
     "output_type": "stream",
     "text": [
      "correctable_probabilities\n",
      "[0.99096117 0.99610647 0.99949679]\n"
     ]
    },
    {
     "data": {
      "text/plain": [
       "array([0.00903883, 0.00389353, 0.00050321])"
      ]
     },
     "execution_count": 14,
     "metadata": {},
     "output_type": "execute_result"
    }
   ],
   "source": [
    "uc.ComputeUnCorrProb(np.tile(probs, [qcode.N, 1]), qcode, 3, method=\"minwt\")"
   ]
  },
  {
   "cell_type": "code",
   "execution_count": 19,
   "metadata": {},
   "outputs": [],
   "source": [
    "from define.QECCLfid.minwt import ComputeUncorrProbs"
   ]
  },
  {
   "cell_type": "code",
   "execution_count": 20,
   "metadata": {},
   "outputs": [
    {
     "name": "stdout",
     "output_type": "stream",
     "text": [
      "The line_profiler extension is already loaded. To reload it, use:\n",
      "  %reload_ext line_profiler\n"
     ]
    }
   ],
   "source": [
    "%load_ext line_profiler"
   ]
  },
  {
   "cell_type": "code",
   "execution_count": 23,
   "metadata": {},
   "outputs": [
    {
     "name": "stdout",
     "output_type": "stream",
     "text": [
      "correctable_probabilities\n",
      "[0.99096117 0.99610647 0.99949679]\n"
     ]
    }
   ],
   "source": [
    "%lprun -f ComputeUncorrProbs ComputeUncorrProbs(np.tile(probs, [qcode.N, 1]), qcode, 3)"
   ]
  },
  {
   "cell_type": "code",
   "execution_count": null,
   "metadata": {},
   "outputs": [],
   "source": []
  }
 ],
 "metadata": {
  "kernelspec": {
   "display_name": "Python 3",
   "language": "python",
   "name": "python3"
  },
  "language_info": {
   "codemirror_mode": {
    "name": "ipython",
    "version": 3
   },
   "file_extension": ".py",
   "mimetype": "text/x-python",
   "name": "python",
   "nbconvert_exporter": "python",
   "pygments_lexer": "ipython3",
   "version": "3.7.1"
  }
 },
 "nbformat": 4,
 "nbformat_minor": 2
}
