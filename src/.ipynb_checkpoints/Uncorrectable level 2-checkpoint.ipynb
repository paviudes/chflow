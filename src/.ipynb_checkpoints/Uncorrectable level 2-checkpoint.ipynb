{
 "cells": [
  {
   "cell_type": "code",
   "execution_count": 102,
   "metadata": {},
   "outputs": [],
   "source": [
    "from define import qcode as qc\n",
    "import numpy as np\n",
    "from define.QECCLfid import uncorrectable as uc\n",
    "from define import globalvars as gv\n",
    "from define import chanreps as chrep"
   ]
  },
  {
   "cell_type": "code",
   "execution_count": 27,
   "metadata": {},
   "outputs": [],
   "source": [
    "def Kron(*mats):\n",
    "\t\"\"\"\n",
    "\tKronecker product of a list of matrices.\n",
    "\t\"\"\"\n",
    "\tif len(mats) <= 1:\n",
    "\t\treturn mats[0]\n",
    "\treturn np.kron(mats[0], Kron(*mats[1:]))"
   ]
  },
  {
   "cell_type": "code",
   "execution_count": 35,
   "metadata": {},
   "outputs": [
    {
     "name": "stdout",
     "output_type": "stream",
     "text": [
      "0.95\n"
     ]
    }
   ],
   "source": [
    "qcode = qc.QuantumErrorCorrectingCode(\"Steane\")\n",
    "qc.Load(qcode)\n",
    "qc.populate_symplectic(qcode)\n",
    "uc.ComputeCorrectableIndices(qcode)\n",
    "correctable_set = np.array(qcode.Paulis_correctable, dtype=np.int)\n",
    "probs = np.random.rand(4)\n",
    "probs[0] = 0.95\n",
    "probs[1:] = 0.05 * probs[1:]/np.sum(probs[1:])\n",
    "print(probs[0])"
   ]
  },
  {
   "cell_type": "code",
   "execution_count": 57,
   "metadata": {},
   "outputs": [],
   "source": [
    "def uncorr_l2(probs, qcode, correctable_set):\n",
    "    # compute coset probabilities\n",
    "    if probs.ndim == 2:\n",
    "        pauli_probs = np.prod(probs[range(qcode.N), qcode.PauliOperatorsLST[:, range(qcode.N)]], axis=1)\n",
    "    else:\n",
    "        pauli_probs = probs\n",
    "    print(\"sum(P) = {}\\nP(I) = {}\".format(sum(pauli_probs), pauli_probs[0]))\n",
    "    nlogs = 4**qcode.K\n",
    "    nstabs = 2**(qcode.N - qcode.K)\n",
    "    coset_probs = np.zeros(nlogs,dtype=np.double)\n",
    "    for i in range(nlogs):\n",
    "        inds = i*(nstabs**2) + range(nstabs)*nstabs\n",
    "        coset_probs[i] = np.sum(pauli_probs[inds])\n",
    "        # cosets[i] = all errors that are mapped to Li by the decoder.\n",
    "    # get level-2 contribution\n",
    "    # Note not including all identity correctable because it is accounted for in the l1 case\n",
    "    # correctable_prob_l2 = np.sum(list(map(lambda x: np.prod(coset_probs[x]),qcode.Paulis_correctable[1:])))\n",
    "    correctable_prob_l2 = np.sum(np.prod(coset_probs[correctable_set[1:]], axis=1))\n",
    "    # Get level-1 contribution\n",
    "    correctable_prob_l1 = np.power(np.sum(pauli_probs[qcode.PauliCorrectableIndices]), qcode.N)\n",
    "    #print(\"Level 1 correctable : {}\".format(correctable_prob_l1))\n",
    "    #print(\"Level 2 correctable : {}\".format(correctable_prob_l2))\n",
    "    print(\"pc = {}\\nP1 = {}\\nP2 = {}\".format(np.sum(pauli_probs[qcode.PauliCorrectableIndices]), correctable_prob_l1, correctable_prob_l2))\n",
    "    return 1 - (correctable_prob_l1 + correctable_prob_l2)"
   ]
  },
  {
   "cell_type": "code",
   "execution_count": 58,
   "metadata": {},
   "outputs": [
    {
     "name": "stdout",
     "output_type": "stream",
     "text": [
      "sum(P) = 1.0000000000000175\n",
      "P(I) = 0.6983372960937497\n",
      "pc = 0.8516230599166119\n",
      "P1 = 0.3248866665074825\n",
      "P2 = 0.00012867390095955058\n"
     ]
    },
    {
     "data": {
      "text/plain": [
       "0.674984659591558"
      ]
     },
     "execution_count": 58,
     "metadata": {},
     "output_type": "execute_result"
    }
   ],
   "source": [
    "uncorr_l2(np.tile(probs, [qcode.N, 1]), qcode, correctable_set)"
   ]
  },
  {
   "cell_type": "code",
   "execution_count": null,
   "metadata": {},
   "outputs": [],
   "source": [
    "%load_ext line_profiler"
   ]
  },
  {
   "cell_type": "code",
   "execution_count": 12,
   "metadata": {},
   "outputs": [
    {
     "name": "stdout",
     "output_type": "stream",
     "text": [
      "Level 1 correctable : 0.5790407441137769\n",
      "Level 2 correctable : 0.004541670635943977\n"
     ]
    }
   ],
   "source": [
    "%lprun -f uncorr_l2 uncorr_l2(probs,qcode, correctable_set)"
   ]
  },
  {
   "cell_type": "code",
   "execution_count": 6,
   "metadata": {},
   "outputs": [],
   "source": [
    "probs = np.random.rand(qcode.N, 4)"
   ]
  },
  {
   "cell_type": "code",
   "execution_count": 8,
   "metadata": {},
   "outputs": [
    {
     "name": "stdout",
     "output_type": "stream",
     "text": [
      "[2.55292603e-04 4.07366780e-04 2.09175626e-05 ... 2.73921432e-05\n",
      " 5.33458384e-04 4.95317874e-04]\n"
     ]
    }
   ],
   "source": [
    "pauli_probs = np.ones(qcode.PauliOperatorsLST.shape[0], dtype=np.double)\n",
    "for i in range(qcode.PauliOperatorsLST.shape[0]):\n",
    "    for q in range(qcode.N):\n",
    "        pauli_probs[i] *= probs[q, qcode.PauliOperatorsLST[i, q]]\n",
    "print(pauli_probs)"
   ]
  },
  {
   "cell_type": "code",
   "execution_count": 44,
   "metadata": {},
   "outputs": [
    {
     "data": {
      "text/plain": [
       "array([  0,  64, 128, ..., 383, 447, 511])"
      ]
     },
     "execution_count": 44,
     "metadata": {},
     "output_type": "execute_result"
    }
   ],
   "source": [
    "qcode.PauliCorrectableIndices"
   ]
  },
  {
   "cell_type": "code",
   "execution_count": 62,
   "metadata": {},
   "outputs": [],
   "source": [
    "def pcorr_level(probs, nblocks, level, qcode):\n",
    "    if level > 0:\n",
    "        return np.power(np.sum(probs[qcode.PauliCorrectableIndices[1:]]), nblocks)\n",
    "    return np.power(np.sum(probs[qcode.PauliCorrectableIndices]), nblocks)"
   ]
  },
  {
   "cell_type": "code",
   "execution_count": 83,
   "metadata": {},
   "outputs": [],
   "source": [
    "def CorrectableProbs(prob_levels, qcode):\n",
    "    pcorr = 0\n",
    "    nlevels = prob_levels.shape[0]\n",
    "    for l in range(nlevels):\n",
    "        probs = prob_levels[l, :, :]\n",
    "        if probs.ndim == 2:\n",
    "            pauli_probs = np.prod(probs[range(qcode.N), qcode.PauliOperatorsLST[:, range(qcode.N)]], axis=1)\n",
    "        else:\n",
    "            pauli_probs = probs\n",
    "        print(\"Fidelity for level {} = {}\".format(l, pauli_probs[0]))\n",
    "        pcorr += pcorr_level(pauli_probs, qcode.N**(nlevels-l-1), l, qcode)\n",
    "        print(\"pc for level {}: {}\".format(l, pcorr_level(pauli_probs, qcode.N**(nlevels-l-1), l, qcode)))\n",
    "    print(\"pc = {}\".format(pcorr))\n",
    "    return pcorr"
   ]
  },
  {
   "cell_type": "code",
   "execution_count": 90,
   "metadata": {},
   "outputs": [],
   "source": [
    "fids = [0.99, 0.999]\n",
    "nlevels = 2\n",
    "probs = np.random.rand(2, 4)\n",
    "# Level 1\n",
    "probs[0, 0] = fids[0]\n",
    "probs[0, 1:] = (1 - fids[0]) * probs[0, 1:]/np.sum(probs[0, 1:])\n",
    "# Level 2\n",
    "probs[1, 0] = fids[1]\n",
    "probs[1, 1:] = (1 - fids[1]) * probs[1, 1:]/np.sum(probs[1, 1:])\n",
    "\n",
    "prob_levels = np.zeros((nlevels, qcode.N, 4))\n",
    "prob_levels[0, :, :] = np.tile(probs[0, :], [qcode.N, 1])\n",
    "prob_levels[1, :, :] = np.tile(probs[1, :], [qcode.N, 1])"
   ]
  },
  {
   "cell_type": "code",
   "execution_count": 91,
   "metadata": {},
   "outputs": [
    {
     "name": "stdout",
     "output_type": "stream",
     "text": [
      "Fidelity for level 0 = 0.9320653479069899\n",
      "pc for level 0: 0.8077407822403662\n",
      "Fidelity for level 1 = 0.993020965034979\n",
      "pc for level 1: 0.003978751318850704\n",
      "pc = 0.8117195335592169\n"
     ]
    },
    {
     "data": {
      "text/plain": [
       "0.8117195335592169"
      ]
     },
     "execution_count": 91,
     "metadata": {},
     "output_type": "execute_result"
    }
   ],
   "source": [
    "CorrectableProbs(prob_levels, qcode)"
   ]
  },
  {
   "cell_type": "code",
   "execution_count": 92,
   "metadata": {},
   "outputs": [],
   "source": [
    "logchans = np.load(\"/Users/pavi/Documents/chbank/23_05_2020_04_17_27/channels/logchan_8.5_-1_s306.npy\")"
   ]
  },
  {
   "cell_type": "code",
   "execution_count": 104,
   "metadata": {},
   "outputs": [
    {
     "data": {
      "text/plain": [
       "array([9.99827018e-01+0.j, 4.06618895e-05+0.j, 7.29414150e-05+0.j,\n",
       "       5.93790502e-05+0.j])"
      ]
     },
     "execution_count": 104,
     "metadata": {},
     "output_type": "execute_result"
    }
   ],
   "source": [
    "np.diag(chrep.ConvertRepresentations(logchans[1, :, :], \"process\", \"chi\"))"
   ]
  },
  {
   "cell_type": "code",
   "execution_count": 99,
   "metadata": {},
   "outputs": [],
   "source": [
    "physchans = np.load(\"/Users/pavi/Documents/chbank/23_05_2020_04_17_27/physical/raw_rtasu_8.5_-1.npy\")[306, :].reshape([7,4,4])"
   ]
  },
  {
   "cell_type": "code",
   "execution_count": 110,
   "metadata": {},
   "outputs": [],
   "source": [
    "prob_levels[0, :, :] = np.array(list(map(lambda ls: np.real(np.diag(ls)), physchans)))"
   ]
  },
  {
   "cell_type": "code",
   "execution_count": 111,
   "metadata": {},
   "outputs": [],
   "source": [
    "prob_levels[1, :, :] = np.tile(np.real(np.diag(chrep.ConvertRepresentations(logchans[1, :, :], \"process\", \"chi\"))), [qcode.N, 1])"
   ]
  },
  {
   "cell_type": "code",
   "execution_count": 112,
   "metadata": {},
   "outputs": [
    {
     "data": {
      "text/plain": [
       "array([[[9.95948296e-01, 6.28067740e-05, 2.51583404e-03, 1.47306271e-03],\n",
       "        [9.90511794e-01, 1.42979216e-03, 1.59150636e-06, 8.05682248e-03],\n",
       "        [9.99143793e-01, 2.11396638e-04, 6.43298907e-04, 1.51139545e-06],\n",
       "        [9.98090970e-01, 8.29513533e-04, 7.15897990e-04, 3.63618508e-04],\n",
       "        [9.95520511e-01, 4.17155609e-03, 3.06951643e-04, 9.81489786e-07],\n",
       "        [9.99381151e-01, 1.15111616e-04, 3.79734883e-04, 1.24002699e-04],\n",
       "        [9.98064598e-01, 6.04745575e-07, 1.93467641e-03, 1.20983173e-07]],\n",
       "\n",
       "       [[9.99827018e-01, 4.06618895e-05, 7.29414150e-05, 5.93790502e-05],\n",
       "        [9.99827018e-01, 4.06618895e-05, 7.29414150e-05, 5.93790502e-05],\n",
       "        [9.99827018e-01, 4.06618895e-05, 7.29414150e-05, 5.93790502e-05],\n",
       "        [9.99827018e-01, 4.06618895e-05, 7.29414150e-05, 5.93790502e-05],\n",
       "        [9.99827018e-01, 4.06618895e-05, 7.29414150e-05, 5.93790502e-05],\n",
       "        [9.99827018e-01, 4.06618895e-05, 7.29414150e-05, 5.93790502e-05],\n",
       "        [9.99827018e-01, 4.06618895e-05, 7.29414150e-05, 5.93790502e-05]]])"
      ]
     },
     "execution_count": 112,
     "metadata": {},
     "output_type": "execute_result"
    }
   ],
   "source": [
    "prob_levels"
   ]
  },
  {
   "cell_type": "code",
   "execution_count": 114,
   "metadata": {},
   "outputs": [
    {
     "name": "stdout",
     "output_type": "stream",
     "text": [
      "Fidelity for level 0 = 0.9768650742956563\n",
      "pc for level 0: 0.992912439778069\n",
      "pc = 0.992912439778069\n"
     ]
    },
    {
     "data": {
      "text/plain": [
       "0.992912439778069"
      ]
     },
     "execution_count": 114,
     "metadata": {},
     "output_type": "execute_result"
    }
   ],
   "source": [
    "CorrectableProbs(prob_levels[:1, :, :], qcode)"
   ]
  },
  {
   "cell_type": "code",
   "execution_count": null,
   "metadata": {},
   "outputs": [],
   "source": []
  }
 ],
 "metadata": {
  "kernelspec": {
   "display_name": "Python 3",
   "language": "python",
   "name": "python3"
  },
  "language_info": {
   "codemirror_mode": {
    "name": "ipython",
    "version": 3
   },
   "file_extension": ".py",
   "mimetype": "text/x-python",
   "name": "python",
   "nbconvert_exporter": "python",
   "pygments_lexer": "ipython3",
   "version": "3.7.1"
  }
 },
 "nbformat": 4,
 "nbformat_minor": 2
}
