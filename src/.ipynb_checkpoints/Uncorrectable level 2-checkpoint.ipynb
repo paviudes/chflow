{
 "cells": [
  {
   "cell_type": "code",
   "execution_count": 1,
   "metadata": {},
   "outputs": [],
   "source": [
    "from define import qcode as qc\n",
    "import numpy as np\n",
    "from define.QECCLfid import uncorrectable as uc\n",
    "from define import globalvars as gv"
   ]
  },
  {
   "cell_type": "code",
   "execution_count": 2,
   "metadata": {},
   "outputs": [],
   "source": [
    "def Kron(*mats):\n",
    "\t\"\"\"\n",
    "\tKronecker product of a list of matrices.\n",
    "\t\"\"\"\n",
    "\tif len(mats) <= 1:\n",
    "\t\treturn mats[0]\n",
    "\treturn np.kron(mats[0], Kron(*mats[1:]))"
   ]
  },
  {
   "cell_type": "code",
   "execution_count": 8,
   "metadata": {},
   "outputs": [
    {
     "name": "stdout",
     "output_type": "stream",
     "text": [
      "0.9\n"
     ]
    }
   ],
   "source": [
    "qcode = qc.QuantumErrorCorrectingCode(\"Steane\")\n",
    "qc.Load(qcode)\n",
    "qc.populate_symplectic(qcode)\n",
    "uc.ComputeCorrectableIndices(qcode)\n",
    "correctable_set = np.array(qcode.Paulis_correctable, dtype=np.int)\n",
    "probs = np.random.random(4**7)\n",
    "probs[0] = 0.9\n",
    "probs[1:] = 0.1 * probs[1:]/np.sum(probs[1:])\n",
    "print(probs[0])"
   ]
  },
  {
   "cell_type": "code",
   "execution_count": 9,
   "metadata": {},
   "outputs": [],
   "source": [
    "def uncorr_l2(probs,qcode, correctable_set):\n",
    "    # compute coset probabilities\n",
    "    if probs.size == 4:\n",
    "        pauli_probs = np.prod(probs[qcode.PauliOperatorsLST], axis=1)\n",
    "    else:\n",
    "        pauli_probs = probs\n",
    "    nlogs = 4**qcode.K\n",
    "    nstabs = 2**(qcode.N - qcode.K)\n",
    "    coset_probs = np.zeros(nlogs,dtype=np.double)\n",
    "    for i in range(nlogs):\n",
    "        inds = i*(nstabs**2) + range(nstabs)*nstabs\n",
    "        coset_probs[i] = np.sum(pauli_probs[inds])\n",
    "    # get level-2 contribution\n",
    "    # Note not including all identity correctable because it is accounted for in the l1 case\n",
    "    # correctable_prob_l2 = np.sum(list(map(lambda x: np.prod(coset_probs[x]),qcode.Paulis_correctable[1:])))\n",
    "    correctable_prob_l2 = np.sum(np.prod(coset_probs[correctable_set[1:]], axis=1))\n",
    "    # Get level-1 contribution\n",
    "    correctable_prob_l1 = np.power(np.sum(pauli_probs[qcode.PauliCorrectableIndices]), qcode.N)\n",
    "    print(\"Level 1 correctable : {}\".format(correctable_prob_l1))\n",
    "    print(\"Level 2 correctable : {}\".format(correctable_prob_l2))\n",
    "    return 1 - (correctable_prob_l1 + correctable_prob_l2)"
   ]
  },
  {
   "cell_type": "code",
   "execution_count": 10,
   "metadata": {},
   "outputs": [
    {
     "name": "stdout",
     "output_type": "stream",
     "text": [
      "Level 1 correctable : 0.5790407441137769\n",
      "Level 2 correctable : 0.004541670635943977\n"
     ]
    },
    {
     "data": {
      "text/plain": [
       "0.41641758525027905"
      ]
     },
     "execution_count": 10,
     "metadata": {},
     "output_type": "execute_result"
    }
   ],
   "source": [
    "uncorr_l2(probs,qcode, correctable_set)"
   ]
  },
  {
   "cell_type": "code",
   "execution_count": 11,
   "metadata": {},
   "outputs": [
    {
     "name": "stdout",
     "output_type": "stream",
     "text": [
      "The line_profiler extension is already loaded. To reload it, use:\n",
      "  %reload_ext line_profiler\n"
     ]
    }
   ],
   "source": [
    "%load_ext line_profiler"
   ]
  },
  {
   "cell_type": "code",
   "execution_count": 12,
   "metadata": {},
   "outputs": [
    {
     "name": "stdout",
     "output_type": "stream",
     "text": [
      "Level 1 correctable : 0.5790407441137769\n",
      "Level 2 correctable : 0.004541670635943977\n"
     ]
    }
   ],
   "source": [
    "%lprun -f uncorr_l2 uncorr_l2(probs,qcode, correctable_set)"
   ]
  },
  {
   "cell_type": "code",
   "execution_count": null,
   "metadata": {},
   "outputs": [],
   "source": [
    "def WeightEnumerate(ops):\n",
    "    # Count the number of operators of different weights.\n",
    "    # The weight of an operator is a four-component vector, denoting the number of I, X, Y and Z respectively in that operator.\n",
    "    # We will store the distinct four-vectors in the operator list, along with each four-vector's multiplicities.\n",
    "    # wtdist = an array of size m x 5 where m is the distinct number of four-vectors.\n",
    "    # wt[i] = (multiplicitly := Ai, #I, #X, #Y, #Z)\n",
    "    counts = np.zeros(4, dtype=np.int)\n",
    "    for i in range(ops.shape[0]):\n",
    "        for j in range(4):\n",
    "            counts[ops[i,j]] += np.count_nonzero(ops[i,:] == j)\n",
    "    return wtdist"
   ]
  }
 ],
 "metadata": {
  "kernelspec": {
   "display_name": "Python 3",
   "language": "python",
   "name": "python3"
  },
  "language_info": {
   "codemirror_mode": {
    "name": "ipython",
    "version": 3
   },
   "file_extension": ".py",
   "mimetype": "text/x-python",
   "name": "python",
   "nbconvert_exporter": "python",
   "pygments_lexer": "ipython3",
   "version": "3.7.1"
  }
 },
 "nbformat": 4,
 "nbformat_minor": 2
}
