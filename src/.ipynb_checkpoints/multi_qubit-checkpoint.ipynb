{
 "cells": [
  {
   "cell_type": "code",
   "execution_count": null,
   "metadata": {
    "scrolled": true
   },
   "outputs": [],
   "source": [
    "import datetime as dt\n",
    "import numpy as np\n",
    "from scipy.stats import poisson\n",
    "import matplotlib.pyplot as plt\n",
    "from define.randchans import RandomPauliChannel\n",
    "from define.QECCLfid import uncorrectable as uc\n",
    "from define import qcode as qc\n",
    "from define import fnames as fn\n",
    "from define import globalvars as gv\n",
    "import matplotlib\n",
    "matplotlib.use(\"Agg\")\n",
    "from matplotlib.backends.backend_pdf import PdfPages"
   ]
  },
  {
   "cell_type": "code",
   "execution_count": null,
   "metadata": {},
   "outputs": [],
   "source": [
    "qcode = qc.QuantumErrorCorrectingCode(\"Steane\")\n",
    "qc.Load(qcode)"
   ]
  },
  {
   "cell_type": "code",
   "execution_count": null,
   "metadata": {},
   "outputs": [],
   "source": [
    "mu = np.mean(qcode.weightdist[qcode.PauliCorrectableIndices])/2\n",
    "np.random.normal(mu,0.5)"
   ]
  },
  {
   "cell_type": "code",
   "execution_count": null,
   "metadata": {},
   "outputs": [],
   "source": [
    "# plt.plot(np.arange(8),poisson.pmf(np.arange(8), 0),0.1**np.arange(10),marker=\"o\",linestyle=\"None\")"
   ]
  },
  {
   "cell_type": "code",
   "execution_count": null,
   "metadata": {},
   "outputs": [],
   "source": [
    "# probs = poisson.pmf(qcode.weightdist, np.abs(np.random.normal(mu,mu/3)))\n",
    "# plt.plot(np.sort(qcode.weightdist), probs[np.argsort(qcode.weightdist)],marker=\"o\",linestyle=\"None\")\n",
    "# plt.plot(np.sort(qcode.weightdist), (1/7)**np.sort(qcode.weightdist),marker=\"x\",linestyle=\"None\")\n",
    "# plt.yscale('log')"
   ]
  },
  {
   "cell_type": "code",
   "execution_count": null,
   "metadata": {},
   "outputs": [],
   "source": [
    "errdist = RandomPauliChannel({\"method\":1, \"mu\":mu, \"weightdist\":qcode.weightdist})"
   ]
  },
  {
   "cell_type": "code",
   "execution_count": null,
   "metadata": {},
   "outputs": [],
   "source": [
    "infid = 0.2\n",
    "errdist[0] = 1 - infid\n",
    "errdist[1:] = infid * errdist[1:]/np.sum(errdist[1:])"
   ]
  },
  {
   "cell_type": "code",
   "execution_count": null,
   "metadata": {},
   "outputs": [],
   "source": [
    "errdist"
   ]
  },
  {
   "cell_type": "code",
   "execution_count": null,
   "metadata": {},
   "outputs": [],
   "source": [
    "PauliDistributionPlot(errdist, qcode, nreps=5, max_weight=3)"
   ]
  },
  {
   "cell_type": "code",
   "execution_count": null,
   "metadata": {},
   "outputs": [],
   "source": [
    "for w in range(np.max(qcode.weightdist)+1):\n",
    "    print(\"Total probability of weight {} errors = {}:\\n{}\".format(w, np.sum(errdist[qcode.weightdist==w]), errdist[qcode.weightdist==w]))"
   ]
  },
  {
   "cell_type": "code",
   "execution_count": null,
   "metadata": {},
   "outputs": [],
   "source": [
    "import numpy as np\n",
    "from define import qcode as qc\n",
    "from define.QECCLfid import uncorrectable as uc\n",
    "from analyze.plots import PauliDistributionPlot"
   ]
  },
  {
   "cell_type": "code",
   "execution_count": null,
   "metadata": {},
   "outputs": [],
   "source": [
    "qcode = qc.QuantumErrorCorrectingCode(\"Steane\")\n",
    "qc.Load(qcode)\n",
    "qc.PrepareSyndromeLookUp(qcode)"
   ]
  },
  {
   "cell_type": "code",
   "execution_count": null,
   "metadata": {},
   "outputs": [],
   "source": [
    "q1 = 0.8; q2 = 0.2; infid = 0.1; n = qcode.N\n",
    "single_qubit_errors = np.array([1 - infid, infid/3, infid/3, infid/3], dtype=np.double)"
   ]
  },
  {
   "cell_type": "code",
   "execution_count": null,
   "metadata": {},
   "outputs": [],
   "source": [
    "iid_error_dist = uc.GetErrorProbabilities(qcode.PauliOperatorsLST, single_qubit_errors, 0)\n",
    "full_process_infid = 1 - iid_error_dist[0]\n",
    "print(\"Sum of IID error probabilities = {}, Infidelity = {}.\".format(np.sum(iid_error_dist), full_process_infid))"
   ]
  },
  {
   "cell_type": "code",
   "execution_count": null,
   "metadata": {},
   "outputs": [],
   "source": [
    "n_two_qubit_errors = np.int(0.1 * qcode.group_by_weight[2].size)\n",
    "two_qubit_errors = np.random.choice(qcode.group_by_weight[2], size=n_two_qubit_errors)"
   ]
  },
  {
   "cell_type": "code",
   "execution_count": null,
   "metadata": {},
   "outputs": [],
   "source": [
    "corr_error_dist = np.zeros(iid_error_dist.size, dtype=np.double)\n",
    "corr_error_dist[two_qubit_errors] = np.abs(np.random.normal(0.1 * 4**n * full_process_infid, 0.1 * 4**n * full_process_infid, size=(n_two_qubit_errors,)))\n",
    "corr_error_dist[0] = 1 - full_process_infid\n",
    "corr_error_dist[two_qubit_errors] = full_process_infid * corr_error_dist[two_qubit_errors]/np.sum(corr_error_dist[two_qubit_errors])\n",
    "corr_error_dist = corr_error_dist/np.sum(corr_error_dist)"
   ]
  },
  {
   "cell_type": "code",
   "execution_count": null,
   "metadata": {},
   "outputs": [],
   "source": [
    "print(\"Sum of CORR error probabilities = {}, Infidelity = {}\".format(np.sum(corr_error_dist), 1-corr_error_dist[0]))"
   ]
  },
  {
   "cell_type": "code",
   "execution_count": null,
   "metadata": {},
   "outputs": [],
   "source": [
    "pauli_error_dist = q1 * iid_error_dist + q2 * corr_error_dist"
   ]
  },
  {
   "cell_type": "code",
   "execution_count": null,
   "metadata": {},
   "outputs": [],
   "source": [
    "PauliDistributionPlot(qcode, pauli_error_dist, nreps=5, max_weight=3,outdir=\"./../../temp/\", channel=\"linear_sum\")"
   ]
  },
  {
   "cell_type": "code",
   "execution_count": null,
   "metadata": {},
   "outputs": [],
   "source": [
    "chi_from_file = np.load(\"/Users/pavi/Documents/chbank/20_05_2020_11_07_46/physical/raw_up_6.5.npy\")[1,:].reshape([4,4])"
   ]
  },
  {
   "cell_type": "code",
   "execution_count": null,
   "metadata": {},
   "outputs": [],
   "source": [
    "chi_from_file"
   ]
  },
  {
   "cell_type": "code",
   "execution_count": null,
   "metadata": {},
   "outputs": [],
   "source": [
    "ptm_from_file = np.load(\"/Users/pavi/Documents/chbank/20_05_2020_11_07_46/physical/up_6.5.npy\")[1,:].reshape([4,4])"
   ]
  },
  {
   "cell_type": "code",
   "execution_count": 1,
   "metadata": {},
   "outputs": [],
   "source": [
    "import numpy as np\n",
    "import matplotlib.pyplot as plt"
   ]
  },
  {
   "cell_type": "code",
   "execution_count": 2,
   "metadata": {},
   "outputs": [],
   "source": [
    "def normalization(p, n):\n",
    "    return (1+p/(1-p)*(1-np.power(p,n)))"
   ]
  },
  {
   "cell_type": "code",
   "execution_count": 3,
   "metadata": {},
   "outputs": [],
   "source": [
    "nq = 7\n",
    "p = 0.1\n",
    "corr_probs = [(1-p)/normalization(1-p, nq)] + [np.power(p,k)/normalization(p, nq) for k in range(1,nq+1)]"
   ]
  },
  {
   "cell_type": "code",
   "execution_count": 4,
   "metadata": {},
   "outputs": [],
   "source": [
    "iid_probs = [np.power(1-p,nq)] + [np.power(p,k)*np.power(1-p, nq-k) for k in range(1, nq+1)]"
   ]
  },
  {
   "cell_type": "code",
   "execution_count": 8,
   "metadata": {},
   "outputs": [
    {
     "data": {
      "image/png": "[encoded data removed]",
      "text/plain": [
       "<Figure size 432x288 with 1 Axes>"
      ]
     },
     "metadata": {
      "needs_background": "light"
     },
     "output_type": "display_data"
    }
   ],
   "source": [
    "#fig = plt.figure()\n",
    "X = np.arange(nq+1)\n",
    "plt.bar(X-0.1, corr_probs, color=\"b\", width=0.2, align=\"center\", label=\"corr\")\n",
    "plt.bar(X+0.1, iid_probs, color=\"r\", width=0.2, align=\"center\", label= \"iid\")\n",
    "plt.legend(loc=0)\n",
    "plt.show()"
   ]
  },
  {
   "cell_type": "code",
   "execution_count": null,
   "metadata": {},
   "outputs": [],
   "source": []
  }
 ],
 "metadata": {
  "kernelspec": {
   "display_name": "Python 3",
   "language": "python",
   "name": "python3"
  },
  "language_info": {
   "codemirror_mode": {
    "name": "ipython",
    "version": 3
   },
   "file_extension": ".py",
   "mimetype": "text/x-python",
   "name": "python",
   "nbconvert_exporter": "python",
   "pygments_lexer": "ipython3",
   "version": "3.7.1"
  }
 },
 "nbformat": 4,
 "nbformat_minor": 2
}
