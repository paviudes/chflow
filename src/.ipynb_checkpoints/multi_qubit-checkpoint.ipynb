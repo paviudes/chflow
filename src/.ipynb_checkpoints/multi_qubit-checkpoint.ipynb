{
 "cells": [
  {
   "cell_type": "code",
   "execution_count": 1,
   "metadata": {},
   "outputs": [],
   "source": [
    "from define.randchans import RandomPauliChannel\n",
    "import numpy as np"
   ]
  },
  {
   "cell_type": "code",
   "execution_count": 2,
   "metadata": {
    "scrolled": false
   },
   "outputs": [
    {
     "name": "stdout",
     "output_type": "stream",
     "text": [
      "Random Pauli channel on 5 qubits with infidelity 0.2.\n"
     ]
    },
    {
     "data": {
      "text/plain": [
       "array([8.00000000e-01, 4.65093385e-04, 1.93158201e-05, ...,\n",
       "       4.63116085e-05, 2.07270209e-05, 1.96943527e-04])"
      ]
     },
     "execution_count": 2,
     "metadata": {},
     "output_type": "execute_result"
    }
   ],
   "source": [
    "probs = RandomPauliChannel(0.2, 5)\n",
    "probs"
   ]
  },
  {
   "cell_type": "code",
   "execution_count": 2,
   "metadata": {},
   "outputs": [],
   "source": [
    "import numpy as np\n",
    "from define import qcode as qc\n",
    "# from define import uncorrectable as uc\n",
    "# from define import chanreps as chrep"
   ]
  },
  {
   "cell_type": "code",
   "execution_count": 4,
   "metadata": {},
   "outputs": [],
   "source": [
    "qcode = qc.QuantumErrorCorrectingCode(\"5qc\")"
   ]
  },
  {
   "cell_type": "code",
   "execution_count": 5,
   "metadata": {},
   "outputs": [],
   "source": [
    "qc.Load(qcode)"
   ]
  },
  {
   "cell_type": "code",
   "execution_count": 6,
   "metadata": {},
   "outputs": [],
   "source": [
    "qc.populate_symplectic(qcode)"
   ]
  },
  {
   "cell_type": "code",
   "execution_count": 7,
   "metadata": {},
   "outputs": [],
   "source": [
    "UncorrProb = uc.ComputeUnCorrProb(probs, qcode)"
   ]
  },
  {
   "cell_type": "code",
   "execution_count": 8,
   "metadata": {},
   "outputs": [
    {
     "data": {
      "text/plain": [
       "0.19634914822687421"
      ]
     },
     "execution_count": 8,
     "metadata": {},
     "output_type": "execute_result"
    }
   ],
   "source": [
    "UncorrProb"
   ]
  },
  {
   "cell_type": "code",
   "execution_count": null,
   "metadata": {},
   "outputs": [],
   "source": [
    "qcode.PauliCorrectableIndices"
   ]
  },
  {
   "cell_type": "code",
   "execution_count": null,
   "metadata": {},
   "outputs": [],
   "source": [
    "ops = []\n",
    "for __ in range(10):\n",
    "    (op, __) = qc.PauliProduct(qcode.L[np.random.randint(0, 2*qcode.K),:],qcode.S[np.random.randint(0, qcode.N - qcode.K),:],qcode.T[np.random.randint(0, qcode.N - qcode.K),:])\n",
    "    ops.append(op)"
   ]
  },
  {
   "cell_type": "code",
   "execution_count": null,
   "metadata": {},
   "outputs": [],
   "source": [
    "ops"
   ]
  },
  {
   "cell_type": "code",
   "execution_count": null,
   "metadata": {},
   "outputs": [],
   "source": [
    "qc.GetPositionInLST(qcode, ops[1])"
   ]
  },
  {
   "cell_type": "code",
   "execution_count": null,
   "metadata": {},
   "outputs": [],
   "source": [
    "qc.ComputeLSTOrdering(qcode, ops)"
   ]
  },
  {
   "cell_type": "code",
   "execution_count": 7,
   "metadata": {},
   "outputs": [],
   "source": [
    "errors = np.zeros((64,7), dtype=np.int)\n",
    "encoding = {\"I\":0, \"X\": 1, \"Y\":2, \"Z\":3}\n",
    "with open(\"./../../notes/Steane_correctable_errors.txt\", 'r') as ef:\n",
    "    for l, line in enumerate(ef):\n",
    "        errorstr = line.strip(\"\\n\").strip(\" \").split(\" \")\n",
    "        for q in range(7):\n",
    "            errors[l, q] = encoding[errorstr[q]]\n",
    "# print(\"Errors:\\n{}\".format(errors))"
   ]
  },
  {
   "cell_type": "code",
   "execution_count": 16,
   "metadata": {},
   "outputs": [],
   "source": [
    "qcode = qc.QuantumErrorCorrectingCode(\"Steane\")"
   ]
  },
  {
   "cell_type": "code",
   "execution_count": 19,
   "metadata": {},
   "outputs": [
    {
     "name": "stdout",
     "output_type": "stream",
     "text": [
      "Syndromes:\n",
      "[[0 0 0 0 0 0]\n",
      " [0 0 0 1 1 1]\n",
      " [1 1 1 1 1 1]\n",
      " [1 1 1 0 0 0]\n",
      " [0 0 0 1 1 0]\n",
      " [1 1 0 1 1 0]\n",
      " [1 1 0 0 0 0]\n",
      " [0 0 0 1 0 1]\n",
      " [1 0 1 1 0 1]\n",
      " [1 0 1 0 0 0]\n",
      " [0 0 0 1 0 0]\n",
      " [1 0 0 1 0 0]\n",
      " [1 0 0 0 0 0]\n",
      " [0 0 0 0 1 1]\n",
      " [0 1 1 0 1 1]\n",
      " [0 1 1 0 0 0]\n",
      " [0 0 0 0 1 0]\n",
      " [0 1 0 0 1 0]\n",
      " [0 1 0 0 0 0]\n",
      " [0 0 0 0 0 1]\n",
      " [0 0 1 0 0 1]\n",
      " [0 0 1 0 0 0]\n",
      " [1 1 0 0 0 1]\n",
      " [1 1 0 1 1 1]\n",
      " [1 1 1 0 0 1]\n",
      " [0 0 1 1 1 1]\n",
      " [1 1 1 1 1 0]\n",
      " [0 0 1 1 1 0]\n",
      " [1 0 1 0 1 0]\n",
      " [1 0 1 1 1 1]\n",
      " [1 1 1 0 1 0]\n",
      " [0 1 0 1 1 1]\n",
      " [1 1 1 1 0 1]\n",
      " [0 1 0 1 0 1]\n",
      " [1 0 0 0 1 1]\n",
      " [1 0 0 1 1 1]\n",
      " [1 1 1 0 1 1]\n",
      " [0 1 1 1 1 1]\n",
      " [1 1 1 1 0 0]\n",
      " [0 1 1 1 0 0]\n",
      " [0 1 0 0 0 1]\n",
      " [0 1 0 0 1 1]\n",
      " [0 1 1 0 0 1]\n",
      " [0 0 1 0 1 1]\n",
      " [0 1 1 0 1 0]\n",
      " [0 0 1 0 1 0]\n",
      " [1 0 1 0 1 1]\n",
      " [1 0 1 1 1 0]\n",
      " [1 1 0 0 1 1]\n",
      " [0 1 1 1 1 0]\n",
      " [1 1 0 1 0 1]\n",
      " [0 1 1 1 0 1]\n",
      " [1 0 0 0 1 0]\n",
      " [1 0 0 1 1 0]\n",
      " [1 1 0 0 1 0]\n",
      " [0 1 0 1 1 0]\n",
      " [1 1 0 1 0 0]\n",
      " [0 1 0 1 0 0]\n",
      " [1 0 0 0 0 1]\n",
      " [1 0 0 1 0 1]\n",
      " [1 0 1 0 0 1]\n",
      " [0 0 1 1 0 1]\n",
      " [1 0 1 1 0 0]\n",
      " [0 0 1 1 0 0]]\n",
      "Integer syndromes\n",
      "[ 0  1  2  3  4  5  6  7  8  9 10 11 12 13 14 15 16 17 18 19 20 21 22 23\n",
      " 24 25 26 27 28 29 30 31 32 33 34 35 36 37 38 39 40 41 42 43 44 45 46 47\n",
      " 48 49 50 51 52 53 54 55 56 57 58 59 60 61 62 63]\n"
     ]
    }
   ],
   "source": [
    "syndromes = np.zeros((errors.shape[0], 6), dtype=np.int)\n",
    "for e in range(errors.shape[0]):\n",
    "    for q in range(qcode.N - qcode.K):\n",
    "        syndromes[e, q] = 1 - qc.IsCommuting(qcode.S[q, :], errors[e, :])\n",
    "print(\"Syndromes:\\n{}\".format(syndromes))\n",
    "intsynds = np.zeros(syndromes.shape[0], dtype=np.int)\n",
    "for s in range(syndromes.shape[0]):\n",
    "    intsynds[s] = int(\"\".join(list(map(str, syndromes[s, :]))), 2)\n",
    "print(\"Integer syndromes\\n{}\".format(np.sort(intsynds)))"
   ]
  },
  {
   "cell_type": "code",
   "execution_count": null,
   "metadata": {},
   "outputs": [],
   "source": [
    "from define import \n",
    "from define import chanreps as chrep"
   ]
  }
 ],
 "metadata": {
  "kernelspec": {
   "display_name": "Python 3",
   "language": "python",
   "name": "python3"
  },
  "language_info": {
   "codemirror_mode": {
    "name": "ipython",
    "version": 3
   },
   "file_extension": ".py",
   "mimetype": "text/x-python",
   "name": "python",
   "nbconvert_exporter": "python",
   "pygments_lexer": "ipython3",
   "version": "3.7.1"
  }
 },
 "nbformat": 4,
 "nbformat_minor": 2
}
