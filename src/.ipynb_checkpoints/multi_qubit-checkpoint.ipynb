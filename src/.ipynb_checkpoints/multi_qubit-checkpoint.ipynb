{
 "cells": [
  {
   "cell_type": "code",
   "execution_count": null,
   "metadata": {
    "scrolled": true
   },
   "outputs": [],
   "source": [
    "import datetime as dt\n",
    "import numpy as np\n",
    "from scipy.stats import poisson\n",
    "import matplotlib.pyplot as plt\n",
    "from define.randchans import RandomUnitary\n",
    "from define.QECCLfid import minwt as mw\n",
    "from define import qcode as qc\n",
    "from define import fnames as fn\n",
    "from define import globalvars as gv\n",
    "import matplotlib\n",
    "matplotlib.use(\"Agg\")\n",
    "from matplotlib.backends.backend_pdf import PdfPages"
   ]
  },
  {
   "cell_type": "code",
   "execution_count": null,
   "metadata": {},
   "outputs": [],
   "source": [
    "qcode = qc.QuantumErrorCorrectingCode(\"Steane\")\n",
    "qc.Load(qcode)"
   ]
  },
  {
   "cell_type": "code",
   "execution_count": null,
   "metadata": {},
   "outputs": [],
   "source": [
    "mu = np.mean(qcode.weightdist[qcode.PauliCorrectableIndices])/2\n",
    "np.random.normal(mu,0.5)"
   ]
  },
  {
   "cell_type": "code",
   "execution_count": null,
   "metadata": {},
   "outputs": [],
   "source": [
    "# plt.plot(np.arange(8),poisson.pmf(np.arange(8), 0),0.1**np.arange(10),marker=\"o\",linestyle=\"None\")"
   ]
  },
  {
   "cell_type": "code",
   "execution_count": null,
   "metadata": {},
   "outputs": [],
   "source": [
    "# probs = poisson.pmf(qcode.weightdist, np.abs(np.random.normal(mu,mu/3)))\n",
    "# plt.plot(np.sort(qcode.weightdist), probs[np.argsort(qcode.weightdist)],marker=\"o\",linestyle=\"None\")\n",
    "# plt.plot(np.sort(qcode.weightdist), (1/7)**np.sort(qcode.weightdist),marker=\"x\",linestyle=\"None\")\n",
    "# plt.yscale('log')"
   ]
  },
  {
   "cell_type": "code",
   "execution_count": null,
   "metadata": {},
   "outputs": [],
   "source": [
    "errdist = RandomPauliChannel({\"method\":1, \"mu\":mu, \"weightdist\":qcode.weightdist})"
   ]
  },
  {
   "cell_type": "code",
   "execution_count": null,
   "metadata": {},
   "outputs": [],
   "source": [
    "infid = 0.2\n",
    "errdist[0] = 1 - infid\n",
    "errdist[1:] = infid * errdist[1:]/np.sum(errdist[1:])"
   ]
  },
  {
   "cell_type": "code",
   "execution_count": null,
   "metadata": {},
   "outputs": [],
   "source": [
    "errdist"
   ]
  },
  {
   "cell_type": "code",
   "execution_count": null,
   "metadata": {},
   "outputs": [],
   "source": [
    "PauliDistributionPlot(errdist, qcode, nreps=5, max_weight=3)"
   ]
  },
  {
   "cell_type": "code",
   "execution_count": null,
   "metadata": {},
   "outputs": [],
   "source": [
    "for w in range(np.max(qcode.weightdist)+1):\n",
    "    print(\"Total probability of weight {} errors = {}:\\n{}\".format(w, np.sum(errdist[qcode.weightdist==w]), errdist[qcode.weightdist==w]))"
   ]
  },
  {
   "cell_type": "code",
   "execution_count": null,
   "metadata": {},
   "outputs": [],
   "source": [
    "import numpy as np\n",
    "from define import qcode as qc\n",
    "from define.QECCLfid import uncorrectable as uc\n",
    "from analyze.plots import PauliDistributionPlot"
   ]
  },
  {
   "cell_type": "code",
   "execution_count": null,
   "metadata": {},
   "outputs": [],
   "source": [
    "qcode = qc.QuantumErrorCorrectingCode(\"Steane\")\n",
    "qc.Load(qcode)\n",
    "qc.PrepareSyndromeLookUp(qcode)"
   ]
  },
  {
   "cell_type": "code",
   "execution_count": null,
   "metadata": {},
   "outputs": [],
   "source": [
    "q1 = 0.8; q2 = 0.2; infid = 0.1; n = qcode.N\n",
    "single_qubit_errors = np.array([1 - infid, infid/3, infid/3, infid/3], dtype=np.double)"
   ]
  },
  {
   "cell_type": "code",
   "execution_count": null,
   "metadata": {},
   "outputs": [],
   "source": [
    "iid_error_dist = uc.GetErrorProbabilities(qcode.PauliOperatorsLST, single_qubit_errors, 0)\n",
    "full_process_infid = 1 - iid_error_dist[0]\n",
    "print(\"Sum of IID error probabilities = {}, Infidelity = {}.\".format(np.sum(iid_error_dist), full_process_infid))"
   ]
  },
  {
   "cell_type": "code",
   "execution_count": null,
   "metadata": {},
   "outputs": [],
   "source": [
    "n_two_qubit_errors = np.int(0.1 * qcode.group_by_weight[2].size)\n",
    "two_qubit_errors = np.random.choice(qcode.group_by_weight[2], size=n_two_qubit_errors)"
   ]
  },
  {
   "cell_type": "code",
   "execution_count": null,
   "metadata": {},
   "outputs": [],
   "source": [
    "corr_error_dist = np.zeros(iid_error_dist.size, dtype=np.double)\n",
    "corr_error_dist[two_qubit_errors] = np.abs(np.random.normal(0.1 * 4**n * full_process_infid, 0.1 * 4**n * full_process_infid, size=(n_two_qubit_errors,)))\n",
    "corr_error_dist[0] = 1 - full_process_infid\n",
    "corr_error_dist[two_qubit_errors] = full_process_infid * corr_error_dist[two_qubit_errors]/np.sum(corr_error_dist[two_qubit_errors])\n",
    "corr_error_dist = corr_error_dist/np.sum(corr_error_dist)"
   ]
  },
  {
   "cell_type": "code",
   "execution_count": null,
   "metadata": {},
   "outputs": [],
   "source": [
    "print(\"Sum of CORR error probabilities = {}, Infidelity = {}\".format(np.sum(corr_error_dist), 1-corr_error_dist[0]))"
   ]
  },
  {
   "cell_type": "code",
   "execution_count": null,
   "metadata": {},
   "outputs": [],
   "source": [
    "pauli_error_dist = q1 * iid_error_dist + q2 * corr_error_dist"
   ]
  },
  {
   "cell_type": "code",
   "execution_count": null,
   "metadata": {},
   "outputs": [],
   "source": [
    "PauliDistributionPlot(qcode, pauli_error_dist, nreps=5, max_weight=3,outdir=\"./../../temp/\", channel=\"linear_sum\")"
   ]
  },
  {
   "cell_type": "code",
   "execution_count": null,
   "metadata": {},
   "outputs": [],
   "source": [
    "chi_from_file = np.load(\"/Users/pavi/Documents/chbank/20_05_2020_11_07_46/physical/raw_up_6.5.npy\")[1,:].reshape([4,4])"
   ]
  },
  {
   "cell_type": "code",
   "execution_count": null,
   "metadata": {},
   "outputs": [],
   "source": [
    "chi_from_file"
   ]
  },
  {
   "cell_type": "code",
   "execution_count": null,
   "metadata": {},
   "outputs": [],
   "source": [
    "ptm_from_file = np.load(\"/Users/pavi/Documents/chbank/20_05_2020_11_07_46/physical/up_6.5.npy\")[1,:].reshape([4,4])"
   ]
  },
  {
   "cell_type": "code",
   "execution_count": null,
   "metadata": {},
   "outputs": [],
   "source": [
    "import numpy as np\n",
    "import matplotlib.pyplot as plt"
   ]
  },
  {
   "cell_type": "code",
   "execution_count": null,
   "metadata": {},
   "outputs": [],
   "source": [
    "def normalization(p, n, g):\n",
    "    return (1 + g*p + np.power(p,3)/(1-p)*(1-np.power(p,n-2)))"
   ]
  },
  {
   "cell_type": "code",
   "execution_count": null,
   "metadata": {},
   "outputs": [],
   "source": [
    "nq = 7\n",
    "g = 0.1\n",
    "p = 0.1\n",
    "corr_probs = [(1-p)/normalization(1-p, nq, g)] + [p/normalization(p, nq, g), g*p/normalization(p, nq, g)] + [np.power(p,k)/normalization(p, nq, g) for k in range(3,nq+1)]"
   ]
  },
  {
   "cell_type": "code",
   "execution_count": null,
   "metadata": {},
   "outputs": [],
   "source": [
    "iid_probs = [np.power(1-p,nq)] + [np.power(p,k)*np.power(1-p, nq-k) for k in range(1, nq+1)]"
   ]
  },
  {
   "cell_type": "code",
   "execution_count": null,
   "metadata": {},
   "outputs": [],
   "source": [
    "#fig = plt.figure()\n",
    "X = np.arange(nq+1)\n",
    "plt.bar(X[1:]-0.1, corr_probs[1:], color=\"g\", width=0.2, align=\"center\", label=\"corr\")\n",
    "plt.bar(X[1:]+0.1, iid_probs[1:], color=\"r\", width=0.2, align=\"center\", label= \"iid\")\n",
    "plt.yscale(\"log\")\n",
    "plt.legend(loc=0)\n",
    "plt.show()"
   ]
  },
  {
   "cell_type": "code",
   "execution_count": null,
   "metadata": {},
   "outputs": [],
   "source": [
    "def normalization_agm(p, n):\n",
    "    return 1 - p - (np.power(p, n+1)*(n+1) - p - n * np.power(p, n+2))/np.power(1-p, 2)"
   ]
  },
  {
   "cell_type": "code",
   "execution_count": null,
   "metadata": {},
   "outputs": [],
   "source": [
    "corr_probs_agm = [(1-p)/normalization_agm(1-p, nq)] + [np.power(p,k)/normalization_agm(p, nq) for k in range(1,nq+1)]"
   ]
  },
  {
   "cell_type": "code",
   "execution_count": null,
   "metadata": {},
   "outputs": [],
   "source": [
    "#fig = plt.figure()\n",
    "X = np.arange(nq+1)\n",
    "plt.bar(X-0.1, corr_probs_agm, color=\"g\", width=0.2, align=\"center\", label=\"corr\")\n",
    "plt.bar(X+0.1, iid_probs, color=\"r\", width=0.2, align=\"center\", label= \"iid\")\n",
    "plt.yscale(\"log\")\n",
    "plt.legend(loc=0)\n",
    "plt.show()"
   ]
  },
  {
   "cell_type": "code",
   "execution_count": null,
   "metadata": {},
   "outputs": [],
   "source": [
    "def normalization_gm(p, n):\n",
    "    return (1+p/(1-p)*(1-np.power(p,n)))"
   ]
  },
  {
   "cell_type": "code",
   "execution_count": null,
   "metadata": {},
   "outputs": [],
   "source": [
    "import numpy as np\n",
    "from define.QECCLfid.ptm import get_Pauli_tensor\n",
    "from define.QECCLfid.utils import Kron\n",
    "from define import globalvars as gv\n",
    "from define import qcode as qc"
   ]
  },
  {
   "cell_type": "code",
   "execution_count": null,
   "metadata": {},
   "outputs": [],
   "source": [
    "qcode = qc.QuantumErrorCorrectingCode(\"Steane\")\n",
    "qc.Load(qcode)"
   ]
  },
  {
   "cell_type": "code",
   "execution_count": null,
   "metadata": {},
   "outputs": [],
   "source": [
    "L = [1,1,3,2,1]\n",
    "np.allclose(get_Pauli_tensor(L).reshape(2**len(L),2**len(L)), Kron(*gv.Pauli[L]))"
   ]
  },
  {
   "cell_type": "code",
   "execution_count": null,
   "metadata": {},
   "outputs": [],
   "source": [
    "nstabs = 64\n",
    "nlogs = 4\n",
    "# nstabs * nlogs\n",
    "qc.GetOperatorsForTLSIndex(qcode, range(64, 66))"
   ]
  },
  {
   "cell_type": "code",
   "execution_count": null,
   "metadata": {},
   "outputs": [],
   "source": [
    "qc.GenerateGroup(qcode.L)"
   ]
  },
  {
   "cell_type": "code",
   "execution_count": null,
   "metadata": {},
   "outputs": [],
   "source": [
    "qcode.L"
   ]
  },
  {
   "cell_type": "code",
   "execution_count": null,
   "metadata": {},
   "outputs": [],
   "source": [
    "qcode.S"
   ]
  },
  {
   "cell_type": "code",
   "execution_count": 2,
   "metadata": {},
   "outputs": [],
   "source": [
    "import numpy as np\n",
    "from scipy import linalg as linalg\n",
    "import random\n",
    "# from define.randchans import RandomUnitary\n",
    "from define import qcode as qc\n",
    "qcode = qc.QuantumErrorCorrectingCode(\"Steane\")\n",
    "qc.Load(qcode)\n",
    "qc.PrepareSyndromeLookUp(qcode)"
   ]
  },
  {
   "cell_type": "code",
   "execution_count": 110,
   "metadata": {},
   "outputs": [],
   "source": [
    "from scipy.linalg.lapack import zgeev"
   ]
  },
  {
   "cell_type": "code",
   "execution_count": 8,
   "metadata": {},
   "outputs": [],
   "source": [
    "def HermitianConjugate(M):\n",
    "    return M.conj().T"
   ]
  },
  {
   "cell_type": "code",
   "execution_count": 9,
   "metadata": {},
   "outputs": [],
   "source": [
    "def StineToKraus(U):\n",
    "    # Compute the Krauss operators for the input quantum channel, which is represented in the Stinespring dialation\n",
    "    # The Krauss operator T_k is given by: <a|T_k|b> = <a e_k|U|b e_0> , where {|e_i>} is a basis for the environment and |a>, |b> are basis vectors of the system\n",
    "    # Note that a k-qubit channel needs to be generated from a unitary matrix on 3*k qubits where 2*k qubits represent the environment.\n",
    "    nq = int(np.log2(U.shape[0]))//3\n",
    "    environment = np.eye(4**nq)[:,:,np.newaxis]\n",
    "    system = np.eye(2**nq)[:,:,np.newaxis]\n",
    "    krauss = np.zeros((4**nq, 2**nq, 2**nq), dtype=np.complex128)\n",
    "    for ki in range(4**nq):\n",
    "        ## The Krauss operator T_k is given by: <a|T_k|b> = <a e_k|U|b e_0>.\n",
    "        for ri in range(2**nq):\n",
    "            for ci in range(2**nq):\n",
    "                leftProduct = HermitianConjugate(\n",
    "                    np.dot(\n",
    "                        U, np.kron(system[ri, :, :], environment[ki, :, :])\n",
    "                    )\n",
    "                )\n",
    "                krauss[ki, ri, ci] = np.dot(\n",
    "                    leftProduct, np.kron(system[ci, :, :], environment[0, :, :])\n",
    "                )[0, 0]\n",
    "    return krauss"
   ]
  },
  {
   "cell_type": "code",
   "execution_count": 10,
   "metadata": {},
   "outputs": [],
   "source": [
    "def RandomUnitary(prox, dim):\n",
    "    # Generate a random unitary matrix which is close to Identity.\n",
    "    M = np.random.standard_normal(size=(dim, dim)) + 1j * np.random.standard_normal(size=(dim, dim))\n",
    "    H = (M + M.conj().T) / np.longdouble(2)\n",
    "    U = linalg.expm(1j * prox * H)\n",
    "    return U"
   ]
  },
  {
   "cell_type": "code",
   "execution_count": 11,
   "metadata": {},
   "outputs": [
    {
     "data": {
      "text/plain": [
       "array([[[-1.07322963e-01-0.03603119j,  2.31381893e-02+0.03287919j,\n",
       "          1.86733464e-02-0.03916309j, ...,  5.56386795e-02-0.05662412j,\n",
       "          6.41153987e-03-0.01438424j,  3.47443424e-02-0.01295366j],\n",
       "        [ 8.05325615e-03-0.05317892j, -3.71663257e-02+0.0008473j ,\n",
       "         -3.26547400e-02-0.0038001j , ...,  2.07593163e-02-0.0719031j ,\n",
       "         -6.79292433e-03-0.03674256j,  1.92616320e-02+0.00142389j],\n",
       "        [ 1.27383476e-02+0.07643347j,  1.92387536e-02-0.00837831j,\n",
       "         -1.19330310e-01+0.03045726j, ...,  1.78830597e-02-0.00667689j,\n",
       "          1.49539005e-02+0.0113619j ,  3.23322770e-02+0.020727j  ],\n",
       "        ...,\n",
       "        [ 3.20617193e-02+0.01854907j,  2.99912020e-02+0.00139182j,\n",
       "         -4.97582559e-03-0.0522847j , ..., -1.03549608e-01-0.00089033j,\n",
       "         -3.68574436e-02-0.04290757j, -4.52747722e-02-0.01141623j],\n",
       "        [-3.84786646e-03+0.02151851j,  3.27583699e-02-0.03308314j,\n",
       "          1.90246596e-02+0.04031805j, ..., -7.37624109e-03-0.0285584j ,\n",
       "         -1.77635433e-01+0.04686299j, -3.24742646e-02-0.03978322j],\n",
       "        [ 4.57925009e-02-0.01026028j,  4.66421728e-02+0.00370187j,\n",
       "          6.15424167e-03+0.02300416j, ...,  1.83354159e-02-0.00189904j,\n",
       "         -2.66716449e-02-0.00812005j, -1.29485669e-01+0.03089286j]],\n",
       "\n",
       "       [[-1.08236201e-02+0.03769366j,  2.92350049e-02-0.02854659j,\n",
       "          1.25280065e-02+0.04444053j, ..., -1.00498286e-02+0.05112647j,\n",
       "          8.86698517e-02+0.02847103j,  5.66247432e-02-0.02678544j],\n",
       "        [-2.83392773e-02-0.01994877j, -8.01613647e-03-0.01335547j,\n",
       "         -3.29785341e-02-0.00062068j, ..., -1.34192351e-02+0.0146368j ,\n",
       "          1.99740831e-02+0.05639246j, -7.20200703e-03-0.00101064j],\n",
       "        [ 1.27129289e-02+0.05652548j, -4.31162827e-03+0.03383272j,\n",
       "         -2.26004546e-02-0.01007332j, ...,  5.52817275e-02+0.05048369j,\n",
       "          1.59663631e-03+0.0234943j , -1.15757636e-02+0.00261371j],\n",
       "        ...,\n",
       "        [ 2.35825462e-02+0.00063176j, -2.14136927e-02-0.02314112j,\n",
       "          5.20990587e-02+0.0119815j , ...,  9.78473442e-03-0.01929017j,\n",
       "         -4.08540157e-02+0.00176494j,  3.45289824e-02+0.05965747j],\n",
       "        [ 2.79325738e-03-0.02165798j, -3.72295384e-05-0.0169133j ,\n",
       "          3.28060747e-02+0.00014102j, ..., -5.55262055e-03-0.01791143j,\n",
       "         -5.33549830e-02+0.02328185j,  3.14755239e-02-0.01877943j],\n",
       "        [ 6.98923611e-02-0.06195952j,  2.37261541e-02-0.07729052j,\n",
       "         -4.41441573e-02+0.00017695j, ...,  2.45603234e-02+0.06581926j,\n",
       "          4.43654715e-02+0.05342803j, -5.16978501e-05-0.01663015j]],\n",
       "\n",
       "       [[ 2.71465578e-02+0.0357037j ,  2.22933368e-02-0.0117742j ,\n",
       "          2.04554591e-02-0.01139041j, ..., -2.88093189e-02+0.01431538j,\n",
       "          2.83490940e-03+0.03613775j, -1.00471020e-02-0.02299414j],\n",
       "        [-2.25917152e-02-0.03824081j,  4.37824637e-02-0.03335649j,\n",
       "         -2.63290847e-02+0.01690495j, ...,  2.23002649e-02+0.00685149j,\n",
       "         -4.71266624e-02+0.04247822j, -3.21043314e-02-0.01364786j],\n",
       "        [-5.15297033e-02-0.00612638j, -2.26963520e-02+0.04097736j,\n",
       "          5.02957991e-03-0.01693128j, ..., -2.78567042e-02-0.00982594j,\n",
       "          1.31146645e-02-0.03663003j, -3.85402637e-02+0.03113908j],\n",
       "        ...,\n",
       "        [-8.03369915e-03+0.02722698j,  5.52285132e-02-0.00273504j,\n",
       "          1.49772380e-02-0.00193634j, ..., -4.42976349e-02-0.01348979j,\n",
       "         -1.03597097e-02-0.03212437j, -3.59335873e-02+0.02274628j],\n",
       "        [-3.05473144e-03+0.03223987j, -2.12078118e-02-0.03707945j,\n",
       "         -2.01141298e-02-0.05648781j, ...,  1.80850601e-02-0.00708855j,\n",
       "          6.21636375e-03+0.01615446j, -1.23983044e-02-0.08713552j],\n",
       "        [ 5.07934852e-02-0.02333552j,  2.48180590e-02-0.04347219j,\n",
       "         -2.06304296e-02+0.02908105j, ..., -1.35734788e-02+0.04321557j,\n",
       "          8.43845404e-03-0.02087112j,  3.08816081e-03+0.05511237j]],\n",
       "\n",
       "       ...,\n",
       "\n",
       "       [[-8.41207346e-03+0.00974845j,  8.00030647e-03-0.07001493j,\n",
       "          4.54994861e-02-0.01610189j, ...,  3.25242888e-02+0.05198893j,\n",
       "          2.94176071e-02-0.01234381j, -2.70697581e-02-0.01290803j],\n",
       "        [-2.44057083e-02-0.00347598j, -1.09556617e-02-0.04236891j,\n",
       "         -1.60910644e-02-0.00671887j, ...,  1.25048019e-02-0.02214835j,\n",
       "         -1.75846247e-02-0.00776016j,  3.08587758e-02-0.0130832j ],\n",
       "        [ 2.70843600e-03-0.00979886j, -1.41460476e-02-0.06508795j,\n",
       "         -2.20079441e-02+0.05782967j, ..., -2.11850979e-02+0.0190001j ,\n",
       "          6.14114393e-02+0.00959563j,  2.08865150e-02-0.00655933j],\n",
       "        ...,\n",
       "        [ 8.44358962e-03-0.01965902j,  2.13541656e-03-0.00137786j,\n",
       "          8.42777020e-03-0.01442074j, ...,  1.51279499e-02+0.00849443j,\n",
       "          4.42280145e-02+0.00756767j,  1.80191903e-02+0.02295764j],\n",
       "        [-1.54487101e-02-0.02092834j, -3.00632076e-02+0.01084597j,\n",
       "          5.94163401e-03-0.00252421j, ..., -3.43862667e-02-0.08270168j,\n",
       "          3.93658372e-03+0.01499521j, -2.04274149e-02+0.0069715j ],\n",
       "        [-3.89771950e-02-0.03805616j,  1.44621177e-02+0.03658468j,\n",
       "         -2.27369495e-02+0.02206699j, ...,  3.60643995e-02-0.04176358j,\n",
       "         -2.39345074e-02+0.00270004j,  3.99006166e-03+0.00479847j]],\n",
       "\n",
       "       [[-1.98884311e-02+0.01236021j,  8.17778881e-03-0.0537606j ,\n",
       "          3.55255764e-02+0.02050446j, ...,  4.85293159e-02+0.03012527j,\n",
       "          4.27718162e-02+0.00766896j, -4.27194630e-02+0.04953717j],\n",
       "        [-6.65187771e-02-0.04388695j, -2.16617313e-02+0.02106779j,\n",
       "         -9.26012288e-03-0.01830652j, ..., -1.31666032e-02-0.00262976j,\n",
       "         -6.14772731e-03-0.03398833j, -1.53428482e-02+0.09102309j],\n",
       "        [-1.96527224e-02+0.02330972j,  2.44595983e-02+0.03062334j,\n",
       "         -5.60256355e-02-0.05916076j, ..., -2.41641924e-03-0.05172112j,\n",
       "          1.26133105e-02+0.00474528j, -3.90850250e-02+0.00806707j],\n",
       "        ...,\n",
       "        [ 2.85641543e-02-0.00833556j,  1.79601483e-02+0.00465207j,\n",
       "          3.61430301e-02-0.00294577j, ..., -3.21926627e-03+0.0131417j ,\n",
       "          2.23813550e-02+0.00894902j,  1.77037541e-02-0.0003959j ],\n",
       "        [-2.42804819e-02-0.02959717j, -6.66794371e-03+0.02520897j,\n",
       "          4.87919186e-02+0.02966122j, ..., -6.14905180e-02-0.03108672j,\n",
       "          1.30768746e-02-0.00744972j, -1.03141308e-02-0.02748383j],\n",
       "        [ 1.71356118e-03+0.07644875j, -1.03848902e-02-0.03271594j,\n",
       "          1.48480302e-02+0.0249982j , ..., -5.90616870e-02-0.0492074j ,\n",
       "         -4.16366687e-04-0.00834534j, -5.83305396e-02-0.04400624j]],\n",
       "\n",
       "       [[-2.90631144e-02+0.0239384j ,  6.39190693e-02-0.03853706j,\n",
       "         -7.38491897e-03+0.03257447j, ..., -4.75412940e-03+0.00150179j,\n",
       "          2.79064437e-02-0.01898731j,  6.39686098e-02-0.04447055j],\n",
       "        [ 9.96833042e-03-0.0645564j , -2.03628951e-02-0.01886987j,\n",
       "          7.89745772e-02-0.00217532j, ..., -4.50252750e-02-0.02545697j,\n",
       "          2.76590754e-02+0.04811975j,  2.17410828e-02-0.01139663j],\n",
       "        [-1.16094114e-02-0.00769849j, -3.76633313e-02+0.01701213j,\n",
       "         -2.26168953e-02+0.03050951j, ...,  2.34799619e-02-0.00490948j,\n",
       "         -9.93938950e-03-0.02617896j,  5.17406604e-03+0.00117827j],\n",
       "        ...,\n",
       "        [ 1.38257202e-02-0.02661824j,  1.81511501e-02+0.02883053j,\n",
       "         -2.76070955e-02+0.00026344j, ...,  2.44567090e-03-0.01057402j,\n",
       "         -1.95812162e-02+0.03300376j, -1.67161938e-02+0.0051725j ],\n",
       "        [-1.74716664e-02+0.00893116j,  2.30471394e-03+0.06677943j,\n",
       "          2.11691085e-02-0.03980978j, ..., -3.55309857e-02+0.00194865j,\n",
       "          2.69407749e-02-0.00464918j, -6.68041746e-03-0.0178563j ],\n",
       "        [-7.62796896e-03+0.05147929j, -1.13990725e-02+0.00138608j,\n",
       "          3.64008613e-02-0.00790368j, ..., -2.89621776e-02-0.07528452j,\n",
       "          3.27030547e-02+0.0966116j ,  1.51254730e-03+0.03032582j]]])"
      ]
     },
     "execution_count": 11,
     "metadata": {},
     "output_type": "execute_result"
    }
   ],
   "source": [
    "nq = 3\n",
    "prox = 0.1\n",
    "StineToKraus(RandomUnitary(prox, 8**nq))"
   ]
  },
  {
   "cell_type": "code",
   "execution_count": 12,
   "metadata": {},
   "outputs": [],
   "source": [
    "# # Constants:\n",
    "# #     K -- cutoff length = 3\n",
    "# \"\"\"\n",
    "# 1. Sample k from the Poisson distribution with mean = 1. If k is larger than K, sample again.\n",
    "# 2. Given a k, choose a random subset of {1, 2, ..., qcode.N} of size k.\n",
    "# 3. Generate Kraus operators for a k-qubit quantum channel and assign the supports from the random subset chosen above.\n",
    "# 4. We form a dictionary with supports and the respective Kraus operators, and give it to multi_qubit_kraus.\n",
    "# \"\"\""
   ]
  },
  {
   "cell_type": "code",
   "execution_count": 13,
   "metadata": {},
   "outputs": [],
   "source": [
    "def SamplePoisson(mean, cutoff=None):\n",
    "    # Sample a number from a Poisson distribution.\n",
    "    # If the random variable takes a value above a cutoff, sample again until it returns a value below the cutoff.\n",
    "    if (cutoff == None):\n",
    "        rv_val = np.random.poisson(lam = mean)\n",
    "    else:\n",
    "        rv_val = cutoff + 1\n",
    "        while (rv_val > cutoff):\n",
    "            rv_val = np.random.poisson(lam = mean)\n",
    "    return rv_val"
   ]
  },
  {
   "cell_type": "code",
   "execution_count": 14,
   "metadata": {},
   "outputs": [
    {
     "data": {
      "text/plain": [
       "[1, 0, 1, 0, 2, 0, 1, 1, 1, 0]"
      ]
     },
     "execution_count": 14,
     "metadata": {},
     "output_type": "execute_result"
    }
   ],
   "source": [
    "[SamplePoisson(1, 3) for __ in range(10)]"
   ]
  },
  {
   "cell_type": "code",
   "execution_count": 17,
   "metadata": {},
   "outputs": [],
   "source": [
    "def get_kraus_poisson(rotation_angle, qcode, cutoff = 3, n_maps = 3):\n",
    "    r\"\"\"\n",
    "    Sub-routine to prepare the dictionary for error eps = sum of cptp maps\n",
    "    Generates kraus by using stine to kraus\n",
    "    of random multi-qubit unitary operators rotated by rotation_angle/2**|support|\n",
    "    Probability associated with each weight-k error scales exponentially p_error^k (except weights <= w_thresh)\n",
    "    Input :\n",
    "    rotation_angle = the angle to rotate the Stinespring unitary by\n",
    "    qcode = QEC\n",
    "    n_maps = number of maps to be considered for the sum\n",
    "    Returns :\n",
    "    dict[key] = (support,krauslist)\n",
    "    where key = number associated to the operation applied (not significant)\n",
    "    support = tuple describing which qubits the kraus ops act on\n",
    "    krauslist = krauss ops acting on support\n",
    "    \"\"\"\n",
    "    kraus_dict = {}\n",
    "    prob_maps = np.array([1/n_maps]*n_maps) # Probabilites associated to the above CPTP maps\n",
    "    cutoff = 3 # Cutoff number of qubits for poissson distribution\n",
    "    cptp_map_count = 0\n",
    "    for __ in range(n_maps):\n",
    "        n_q = SamplePoisson(mean = 1, cutoff=cutoff)\n",
    "        support = tuple(sorted((random.sample(range(qcode.N), n_q))))\n",
    "        if n_q == 0:\n",
    "            rand_unitary = 1.0\n",
    "            kraus_dict[cptp_map_count] = (support,[rand_unitary])\n",
    "        else:\n",
    "            rand_unitary = RandomUnitary(\n",
    "                rotation_angle/(2**(3*n_q)), 2**(3*n_q)\n",
    "            )\n",
    "            kraus_dict[cptp_map_count] = (support, StineToKraus(rand_unitary))\n",
    "        cptp_map_count += 1\n",
    "    \n",
    "    # Multiplying kraus by their respective probabilities\n",
    "    for key, (support, krauslist) in kraus_dict.items():\n",
    "        for k in range(len(krauslist)):\n",
    "            # print(\"k = {}\".format(k))\n",
    "            kraus_dict[key][1][k] *= np.sqrt(prob_maps[key])\n",
    "    return kraus_dict\n"
   ]
  },
  {
   "cell_type": "code",
   "execution_count": 25,
   "metadata": {},
   "outputs": [],
   "source": [
    "dict_k = get_kraus_poisson(0.1, qcode, cutoff = 4, n_maps = 3)"
   ]
  },
  {
   "cell_type": "code",
   "execution_count": 26,
   "metadata": {},
   "outputs": [
    {
     "data": {
      "text/plain": [
       "{0: ((3, 6), array([[[ 5.77298408e-01-7.25663721e-04j,\n",
       "            6.73661771e-04-9.74908213e-04j,\n",
       "           -3.23125705e-04-8.48814898e-04j,\n",
       "           -9.32448190e-04-4.26493469e-04j],\n",
       "          [-6.70156099e-04-9.73224400e-04j,\n",
       "            5.77304633e-01+9.63863617e-04j,\n",
       "            5.26214683e-04-1.23103046e-03j,\n",
       "            6.83564317e-04+3.28525595e-04j],\n",
       "          [ 3.16013628e-04-8.51538870e-04j,\n",
       "           -5.35510110e-04-1.22709923e-03j,\n",
       "            5.77314309e-01+7.88345915e-04j,\n",
       "            2.85858227e-05+6.70262468e-04j],\n",
       "          [ 9.46129289e-04-4.34596257e-04j,\n",
       "           -6.88935675e-04+3.25383868e-04j,\n",
       "           -3.15832904e-05+6.70216616e-04j,\n",
       "            5.77303007e-01+2.16934152e-04j]],\n",
       "  \n",
       "         [[ 3.77059261e-05-7.54631059e-04j,\n",
       "            2.44018877e-04+4.21988471e-04j,\n",
       "           -2.08483313e-04-2.65522242e-04j,\n",
       "           -2.78810113e-04-3.20790332e-04j],\n",
       "          [ 9.82089573e-04-6.89498205e-04j,\n",
       "           -6.83187185e-04+9.95504535e-04j,\n",
       "            3.89102825e-04-5.55400127e-04j,\n",
       "           -5.07129205e-06-1.75811142e-04j],\n",
       "          [ 3.91847889e-04-5.07659543e-05j,\n",
       "            3.31122970e-04+9.32473240e-04j,\n",
       "            5.00597716e-04+3.46299636e-04j,\n",
       "            4.00843096e-04-3.48545029e-04j],\n",
       "          [ 7.98944723e-04+2.92048798e-04j,\n",
       "            4.90238967e-04-1.02857732e-04j,\n",
       "           -3.71480208e-04+3.66345186e-04j,\n",
       "            6.65669429e-04-9.62301642e-04j]],\n",
       "  \n",
       "         [[-5.89571244e-04-6.57691322e-04j,\n",
       "           -1.02432941e-03+6.22586498e-04j,\n",
       "            2.45607454e-04+9.69517678e-05j,\n",
       "           -1.35323545e-03+2.56423936e-04j],\n",
       "          [ 9.71627469e-04-6.59128259e-04j,\n",
       "            1.40920838e-04-5.71107094e-04j,\n",
       "           -1.19257306e-03-3.36933726e-05j,\n",
       "           -5.47239080e-04-3.60045162e-04j],\n",
       "          [-8.83427002e-04-8.42104183e-04j,\n",
       "            4.53094953e-04-2.98719097e-04j,\n",
       "            2.35975515e-05+4.79084053e-04j,\n",
       "            3.67700446e-04+4.77944946e-04j],\n",
       "          [ 4.02865128e-04-3.91695805e-04j,\n",
       "            8.44520656e-04-1.03548420e-03j,\n",
       "            4.20276089e-04+3.22906686e-04j,\n",
       "            5.27211917e-04+6.30536529e-04j]],\n",
       "  \n",
       "         [[ 4.50741959e-04+2.55736296e-04j,\n",
       "            1.24307093e-04-9.92210698e-05j,\n",
       "            5.41633122e-05+2.85791028e-04j,\n",
       "           -1.07135141e-03+4.15215122e-04j],\n",
       "          [ 3.68348753e-04-6.43745050e-04j,\n",
       "            9.76523240e-04+1.20362213e-03j,\n",
       "            6.82507212e-04+1.06732802e-03j,\n",
       "           -5.38436520e-04-6.80896002e-07j],\n",
       "          [ 6.75606720e-04+4.91338305e-04j,\n",
       "           -5.08796491e-04+5.97522521e-04j,\n",
       "           -1.85118630e-04+1.60799628e-04j,\n",
       "           -1.01821896e-03-7.37185834e-04j],\n",
       "          [-1.44952502e-04+2.37419694e-04j,\n",
       "           -6.90856646e-04-1.08823731e-03j,\n",
       "            3.49749670e-04+3.47232032e-04j,\n",
       "           -3.57787692e-04+3.34194377e-04j]],\n",
       "  \n",
       "         [[-9.20693918e-05-1.25701339e-04j,\n",
       "           -8.80394942e-05+9.23934307e-04j,\n",
       "           -9.78358659e-04+5.28078128e-04j,\n",
       "            2.57115690e-03-1.60237333e-04j],\n",
       "          [ 5.73874612e-04+6.51846039e-04j,\n",
       "            4.66975122e-04+9.59178747e-05j,\n",
       "           -1.06136037e-04+6.27725688e-04j,\n",
       "           -1.43271429e-04-1.54675136e-04j],\n",
       "          [ 4.16324222e-04-1.59987983e-04j,\n",
       "            1.07468080e-04+2.10427402e-04j,\n",
       "           -1.93670136e-04-1.77628167e-04j,\n",
       "           -5.54777754e-04+1.19989721e-03j],\n",
       "          [ 7.21350558e-04-7.70484491e-04j,\n",
       "           -2.45011927e-05+4.07624244e-04j,\n",
       "            2.40326847e-04+2.44431833e-04j,\n",
       "           -6.73369358e-04+9.21119816e-04j]],\n",
       "  \n",
       "         [[ 8.66662759e-04+1.04874673e-04j,\n",
       "            3.58088412e-04+1.02657933e-03j,\n",
       "            6.94225348e-04-1.43755901e-04j,\n",
       "           -1.45904282e-03-9.24347867e-06j],\n",
       "          [-1.19227451e-03+1.96986458e-04j,\n",
       "            5.91418541e-04+8.01705704e-05j,\n",
       "            4.93191748e-05+1.01979804e-03j,\n",
       "           -8.94192653e-04+1.32700236e-03j],\n",
       "          [-4.15644309e-04+5.46096774e-04j,\n",
       "            7.51415263e-05+4.25255654e-04j,\n",
       "           -4.06697768e-04+3.05822806e-04j,\n",
       "            4.08840844e-04-4.00492374e-04j],\n",
       "          [ 4.57229880e-04+7.05287778e-05j,\n",
       "           -2.45426726e-04+2.57309373e-06j,\n",
       "           -1.93519779e-04-5.62442268e-04j,\n",
       "           -5.42354808e-05+4.26255742e-04j]],\n",
       "  \n",
       "         [[ 1.07198408e-03+2.56398472e-04j,\n",
       "            6.02593168e-04-6.99868973e-04j,\n",
       "            7.66898930e-04-4.74896909e-04j,\n",
       "            6.15435503e-04+1.04902377e-04j],\n",
       "          [ 9.36026106e-04-8.56423807e-04j,\n",
       "            3.23914049e-05+3.63123695e-04j,\n",
       "           -4.05658548e-04-6.22417206e-04j,\n",
       "           -2.48486720e-04+9.76424946e-04j],\n",
       "          [ 1.98123464e-04-4.15126979e-04j,\n",
       "           -9.01461451e-05-5.29250931e-04j,\n",
       "           -2.45225131e-04+1.34174787e-04j,\n",
       "           -2.46274948e-05-5.93893947e-04j],\n",
       "          [ 4.27412592e-05+1.41438346e-03j,\n",
       "            1.44384242e-03-2.55394927e-04j,\n",
       "            4.82780327e-05+2.53059017e-04j,\n",
       "            6.48094618e-04+4.38888201e-04j]],\n",
       "  \n",
       "         [[ 1.95256228e-04-5.08511074e-05j,\n",
       "            8.30367368e-04-3.95576510e-04j,\n",
       "           -1.47195652e-04-8.96129033e-04j,\n",
       "           -4.85512406e-04+1.05058374e-04j],\n",
       "          [ 5.15809089e-04+7.21632405e-04j,\n",
       "            2.60173924e-05+4.36655261e-04j,\n",
       "            3.76537323e-04+1.11533397e-03j,\n",
       "           -5.98782055e-05+1.19520131e-03j],\n",
       "          [-6.46815820e-04-7.34176093e-05j,\n",
       "            1.04043708e-04+5.79066394e-04j,\n",
       "            5.80455307e-04-5.58886192e-04j,\n",
       "            1.51718013e-03-8.97850432e-04j],\n",
       "          [ 3.97033113e-07-7.75870990e-05j,\n",
       "            3.30332485e-04+1.13349259e-03j,\n",
       "           -5.78652389e-04+5.63194640e-04j,\n",
       "           -1.76850350e-04-4.44514517e-04j]],\n",
       "  \n",
       "         [[ 3.98307049e-04-5.25832300e-04j,\n",
       "            1.08128652e-03+1.71127474e-03j,\n",
       "           -7.83949534e-04-5.13204274e-05j,\n",
       "           -1.89992571e-04+1.29854368e-04j],\n",
       "          [ 4.44814697e-04+2.59421678e-03j,\n",
       "           -2.48302243e-05-4.75818173e-04j,\n",
       "            9.50030085e-04-1.21516360e-04j,\n",
       "            3.33656524e-04-1.90495228e-04j],\n",
       "          [-5.78319508e-05+2.23866051e-04j,\n",
       "           -5.93185157e-04-1.48009112e-03j,\n",
       "           -4.42593502e-04-1.03241893e-03j,\n",
       "           -2.33693609e-04+1.01636420e-03j],\n",
       "          [-6.63427970e-04-5.79603183e-05j,\n",
       "           -9.39250366e-05+1.53438021e-04j,\n",
       "            9.59504657e-04-5.69557994e-04j,\n",
       "            4.70989125e-04-5.89093896e-05j]],\n",
       "  \n",
       "         [[-6.11073999e-05+2.90704756e-04j,\n",
       "            4.03042005e-04+3.84124744e-04j,\n",
       "            5.09069632e-04+8.53473875e-05j,\n",
       "            6.98544884e-04-2.96583307e-04j],\n",
       "          [ 8.89782715e-04-1.15530894e-03j,\n",
       "            7.55629074e-04+4.15487553e-04j,\n",
       "            1.26743202e-03+4.51037567e-04j,\n",
       "           -1.06873433e-04+5.81838781e-04j],\n",
       "          [ 4.00971177e-04+1.29826246e-03j,\n",
       "            3.64500084e-04-2.66033104e-05j,\n",
       "            6.23870455e-04+9.88074168e-04j,\n",
       "            2.78193534e-04+5.76126195e-04j],\n",
       "          [-1.98250439e-04-5.85090677e-04j,\n",
       "            4.24334432e-04-1.36500975e-03j,\n",
       "           -3.75255174e-04-9.12046031e-05j,\n",
       "           -7.63457715e-04-5.77399164e-04j]],\n",
       "  \n",
       "         [[ 5.68860133e-04-9.89629681e-04j,\n",
       "           -1.52118234e-04-4.95402030e-04j,\n",
       "           -7.45116263e-04-6.92982318e-04j,\n",
       "           -6.39831765e-04+3.09698312e-04j],\n",
       "          [ 9.86424901e-05-6.17079113e-04j,\n",
       "           -6.48953581e-04-6.08804328e-04j,\n",
       "           -9.42026264e-04-3.91735099e-04j,\n",
       "            7.14934790e-04-1.80873709e-04j],\n",
       "          [ 3.19381963e-04+2.10358965e-04j,\n",
       "           -7.31981188e-04+3.56018238e-04j,\n",
       "           -4.90655594e-04+2.20230680e-04j,\n",
       "           -1.00950884e-03-9.17999152e-04j],\n",
       "          [ 1.75308242e-04-1.24847468e-03j,\n",
       "            5.97663093e-04+3.43847867e-04j,\n",
       "           -2.00910764e-04+1.26917365e-03j,\n",
       "            1.30059276e-03+4.68662233e-04j]],\n",
       "  \n",
       "         [[ 9.30020254e-04+8.94104928e-04j,\n",
       "           -9.52482585e-04+6.11739282e-04j,\n",
       "            3.15058920e-04+3.65255582e-04j,\n",
       "            3.36371592e-04-5.36104958e-04j],\n",
       "          [ 7.20473780e-04+1.91054379e-04j,\n",
       "            1.68957681e-04-2.24111499e-04j,\n",
       "           -1.50623811e-04-2.55157028e-04j,\n",
       "           -3.46752388e-04-4.35347656e-04j],\n",
       "          [ 4.22170569e-05-9.09118293e-04j,\n",
       "           -3.62914174e-04+1.43359980e-04j,\n",
       "           -2.73903919e-04-4.84502456e-04j,\n",
       "           -1.70618005e-05+8.21969979e-05j],\n",
       "          [-5.35411352e-04-2.63806500e-04j,\n",
       "            1.38026974e-03-2.01646399e-04j,\n",
       "            1.50854134e-04-6.55896958e-04j,\n",
       "            8.33445278e-04-8.37026525e-04j]],\n",
       "  \n",
       "         [[-1.93122131e-04-4.56418144e-04j,\n",
       "           -4.59712373e-04+2.78385273e-04j,\n",
       "            1.30580800e-04-6.68994420e-04j,\n",
       "           -2.54477610e-04+5.42416453e-04j],\n",
       "          [ 1.18934750e-03-1.38594920e-04j,\n",
       "           -9.51467556e-04+3.20859886e-04j,\n",
       "           -1.51010707e-04-7.08682143e-04j,\n",
       "           -3.68511191e-04-1.88684456e-04j],\n",
       "          [-7.93437527e-04-9.22047143e-04j,\n",
       "           -4.96581949e-04-1.92082678e-04j,\n",
       "           -7.55441277e-04+2.67248441e-04j,\n",
       "           -1.86470000e-04-1.07648357e-04j],\n",
       "          [ 3.46296493e-05+5.90806254e-04j,\n",
       "            1.25950862e-04+1.14367908e-04j,\n",
       "           -2.26475438e-04+4.07977042e-04j,\n",
       "            9.14951357e-04-1.40459978e-04j]],\n",
       "  \n",
       "         [[-1.73158942e-03+2.66363142e-04j,\n",
       "           -5.54926862e-04+2.07331096e-04j,\n",
       "           -1.17344652e-03-8.06872587e-04j,\n",
       "            3.10205532e-04+9.86406078e-04j],\n",
       "          [-8.89165137e-04-2.86722641e-04j,\n",
       "           -3.07105355e-04+1.80981669e-04j,\n",
       "            2.01583325e-04-8.86605186e-04j,\n",
       "           -2.67816751e-04-7.05464275e-05j],\n",
       "          [-7.89636894e-04+2.20531406e-03j,\n",
       "            4.81075572e-04-2.02313492e-04j,\n",
       "            2.23703345e-04-4.85708067e-04j,\n",
       "           -1.33175015e-04+3.42090884e-04j],\n",
       "          [-3.08422055e-04+1.36000799e-05j,\n",
       "            6.82525728e-04-2.76355533e-05j,\n",
       "            1.81179501e-04-8.85489290e-04j,\n",
       "           -8.55522086e-04+4.66823903e-04j]],\n",
       "  \n",
       "         [[ 3.58999427e-05+6.60665583e-04j,\n",
       "            4.40966633e-04-1.75201066e-04j,\n",
       "           -7.14020826e-05+1.84810161e-04j,\n",
       "            6.70545143e-05-8.08633416e-04j],\n",
       "          [ 2.28223698e-05-1.35409553e-03j,\n",
       "            9.79101093e-05-1.27455067e-03j,\n",
       "           -4.83059713e-05+5.26958757e-04j,\n",
       "           -3.50847580e-04+4.03314133e-04j],\n",
       "          [ 5.75219704e-04+3.40876707e-05j,\n",
       "           -1.30682362e-03+6.54441234e-05j,\n",
       "            2.20629898e-04-5.56139849e-05j,\n",
       "           -1.83199689e-04-4.54135417e-04j],\n",
       "          [ 1.81975722e-04-3.29753562e-04j,\n",
       "           -8.11575885e-04-4.49287567e-05j,\n",
       "           -5.43755755e-04+6.92529580e-04j,\n",
       "            1.05520932e-04-2.39048367e-04j]],\n",
       "  \n",
       "         [[ 6.03542634e-04+5.34605196e-04j,\n",
       "            8.01112268e-04+3.21795771e-05j,\n",
       "           -3.46385444e-04+7.03942095e-04j,\n",
       "           -8.62198279e-04-9.63251430e-04j],\n",
       "          [-7.44615327e-04-1.73868043e-04j,\n",
       "            7.80130777e-04-6.35651793e-04j,\n",
       "           -3.62733763e-04+5.96861723e-04j,\n",
       "           -4.03181221e-04-6.37643913e-04j],\n",
       "          [-1.29032963e-04+3.12009573e-04j,\n",
       "           -1.01512891e-03-3.57907601e-04j,\n",
       "           -8.58335116e-04-3.34849741e-04j,\n",
       "           -1.20356759e-03-1.22336191e-03j],\n",
       "          [-1.97337042e-04-5.44318579e-05j,\n",
       "            1.12681830e-03-5.17505574e-04j,\n",
       "           -5.51497737e-05+1.40413694e-03j,\n",
       "            7.26767893e-04-3.75870304e-04j]]])),\n",
       " 1: ((2,), array([[[ 5.77062895e-01+8.17193850e-03j,\n",
       "            7.48558520e-03-4.30689937e-03j],\n",
       "          [-7.56568837e-03-4.50941849e-03j,\n",
       "            5.76951386e-01-5.65794601e-03j]],\n",
       "  \n",
       "         [[-4.78778430e-04-3.71250967e-04j,\n",
       "           -4.60330373e-03+2.21144397e-03j],\n",
       "          [-2.79589820e-03+2.97367433e-03j,\n",
       "           -3.50850069e-03+3.54375705e-03j]],\n",
       "  \n",
       "         [[ 1.52350156e-03-1.47791381e-03j,\n",
       "           -2.14859678e-03-1.01936473e-02j],\n",
       "          [ 8.75628251e-03+5.07011976e-03j,\n",
       "           -2.98634915e-03-1.90292599e-03j]],\n",
       "  \n",
       "         [[-2.03575765e-03+6.79240746e-03j,\n",
       "            8.52989531e-03+1.03239550e-02j],\n",
       "          [-2.91767834e-03+2.16539066e-03j,\n",
       "           -1.57389633e-03-6.53176849e-06j]]])),\n",
       " 2: ((5,), array([[[ 5.77068277e-01+0.00040754j,  2.07213836e-03+0.00157883j],\n",
       "          [-2.32004498e-03+0.00170822j,  5.77059522e-01-0.00732417j]],\n",
       "  \n",
       "         [[ 8.44722654e-03-0.00111402j,  6.31925541e-03+0.00266551j],\n",
       "          [-4.41539259e-03+0.00361078j,  4.39953748e-04+0.00564321j]],\n",
       "  \n",
       "         [[-8.76296577e-03-0.00325221j, -2.59452471e-03-0.00439861j],\n",
       "          [ 3.09001133e-03-0.00238618j,  6.63200032e-03+0.00332224j]],\n",
       "  \n",
       "         [[-5.52048227e-03+0.00332256j, -1.75570389e-03+0.00913347j],\n",
       "          [ 8.16641127e-03-0.00106137j,  2.54654413e-04+0.00533544j]]]))}"
      ]
     },
     "execution_count": 26,
     "metadata": {},
     "output_type": "execute_result"
    }
   ],
   "source": [
    "dict_k"
   ]
  },
  {
   "cell_type": "code",
   "execution_count": 104,
   "metadata": {},
   "outputs": [],
   "source": [
    "mat = [[0.494261994364053 + 1j * 0.000000000000000, 0.000000000000000 + 1j * 0.000000000000000, 0.000000000000000 + 1j * 0.000000000000000, 0.494217022439872 + 1j * 0.000000000000000], [0.000000000000000 + 1j * 0.000000000000000, 0.005738005635947 + 1j * 0.000000000000000, 0.005693033711766 + 1j * 0.000000000000000, 0.000000000000000 + 1j * 0.000000000000000], [0.000000000000000 + 1j * 0.000000000000000, 0.005693033711766 + 1j * 0.000000000000000, 0.005738005635947 + 1j * 0.000000000000000, 0.000000000000000 + 1j * 0.000000000000000], [0.494217022439872 + 1j * 0.000000000000000, 0.000000000000000 + 1j * 0.000000000000000, 0.000000000000000 + 1j * 0.000000000000000, 0.494261994364053 + 1j * 0.000000000000000]]\n",
    "M = np.array(mat, dtype=np.complex128)"
   ]
  },
  {
   "cell_type": "code",
   "execution_count": 105,
   "metadata": {},
   "outputs": [
    {
     "data": {
      "text/plain": [
       "array([[0.49426+0.j, 0.     +0.j, 0.     +0.j, 0.49422+0.j],\n",
       "       [0.     +0.j, 0.00574+0.j, 0.00569+0.j, 0.     +0.j],\n",
       "       [0.     +0.j, 0.00569+0.j, 0.00574+0.j, 0.     +0.j],\n",
       "       [0.49422+0.j, 0.     +0.j, 0.     +0.j, 0.49426+0.j]])"
      ]
     },
     "execution_count": 105,
     "metadata": {},
     "output_type": "execute_result"
    }
   ],
   "source": [
    "np.round(M, 5)"
   ]
  },
  {
   "cell_type": "code",
   "execution_count": 112,
   "metadata": {},
   "outputs": [
    {
     "data": {
      "text/plain": [
       "(array([9.88479017e-01+0.j, 4.49719242e-05+0.j, 4.49719242e-05+0.j,\n",
       "        1.14310393e-02+0.j]),\n",
       " array([[ 7.07106781e-01+0.j, -6.95102860e-01+0.j, -7.07106778e-01+0.j,\n",
       "          3.48757287e-15+0.j],\n",
       "        [-1.59772019e-16+0.j, -1.29738250e-01+0.j, -6.82685228e-05+0.j,\n",
       "          7.07106781e-01+0.j],\n",
       "        [-9.25561748e-19+0.j,  1.29738250e-01+0.j,  6.82685228e-05+0.j,\n",
       "          7.07106781e-01+0.j],\n",
       "        [ 7.07106781e-01+0.j,  6.95102860e-01+0.j,  7.07106778e-01+0.j,\n",
       "         -3.56423333e-15+0.j]]),\n",
       " array([[ 7.07106781e-01+0.j,  6.82685228e-05+0.j, -1.29738250e-01+0.j,\n",
       "          8.03487902e-17+0.j],\n",
       "        [-8.03487902e-17+0.j, -7.07106778e-01+0.j,  6.95102860e-01+0.j,\n",
       "          7.07106781e-01+0.j],\n",
       "        [ 0.00000000e+00+0.j,  7.07106778e-01+0.j, -6.95102860e-01+0.j,\n",
       "          7.07106781e-01+0.j],\n",
       "        [ 7.07106781e-01+0.j, -6.82685228e-05+0.j,  1.29738250e-01+0.j,\n",
       "         -7.66604557e-17+0.j]]),\n",
       " 0)"
      ]
     },
     "execution_count": 112,
     "metadata": {},
     "output_type": "execute_result"
    }
   ],
   "source": [
    "# (np_eval, np_evecs) = np.linalg.eig(M)\n",
    "(np_eval, __, np_evecs) = zgeev(M)"
   ]
  },
  {
   "cell_type": "code",
   "execution_count": 107,
   "metadata": {},
   "outputs": [
    {
     "name": "stdout",
     "output_type": "stream",
     "text": [
      "e_1\n",
      "0.988479 + i 0\n",
      "v_1\n",
      "(0.707107 + i 0), (-8.03488e-17 + i 0), (0 + i 0), (0.707107 + i 0)\n",
      "---\n",
      "e_2\n",
      "4.49719e-05 + i 0\n",
      "v_2\n",
      "(6.82685e-05 + i 0), (-0.707107 + i 0), (0.707107 + i 0), (-6.82685e-05 + i 0)\n",
      "---\n",
      "e_3\n",
      "4.49719e-05 + i 0\n",
      "v_3\n",
      "(-0.129738 + i 0), (0.695103 + i 0), (-0.695103 + i 0), (0.129738 + i 0)\n",
      "---\n",
      "e_4\n",
      "0.011431 + i 0\n",
      "v_4\n",
      "(8.03488e-17 + i 0), (0.707107 + i 0), (0.707107 + i 0), (-7.66605e-17 + i 0)\n",
      "---\n"
     ]
    }
   ],
   "source": [
    "for i in range(4):\n",
    "    print(\"e_%d\\n%g + i %g\" % (i + 1, np.real(np_eval[i]), np.imag((np_eval[i]))))\n",
    "    row = [\"(%g + i %g)\" % (np.real(np_evecs[j,i]), np.imag(np_evecs[j,i])) for j in range(4)]\n",
    "    print(\"v_%d\\n%s\" % (i + 1, \", \".join(row)))\n",
    "    print(\"---\")"
   ]
  },
  {
   "cell_type": "code",
   "execution_count": 108,
   "metadata": {},
   "outputs": [],
   "source": [
    "#eigvecs = np.array([[0.707106781186548 + 1j * 0.000000000000000, 0.000000000000000 + 1j * 0.000000000000000, 0.000000000000000 + 1j * 0.000000000000000, 0.707106781186547 + 1j * -0.000000000000000], [0.707106781186547 + 1j * 0.000000000000000, 0.000000000000000 + 1j * 0.000000000000000, 0.000000000000000 + 1j * 0.000000000000000, -0.707106781186547 + 1j * 0.000000000000000], [-0.001644226287961 + 1j * 0.000000000000000, -0.707104869534862 + 1j * 0.000000000000000, 0.707104869534862 + 1j * 0.000000000000000, 0.001644226287961 + 1j * 0.000000000000000], [0.000000000000000 + 1j * 0.000000000000000, 0.707106781186547 + 1j * 0.000000000000000, 0.707106781186548 + 1j * 0.000000000000000, -0.000000000000000 + 1j * 0.000000000000000]], dtype = np.complex128)\n",
    "np_reconM = np.array(sum([eigvals[d] * np.dot(HermitianConjugate(eigvecs[d, np.newaxis, :]), eigvecs[d, np.newaxis, :]) for d in range(4)]), dtype=np.complex128)"
   ]
  },
  {
   "cell_type": "code",
   "execution_count": 109,
   "metadata": {},
   "outputs": [
    {
     "data": {
      "text/plain": [
       "array([[ 8.29247171e-09+0.j, -5.22861485e-08+0.j,  5.22861485e-08+0.j,\n",
       "         8.51145260e-09+0.j],\n",
       "       [-5.22861485e-08+0.j,  1.98075276e-08+0.j,  1.95401854e-08+0.j,\n",
       "         5.22861485e-08+0.j],\n",
       "       [ 5.22861485e-08+0.j,  1.95401854e-08+0.j,  1.98075276e-08+0.j,\n",
       "        -5.22861485e-08+0.j],\n",
       "       [ 8.51145260e-09+0.j,  5.22861485e-08+0.j, -5.22861485e-08+0.j,\n",
       "         8.29247310e-09+0.j]])"
      ]
     },
     "execution_count": 109,
     "metadata": {},
     "output_type": "execute_result"
    }
   ],
   "source": [
    "M - np_reconM"
   ]
  },
  {
   "cell_type": "code",
   "execution_count": 93,
   "metadata": {},
   "outputs": [],
   "source": [
    "reconstructed = [[0.494261994364053 + 1j * 0.000000000000000, 0.000000000000000 + 1j * 0.000000000000000, 0.000000000000000 + 1j * 0.000000000000000, 0.494217022439872 + 1j * 0.000000000000000], [0.000000000000000 + 1j * 0.000000000000000, 0.005738005635947 + 1j * 0.000000000000000, 0.005693033711766 + 1j * 0.000000000000000, 0.000000000000000 + 1j * 0.000000000000000], [0.000000000000000 + 1j * 0.000000000000000, 0.005693033711766 + 1j * 0.000000000000000, 0.005738005635947 + 1j * 0.000000000000000, 0.000000000000000 + 1j * 0.000000000000000], [0.494217022439872 + 1j * 0.000000000000000, 0.000000000000000 + 1j * 0.000000000000000, 0.000000000000000 + 1j * 0.000000000000000, 0.494261994364053 + 1j * 0.000000000000000]]\n",
    "c_reconM = np.array(reconstructed, dtype = np.complex128)"
   ]
  },
  {
   "cell_type": "code",
   "execution_count": 94,
   "metadata": {},
   "outputs": [
    {
     "data": {
      "text/plain": [
       "array([[ 2.97605283e-07+0.j,  5.22862762e-08+0.j, -5.22862762e-08+0.j,\n",
       "         2.97358468e-07+0.j],\n",
       "       [ 5.22862762e-08+0.j, -1.62619186e-08+0.j, -1.60111714e-08+0.j,\n",
       "        -5.22862762e-08+0.j],\n",
       "       [-5.22862762e-08+0.j, -1.60111714e-08+0.j, -1.62619186e-08+0.j,\n",
       "         5.22862762e-08+0.j],\n",
       "       [ 2.97358468e-07+0.j, -5.22862762e-08+0.j,  5.22862762e-08+0.j,\n",
       "         2.97605283e-07+0.j]])"
      ]
     },
     "execution_count": 94,
     "metadata": {},
     "output_type": "execute_result"
    }
   ],
   "source": [
    "np_reconM - c_reconM"
   ]
  },
  {
   "cell_type": "code",
   "execution_count": 101,
   "metadata": {},
   "outputs": [
    {
     "data": {
      "text/plain": [
       "array([[ 8.29247171e-09+0.j, -5.22861485e-08+0.j,  5.22861485e-08+0.j,\n",
       "         8.51145260e-09+0.j],\n",
       "       [-5.22861485e-08+0.j,  1.98075276e-08+0.j,  1.95401854e-08+0.j,\n",
       "         5.22861485e-08+0.j],\n",
       "       [ 5.22861485e-08+0.j,  1.95401854e-08+0.j,  1.98075276e-08+0.j,\n",
       "        -5.22861485e-08+0.j],\n",
       "       [ 8.51145260e-09+0.j,  5.22861485e-08+0.j, -5.22861485e-08+0.j,\n",
       "         8.29247310e-09+0.j]])"
      ]
     },
     "execution_count": 101,
     "metadata": {},
     "output_type": "execute_result"
    }
   ],
   "source": [
    "M - np_reconM"
   ]
  },
  {
   "cell_type": "code",
   "execution_count": 98,
   "metadata": {},
   "outputs": [],
   "source": [
    "matA = np.array([[0.494261994364053 + 1j * 0.000000000000000, 0.000000000000000 + 1j * 0.000000000000000, 0.000000000000000 + 1j * 0.000000000000000, 0.494217022439872 + 1j * 0.000000000000000], [0.000000000000000 + 1j * 0.000000000000000, 0.005738005635947 + 1j * 0.000000000000000, 0.005693033711766 + 1j * 0.000000000000000, 0.000000000000000 + 1j * 0.000000000000000], [0.000000000000000 + 1j * 0.000000000000000, 0.005693033711766 + 1j * 0.000000000000000, 0.005738005635947 + 1j * 0.000000000000000, 0.000000000000000 + 1j * 0.000000000000000], [0.494217022439872 + 1j * 0.000000000000000, 0.000000000000000 + 1j * 0.000000000000000, 0.000000000000000 + 1j * 0.000000000000000, 0.494261994364053 + 1j * 0.000000000000000]] ,dtype=np.complex128)\n",
    "matB = np.array([[0.494261994485634 + 1j * 0.000000000000000, 0.000000052286177 + 1j * 0.000000000000000, -0.000000052286177 + 1j * 0.000000000000000, 0.494217022318291 + 1j * 0.000000000000000], [0.000000052286177 + 1j * 0.000000000000000, 0.005738005514367 + 1j * 0.000000000000000, 0.005693033833347 + 1j * 0.000000000000000, -0.000000052286177 + 1j * 0.000000000000000], [-0.000000052286177 + 1j * 0.000000000000000, 0.005693033833347 + 1j * 0.000000000000000, 0.005738005514367 + 1j * 0.000000000000000, 0.000000052286177 + 1j * 0.000000000000000], [0.494217022318291 + 1j * 0.000000000000000, -0.000000052286177 + 1j * 0.000000000000000, 0.000000052286177 + 1j * 0.000000000000000, 0.494261994485633 + 1j * 0.000000000000000]], dtype = np.complex128)"
   ]
  },
  {
   "cell_type": "code",
   "execution_count": 99,
   "metadata": {},
   "outputs": [
    {
     "data": {
      "text/plain": [
       "array([[-1.21581023e-10+0.j, -5.22861770e-08+0.j,  5.22861770e-08+0.j,\n",
       "         1.21580968e-10+0.j],\n",
       "       [-5.22861770e-08+0.j,  1.21580000e-10+0.j, -1.21581000e-10+0.j,\n",
       "         5.22861770e-08+0.j],\n",
       "       [ 5.22861770e-08+0.j, -1.21581000e-10+0.j,  1.21580000e-10+0.j,\n",
       "        -5.22861770e-08+0.j],\n",
       "       [ 1.21580968e-10+0.j,  5.22861770e-08+0.j, -5.22861770e-08+0.j,\n",
       "        -1.21580024e-10+0.j]])"
      ]
     },
     "execution_count": 99,
     "metadata": {},
     "output_type": "execute_result"
    }
   ],
   "source": [
    "matA - matB"
   ]
  },
  {
   "cell_type": "code",
   "execution_count": null,
   "metadata": {},
   "outputs": [],
   "source": []
  }
 ],
 "metadata": {
  "kernelspec": {
   "display_name": "Python 3",
   "language": "python",
   "name": "python3"
  },
  "language_info": {
   "codemirror_mode": {
    "name": "ipython",
    "version": 3
   },
   "file_extension": ".py",
   "mimetype": "text/x-python",
   "name": "python",
   "nbconvert_exporter": "python",
   "pygments_lexer": "ipython3",
   "version": "3.7.1"
  }
 },
 "nbformat": 4,
 "nbformat_minor": 2
}
