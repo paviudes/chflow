{
 "cells": [
  {
   "cell_type": "code",
   "execution_count": 9,
   "metadata": {
    "scrolled": true
   },
   "outputs": [],
   "source": [
    "import numpy as np\n",
    "from scipy.stats import poisson\n",
    "import matplotlib.pyplot as plt\n",
    "from define.randchans import RandomPauliChannel\n",
    "from define.QECCLfid import uncorrectable as uc\n",
    "from define import qcode as qc\n",
    "from define import fnames as fn"
   ]
  },
  {
   "cell_type": "code",
   "execution_count": 10,
   "metadata": {},
   "outputs": [],
   "source": [
    "qcode = qc.QuantumErrorCorrectingCode(\"Steane\")\n",
    "qc.Load(qcode)"
   ]
  },
  {
   "cell_type": "code",
   "execution_count": 13,
   "metadata": {},
   "outputs": [
    {
     "data": {
      "text/plain": [
       "2.3153309078215565"
      ]
     },
     "execution_count": 13,
     "metadata": {},
     "output_type": "execute_result"
    }
   ],
   "source": [
    "mu = np.mean(qcode.weightdist[qcode.PauliCorrectableIndices])/2\n",
    "np.random.normal(mu,0.5)"
   ]
  },
  {
   "cell_type": "code",
   "execution_count": null,
   "metadata": {},
   "outputs": [],
   "source": [
    "# plt.plot(np.arange(8),poisson.pmf(np.arange(8), 0),0.1**np.arange(10),marker=\"o\",linestyle=\"None\")"
   ]
  },
  {
   "cell_type": "code",
   "execution_count": null,
   "metadata": {},
   "outputs": [],
   "source": [
    "# probs = poisson.pmf(qcode.weightdist, np.abs(np.random.normal(mu,mu/3)))\n",
    "# plt.plot(np.sort(qcode.weightdist), probs[np.argsort(qcode.weightdist)],marker=\"o\",linestyle=\"None\")\n",
    "# plt.plot(np.sort(qcode.weightdist), (1/7)**np.sort(qcode.weightdist),marker=\"x\",linestyle=\"None\")\n",
    "# plt.yscale('log')"
   ]
  },
  {
   "cell_type": "code",
   "execution_count": 14,
   "metadata": {},
   "outputs": [],
   "source": [
    "errdist = RandomPauliChannel({\"method\":1, \"mu\":2, \"weightdist\":qcode.weightdist})"
   ]
  },
  {
   "cell_type": "code",
   "execution_count": 16,
   "metadata": {},
   "outputs": [],
   "source": [
    "infid = 0.2\n",
    "errdist[0] = 1 - infid\n",
    "errdist[1:] = infid * errdist[1:]/np.sum(errdist[1:])"
   ]
  },
  {
   "cell_type": "code",
   "execution_count": 19,
   "metadata": {},
   "outputs": [
    {
     "data": {
      "text/plain": [
       "array([8.00000000e-01, 1.62453320e-05, 4.73969973e-05, ...,\n",
       "       1.24920549e-06, 2.60345543e-06, 6.70329040e-08])"
      ]
     },
     "execution_count": 19,
     "metadata": {},
     "output_type": "execute_result"
    }
   ],
   "source": [
    "errdist"
   ]
  },
  {
   "cell_type": "code",
   "execution_count": 22,
   "metadata": {},
   "outputs": [
    {
     "ename": "NameError",
     "evalue": "name 'dbs' is not defined",
     "output_type": "error",
     "traceback": [
      "\u001b[0;31m---------------------------------------------------------------------------\u001b[0m",
      "\u001b[0;31mNameError\u001b[0m                                 Traceback (most recent call last)",
      "\u001b[0;32m<ipython-input-22-70dd82dd8bd5>\u001b[0m in \u001b[0;36m<module>\u001b[0;34m\u001b[0m\n\u001b[0;32m----> 1\u001b[0;31m \u001b[0mPauliDistributionPlot\u001b[0m\u001b[0;34m(\u001b[0m\u001b[0merrdist\u001b[0m\u001b[0;34m,\u001b[0m \u001b[0mnreps\u001b[0m\u001b[0;34m=\u001b[0m\u001b[0;36m5\u001b[0m\u001b[0;34m,\u001b[0m \u001b[0mmax_weight\u001b[0m\u001b[0;34m=\u001b[0m\u001b[0;32mNone\u001b[0m\u001b[0;34m)\u001b[0m\u001b[0;34m\u001b[0m\u001b[0;34m\u001b[0m\u001b[0m\n\u001b[0m",
      "\u001b[0;32m<ipython-input-21-c13b3e83ccc4>\u001b[0m in \u001b[0;36mPauliDistributionPlot\u001b[0;34m(pauliprobs, nreps, max_weight)\u001b[0m\n\u001b[1;32m      4\u001b[0m     \"\"\"\n\u001b[1;32m      5\u001b[0m     \u001b[0;32mif\u001b[0m \u001b[0mmax_weight\u001b[0m \u001b[0;32mis\u001b[0m \u001b[0;32mNone\u001b[0m\u001b[0;34m:\u001b[0m\u001b[0;34m\u001b[0m\u001b[0;34m\u001b[0m\u001b[0m\n\u001b[0;32m----> 6\u001b[0;31m         \u001b[0mmax_weight\u001b[0m \u001b[0;34m=\u001b[0m \u001b[0mint\u001b[0m\u001b[0;34m(\u001b[0m\u001b[0mnp\u001b[0m\u001b[0;34m.\u001b[0m\u001b[0mmax\u001b[0m\u001b[0;34m(\u001b[0m\u001b[0mdbs\u001b[0m\u001b[0;34m.\u001b[0m\u001b[0meccs\u001b[0m\u001b[0;34m[\u001b[0m\u001b[0;36m0\u001b[0m\u001b[0;34m]\u001b[0m\u001b[0;34m.\u001b[0m\u001b[0mweightdist\u001b[0m\u001b[0;34m)\u001b[0m\u001b[0;34m)\u001b[0m\u001b[0;34m\u001b[0m\u001b[0;34m\u001b[0m\u001b[0m\n\u001b[0m\u001b[1;32m      7\u001b[0m     \u001b[0mmax_weight\u001b[0m \u001b[0;34m+=\u001b[0m \u001b[0;36m1\u001b[0m\u001b[0;34m\u001b[0m\u001b[0;34m\u001b[0m\u001b[0m\n\u001b[1;32m      8\u001b[0m     \u001b[0mgroup_by_weight\u001b[0m \u001b[0;34m=\u001b[0m \u001b[0;34m{\u001b[0m\u001b[0mw\u001b[0m\u001b[0;34m:\u001b[0m \u001b[0;32mNone\u001b[0m \u001b[0;32mfor\u001b[0m \u001b[0mw\u001b[0m \u001b[0;32min\u001b[0m \u001b[0mrange\u001b[0m\u001b[0;34m(\u001b[0m\u001b[0mmax_weight\u001b[0m\u001b[0;34m)\u001b[0m\u001b[0;34m}\u001b[0m\u001b[0;34m\u001b[0m\u001b[0;34m\u001b[0m\u001b[0m\n",
      "\u001b[0;31mNameError\u001b[0m: name 'dbs' is not defined"
     ]
    }
   ],
   "source": [
    "PauliDistributionPlot(errdist, nreps=5, max_weight=None)"
   ]
  },
  {
   "cell_type": "code",
   "execution_count": null,
   "metadata": {},
   "outputs": [],
   "source": []
  },
  {
   "cell_type": "code",
   "execution_count": null,
   "metadata": {},
   "outputs": [],
   "source": [
    "for w in range(np.max(qcode.weightdist)+1):\n",
    "    print(\"Total probability of weight {} errors = {}:\\n{}\".format(w, np.sum(errdist[qcode.weightdist==w]), errdist[qcode.weightdist==w]))"
   ]
  },
  {
   "cell_type": "code",
   "execution_count": 21,
   "metadata": {},
   "outputs": [],
   "source": [
    "def PauliDistributionPlot(pauliprobs, nreps=5, max_weight=None):\n",
    "    r\"\"\"\n",
    "    Plot the probability distribution of Pauli errors.\n",
    "    \"\"\"\n",
    "    if max_weight is None:\n",
    "        max_weight = int(np.max(qcode.weightdist))\n",
    "    max_weight += 1\n",
    "    group_by_weight = {w: None for w in range(max_weight)}\n",
    "    for w in range(max_weight):\n",
    "        (group_by_weight[w],) = np.nonzero(qcode.weightdist == w)\n",
    "    leading_by_weight = {w: None for w in range(max_weight)}\n",
    "    for w in range(max_weight):\n",
    "        ninclude = min(nreps, group_by_weight[w].size)\n",
    "        result_args = np.argpartition(-pauliprobs[group_by_weight[w]], ninclude - 1)[\n",
    "            :ninclude\n",
    "        ]\n",
    "        leading_by_weight[w] = group_by_weight[w][result_args]\n",
    "    operator_labels = {\n",
    "        w: qc.PauliOperatorToSymbol(\n",
    "            qc.GetOperatorsForLSTIndex(qcode, leading_by_weight[w])\n",
    "        )\n",
    "        for w in range(max_weight)\n",
    "    }\n",
    "    plotfname = (\"test.pdf\")\n",
    "    with PdfPages(plotfname) as pdf:\n",
    "        fig = plt.figure(figsize=gv.canvas_size)\n",
    "        current = 0\n",
    "        for w in range(1, max_weight):\n",
    "            if leading_by_weight[w].size > 0:\n",
    "                plt.bar(\n",
    "                    np.arange(current, current + leading_by_weight[w].size),\n",
    "                    pauliprobs[leading_by_weight[w]],\n",
    "                    color=gv.Colors[w % gv.n_Colors],\n",
    "                    width=0.5,\n",
    "                    label=\"w = %d\" % (w),\n",
    "                    alpha=0.6,\n",
    "                )\n",
    "                current = current + leading_by_weight[w].size\n",
    "        # Principal axes labels\n",
    "        ax = plt.gca()\n",
    "        # ax.set_xlabel(\"Errors\", fontsize=gv.axes_labels_fontsize)\n",
    "        # locs, labels = xticks()\n",
    "        # xticks(np.arange(0, 1, step=0.2))\n",
    "        plt.xticks(\n",
    "            np.arange(sum([len(operator_labels[w]) for w in range(1, max_weight)])),\n",
    "            [label for label in operator_labels[w] for w in range(max_weight)],\n",
    "            rotation=45,\n",
    "        )\n",
    "        ax.set_ylabel(\"Probabilities\", fontsize=gv.axes_labels_fontsize)\n",
    "        ax.set_yscale(\"log\")\n",
    "        ax.tick_params(\n",
    "            axis=\"both\",\n",
    "            which=\"both\",\n",
    "            pad=gv.ticks_pad,\n",
    "            direction=\"inout\",\n",
    "            length=gv.ticks_length,\n",
    "            width=gv.ticks_width,\n",
    "            labelsize=gv.ticks_fontsize,\n",
    "        )\n",
    "        # Legend\n",
    "        ax.legend(\n",
    "            numpoints=1,\n",
    "            loc=1,\n",
    "            shadow=True,\n",
    "            fontsize=gv.legend_fontsize,\n",
    "            markerscale=gv.legend_marker_scale,\n",
    "        )\n",
    "        # Save the plot\n",
    "        pdf.savefig(fig)\n",
    "        plt.close()\n",
    "        # Set PDF attributes\n",
    "        pdfInfo = pdf.infodict()\n",
    "        pdfInfo[\"Title\"] = \"Pauli distribution of errors.\"\n",
    "        pdfInfo[\"Author\"] = \"Pavithran Iyer\"\n",
    "        pdfInfo[\"ModDate\"] = dt.datetime.today()\n",
    "    return None"
   ]
  },
  {
   "cell_type": "code",
   "execution_count": null,
   "metadata": {},
   "outputs": [],
   "source": []
  }
 ],
 "metadata": {
  "kernelspec": {
   "display_name": "Python 3",
   "language": "python",
   "name": "python3"
  },
  "language_info": {
   "codemirror_mode": {
    "name": "ipython",
    "version": 3
   },
   "file_extension": ".py",
   "mimetype": "text/x-python",
   "name": "python",
   "nbconvert_exporter": "python",
   "pygments_lexer": "ipython3",
   "version": "3.7.1"
  }
 },
 "nbformat": 4,
 "nbformat_minor": 2
}
