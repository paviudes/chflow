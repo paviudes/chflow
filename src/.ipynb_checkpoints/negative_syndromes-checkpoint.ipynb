{
 "cells": [
  {
   "cell_type": "code",
   "execution_count": 1,
   "metadata": {},
   "outputs": [],
   "source": [
    "import numpy as np\n",
    "from define import qcode as qc\n",
    "from define import globalvars as gv\n",
    "from define.randchans import RandomUnitary\n",
    "from define.QECCLfid.utils import Dot, Dagger, Kron\n",
    "from define.QECCLfid.multi_qubit_kraus import get_process_correlated"
   ]
  },
  {
   "cell_type": "code",
   "execution_count": 2,
   "metadata": {},
   "outputs": [],
   "source": [
    "qcode = qc.QuantumErrorCorrectingCode(\"Steane\")\n",
    "qc.Load(qcode)"
   ]
  },
  {
   "cell_type": "code",
   "execution_count": 3,
   "metadata": {},
   "outputs": [],
   "source": [
    "# Pr(synd) = sum_s,s' GS_ss' P(synd)_s'"
   ]
  },
  {
   "cell_type": "code",
   "execution_count": 4,
   "metadata": {},
   "outputs": [],
   "source": [
    "def LoadChannel():\n",
    "    return np.loadtxt(\"./../input/debug_testing/physical.txt\").reshape(256, 256)\n",
    "def LoadProjector():\n",
    "    return np.loadtxt(\"./../input/debug_testing/SS.txt\").reshape(64, 64)"
   ]
  },
  {
   "cell_type": "code",
   "execution_count": 5,
   "metadata": {},
   "outputs": [],
   "source": [
    "def SyndromeTest(GS, P):\n",
    "    # Test if any syndrome probabilities are negative.\n",
    "    norm = 0\n",
    "    stop = 0\n",
    "    for synd in range(64):\n",
    "        Pr_s = 0\n",
    "        if stop == 0:\n",
    "            print(\"P[{}, :] has {} 1s and {} -1s.\".format(synd, np.count_nonzero(P[synd, :] == 1), np.count_nonzero(P[synd, :] == -1)))\n",
    "        Pr_s = np.sum(np.dot(GS, P[synd, :]))/64\n",
    "        norm = norm + Pr_s\n",
    "        if stop == 0:\n",
    "            print(\"Pr({}) = {}\".format(synd, Pr_s))\n",
    "        if Pr_s < 0:\n",
    "            stop = 1\n",
    "            print(\"Negative Pr(s) encountered.\")\n",
    "    print(\"Sum of all syndrome probabilities: {}.\".format(norm))\n",
    "    return None"
   ]
  },
  {
   "cell_type": "code",
   "execution_count": 6,
   "metadata": {},
   "outputs": [],
   "source": [
    "# We want to construct the S x S part of the process matrix for a random independent unitary channel.\n",
    "# G_ij = prod_q Tr[ U_q  (P_i)_q U^dag_q  (P_j)_q ]"
   ]
  },
  {
   "cell_type": "code",
   "execution_count": 7,
   "metadata": {},
   "outputs": [],
   "source": [
    "def GetRandFullUnitaryProcess(nq):\n",
    "    U = RandomUnitary(prox=0.5,dim=2**nq,method=\"exp\")\n",
    "    (S, S_phase) = qc.GenerateGroup(qcode.S)\n",
    "    GS = np.zeros((S.shape[0], S.shape[0]), dtype = np.double)\n",
    "    for i in range(S.shape[0]):\n",
    "        for j in range(S.shape[0]):\n",
    "            Pi = Kron(*[gv.Pauli[p] for p in S[i]])\n",
    "            Pj = Kron(*[gv.Pauli[p] for p in S[j]])\n",
    "            contrib = S_phase[i] * S_phase[j] * np.trace(Dot(Pj,U,Pi,Dagger(U)))\n",
    "            GS[i,j] = np.real(contrib)/np.power(2, nq)\n",
    "    return (U,GS)"
   ]
  },
  {
   "cell_type": "code",
   "execution_count": 8,
   "metadata": {},
   "outputs": [],
   "source": [
    "def GetRandUnitaryProcess(nq):\n",
    "    U = np.zeros((nq, 2, 2), dtype=np.complex128)\n",
    "    for q in range(nq):\n",
    "        U[q, :, :] = RandomUnitary(prox=0.1, dim=2)\n",
    "    S = qc.GenerateGroup(qcode.S)\n",
    "    GS = np.zeros((S.shape[0], S.shape[0]), dtype = np.double)\n",
    "    for i in range(S.shape[0]):\n",
    "        for j in range(S.shape[0]):\n",
    "            contrib = 1 + 0 * 1j\n",
    "            for q in range(nq):\n",
    "                contrib = contrib * np.trace(Dot(U[q, :, :], gv.Pauli[S[i, q], :, :], Dagger(U[q, :, :]), gv.Pauli[S[j, q], :, :]))\n",
    "            GS[i, j] = np.real(contrib)/np.power(2, nq)\n",
    "    return (U, GS)"
   ]
  },
  {
   "cell_type": "code",
   "execution_count": 9,
   "metadata": {},
   "outputs": [],
   "source": [
    "# GS = LoadChannel()[:64, :64]\n",
    "# P = LoadProjector()\n",
    "# SyndromeTest(GS, P)"
   ]
  },
  {
   "cell_type": "code",
   "execution_count": 14,
   "metadata": {},
   "outputs": [
    {
     "name": "stdout",
     "output_type": "stream",
     "text": [
      "P[0, :] has 64 1s and 0 -1s.\n",
      "Pr(0) = 0.019980454503092746\n",
      "P[1, :] has 32 1s and 32 -1s.\n",
      "Pr(1) = 0.008747328097424963\n",
      "P[2, :] has 32 1s and 32 -1s.\n",
      "Pr(2) = 0.013104005132563924\n",
      "P[3, :] has 32 1s and 32 -1s.\n",
      "Pr(3) = 0.012227218584447178\n",
      "P[4, :] has 32 1s and 32 -1s.\n",
      "Pr(4) = 0.018606118821906017\n",
      "P[5, :] has 32 1s and 32 -1s.\n",
      "Pr(5) = 0.008212388367847222\n",
      "P[6, :] has 32 1s and 32 -1s.\n",
      "Pr(6) = 0.018494424040659\n",
      "P[7, :] has 32 1s and 32 -1s.\n",
      "Pr(7) = 0.0061965709852537885\n",
      "P[8, :] has 32 1s and 32 -1s.\n",
      "Pr(8) = 0.007108091703347104\n",
      "P[9, :] has 32 1s and 32 -1s.\n",
      "Pr(9) = 0.019838403338452805\n",
      "P[10, :] has 32 1s and 32 -1s.\n",
      "Pr(10) = 0.014513848088566702\n",
      "P[11, :] has 32 1s and 32 -1s.\n",
      "Pr(11) = 0.004582414627087501\n",
      "P[12, :] has 32 1s and 32 -1s.\n",
      "Pr(12) = 0.013620948383635952\n",
      "P[13, :] has 32 1s and 32 -1s.\n",
      "Pr(13) = 0.021215914437938382\n",
      "P[14, :] has 32 1s and 32 -1s.\n",
      "Pr(14) = 0.023646205071617278\n",
      "P[15, :] has 32 1s and 32 -1s.\n",
      "Pr(15) = 0.01959588931834567\n",
      "P[16, :] has 32 1s and 32 -1s.\n",
      "Pr(16) = 0.02049967226741342\n",
      "P[17, :] has 32 1s and 32 -1s.\n",
      "Pr(17) = 0.006730675625080141\n",
      "P[18, :] has 32 1s and 32 -1s.\n",
      "Pr(18) = 0.024677865851787332\n",
      "P[19, :] has 32 1s and 32 -1s.\n",
      "Pr(19) = 0.007794415713912031\n",
      "P[20, :] has 32 1s and 32 -1s.\n",
      "Pr(20) = 0.010576987241680054\n",
      "P[21, :] has 32 1s and 32 -1s.\n",
      "Pr(21) = 0.00633418499921206\n",
      "P[22, :] has 32 1s and 32 -1s.\n",
      "Pr(22) = 0.0107259220009934\n",
      "P[23, :] has 32 1s and 32 -1s.\n",
      "Pr(23) = 0.005208588613514793\n",
      "P[24, :] has 32 1s and 32 -1s.\n",
      "Pr(24) = 0.011713322979159453\n",
      "P[25, :] has 32 1s and 32 -1s.\n",
      "Pr(25) = 0.015596838160045439\n",
      "P[26, :] has 32 1s and 32 -1s.\n",
      "Pr(26) = 0.011533176014342037\n",
      "P[27, :] has 32 1s and 32 -1s.\n",
      "Pr(27) = 0.014103457174592847\n",
      "P[28, :] has 32 1s and 32 -1s.\n",
      "Pr(28) = 0.017032718666488696\n",
      "P[29, :] has 32 1s and 32 -1s.\n",
      "Pr(29) = 0.012146677561992681\n",
      "P[30, :] has 32 1s and 32 -1s.\n",
      "Pr(30) = 0.018851573500696973\n",
      "P[31, :] has 32 1s and 32 -1s.\n",
      "Pr(31) = 0.010545936184871565\n",
      "P[32, :] has 32 1s and 32 -1s.\n",
      "Pr(32) = 0.012953784672289883\n",
      "P[33, :] has 32 1s and 32 -1s.\n",
      "Pr(33) = 0.01194062258074401\n",
      "P[34, :] has 32 1s and 32 -1s.\n",
      "Pr(34) = 0.02526736061433866\n",
      "P[35, :] has 32 1s and 32 -1s.\n",
      "Pr(35) = 0.010518278994752115\n",
      "P[36, :] has 32 1s and 32 -1s.\n",
      "Pr(36) = 0.019763921127765427\n",
      "P[37, :] has 32 1s and 32 -1s.\n",
      "Pr(37) = 0.009813897215768363\n",
      "P[38, :] has 32 1s and 32 -1s.\n",
      "Pr(38) = 0.013808168754843546\n",
      "P[39, :] has 32 1s and 32 -1s.\n",
      "Pr(39) = 0.013680606870235324\n",
      "P[40, :] has 32 1s and 32 -1s.\n",
      "Pr(40) = 0.01649471766589028\n",
      "P[41, :] has 32 1s and 32 -1s.\n",
      "Pr(41) = 0.017753055428738854\n",
      "P[42, :] has 32 1s and 32 -1s.\n",
      "Pr(42) = 0.02158682144003848\n",
      "P[43, :] has 32 1s and 32 -1s.\n",
      "Pr(43) = 0.030121839882379535\n",
      "P[44, :] has 32 1s and 32 -1s.\n",
      "Pr(44) = 0.0355671760428449\n",
      "P[45, :] has 32 1s and 32 -1s.\n",
      "Pr(45) = 0.01285178088729558\n",
      "P[46, :] has 32 1s and 32 -1s.\n",
      "Pr(46) = 0.013657536151791782\n",
      "P[47, :] has 32 1s and 32 -1s.\n",
      "Pr(47) = 0.0133129605501134\n",
      "P[48, :] has 32 1s and 32 -1s.\n",
      "Pr(48) = 0.030587398735851\n",
      "P[49, :] has 32 1s and 32 -1s.\n",
      "Pr(49) = 0.041961548042701025\n",
      "P[50, :] has 32 1s and 32 -1s.\n",
      "Pr(50) = 0.02378614986164506\n",
      "P[51, :] has 32 1s and 32 -1s.\n",
      "Pr(51) = 0.011437570867810673\n",
      "P[52, :] has 32 1s and 32 -1s.\n",
      "Pr(52) = 0.012561740043335717\n",
      "P[53, :] has 32 1s and 32 -1s.\n",
      "Pr(53) = 0.007674053615542659\n",
      "P[54, :] has 32 1s and 32 -1s.\n",
      "Pr(54) = 0.01583073630020939\n",
      "P[55, :] has 32 1s and 32 -1s.\n",
      "Pr(55) = 0.021656039821670366\n",
      "P[56, :] has 32 1s and 32 -1s.\n",
      "Pr(56) = 0.023804660227072234\n",
      "P[57, :] has 32 1s and 32 -1s.\n",
      "Pr(57) = 0.01847755143998775\n",
      "P[58, :] has 32 1s and 32 -1s.\n",
      "Pr(58) = 0.012372069540359016\n",
      "P[59, :] has 32 1s and 32 -1s.\n",
      "Pr(59) = 0.01106506202025129\n",
      "P[60, :] has 32 1s and 32 -1s.\n",
      "Pr(60) = 0.014427730846963985\n",
      "P[61, :] has 32 1s and 32 -1s.\n",
      "Pr(61) = 0.006066637425479887\n",
      "P[62, :] has 32 1s and 32 -1s.\n",
      "Pr(62) = 0.007270494587761999\n",
      "P[63, :] has 32 1s and 32 -1s.\n",
      "Pr(63) = 0.028165791685558498\n",
      "Sum of all syndrome probabilities: 0.9999999999999999.\n"
     ]
    }
   ],
   "source": [
    "(U, GS) = GetRandFullUnitaryProcess(7)\n",
    "P = LoadProjector()\n",
    "SyndromeTest(GS, P)"
   ]
  },
  {
   "cell_type": "code",
   "execution_count": null,
   "metadata": {},
   "outputs": [],
   "source": [
    "kraus_dict = {0:(tuple(range(qcode.N)),[U])}"
   ]
  },
  {
   "cell_type": "code",
   "execution_count": null,
   "metadata": {},
   "outputs": [],
   "source": [
    "G_frontend = get_process_correlated(qcode, kraus_dict)"
   ]
  },
  {
   "cell_type": "code",
   "execution_count": null,
   "metadata": {},
   "outputs": [],
   "source": [
    "GS_frontend = G_frontend.reshape(256, 256)[:64, :64]"
   ]
  },
  {
   "cell_type": "code",
   "execution_count": null,
   "metadata": {},
   "outputs": [],
   "source": [
    "np.allclose(GS_frontend, GS)"
   ]
  },
  {
   "cell_type": "code",
   "execution_count": null,
   "metadata": {},
   "outputs": [],
   "source": [
    "np.allclose(np.dot(U, Dagger(U)), np.identity(2**7))"
   ]
  },
  {
   "cell_type": "code",
   "execution_count": null,
   "metadata": {},
   "outputs": [],
   "source": []
  }
 ],
 "metadata": {
  "kernelspec": {
   "display_name": "Python 3",
   "language": "python",
   "name": "python3"
  },
  "language_info": {
   "codemirror_mode": {
    "name": "ipython",
    "version": 3
   },
   "file_extension": ".py",
   "mimetype": "text/x-python",
   "name": "python",
   "nbconvert_exporter": "python",
   "pygments_lexer": "ipython3",
   "version": "3.7.1"
  }
 },
 "nbformat": 4,
 "nbformat_minor": 2
}
