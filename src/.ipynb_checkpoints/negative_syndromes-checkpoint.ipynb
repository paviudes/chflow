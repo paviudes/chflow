{
 "cells": [
  {
   "cell_type": "code",
   "execution_count": 10,
   "metadata": {},
   "outputs": [],
   "source": [
    "import numpy as np\n",
    "from define import qcode as qc\n",
    "from define import globalvars as gv\n",
    "from define.randchans import RandomUnitary\n",
    "from define.QECCLfid.utils import Dot, Dagger"
   ]
  },
  {
   "cell_type": "code",
   "execution_count": 2,
   "metadata": {},
   "outputs": [],
   "source": [
    "qcode = qc.QuantumErrorCorrectingCode(\"Steane\")\n",
    "qc.Load(qcode)"
   ]
  },
  {
   "cell_type": "code",
   "execution_count": 3,
   "metadata": {},
   "outputs": [],
   "source": [
    "# Pr(synd) = sum_s,s' GS_ss' P(synd)_s'"
   ]
  },
  {
   "cell_type": "code",
   "execution_count": 4,
   "metadata": {},
   "outputs": [],
   "source": [
    "def LoadChannel():\n",
    "    return np.loadtxt(\"./../input/debug_testing/physical.txt\").reshape(256, 256)\n",
    "def LoadProjector():\n",
    "    return np.loadtxt(\"./../input/debug_testing/SS.txt\").reshape(64, 64)"
   ]
  },
  {
   "cell_type": "code",
   "execution_count": 5,
   "metadata": {},
   "outputs": [],
   "source": [
    "def SyndromeTest(GS, P):\n",
    "    # Test if any syndrome probabilities are negative.\n",
    "    norm = 0\n",
    "    stop = 0\n",
    "    for synd in range(64):\n",
    "        Pr_s = 0\n",
    "        if stop == 0:\n",
    "            print(\"P[{}, :] has {} 1s and {} -1s.\".format(synd, np.count_nonzero(P[synd, :] == 1), np.count_nonzero(P[synd, :] == -1)))\n",
    "        Pr_s = np.sum(np.dot(GS, P[synd, :]))/64\n",
    "        norm = norm + Pr_s\n",
    "        if stop == 0:\n",
    "            print(\"Pr({}) = {}\".format(synd, Pr_s))\n",
    "        if Pr_s < 0:\n",
    "            stop = 1\n",
    "            print(\"Negative Pr(s) encountered.\")\n",
    "    print(\"Sum of all syndrome probabilities: {}.\".format(norm))\n",
    "    return None"
   ]
  },
  {
   "cell_type": "code",
   "execution_count": 6,
   "metadata": {},
   "outputs": [],
   "source": [
    "# We want to construct the S x S part of the process matrix for a random independent unitary channel.\n",
    "# G_ij = prod_q Tr[ U_q  (P_i)_q U^dag_q  (P_j)_q ]"
   ]
  },
  {
   "cell_type": "code",
   "execution_count": 16,
   "metadata": {},
   "outputs": [],
   "source": [
    "def GetRandUnitaryProcess(nq):\n",
    "    U = np.zeros((nq, 2, 2), dtype=np.complex128)\n",
    "    for q in range(nq):\n",
    "        U[q, :, :] = RandomUnitary(prox=0.1, dim=2)\n",
    "    S = qc.GenerateGroup(qcode.S)\n",
    "    GS = np.zeros((S.shape[0], S.shape[0]), dtype = np.double)\n",
    "    for i in range(S.shape[0]):\n",
    "        for j in range(S.shape[0]):\n",
    "            contrib = 1 + 0 * 1j\n",
    "            for q in range(nq):\n",
    "                contrib = contrib * np.trace(Dot(U[q, :, :], gv.Pauli[S[i, q], :, :], Dagger(U[q, :, :]), gv.Pauli[S[j, q], :, :]))\n",
    "            GS[i, j] = np.real(contrib)/np.power(2, nq)\n",
    "    return GS"
   ]
  },
  {
   "cell_type": "code",
   "execution_count": 8,
   "metadata": {},
   "outputs": [
    {
     "name": "stdout",
     "output_type": "stream",
     "text": [
      "P[0, :] has 64 1s and 0 -1s.\n",
      "Pr(0) = 0.017761668739342124\n",
      "P[1, :] has 32 1s and 32 -1s.\n",
      "Pr(1) = 0.029819225617637606\n",
      "P[2, :] has 32 1s and 32 -1s.\n",
      "Pr(2) = 0.01905007000606568\n",
      "P[3, :] has 32 1s and 32 -1s.\n",
      "Pr(3) = 0.01428886061133896\n",
      "P[4, :] has 32 1s and 32 -1s.\n",
      "Pr(4) = -0.00011155629058838372\n",
      "Negative Pr(s) encountered.\n",
      "Sum of all syndrome probabilities: 0.9999999999999996.\n"
     ]
    }
   ],
   "source": [
    "GS = LoadChannel()[:64, :64]\n",
    "P = LoadProjector()\n",
    "SyndromeTest(GS, P)"
   ]
  },
  {
   "cell_type": "code",
   "execution_count": 21,
   "metadata": {},
   "outputs": [
    {
     "name": "stdout",
     "output_type": "stream",
     "text": [
      "P[0, :] has 64 1s and 0 -1s.\n",
      "Pr(0) = 0.8948582415687351\n",
      "P[1, :] has 32 1s and 32 -1s.\n",
      "Pr(1) = 0.010721054150963222\n",
      "P[2, :] has 32 1s and 32 -1s.\n",
      "Pr(2) = 0.03070671339438824\n",
      "P[3, :] has 32 1s and 32 -1s.\n",
      "Pr(3) = 0.004082922464688388\n",
      "P[4, :] has 32 1s and 32 -1s.\n",
      "Pr(4) = 0.002512122528410432\n",
      "P[5, :] has 32 1s and 32 -1s.\n",
      "Pr(5) = 0.006774318488679182\n",
      "P[6, :] has 32 1s and 32 -1s.\n",
      "Pr(6) = 0.00023409731732307315\n",
      "P[7, :] has 32 1s and 32 -1s.\n",
      "Pr(7) = 0.003305722312695436\n",
      "P[8, :] has 32 1s and 32 -1s.\n",
      "Pr(8) = 1.70209925341204e-06\n",
      "P[9, :] has 32 1s and 32 -1s.\n",
      "Pr(9) = 0.0018141528053659782\n",
      "P[10, :] has 32 1s and 32 -1s.\n",
      "Pr(10) = 7.815124954126465e-06\n",
      "P[11, :] has 32 1s and 32 -1s.\n",
      "Pr(11) = 6.195144575134315e-05\n",
      "P[12, :] has 32 1s and 32 -1s.\n",
      "Pr(12) = 1.5368998176727017e-05\n",
      "P[13, :] has 32 1s and 32 -1s.\n",
      "Pr(13) = 4.783811773769256e-06\n",
      "P[14, :] has 32 1s and 32 -1s.\n",
      "Pr(14) = 6.264355250921311e-06\n",
      "P[15, :] has 32 1s and 32 -1s.\n",
      "Pr(15) = 5.19271198531554e-07\n",
      "P[16, :] has 32 1s and 32 -1s.\n",
      "Pr(16) = 1.0429720417350075e-07\n",
      "P[17, :] has 32 1s and 32 -1s.\n",
      "Pr(17) = 7.47887555878346e-09\n",
      "P[18, :] has 32 1s and 32 -1s.\n",
      "Pr(18) = 3.449702865325824e-06\n",
      "P[19, :] has 32 1s and 32 -1s.\n",
      "Pr(19) = 1.408101155640773e-08\n",
      "P[20, :] has 32 1s and 32 -1s.\n",
      "Pr(20) = 2.92425411177466e-08\n",
      "P[21, :] has 32 1s and 32 -1s.\n",
      "Pr(21) = 2.3045821726658255e-07\n",
      "P[22, :] has 32 1s and 32 -1s.\n",
      "Pr(22) = 2.9787062882577486e-07\n",
      "P[23, :] has 32 1s and 32 -1s.\n",
      "Pr(23) = 4.7612183059000945e-07\n",
      "P[24, :] has 32 1s and 32 -1s.\n",
      "Pr(24) = 1.6380910847907382e-07\n",
      "P[25, :] has 32 1s and 32 -1s.\n",
      "Pr(25) = 1.5415747673341168e-05\n",
      "P[26, :] has 32 1s and 32 -1s.\n",
      "Pr(26) = 5.421285295539174e-06\n",
      "P[27, :] has 32 1s and 32 -1s.\n",
      "Pr(27) = 0.00045120903483710645\n",
      "P[28, :] has 32 1s and 32 -1s.\n",
      "Pr(28) = 2.133069115542799e-06\n",
      "P[29, :] has 32 1s and 32 -1s.\n",
      "Pr(29) = 1.389203923164023e-07\n",
      "P[30, :] has 32 1s and 32 -1s.\n",
      "Pr(30) = 4.187491618087499e-06\n",
      "P[31, :] has 32 1s and 32 -1s.\n",
      "Pr(31) = 1.3536263904472684e-06\n",
      "P[32, :] has 32 1s and 32 -1s.\n",
      "Pr(32) = 1.3870874228227165e-06\n",
      "P[33, :] has 32 1s and 32 -1s.\n",
      "Pr(33) = 3.572706685500693e-05\n",
      "P[34, :] has 32 1s and 32 -1s.\n",
      "Pr(34) = 1.804987948992795e-06\n",
      "P[35, :] has 32 1s and 32 -1s.\n",
      "Pr(35) = 1.7359275839064908e-05\n",
      "P[36, :] has 32 1s and 32 -1s.\n",
      "Pr(36) = 0.004926603384480756\n",
      "P[37, :] has 32 1s and 32 -1s.\n",
      "Pr(37) = 5.83020390644666e-05\n",
      "P[38, :] has 32 1s and 32 -1s.\n",
      "Pr(38) = 0.00016796182302801672\n",
      "P[39, :] has 32 1s and 32 -1s.\n",
      "Pr(39) = 2.228280064209276e-05\n",
      "P[40, :] has 32 1s and 32 -1s.\n",
      "Pr(40) = 2.3830489228986174e-07\n",
      "P[41, :] has 32 1s and 32 -1s.\n",
      "Pr(41) = 1.2196999942577433e-05\n",
      "P[42, :] has 32 1s and 32 -1s.\n",
      "Pr(42) = 1.7565569914909304e-05\n",
      "P[43, :] has 32 1s and 32 -1s.\n",
      "Pr(43) = 1.5288596744138933e-06\n",
      "P[44, :] has 32 1s and 32 -1s.\n",
      "Pr(44) = 6.273752858130047e-05\n",
      "P[45, :] has 32 1s and 32 -1s.\n",
      "Pr(45) = 0.0051124724984137025\n",
      "P[46, :] has 32 1s and 32 -1s.\n",
      "Pr(46) = 2.303665955297879e-05\n",
      "P[47, :] has 32 1s and 32 -1s.\n",
      "Pr(47) = 0.00017478431344467027\n",
      "P[48, :] has 32 1s and 32 -1s.\n",
      "Pr(48) = 2.2612996825217835e-07\n",
      "P[49, :] has 32 1s and 32 -1s.\n",
      "Pr(49) = 5.402560109615123e-05\n",
      "P[50, :] has 32 1s and 32 -1s.\n",
      "Pr(50) = 3.97559705212127e-05\n",
      "P[51, :] has 32 1s and 32 -1s.\n",
      "Pr(51) = 0.00011264762928038519\n",
      "P[52, :] has 32 1s and 32 -1s.\n",
      "Pr(52) = 0.0005162084523405198\n",
      "P[53, :] has 32 1s and 32 -1s.\n",
      "Pr(53) = 6.76046941444821e-05\n",
      "P[54, :] has 32 1s and 32 -1s.\n",
      "Pr(54) = 0.01499367112642305\n",
      "P[55, :] has 32 1s and 32 -1s.\n",
      "Pr(55) = 0.00017936373292226117\n",
      "P[56, :] has 32 1s and 32 -1s.\n",
      "Pr(56) = 3.726152465825458e-06\n",
      "P[57, :] has 32 1s and 32 -1s.\n",
      "Pr(57) = 4.593982267984617e-06\n",
      "P[58, :] has 32 1s and 32 -1s.\n",
      "Pr(58) = 0.00012646882862065063\n",
      "P[59, :] has 32 1s and 32 -1s.\n",
      "Pr(59) = 4.26389886694304e-05\n",
      "P[60, :] has 32 1s and 32 -1s.\n",
      "Pr(60) = 8.028355783955103e-05\n",
      "P[61, :] has 32 1s and 32 -1s.\n",
      "Pr(61) = 0.0005726469504748807\n",
      "P[62, :] has 32 1s and 32 -1s.\n",
      "Pr(62) = 0.00020012101639628986\n",
      "P[63, :] has 32 1s and 32 -1s.\n",
      "Pr(63) = 0.016777645611657566\n",
      "Sum of all syndrome probabilities: 1.0.\n"
     ]
    }
   ],
   "source": [
    "GS = GetRandUnitaryProcess(7)\n",
    "P = LoadProjector()\n",
    "SyndromeTest(GS, P)"
   ]
  },
  {
   "cell_type": "code",
   "execution_count": null,
   "metadata": {},
   "outputs": [],
   "source": []
  }
 ],
 "metadata": {
  "kernelspec": {
   "display_name": "Python 3",
   "language": "python",
   "name": "python3"
  },
  "language_info": {
   "codemirror_mode": {
    "name": "ipython",
    "version": 3
   },
   "file_extension": ".py",
   "mimetype": "text/x-python",
   "name": "python",
   "nbconvert_exporter": "python",
   "pygments_lexer": "ipython3",
   "version": "3.7.5"
  }
 },
 "nbformat": 4,
 "nbformat_minor": 2
}
