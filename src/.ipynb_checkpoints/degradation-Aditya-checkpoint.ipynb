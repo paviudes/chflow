{
 "cells": [
  {
   "cell_type": "code",
   "execution_count": 6,
   "metadata": {},
   "outputs": [],
   "source": [
    "%matplotlib inline\n",
    "import numpy as np\n",
    "from matplotlib import pyplot as plt\n",
    "from matplotlib.colors import LogNorm\n",
    "from define.submission import Submission\n",
    "from define.load import LoadSub\n",
    "from define.fnames import PhysicalChannel, RawPhysicalChannel\n",
    "from define.genchans import PreparePhysicalChannels\n",
    "from define import qcode as qc\n",
    "from define.chanreps import ChangeOrdering,ConvertRepresentations"
   ]
  },
  {
   "cell_type": "code",
   "execution_count": 23,
   "metadata": {},
   "outputs": [],
   "source": [
    "def ProcessToChi(process):\n",
    "    chi = np.zeros_like(process, dtype = np.complex128)\n",
    "    q = 0\n",
    "    for p in process:\n",
    "        chi[q] = ConvertRepresentations(p, \"process\", \"chi\")\n",
    "        q+=1\n",
    "    return chi"
   ]
  },
  {
   "cell_type": "code",
   "execution_count": 11,
   "metadata": {},
   "outputs": [],
   "source": [
    "def GetPauliPhase(qcode):\n",
    "    nstabs = 2**(qcode.N - qcode.K)\n",
    "    ops_LST = qcode.PauliOperatorsLST\n",
    "    lookup = qcode.lookup.astype(int)\n",
    "    phases = np.ones(len(ops_LST), dtype = np.complex128)\n",
    "    prods = np.zeros(((len(ops_LST),qcode.N)),dtype=np.int)\n",
    "    for op_index in range(len(ops_LST)):\n",
    "        t_op = np.mod(op_index, nstabs)\n",
    "#         print(\"t_op : {} m1 : {} m2: {}\".format(t_op, lookup[:,2:][t_op], ops_LST[op_index]))\n",
    "        ( prods[op_index], phases[op_index]) = qc.PauliProduct(lookup[:,2:][t_op], ops_LST[op_index])\n",
    "    return prods, phases"
   ]
  },
  {
   "cell_type": "code",
   "execution_count": 3,
   "metadata": {},
   "outputs": [],
   "source": [
    "def Kron(*mats):\n",
    "    \"\"\"\n",
    "    Kronecker product of a list of matrices.\n",
    "    \"\"\"\n",
    "    if len(mats) <= 1:\n",
    "        return mats[0]\n",
    "    return np.kron(mats[0], Kron(*mats[1:]))"
   ]
  },
  {
   "cell_type": "code",
   "execution_count": 4,
   "metadata": {},
   "outputs": [],
   "source": [
    "def PLog(mat):\n",
    "    \"\"\"\n",
    "    Take a log where non-posvitive entries are set to 1 before applying the log function, so that they can be set to zero in the result.\n",
    "    \"\"\"\n",
    "    cutoff = 1E-6\n",
    "    mat = np.abs(mat)\n",
    "    mat[mat <= cutoff] = cutoff\n",
    "    return np.log10(mat)"
   ]
  },
  {
   "cell_type": "code",
   "execution_count": 36,
   "metadata": {},
   "outputs": [],
   "source": [
    "def LogicalInfidelity(chi, qcode, phases):\n",
    "    nstabs = 2**(qcode.N - qcode.K)\n",
    "    log_fid = 0\n",
    "    lexicographic = np.sum(np.power(4,np.arange(Paulis[0].size))[::-1] * Paulis,axis=1)\n",
    "    for t in range(nstabs):\n",
    "        for j in range(t*nstabs,(t+1)*nstabs):\n",
    "            indj = qcode.PauliCorrectableIndices[j]\n",
    "            lindj = lexicographic[j]\n",
    "            for k in range(t*nstabs,(t+1)*nstabs):\n",
    "                indk = qcode.PauliCorrectableIndices[k]\n",
    "                lindk = lexicographic[k]\n",
    "                term = chi[lindj,lindk] * phases[indj] * np.conj(phases[indk])\n",
    "                log_fid += term\n",
    "    return log_fid    "
   ]
  },
  {
   "cell_type": "code",
   "execution_count": 85,
   "metadata": {},
   "outputs": [],
   "source": [
    "submit = Submission()\n",
    "exists = LoadSub(submit, \"degradation\", 1, 0)\n",
    "process = np.reshape(np.load(PhysicalChannel(submit, submit.noiserates[0, :])), [7, 4, 4])\n",
    "chi = ProcessToChi(process)\n",
    "# chi = np.reshape(np.load(RawPhysicalChannel(submit, submit.noiserates[0, :])), [7, 4, 4])\n",
    "chi_tensored = Kron(*chi)"
   ]
  },
  {
   "cell_type": "code",
   "execution_count": 18,
   "metadata": {},
   "outputs": [],
   "source": [
    "qcode = qc.QuantumErrorCorrectingCode(\"Steane\")\n",
    "qc.Load(qcode)\n",
    "nstabs = 2**(qcode.N - qcode.K)\n",
    "prods, phases = GetPauliPhase(qcode)"
   ]
  },
  {
   "cell_type": "code",
   "execution_count": 86,
   "metadata": {},
   "outputs": [
    {
     "name": "stdout",
     "output_type": "stream",
     "text": [
      "log infid = (5.064408079680227e-05-3.51196156463688e-37j)\n"
     ]
    }
   ],
   "source": [
    "def ImpactOfRC(nqchi, qcode, phases)\n",
    "    # Logical infidelity for the non RC channel.\n",
    "    loginfid_noRC = LogicalInfidelity(nqchi_noRC, qcode, phases)\n",
    "    # Logical infidelity with RC.\n",
    "    nqchi_RC = np.zeros_like(nqchi_noRC)\n",
    "    for q in range(nqchi_RC.shape[0]):\n",
    "        nqchi_RC[q, :, :] = np.diag(np.diag(nqchi_noRC[q, :, :]))\n",
    "    loginfid_RC = LogicalInfidelity(nqchi_RC, qcode, phases)\n",
    "    impact = loginfid_RC - loginfid_noRC\n",
    "    return impact"
   ]
  },
  {
   "cell_type": "code",
   "execution_count": 17,
   "metadata": {},
   "outputs": [
    {
     "name": "stdout",
     "output_type": "stream",
     "text": [
      "True\n"
     ]
    },
    {
     "name": "stderr",
     "output_type": "stream",
     "text": [
      "/home/oem/anaconda3/lib/python3.8/site-packages/qutip/qobj.py:530: UserWarning: Multiplying superoperators with different representations\n",
      "  warnings.warn(msg)\n",
      "/home/oem/anaconda3/lib/python3.8/site-packages/qutip/qobj.py:530: UserWarning: Multiplying superoperators with different representations\n",
      "  warnings.warn(msg)\n"
     ]
    }
   ],
   "source": [
    "# Check if chi is tensorable\n",
    "import qutip as qt\n",
    "chi1  = qt.Qobj(chi[2], type = \"super\")\n",
    "liou1 = qt.choi_to_super(qt.chi_to_choi(chi1))\n",
    "chi2  = qt.Qobj(chi[3], type = \"super\")\n",
    "liou2 = qt.choi_to_super(qt.chi_to_choi(chi2))\n",
    "chi12 = qt.to_chi(qt.super_tensor(liou1,liou2))\n",
    "print(np.allclose(chi12.full(), np.kron(chi1,chi2)))"
   ]
  },
  {
   "cell_type": "code",
   "execution_count": 84,
   "metadata": {},
   "outputs": [
    {
     "data": {
      "text/plain": [
       "array([[ 9.96493248e-01,  0.00000000e+00,  1.08420217e-19,\n",
       "         0.00000000e+00],\n",
       "       [ 0.00000000e+00,  2.86979940e-06, -3.27486441e-05,\n",
       "         9.47785076e-05],\n",
       "       [ 1.08420217e-19, -3.27486441e-05,  3.73710335e-04,\n",
       "        -1.08156257e-03],\n",
       "       [ 0.00000000e+00,  9.47785076e-05, -1.08156257e-03,\n",
       "         3.13017193e-03]])"
      ]
     },
     "execution_count": 84,
     "metadata": {},
     "output_type": "execute_result"
    }
   ],
   "source": [
    "chi[0]"
   ]
  },
  {
   "cell_type": "code",
   "execution_count": 44,
   "metadata": {},
   "outputs": [],
   "source": [
    "correctable_lex = ConvertBase4to10(qcode.Paulis_correctable)"
   ]
  },
  {
   "cell_type": "code",
   "execution_count": 30,
   "metadata": {},
   "outputs": [
    {
     "data": {
      "text/plain": [
       "array([0, 0, 0, 2, 0, 2, 2])"
      ]
     },
     "execution_count": 30,
     "metadata": {},
     "output_type": "execute_result"
    }
   ],
   "source": [
    "qcode.Paulis_correctable[-1]"
   ]
  },
  {
   "cell_type": "code",
   "execution_count": 31,
   "metadata": {},
   "outputs": [
    {
     "data": {
      "text/plain": [
       "array([  0,  64, 128, ..., 383, 447, 511])"
      ]
     },
     "execution_count": 31,
     "metadata": {},
     "output_type": "execute_result"
    }
   ],
   "source": [
    "qcode.PauliCorrectableIndices"
   ]
  },
  {
   "cell_type": "code",
   "execution_count": 77,
   "metadata": {},
   "outputs": [],
   "source": [
    "(r,c) = np.where(np.abs(chi_tensored) > 1e-6)"
   ]
  },
  {
   "cell_type": "code",
   "execution_count": 78,
   "metadata": {},
   "outputs": [
    {
     "name": "stdout",
     "output_type": "stream",
     "text": [
      "0\n"
     ]
    }
   ],
   "source": [
    "off_diag = 0\n",
    "for i in range(len(r)) :\n",
    "    row = r[i]\n",
    "    col = c[i]\n",
    "    if (row in correctable_lex) and (col in correctable_lex) and row != col:\n",
    "        row_pos = np.where(correctable_lex == row)[0][0]\n",
    "        col_pos = np.where(correctable_lex == col)[0][0]\n",
    "        lst_row = qcode.PauliCorrectableIndices[row_pos]\n",
    "        lst_col = qcode.PauliCorrectableIndices[col_pos]\n",
    "        if np.mod(lst_row,64) == np.mod(lst_col,64):\n",
    "            print(row,col,lst_row,lst_col,chi_tensored[row,col], phases[lst_row], np.conj(phases[lst_col]))\n",
    "            off_diag += chi_tensored[row,col] * phases[lst_row] * np.conj(phases[lst_col])\n",
    "print(off_diag)"
   ]
  },
  {
   "cell_type": "code",
   "execution_count": 52,
   "metadata": {},
   "outputs": [
    {
     "data": {
      "text/plain": [
       "4"
      ]
     },
     "execution_count": 52,
     "metadata": {},
     "output_type": "execute_result"
    }
   ],
   "source": [
    "qcode.PauliCorrectableIndices[np.where(correctable_lex == 64)[0][0]]"
   ]
  },
  {
   "cell_type": "code",
   "execution_count": 50,
   "metadata": {},
   "outputs": [
    {
     "data": {
      "text/plain": [
       "64"
      ]
     },
     "execution_count": 50,
     "metadata": {},
     "output_type": "execute_result"
    }
   ],
   "source": [
    "correctable_lex[256]"
   ]
  },
  {
   "cell_type": "code",
   "execution_count": 66,
   "metadata": {},
   "outputs": [
    {
     "data": {
      "text/plain": [
       "1.0044020861499836"
      ]
     },
     "execution_count": 66,
     "metadata": {},
     "output_type": "execute_result"
    }
   ],
   "source": [
    "(1-0.000131031) + 0.004533117149983674"
   ]
  },
  {
   "cell_type": "code",
   "execution_count": null,
   "metadata": {},
   "outputs": [],
   "source": []
  }
 ],
 "metadata": {
  "kernelspec": {
   "display_name": "Python 3",
   "language": "python",
   "name": "python3"
  },
  "language_info": {
   "codemirror_mode": {
    "name": "ipython",
    "version": 3
   },
   "file_extension": ".py",
   "mimetype": "text/x-python",
   "name": "python",
   "nbconvert_exporter": "python",
   "pygments_lexer": "ipython3",
   "version": "3.7.1"
  }
 },
 "nbformat": 4,
 "nbformat_minor": 2
}
