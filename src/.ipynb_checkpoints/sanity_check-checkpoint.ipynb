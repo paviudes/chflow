{
 "cells": [
  {
   "cell_type": "code",
   "execution_count": null,
   "metadata": {},
   "outputs": [],
   "source": [
    "from define import chandefs as chdef\n",
    "from define import chanreps as chrep"
   ]
  },
  {
   "cell_type": "code",
   "execution_count": null,
   "metadata": {},
   "outputs": [],
   "source": [
    "# Random channel in its Kraus representation\n",
    "kraus = chdef.GetKrausForChannel(\"rand\", 0.2)\n",
    "print(kraus)"
   ]
  },
  {
   "cell_type": "code",
   "execution_count": null,
   "metadata": {},
   "outputs": [],
   "source": [
    "# Converting the Kraus to Pauli transfer matrix\n",
    "ptm = chrep.ConvertRepresentation(kraus, \"krauss\", \"process\")\n",
    "print(ptm)"
   ]
  },
  {
   "cell_type": "code",
   "execution_count": null,
   "metadata": {},
   "outputs": [],
   "source": [
    "# Converting to Choi\n",
    "choi = chrep.ConvertRepresentation(kraus, \"krauss\", \"choi\")\n",
    "# and then from Choi to Pauli transfer matrix\n",
    "ptm_from_choi = chrep.ConvertRepresentation(kraus, \"choi\", \"process\")\n",
    "print(ptm_from_choi)"
   ]
  }
 ],
 "metadata": {
  "kernelspec": {
   "display_name": "Python 3",
   "language": "python",
   "name": "python3"
  },
  "language_info": {
   "codemirror_mode": {
    "name": "ipython",
    "version": 3
   },
   "file_extension": ".py",
   "mimetype": "text/x-python",
   "name": "python",
   "nbconvert_exporter": "python",
   "pygments_lexer": "ipython3",
   "version": "3.7.1"
  }
 },
 "nbformat": 4,
 "nbformat_minor": 2
}
