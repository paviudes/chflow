{
 "cells": [
  {
   "cell_type": "code",
   "execution_count": null,
   "metadata": {},
   "outputs": [],
   "source": [
    "from define import chandefs as chdef\n",
    "from define import chanreps as chrep"
   ]
  },
  {
   "cell_type": "code",
   "execution_count": null,
   "metadata": {},
   "outputs": [],
   "source": [
    "# chi_from_file = np.load(\"/Users/pavi/Documents/chbank/20_05_2020_11_07_46/physical/raw_up_6.5.npy\")[1,:].reshape([4,4])\n",
    "# ptm_from_file = np.load(\"/Users/pavi/Documents/chbank/20_05_2020_11_07_46/physical/up_6.5.npy\")[1,:].reshape([4,4])\n",
    "# np.save(\"/Users/pavi/Documents/chbank/20_05_2020_11_41_03/physical/pauli_0.929172_0.0218562_0.0307083_0.0182633.npy.npy\", ptm_from_file.ravel()[np.newaxis,:])"
   ]
  },
  {
   "cell_type": "code",
   "execution_count": null,
   "metadata": {},
   "outputs": [],
   "source": [
    "# Random channel in its Kraus representation\n",
    "kraus = chdef.GetKraussForChannel(\"rand\", 0.7)\n",
    "print(kraus)"
   ]
  },
  {
   "cell_type": "code",
   "execution_count": null,
   "metadata": {},
   "outputs": [],
   "source": [
    "# Converting the Kraus to Pauli transfer matrix\n",
    "ptm_from_kraus = chrep.ConvertRepresentations(kraus, \"krauss\", \"process\")\n",
    "print(ptm_from_kraus)"
   ]
  },
  {
   "cell_type": "code",
   "execution_count": null,
   "metadata": {},
   "outputs": [],
   "source": [
    "# Converting to Choi\n",
    "choi = chrep.ConvertRepresentations(kraus, \"krauss\", \"choi\")\n",
    "# and then from Choi to Pauli transfer matrix\n",
    "ptm_from_choi = chrep.ConvertRepresentations(choi, \"choi\", \"process\")\n",
    "print(ptm_from_choi)"
   ]
  },
  {
   "cell_type": "code",
   "execution_count": null,
   "metadata": {},
   "outputs": [],
   "source": [
    "# Norm of the difference of the matrices obtained by two different methods\n",
    "print(np.linalg.norm(ptm_from_choi - ptm_from_kraus))"
   ]
  },
  {
   "cell_type": "markdown",
   "metadata": {},
   "source": [
    "Matching the outputs of dnorm in chflow and qutip."
   ]
  },
  {
   "cell_type": "code",
   "execution_count": null,
   "metadata": {},
   "outputs": [],
   "source": [
    "import numpy as np\n",
    "import qutip as qt\n",
    "import cvxopt as cvx\n",
    "import picos as pic"
   ]
  },
  {
   "cell_type": "code",
   "execution_count": null,
   "metadata": {},
   "outputs": [],
   "source": [
    "def DiamondNorm(choi):\n",
    "    # computes the diamond norm of the difference between an input Channel and another reference channel, which is by default, the identity channel\n",
    "    # The semidefinite program outlined in Sec. 4 of DOI: 10.4086/toc.2009.v005a011 is used here.\n",
    "    # See also: https://github.com/BBN-Q/matlab-diamond-norm/blob/master/src/dnorm.m\n",
    "    # For some known types of channels, the Diamond norm can be computed efficiently\n",
    "    # print(\"Function: dnorm\")\n",
    "    bell = np.zeros((4,4),dtype=np.complex128)\n",
    "    bell[0,0]=0.5\n",
    "    bell[0,3]=0.5\n",
    "    bell[3,0]=0.5\n",
    "    bell[3,3]=0.5\n",
    "    diff = np.real((choi - bell + choi.conj().T - bell.conj().T))/2\n",
    "    #### picos optimization problem\n",
    "    prob = pic.Problem()\n",
    "    # variables and parameters in the problem\n",
    "    J = pic.Constant(\"J\", cvx.matrix(diff))\n",
    "    Z = pic.Constant(\"Z\", value=0, shape=(2,2))\n",
    "    rho = pic.HermitianVariable(\"rho\", (2, 2))\n",
    "    W = pic.HermitianVariable(\"W\", (4, 4))\n",
    "    # objective function (maximize the hilbert schmidt inner product -- denoted by '|'. Here A|B means trace(A^\\dagger * B))\n",
    "    prob.set_objective(\"max\", J | W)\n",
    "    # adding the constraints\n",
    "    prob.add_constraint(W >> 0)\n",
    "    prob.add_constraint(rho >> 0)\n",
    "    prob.add_constraint((\"I\" | rho) == 1)\n",
    "    prob.add_constraint((W - ((rho & Z) // (Z & rho))) << 0)\n",
    "    # solving the problem\n",
    "    prob.solve(verbosity=0, max_iterations=500)\n",
    "    dnorm = np.double(prob) * 2\n",
    "    # print(\"SDP dnorm = %.4e\" % (dnorm))\n",
    "    return dnorm"
   ]
  },
  {
   "cell_type": "code",
   "execution_count": null,
   "metadata": {},
   "outputs": [],
   "source": [
    "channel = qt.rand_super(2)\n",
    "choi_obj = qt.to_choi(channel)\n",
    "choi_mat = choi_obj.full()/2\n",
    "print(\"Random channel:\\n{}\".format(np.round(choi_mat,2)))"
   ]
  },
  {
   "cell_type": "code",
   "execution_count": null,
   "metadata": {},
   "outputs": [],
   "source": [
    "isherm = np.round(choi_mat - choi_mat.T.conj(),2)\n",
    "isuntr = np.round(np.trace(choi_mat),2)\n",
    "eigvals = np.round(np.linalg.eigvals(choi_mat),2)\n",
    "print(\"R - R^\\dag = {}\\nTrace(R) = {}\\nEigenvalues = {}\".format(isherm, isuntr, eigvals))"
   ]
  },
  {
   "cell_type": "code",
   "execution_count": null,
   "metadata": {},
   "outputs": [],
   "source": [
    "qutip_dnorm = qt.dnorm(choi_obj)"
   ]
  },
  {
   "cell_type": "code",
   "execution_count": null,
   "metadata": {},
   "outputs": [],
   "source": [
    "chflow_dnorm = DiamondNorm(choi_mat)"
   ]
  },
  {
   "cell_type": "code",
   "execution_count": null,
   "metadata": {},
   "outputs": [],
   "source": [
    "print(\"qutip: {}, chflow = {}. Difference = {}.\".format(qutip_dnorm, chflow_dnorm, abs(qutip_dnorm - chflow_dnorm)))"
   ]
  },
  {
   "cell_type": "code",
   "execution_count": 1,
   "metadata": {},
   "outputs": [],
   "source": [
    "import numpy as np\n",
    "from define import qcode as qc\n",
    "from define import chanreps as chrep\n",
    "from define import globalvars as gv"
   ]
  },
  {
   "cell_type": "code",
   "execution_count": 2,
   "metadata": {},
   "outputs": [],
   "source": [
    "qcode = qc.QuantumErrorCorrectingCode(\"Steane\")\n",
    "qc.Load(qcode)\n",
    "G = qc.GenerateGroup(qcode.S)"
   ]
  },
  {
   "cell_type": "code",
   "execution_count": 3,
   "metadata": {},
   "outputs": [],
   "source": [
    "# chi_from_file = np.load(\"/Users/pavi/Documents/chbank/20_05_2020_14_05_10/physical/raw_up_6.5.npy\")[1,:].reshape([4,4])\n",
    "ptm_from_file = np.load(\"/Users/pavi/Documents/chbank/20_05_2020_14_05_10/physical/up_7.7.npy\")[9,:].reshape([4,4])\n",
    "# np.save(\"/Users/pavi/Documents/chbank/20_05_2020_11_41_03/physical/pauli_0.929172_0.0218562_0.0307083_0.0182633.npy.npy\", ptm_from_file.ravel()[np.newaxis,:])"
   ]
  },
  {
   "cell_type": "code",
   "execution_count": 4,
   "metadata": {},
   "outputs": [
    {
     "name": "stdout",
     "output_type": "stream",
     "text": [
      "S\n",
      "[[1 1 1 1 0 0 0]\n",
      " [1 1 0 0 1 1 0]\n",
      " [1 0 1 0 1 0 1]\n",
      " [3 3 3 3 0 0 0]\n",
      " [3 3 0 0 3 3 0]\n",
      " [3 0 3 0 3 0 3]]\n",
      "L\n",
      "[[0 0 0 0 1 1 1]\n",
      " [0 0 0 0 3 3 3]]\n",
      "T\n",
      "[[3 3 3 0 0 0 0]\n",
      " [3 0 3 0 0 0 0]\n",
      " [3 3 0 0 0 0 0]\n",
      " [0 0 0 1 0 0 0]\n",
      " [0 0 0 0 1 0 1]\n",
      " [0 0 0 0 1 1 0]]\n"
     ]
    }
   ],
   "source": [
    "print(\"S\\n{}\\nL\\n{}\\nT\\n{}\".format(qcode.S,qcode.L,qcode.T))"
   ]
  },
  {
   "cell_type": "code",
   "execution_count": 5,
   "metadata": {},
   "outputs": [
    {
     "data": {
      "text/plain": [
       "array([[1.        , 0.        , 0.        , 0.        ],\n",
       "       [0.        , 0.99516301, 0.        , 0.        ],\n",
       "       [0.        , 0.        , 0.90492589, 0.        ],\n",
       "       [0.        , 0.        , 0.        , 0.90354471]])"
      ]
     },
     "execution_count": 5,
     "metadata": {},
     "output_type": "execute_result"
    }
   ],
   "source": [
    "ptm_from_file"
   ]
  },
  {
   "cell_type": "code",
   "execution_count": 6,
   "metadata": {},
   "outputs": [],
   "source": [
    "C=chrep.ConvertRepresentations(ptm_from_file, \"process\", \"chi\")"
   ]
  },
  {
   "cell_type": "code",
   "execution_count": 7,
   "metadata": {},
   "outputs": [
    {
     "name": "stdout",
     "output_type": "stream",
     "text": [
      "Single qubit probabilities\n",
      "[[9.50908403e-01 4.66731035e-02 1.55454154e-03 8.63951757e-04]\n",
      " [9.50908403e-01 4.66731035e-02 1.55454154e-03 8.63951757e-04]\n",
      " [9.50908403e-01 4.66731035e-02 1.55454154e-03 8.63951757e-04]\n",
      " [9.50908403e-01 4.66731035e-02 1.55454154e-03 8.63951757e-04]\n",
      " [9.50908403e-01 4.66731035e-02 1.55454154e-03 8.63951757e-04]\n",
      " [9.50908403e-01 4.66731035e-02 1.55454154e-03 8.63951757e-04]\n",
      " [9.50908403e-01 4.66731035e-02 1.55454154e-03 8.63951757e-04]]\n",
      "Sum\n",
      "[1. 1. 1. 1. 1. 1. 1.]\n"
     ]
    }
   ],
   "source": [
    "single_probs = np.tile(np.real(np.diag(C)),[qcode.N,1])\n",
    "print(\"Single qubit probabilities\\n{}\\nSum\\n{}\".format(single_probs,np.sum(single_probs, axis=1)))"
   ]
  },
  {
   "cell_type": "code",
   "execution_count": 8,
   "metadata": {},
   "outputs": [
    {
     "data": {
      "text/plain": [
       "0.9999999999999996"
      ]
     },
     "execution_count": 8,
     "metadata": {},
     "output_type": "execute_result"
    }
   ],
   "source": [
    "pauliprobs = np.array([np.prod([single_probs[q,qcode.PauliOperatorsLST[p,q]] for q in range(qcode.N)]) for p in range(qcode.PauliOperatorsLST.shape[0])], dtype = np.double)\n",
    "np.sum(pauliprobs)"
   ]
  },
  {
   "cell_type": "code",
   "execution_count": 9,
   "metadata": {},
   "outputs": [],
   "source": [
    "logidx=1\n",
    "ptm = np.zeros(4*2**(qcode.N-qcode.K),dtype=np.double)\n",
    "chrep.GetTransferMatrixElements(logidx, pauliprobs, qcode, ptm)"
   ]
  },
  {
   "cell_type": "code",
   "execution_count": 15,
   "metadata": {},
   "outputs": [],
   "source": [
    "# Construct full process matrix for a channel, given its normalizer\n",
    "nstabs = 2**(qcode.N-qcode.K)\n",
    "processes = np.tile(ptm_from_file, [qcode.N,1,1])\n",
    "full_process = np.zeros((nstabs, nstabs), dtype=np.double)\n",
    "for s in range(nstabs):\n",
    "    full_process[s, s] = np.real(qcode.normphases[logidx,s] * qcode.normphases[logidx,s]) * np.prod([processes[q, qcode.normalizer[logidx,s,q], qcode.normalizer[logidx,s,q]] for q in range(qcode.N)])"
   ]
  },
  {
   "cell_type": "code",
   "execution_count": 16,
   "metadata": {},
   "outputs": [],
   "source": [
    "c_code = [dg for dg in np.diag(full_process)]\n",
    "p_code = [ptm[i] for i in range(logidx*2**(qcode.N-qcode.K), (logidx+1)*2**(qcode.N-qcode.K))]"
   ]
  },
  {
   "cell_type": "code",
   "execution_count": 21,
   "metadata": {},
   "outputs": [
    {
     "data": {
      "text/plain": [
       "array([ 0.2479115 , -0.07234451, -0.07234451, -0.07234451,  0.16523242,\n",
       "       -0.07234451, -0.07234451, -0.07234451,  0.25279511, -0.0674609 ,\n",
       "       -0.0674609 , -0.0674609 ,  0.1706497 , -0.06660608, -0.0674609 ,\n",
       "       -0.0674609 ,  0.25279511, -0.0674609 , -0.0674609 , -0.0674609 ,\n",
       "        0.1706497 , -0.0674609 , -0.06660608, -0.0674609 ,  0.25279511,\n",
       "       -0.0674609 , -0.0674609 , -0.0674609 ,  0.1706497 , -0.0674609 ,\n",
       "       -0.0674609 , -0.06660608,  0.24314961, -0.07186555, -0.07186555,\n",
       "       -0.07186555,  0.16624505, -0.07186555, -0.07186555, -0.07186555,\n",
       "        0.25279511, -0.06660608, -0.0674609 , -0.0674609 ,  0.1706497 ,\n",
       "       -0.0674609 , -0.0674609 , -0.0674609 ,  0.25279511, -0.0674609 ,\n",
       "       -0.06660608, -0.0674609 ,  0.1706497 , -0.0674609 , -0.0674609 ,\n",
       "       -0.0674609 ,  0.25279511, -0.0674609 , -0.0674609 , -0.06660608,\n",
       "        0.1706497 , -0.0674609 , -0.0674609 , -0.0674609 ])"
      ]
     },
     "execution_count": 21,
     "metadata": {},
     "output_type": "execute_result"
    }
   ],
   "source": [
    "# p_code - c_code\n",
    "np.diag(full_process)-ptm[range(logidx*2**(qcode.N-qcode.K), (logidx+1)*2**(qcode.N-qcode.K))]"
   ]
  }
 ],
 "metadata": {
  "kernelspec": {
   "display_name": "Python 3",
   "language": "python",
   "name": "python3"
  },
  "language_info": {
   "codemirror_mode": {
    "name": "ipython",
    "version": 3
   },
   "file_extension": ".py",
   "mimetype": "text/x-python",
   "name": "python",
   "nbconvert_exporter": "python",
   "pygments_lexer": "ipython3",
   "version": "3.7.1"
  }
 },
 "nbformat": 4,
 "nbformat_minor": 2
}
