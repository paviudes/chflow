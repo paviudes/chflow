{
 "cells": [
  {
   "cell_type": "code",
   "execution_count": 1,
   "metadata": {},
   "outputs": [],
   "source": [
    "from define import chandefs as chdef\n",
    "from define import chanreps as chrep\n",
    "import numpy as np"
   ]
  },
  {
   "cell_type": "code",
   "execution_count": 5,
   "metadata": {},
   "outputs": [
    {
     "name": "stdout",
     "output_type": "stream",
     "text": [
      "[[[-0.45544311+0.12258046j  0.40162103-0.36086736j]\n",
      "  [ 0.04037302+0.01593555j -0.20989542-0.20152768j]]\n",
      "\n",
      " [[ 0.36154309+0.03700192j -0.06224849+0.17412533j]\n",
      "  [-0.48102666-0.02315945j -0.28602081+0.35902584j]]\n",
      "\n",
      " [[ 0.10907703-0.08342617j  0.39170852-0.07613958j]\n",
      "  [ 0.05598347+0.01154091j  0.06929889-0.38803984j]]\n",
      "\n",
      " [[-0.06064779-0.46813059j -0.01204722-0.23781109j]\n",
      "  [ 0.1310222 +0.38670381j -0.01143534-0.08639316j]]]\n"
     ]
    }
   ],
   "source": [
    "# Random channel in its Kraus representation\n",
    "kraus = chdef.GetKraussForChannel(\"rand\", 0.7)\n",
    "print(kraus)"
   ]
  },
  {
   "cell_type": "code",
   "execution_count": null,
   "metadata": {},
   "outputs": [],
   "source": [
    "# Converting the Kraus to Pauli transfer matrix\n",
    "ptm_from_kraus = chrep.ConvertRepresentations(kraus, \"krauss\", \"process\")\n",
    "print(ptm_from_kraus)"
   ]
  },
  {
   "cell_type": "code",
   "execution_count": null,
   "metadata": {},
   "outputs": [],
   "source": [
    "# Converting to Choi\n",
    "choi = chrep.ConvertRepresentations(kraus, \"krauss\", \"choi\")\n",
    "# and then from Choi to Pauli transfer matrix\n",
    "ptm_from_choi = chrep.ConvertRepresentations(choi, \"choi\", \"process\")\n",
    "print(ptm_from_choi)"
   ]
  },
  {
   "cell_type": "code",
   "execution_count": null,
   "metadata": {},
   "outputs": [],
   "source": [
    "# Norm of the difference of the matrices obtained by two different methods\n",
    "print(np.linalg.norm(ptm_from_choi - ptm_from_kraus))"
   ]
  },
  {
   "cell_type": "markdown",
   "metadata": {},
   "source": [
    "Matching the outputs of dnorm in chflow and qutip."
   ]
  },
  {
   "cell_type": "code",
   "execution_count": 1,
   "metadata": {},
   "outputs": [],
   "source": [
    "import numpy as np\n",
    "import qutip as qt\n",
    "from define import metrics as ml"
   ]
  },
  {
   "cell_type": "code",
   "execution_count": 9,
   "metadata": {},
   "outputs": [],
   "source": [
    "channel = qt.rand_super(2)\n",
    "choi_obj = qt.to_choi(channel)\n",
    "choi_mat = choi_obj.full()/2"
   ]
  },
  {
   "cell_type": "code",
   "execution_count": 11,
   "metadata": {},
   "outputs": [
    {
     "name": "stdout",
     "output_type": "stream",
     "text": [
      "Random channel:\n",
      "[[ 0.36+0.j   -0.01+0.01j  0.01+0.01j  0.27+0.02j]\n",
      " [-0.01-0.01j  0.14+0.j    0.  -0.j   -0.01-0.01j]\n",
      " [ 0.01-0.01j  0.  +0.j    0.14+0.j    0.01-0.01j]\n",
      " [ 0.27-0.02j -0.01+0.01j  0.01+0.01j  0.36+0.j  ]]\n"
     ]
    }
   ],
   "source": [
    "print(\"Random channel:\\n{}\".format(np.round(choi_mat,2)))"
   ]
  },
  {
   "cell_type": "code",
   "execution_count": 14,
   "metadata": {},
   "outputs": [],
   "source": [
    "isherm = np.round(choi_mat - choi_mat.T.conj(),2)\n",
    "isuntr = np.round(np.trace(choi_mat),2)\n",
    "eigvals = np.round(np.linalg.eigvals(choi_mat),2)"
   ]
  },
  {
   "cell_type": "code",
   "execution_count": 15,
   "metadata": {},
   "outputs": [
    {
     "name": "stdout",
     "output_type": "stream",
     "text": [
      "R - R^\\dag = [[ 0.+0.j  0.+0.j -0.+0.j -0.-0.j]\n",
      " [ 0.+0.j  0.+0.j  0.-0.j  0.+0.j]\n",
      " [ 0.+0.j  0.-0.j  0.+0.j  0.+0.j]\n",
      " [ 0.-0.j -0.+0.j  0.+0.j  0.+0.j]]\n",
      "Trace(R) = (1+0j)\n",
      "Eigenvalues = [0.63-0.j 0.09-0.j 0.14+0.j 0.14-0.j]\n"
     ]
    }
   ],
   "source": [
    "print(\"R - R^\\dag = {}\\nTrace(R) = {}\\nEigenvalues = {}\".format(isherm, isuntr, eigvals))"
   ]
  },
  {
   "cell_type": "code",
   "execution_count": 16,
   "metadata": {},
   "outputs": [
    {
     "ename": "ImportError",
     "evalue": "dnorm() requires CVXPY to be installed.",
     "output_type": "error",
     "traceback": [
      "\u001b[1;31m---------------------------------------------------------------------------\u001b[0m",
      "\u001b[1;31mImportError\u001b[0m                               Traceback (most recent call last)",
      "\u001b[1;32m<ipython-input-16-8c084a622430>\u001b[0m in \u001b[0;36m<module>\u001b[1;34m\u001b[0m\n\u001b[1;32m----> 1\u001b[1;33m \u001b[0mqutip_dnorm\u001b[0m \u001b[1;33m=\u001b[0m \u001b[0mqt\u001b[0m\u001b[1;33m.\u001b[0m\u001b[0mdnorm\u001b[0m\u001b[1;33m(\u001b[0m\u001b[0mchoi_obj\u001b[0m\u001b[1;33m)\u001b[0m\u001b[1;33m\u001b[0m\u001b[1;33m\u001b[0m\u001b[0m\n\u001b[0m",
      "\u001b[1;32mC:\\ProgramData\\Anaconda3\\lib\\site-packages\\qutip\\metrics.py\u001b[0m in \u001b[0;36mdnorm\u001b[1;34m(A, B, solver, verbose, force_solve)\u001b[0m\n\u001b[0;32m    388\u001b[0m     \"\"\"\n\u001b[0;32m    389\u001b[0m     \u001b[1;32mif\u001b[0m \u001b[0mcvxpy\u001b[0m \u001b[1;32mis\u001b[0m \u001b[1;32mNone\u001b[0m\u001b[1;33m:\u001b[0m  \u001b[1;31m# pragma: no cover\u001b[0m\u001b[1;33m\u001b[0m\u001b[1;33m\u001b[0m\u001b[0m\n\u001b[1;32m--> 390\u001b[1;33m         \u001b[1;32mraise\u001b[0m \u001b[0mImportError\u001b[0m\u001b[1;33m(\u001b[0m\u001b[1;34m\"dnorm() requires CVXPY to be installed.\"\u001b[0m\u001b[1;33m)\u001b[0m\u001b[1;33m\u001b[0m\u001b[1;33m\u001b[0m\u001b[0m\n\u001b[0m\u001b[0;32m    391\u001b[0m \u001b[1;33m\u001b[0m\u001b[0m\n\u001b[0;32m    392\u001b[0m     \u001b[1;31m# We follow the strategy of using Watrous' simpler semidefinite\u001b[0m\u001b[1;33m\u001b[0m\u001b[1;33m\u001b[0m\u001b[1;33m\u001b[0m\u001b[0m\n",
      "\u001b[1;31mImportError\u001b[0m: dnorm() requires CVXPY to be installed."
     ]
    }
   ],
   "source": [
    "qutip_dnorm = qt.dnorm(choi_obj)"
   ]
  },
  {
   "cell_type": "code",
   "execution_count": 9,
   "metadata": {},
   "outputs": [
    {
     "ename": "NameError",
     "evalue": "name 'ml' is not defined",
     "output_type": "error",
     "traceback": [
      "\u001b[1;31m---------------------------------------------------------------------------\u001b[0m",
      "\u001b[1;31mNameError\u001b[0m                                 Traceback (most recent call last)",
      "\u001b[1;32m<ipython-input-9-82ff3e692266>\u001b[0m in \u001b[0;36m<module>\u001b[1;34m\u001b[0m\n\u001b[1;32m----> 1\u001b[1;33m \u001b[0mchflow_dnorm\u001b[0m \u001b[1;33m=\u001b[0m \u001b[0mml\u001b[0m\u001b[1;33m.\u001b[0m\u001b[0mDiamondNorm\u001b[0m\u001b[1;33m(\u001b[0m\u001b[0mchoi_mat\u001b[0m\u001b[1;33m,\u001b[0m \u001b[1;33m{\u001b[0m\u001b[1;34m\"chType\"\u001b[0m\u001b[1;33m:\u001b[0m \u001b[1;34m\"physical\"\u001b[0m\u001b[1;33m,\u001b[0m \u001b[1;34m\"corr\"\u001b[0m\u001b[1;33m:\u001b[0m\u001b[1;36m0\u001b[0m\u001b[1;33m}\u001b[0m\u001b[1;33m)\u001b[0m\u001b[1;33m\u001b[0m\u001b[1;33m\u001b[0m\u001b[0m\n\u001b[0m",
      "\u001b[1;31mNameError\u001b[0m: name 'ml' is not defined"
     ]
    }
   ],
   "source": [
    "chflow_dnorm = ml.DiamondNorm(choi_mat, {\"chType\": \"physical\", \"corr\":0})"
   ]
  },
  {
   "cell_type": "code",
   "execution_count": 10,
   "metadata": {},
   "outputs": [
    {
     "ename": "NameError",
     "evalue": "name 'qutip_dnorm' is not defined",
     "output_type": "error",
     "traceback": [
      "\u001b[1;31m---------------------------------------------------------------------------\u001b[0m",
      "\u001b[1;31mNameError\u001b[0m                                 Traceback (most recent call last)",
      "\u001b[1;32m<ipython-input-10-4f44707d0919>\u001b[0m in \u001b[0;36m<module>\u001b[1;34m\u001b[0m\n\u001b[1;32m----> 1\u001b[1;33m \u001b[0mprint\u001b[0m\u001b[1;33m(\u001b[0m\u001b[1;34m\"qutip: {}, chflow = {}. Difference = {}.\"\u001b[0m\u001b[1;33m.\u001b[0m\u001b[0mformat\u001b[0m\u001b[1;33m(\u001b[0m\u001b[0mqutip_dnorm\u001b[0m\u001b[1;33m,\u001b[0m \u001b[0mchflow_dnorm\u001b[0m\u001b[1;33m,\u001b[0m \u001b[0mabs\u001b[0m\u001b[1;33m(\u001b[0m\u001b[0mqutip_dnorm\u001b[0m \u001b[1;33m-\u001b[0m \u001b[0mchflow_dnorm\u001b[0m\u001b[1;33m)\u001b[0m\u001b[1;33m)\u001b[0m\u001b[1;33m)\u001b[0m\u001b[1;33m\u001b[0m\u001b[1;33m\u001b[0m\u001b[0m\n\u001b[0m",
      "\u001b[1;31mNameError\u001b[0m: name 'qutip_dnorm' is not defined"
     ]
    }
   ],
   "source": [
    "print(\"qutip: {}, chflow = {}. Difference = {}.\".format(qutip_dnorm, chflow_dnorm, abs(qutip_dnorm - chflow_dnorm)))"
   ]
  },
  {
   "cell_type": "code",
   "execution_count": null,
   "metadata": {},
   "outputs": [],
   "source": []
  }
 ],
 "metadata": {
  "kernelspec": {
   "display_name": "Python 3",
   "language": "python",
   "name": "python3"
  },
  "language_info": {
   "codemirror_mode": {
    "name": "ipython",
    "version": 3
   },
   "file_extension": ".py",
   "mimetype": "text/x-python",
   "name": "python",
   "nbconvert_exporter": "python",
   "pygments_lexer": "ipython3",
   "version": "3.7.5"
  }
 },
 "nbformat": 4,
 "nbformat_minor": 2
}
