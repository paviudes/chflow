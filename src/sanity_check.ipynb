{
 "cells": [
  {
   "cell_type": "code",
   "execution_count": 2,
   "metadata": {},
   "outputs": [],
   "source": [
    "import numpy as np\n",
    "from define import qcode as qc\n",
    "from define import chanreps as chrep\n",
    "from define import chandefs as chdef\n",
    "from define import globalvars as gv\n",
    "from define.QECCLfid import uncorrectable as uc"
   ]
  },
  {
   "cell_type": "code",
   "execution_count": 93,
   "metadata": {},
   "outputs": [],
   "source": [
    "qcode = qc.QuantumErrorCorrectingCode(\"5qc\")\n",
    "qc.Load(qcode)"
   ]
  },
  {
   "cell_type": "code",
   "execution_count": 138,
   "metadata": {},
   "outputs": [
    {
     "name": "stdout",
     "output_type": "stream",
     "text": [
      "Single qubit probabilities\n",
      "[[9.33759249e-01 4.87352675e-04 8.82691568e-03 5.69264830e-02]\n",
      " [9.33759249e-01 4.87352675e-04 8.82691568e-03 5.69264830e-02]\n",
      " [9.33759249e-01 4.87352675e-04 8.82691568e-03 5.69264830e-02]\n",
      " [9.33759249e-01 4.87352675e-04 8.82691568e-03 5.69264830e-02]\n",
      " [9.33759249e-01 4.87352675e-04 8.82691568e-03 5.69264830e-02]]\n",
      "Sum\n",
      "[1. 1. 1. 1. 1.]\n",
      "p_u = 0.038028695253963685\n"
     ]
    }
   ],
   "source": [
    "single_probs = np.tile(np.real(np.diag(C)),[qcode.N,1])\n",
    "pauliprobs = np.array([np.prod([single_probs[q,qcode.PauliOperatorsLST[p,q]] for q in range(qcode.N)]) for p in range(qcode.PauliOperatorsLST.shape[0])], dtype = np.double)\n",
    "print(\"Single qubit probabilities\\n{}\\nSum\\n{}\".format(single_probs,np.sum(single_probs, axis=1)))\n",
    "pu = uc.ComputeUnCorrProbUsingMinWt(single_probs, qcode)\n",
    "print(\"p_u = {}\".format(pu))"
   ]
  },
  {
   "cell_type": "code",
   "execution_count": 2,
   "metadata": {},
   "outputs": [],
   "source": [
    "def ProbExtendedPE(pE, pI, bi, nB):\n",
    "    # Compute the probability of the padded error.\n",
    "    # This is the expression in P_1 in (1).\n",
    "    # P_1(E) = (pI)^(n*(i-1)) . pE . (pI)^(n*(b1 - i - 1))\n",
    "    # where\n",
    "    # pI = probability of the identity error on a single qubit: pI\n",
    "    # n = number of physical qubits in a code block: qcode.N\n",
    "    # pE = probability of the error in the code block: pE\n",
    "    # i = index of the block: bi\n",
    "    # b1 = number of blocks to extend over: nB\n",
    "    extprob = np.power(pI, bi - 1) * pE * np.power(pI, nB - bi - 1)\n",
    "    return extprob"
   ]
  },
  {
   "cell_type": "code",
   "execution_count": 3,
   "metadata": {},
   "outputs": [],
   "source": [
    "def ProbExtendedIE(pE_qr, pI, bi, bj, nB):\n",
    "    # Compute the probability of the interleaved error.\n",
    "    # This is the expression in P_2 in (2).\n",
    "    # Assume j > i.\n",
    "    # P_2(E) = (pI)^(n*(i-1)) . pE_q . (pI)^(n*(j-i)) . pE_r . (pI)^(n*(b1-j-1)).\n",
    "    extprob = np.power(pI, bi - 1) * pE_qr * np.power(pI, bj - bi) * np.power(pI, nB - bj - 1)\n",
    "    return extprob"
   ]
  },
  {
   "cell_type": "code",
   "execution_count": 4,
   "metadata": {},
   "outputs": [],
   "source": [
    "def ComputePCorrL2(errprobs, single_qubit_probs, n_blocks):\n",
    "    # Compute the total probability of correctable errors for a level 2 concatenated code.\n",
    "    # This is expression (3) in the notes.\n",
    "    # errors[\"sameblock\"][i] = probability of the correctable n-qubit error Ei.\n",
    "    # errors[\"acrossblocks\"][i, j] = product of probabilities of two n-qubit errors Ei and Ej such that Ei Ej is a correctable error.\n",
    "    pI = errprobs[\"sameblock\"][0]\n",
    "    pcorr = 0\n",
    "    for e in range(ncorr_errors):\n",
    "        for i in range(n_blocks):\n",
    "            pcorr += ProbExtendedPQE(errprobs[\"sameblock\"][e], pI, i, n_blocks)\n",
    "    for e in range(ncorr_errors_wt2):\n",
    "        for i in range(n_blocks):\n",
    "            for j in range(i + 1, n_blocks):\n",
    "                pcorr += ProbExtendedIQE(errprobs[\"acrossblocks\"][i][j], pI, i, j, n_blocks)\n",
    "    return pcorr"
   ]
  },
  {
   "cell_type": "code",
   "execution_count": null,
   "metadata": {},
   "outputs": [],
   "source": [
    "n=3\n",
    "errprobs = {\"sameblock\": np.random.rand(4**n), \"acrossblocks\": np.random.rand(4**n, 4**n)}"
   ]
  }
 ],
 "metadata": {
  "kernelspec": {
   "display_name": "Python 3",
   "language": "python",
   "name": "python3"
  },
  "language_info": {
   "codemirror_mode": {
    "name": "ipython",
    "version": 3
   },
   "file_extension": ".py",
   "mimetype": "text/x-python",
   "name": "python",
   "nbconvert_exporter": "python",
   "pygments_lexer": "ipython3",
   "version": "3.7.1"
  }
 },
 "nbformat": 4,
 "nbformat_minor": 2
}
