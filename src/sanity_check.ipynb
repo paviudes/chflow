{
 "cells": [
  {
   "cell_type": "code",
   "execution_count": null,
   "metadata": {},
   "outputs": [],
   "source": [
    "from define import chandefs as chdef\n",
    "from define import chanreps as chrep\n",
    "import numpy as np"
   ]
  },
  {
   "cell_type": "code",
   "execution_count": null,
   "metadata": {},
   "outputs": [],
   "source": [
    "# Random channel in its Kraus representation\n",
    "kraus = chdef.GetKraussForChannel(\"rand\", 0.7)\n",
    "print(kraus)"
   ]
  },
  {
   "cell_type": "code",
   "execution_count": null,
   "metadata": {},
   "outputs": [],
   "source": [
    "# Converting the Kraus to Pauli transfer matrix\n",
    "ptm_from_kraus = chrep.ConvertRepresentations(kraus, \"krauss\", \"process\")\n",
    "print(ptm_from_kraus)"
   ]
  },
  {
   "cell_type": "code",
   "execution_count": null,
   "metadata": {},
   "outputs": [],
   "source": [
    "# Converting to Choi\n",
    "choi = chrep.ConvertRepresentations(kraus, \"krauss\", \"choi\")\n",
    "# and then from Choi to Pauli transfer matrix\n",
    "ptm_from_choi = chrep.ConvertRepresentations(choi, \"choi\", \"process\")\n",
    "print(ptm_from_choi)"
   ]
  },
  {
   "cell_type": "code",
   "execution_count": null,
   "metadata": {},
   "outputs": [],
   "source": [
    "# Norm of the difference of the matrices obtained by two different methods\n",
    "print(np.linalg.norm(ptm_from_choi - ptm_from_kraus))"
   ]
  },
  {
   "cell_type": "markdown",
   "metadata": {},
   "source": [
    "Matching the outputs of dnorm in chflow and qutip."
   ]
  },
  {
   "cell_type": "code",
   "execution_count": 1,
   "metadata": {},
   "outputs": [],
   "source": [
    "import numpy as np\n",
    "import qutip as qt\n",
    "import cvxopt as cvx\n",
    "import picos as pic"
   ]
  },
  {
   "cell_type": "code",
   "execution_count": 2,
   "metadata": {},
   "outputs": [],
   "source": [
    "def DiamondNorm(choi):\n",
    "    # computes the diamond norm of the difference between an input Channel and another reference channel, which is by default, the identity channel\n",
    "    # The semidefinite program outlined in Sec. 4 of DOI: 10.4086/toc.2009.v005a011 is used here.\n",
    "    # See also: https://github.com/BBN-Q/matlab-diamond-norm/blob/master/src/dnorm.m\n",
    "    # For some known types of channels, the Diamond norm can be computed efficiently\n",
    "    # print(\"Function: dnorm\")\n",
    "    bell = np.zeros((4,4),dtype=np.complex128)\n",
    "    bell[0,0]=0.5\n",
    "    bell[0,3]=0.5\n",
    "    bell[3,0]=0.5\n",
    "    bell[3,3]=0.5\n",
    "    diff = np.real((choi - bell + choi.conj().T - bell.conj().T))/2\n",
    "    #### picos optimization problem\n",
    "    prob = pic.Problem()\n",
    "    # variables and parameters in the problem\n",
    "    J = pic.Constant(\"J\", cvx.matrix(diff))\n",
    "    Z = pic.Constant(\"Z\", value=0, shape=(2,2))\n",
    "    rho = pic.HermitianVariable(\"rho\", (2, 2))\n",
    "    W = pic.HermitianVariable(\"W\", (4, 4))\n",
    "    # objective function (maximize the hilbert schmidt inner product -- denoted by '|'. Here A|B means trace(A^\\dagger * B))\n",
    "    prob.set_objective(\"max\", J | W)\n",
    "    # adding the constraints\n",
    "    prob.add_constraint(W >> 0)\n",
    "    prob.add_constraint(rho >> 0)\n",
    "    prob.add_constraint((\"I\" | rho) == 1)\n",
    "    prob.add_constraint((W - ((rho & Z) // (Z & rho))) << 0)\n",
    "    # solving the problem\n",
    "    prob.solve(verbosity=0, max_iterations=500)\n",
    "    dnorm = np.double(prob) * 2\n",
    "    # print(\"SDP dnorm = %.4e\" % (dnorm))\n",
    "    return dnorm"
   ]
  },
  {
   "cell_type": "code",
   "execution_count": 3,
   "metadata": {},
   "outputs": [
    {
     "name": "stdout",
     "output_type": "stream",
     "text": [
      "Random channel:\n",
      "[[ 0.28+0.j    0.02-0.08j -0.06-0.06j  0.14-0.07j]\n",
      " [ 0.02+0.08j  0.22+0.j    0.03-0.05j  0.06+0.06j]\n",
      " [-0.06+0.06j  0.03+0.05j  0.22+0.j   -0.02+0.08j]\n",
      " [ 0.14+0.07j  0.06-0.06j -0.02-0.08j  0.28+0.j  ]]\n"
     ]
    }
   ],
   "source": [
    "channel = qt.rand_super(2)\n",
    "choi_obj = qt.to_choi(channel)\n",
    "choi_mat = choi_obj.full()/2\n",
    "print(\"Random channel:\\n{}\".format(np.round(choi_mat,2)))"
   ]
  },
  {
   "cell_type": "code",
   "execution_count": 4,
   "metadata": {},
   "outputs": [
    {
     "name": "stdout",
     "output_type": "stream",
     "text": [
      "R - R^\\dag = [[ 0.+0.j  0.+0.j -0.-0.j  0.-0.j]\n",
      " [ 0.+0.j  0.+0.j -0.+0.j  0.+0.j]\n",
      " [ 0.-0.j  0.+0.j  0.+0.j  0.+0.j]\n",
      " [-0.-0.j -0.+0.j  0.+0.j  0.+0.j]]\n",
      "Trace(R) = (1+0j)\n",
      "Eigenvalues = [0.55+0.j 0.12+0.j 0.17-0.j 0.16+0.j]\n"
     ]
    }
   ],
   "source": [
    "isherm = np.round(choi_mat - choi_mat.T.conj(),2)\n",
    "isuntr = np.round(np.trace(choi_mat),2)\n",
    "eigvals = np.round(np.linalg.eigvals(choi_mat),2)\n",
    "print(\"R - R^\\dag = {}\\nTrace(R) = {}\\nEigenvalues = {}\".format(isherm, isuntr, eigvals))"
   ]
  },
  {
   "cell_type": "code",
   "execution_count": 5,
   "metadata": {},
   "outputs": [],
   "source": [
    "qutip_dnorm = qt.dnorm(choi_obj)"
   ]
  },
  {
   "cell_type": "code",
   "execution_count": null,
   "metadata": {},
   "outputs": [],
   "source": [
    "chflow_dnorm = DiamondNorm(choi_mat)"
   ]
  },
  {
   "cell_type": "code",
   "execution_count": null,
   "metadata": {},
   "outputs": [],
   "source": [
    "print(\"qutip: {}, chflow = {}. Difference = {}.\".format(qutip_dnorm, chflow_dnorm, abs(qutip_dnorm - chflow_dnorm)))"
   ]
  },
  {
   "cell_type": "code",
   "execution_count": null,
   "metadata": {},
   "outputs": [],
   "source": []
  }
 ],
 "metadata": {
  "kernelspec": {
   "display_name": "Python 3",
   "language": "python",
   "name": "python3"
  },
  "language_info": {
   "codemirror_mode": {
    "name": "ipython",
    "version": 3
   },
   "file_extension": ".py",
   "mimetype": "text/x-python",
   "name": "python",
   "nbconvert_exporter": "python",
   "pygments_lexer": "ipython3",
   "version": "3.7.5"
  }
 },
 "nbformat": 4,
 "nbformat_minor": 2
}
