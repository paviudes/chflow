{
 "cells": [
  {
   "cell_type": "code",
   "execution_count": 2,
   "metadata": {},
   "outputs": [],
   "source": [
    "import numpy as np\n",
    "from define import qcode as qc\n",
    "from define import chanreps as chrep\n",
    "from define import chandefs as chdef\n",
    "from define import globalvars as gv\n",
    "from define.QECCLfid import uncorrectable as uc"
   ]
  },
  {
   "cell_type": "code",
   "execution_count": 93,
   "metadata": {},
   "outputs": [],
   "source": [
    "qcode = qc.QuantumErrorCorrectingCode(\"5qc\")\n",
    "qc.Load(qcode)"
   ]
  },
  {
   "cell_type": "code",
   "execution_count": 138,
   "metadata": {},
   "outputs": [
    {
     "name": "stdout",
     "output_type": "stream",
     "text": [
      "Single qubit probabilities\n",
      "[[9.33759249e-01 4.87352675e-04 8.82691568e-03 5.69264830e-02]\n",
      " [9.33759249e-01 4.87352675e-04 8.82691568e-03 5.69264830e-02]\n",
      " [9.33759249e-01 4.87352675e-04 8.82691568e-03 5.69264830e-02]\n",
      " [9.33759249e-01 4.87352675e-04 8.82691568e-03 5.69264830e-02]\n",
      " [9.33759249e-01 4.87352675e-04 8.82691568e-03 5.69264830e-02]]\n",
      "Sum\n",
      "[1. 1. 1. 1. 1.]\n",
      "p_u = 0.038028695253963685\n"
     ]
    }
   ],
   "source": [
    "single_probs = np.tile(np.real(np.diag(C)),[qcode.N,1])\n",
    "pauliprobs = np.array([np.prod([single_probs[q,qcode.PauliOperatorsLST[p,q]] for q in range(qcode.N)]) for p in range(qcode.PauliOperatorsLST.shape[0])], dtype = np.double)\n",
    "print(\"Single qubit probabilities\\n{}\\nSum\\n{}\".format(single_probs,np.sum(single_probs, axis=1)))\n",
    "pu = uc.ComputeUnCorrProbUsingMinWt(single_probs, qcode)\n",
    "print(\"p_u = {}\".format(pu))"
   ]
  },
  {
   "cell_type": "code",
   "execution_count": 1,
   "metadata": {},
   "outputs": [],
   "source": [
    "def ProbExtendedSQE(pE, pI, block, n, nblocks):\n",
    "    # Compute the probability of the extended single qubit error.\n",
    "    # This is the expression in P_1 in (1).\n",
    "    # P_1(E) = (pI)^(n*(i-1)) . pE . (pI)^(n*(b1 - i - 1))\n",
    "    # where\n",
    "    # pI = probability of the identity error: pI\n",
    "    # n = number of physical qubits in a code block: qcode.N\n",
    "    # pE = probability of the error in the code block: pE\n",
    "    # i = index of the block: block\n",
    "    # b1 = number of blocks to extend over: nblocks\n",
    "    extprob = np.power(pI, n * (block - 1)) * pE * np.power(pI, n * (nblocks - block - 1))\n",
    "    return extprob"
   ]
  },
  {
   "cell_type": "code",
   "execution_count": null,
   "metadata": {},
   "outputs": [],
   "source": [
    "def ProbExtendedTQE(pE, )"
   ]
  }
 ],
 "metadata": {
  "kernelspec": {
   "display_name": "Python 3",
   "language": "python",
   "name": "python3"
  },
  "language_info": {
   "codemirror_mode": {
    "name": "ipython",
    "version": 3
   },
   "file_extension": ".py",
   "mimetype": "text/x-python",
   "name": "python",
   "nbconvert_exporter": "python",
   "pygments_lexer": "ipython3",
   "version": "3.7.1"
  }
 },
 "nbformat": 4,
 "nbformat_minor": 2
}
