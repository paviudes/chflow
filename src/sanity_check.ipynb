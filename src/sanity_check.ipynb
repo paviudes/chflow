{
 "cells": [
  {
   "cell_type": "code",
   "execution_count": 1,
   "metadata": {},
   "outputs": [],
   "source": [
    "from define import chandefs as chdef\n",
    "from define import chanreps as chrep\n",
    "import numpy as np"
   ]
  },
  {
   "cell_type": "code",
   "execution_count": 5,
   "metadata": {},
   "outputs": [
    {
     "name": "stdout",
     "output_type": "stream",
     "text": [
      "[[[-0.45544311+0.12258046j  0.40162103-0.36086736j]\n",
      "  [ 0.04037302+0.01593555j -0.20989542-0.20152768j]]\n",
      "\n",
      " [[ 0.36154309+0.03700192j -0.06224849+0.17412533j]\n",
      "  [-0.48102666-0.02315945j -0.28602081+0.35902584j]]\n",
      "\n",
      " [[ 0.10907703-0.08342617j  0.39170852-0.07613958j]\n",
      "  [ 0.05598347+0.01154091j  0.06929889-0.38803984j]]\n",
      "\n",
      " [[-0.06064779-0.46813059j -0.01204722-0.23781109j]\n",
      "  [ 0.1310222 +0.38670381j -0.01143534-0.08639316j]]]\n"
     ]
    }
   ],
   "source": [
    "# Random channel in its Kraus representation\n",
    "kraus = chdef.GetKraussForChannel(\"rand\", 0.7)\n",
    "print(kraus)"
   ]
  },
  {
   "cell_type": "code",
   "execution_count": null,
   "metadata": {},
   "outputs": [],
   "source": [
    "# Converting the Kraus to Pauli transfer matrix\n",
    "ptm_from_kraus = chrep.ConvertRepresentations(kraus, \"krauss\", \"process\")\n",
    "print(ptm_from_kraus)"
   ]
  },
  {
   "cell_type": "code",
   "execution_count": null,
   "metadata": {},
   "outputs": [],
   "source": [
    "# Converting to Choi\n",
    "choi = chrep.ConvertRepresentations(kraus, \"krauss\", \"choi\")\n",
    "# and then from Choi to Pauli transfer matrix\n",
    "ptm_from_choi = chrep.ConvertRepresentations(choi, \"choi\", \"process\")\n",
    "print(ptm_from_choi)"
   ]
  },
  {
   "cell_type": "code",
   "execution_count": null,
   "metadata": {},
   "outputs": [],
   "source": [
    "# Norm of the difference of the matrices obtained by two different methods\n",
    "print(np.linalg.norm(ptm_from_choi - ptm_from_kraus))"
   ]
  },
  {
   "cell_type": "code",
   "execution_count": null,
   "metadata": {},
   "outputs": [],
   "source": []
  }
 ],
 "metadata": {
  "kernelspec": {
   "display_name": "Python 3",
   "language": "python",
   "name": "python3"
  },
  "language_info": {
   "codemirror_mode": {
    "name": "ipython",
    "version": 3
   },
   "file_extension": ".py",
   "mimetype": "text/x-python",
   "name": "python",
   "nbconvert_exporter": "python",
   "pygments_lexer": "ipython3",
   "version": "3.7.1"
  }
 },
 "nbformat": 4,
 "nbformat_minor": 2
}
