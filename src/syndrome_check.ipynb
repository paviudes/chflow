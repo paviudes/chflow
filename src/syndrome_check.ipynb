{
 "cells": [
  {
   "cell_type": "code",
   "execution_count": null,
   "metadata": {},
   "outputs": [],
   "source": [
    "rrors = np.zeros((64,7), dtype=np.int)\n",
    "encoding = {\"I\":0, \"X\": 1, \"Y\":2, \"Z\":3}\n",
    "with open(\"./../../notes/Steane_correctable_errors.txt\", 'r') as ef:\n",
    "    for l, line in enumerate(ef):\n",
    "        errorstr = line.strip(\"\\n\").strip(\" \").split(\" \")\n",
    "        for q in range(7):\n",
    "            errors[l, q] = encoding[errorstr[q]]\n",
    "# print(\"Errors:\\n{}\".format(errors))"
   ]
  },
  {
   "cell_type": "code",
   "execution_count": null,
   "metadata": {},
   "outputs": [],
   "source": [
    "qcode = qc.QuantumErrorCorrectingCode(\"Steane\")"
   ]
  },
  {
   "cell_type": "code",
   "execution_count": null,
   "metadata": {},
   "outputs": [],
   "source": [
    "syndromes = np.zeros((errors.shape[0], 6), dtype=np.int)\n",
    "for e in range(errors.shape[0]):\n",
    "    for q in range(qcode.N - qcode.K):\n",
    "        syndromes[e, q] = 1 - qc.IsCommuting(qcode.S[q, :], errors[e, :])\n",
    "print(\"Syndromes:\\n{}\".format(syndromes))\n",
    "intsynds = np.zeros(syndromes.shape[0], dtype=np.int)\n",
    "for s in range(syndromes.shape[0]):\n",
    "    intsynds[s] = int(\"\".join(list(map(str, syndromes[s, :]))), 2)\n",
    "print(\"Integer syndromes\\n{}\".format(np.sort(intsynds)))"
   ]
  },
  {
   "cell_type": "code",
   "execution_count": 1,
   "metadata": {},
   "outputs": [],
   "source": [
    "import numpy as np"
   ]
  },
  {
   "cell_type": "code",
   "execution_count": 2,
   "metadata": {},
   "outputs": [],
   "source": [
    "chan = [[0.08465 + 1j * 0.00000,-0.00435 + 1j * -0.18745,0.00435 + 1j * 0.18745,-0.08465 + 1j * -0.00000], [-0.00435 + 1j * 0.18745,0.41535 + 1j * 0.00000,-0.41535 + 1j * -0.00000,0.00435 + 1j * -0.18745], [0.00435 + 1j * -0.18745,-0.41535 + 1j * 0.00000,0.41535 + 1j * 0.00000,-0.00435 + 1j * 0.18745], [-0.08465 + 1j * 0.00000,0.00435 + 1j * 0.18745,-0.00435 + 1j * -0.18745,0.08465 + 1j * 0.00000]]\n",
    "channel = np.array(chan, dtype=np.complex128)"
   ]
  },
  {
   "cell_type": "code",
   "execution_count": 3,
   "metadata": {},
   "outputs": [
    {
     "data": {
      "text/plain": [
       "array([[ 0.08465+0.j     , -0.00435-0.18745j,  0.00435+0.18745j,\n",
       "        -0.08465+0.j     ],\n",
       "       [-0.00435+0.18745j,  0.41535+0.j     , -0.41535+0.j     ,\n",
       "         0.00435-0.18745j],\n",
       "       [ 0.00435-0.18745j, -0.41535+0.j     ,  0.41535+0.j     ,\n",
       "        -0.00435+0.18745j],\n",
       "       [-0.08465+0.j     ,  0.00435+0.18745j, -0.00435-0.18745j,\n",
       "         0.08465+0.j     ]])"
      ]
     },
     "execution_count": 3,
     "metadata": {},
     "output_type": "execute_result"
    }
   ],
   "source": [
    "channel"
   ]
  },
  {
   "cell_type": "code",
   "execution_count": null,
   "metadata": {},
   "outputs": [],
   "source": []
  }
 ],
 "metadata": {
  "kernelspec": {
   "display_name": "Python 3",
   "language": "python",
   "name": "python3"
  },
  "language_info": {
   "codemirror_mode": {
    "name": "ipython",
    "version": 3
   },
   "file_extension": ".py",
   "mimetype": "text/x-python",
   "name": "python",
   "nbconvert_exporter": "python",
   "pygments_lexer": "ipython3",
   "version": "3.7.1"
  }
 },
 "nbformat": 4,
 "nbformat_minor": 2
}
